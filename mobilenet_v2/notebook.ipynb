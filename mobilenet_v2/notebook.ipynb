{
 "cells": [
  {
   "cell_type": "markdown",
   "metadata": {},
   "source": [
    "# Wstępnie trenowana konwolucyjna sieć neuronowa (ang. Pre-trained convolutional neural network) MobileNet V2 w analizie czerniaka"
   ]
  },
  {
   "cell_type": "markdown",
   "metadata": {},
   "source": [
    "## Tworzymy model"
   ]
  },
  {
   "cell_type": "code",
   "execution_count": 1,
   "metadata": {
    "execution": {
     "iopub.execute_input": "2021-06-08T16:19:16.105964Z",
     "iopub.status.busy": "2021-06-08T16:19:16.104430Z",
     "iopub.status.idle": "2021-06-08T16:19:18.183935Z",
     "shell.execute_reply": "2021-06-08T16:19:18.182962Z"
    }
   },
   "outputs": [
    {
     "name": "stderr",
     "output_type": "stream",
     "text": [
      "Matplotlib created a temporary config/cache directory at /tmp/matplotlib-ioe0i0u9 because the default path (/.config/matplotlib) is not a writable directory; it is highly recommended to set the MPLCONFIGDIR environment variable to a writable directory, in particular to speed up the import of Matplotlib and to better support multiprocessing.\n"
     ]
    }
   ],
   "source": [
    "import os\n",
    "import datetime\n",
    "\n",
    "import numpy as np\n",
    "import matplotlib.pyplot as plt\n",
    "from sklearn.metrics import roc_curve, auc\n",
    "\n",
    "from PIL import ImageFile\n",
    "ImageFile.LOAD_TRUNCATED_IMAGES = True\n",
    "\n",
    "import tensorflow_hub as hub\n",
    "from tensorflow.keras.layers import Dense\n",
    "from tensorflow.keras.models import Sequential\n",
    "from tensorflow.keras.preprocessing.image import ImageDataGenerator\n",
    "from tensorflow.keras.callbacks import TensorBoard, ModelCheckpoint, EarlyStopping"
   ]
  },
  {
   "cell_type": "markdown",
   "metadata": {},
   "source": [
    "Ładujemy dane do trenowania i walidacji."
   ]
  },
  {
   "cell_type": "code",
   "execution_count": 2,
   "metadata": {
    "execution": {
     "iopub.execute_input": "2021-06-08T16:19:18.191365Z",
     "iopub.status.busy": "2021-06-08T16:19:18.190163Z",
     "iopub.status.idle": "2021-06-08T16:19:19.448535Z",
     "shell.execute_reply": "2021-06-08T16:19:19.447583Z"
    }
   },
   "outputs": [
    {
     "name": "stdout",
     "output_type": "stream",
     "text": [
      "Found 43922 images belonging to 9 classes.\n",
      "Found 10975 images belonging to 9 classes.\n"
     ]
    }
   ],
   "source": [
    "datagen = ImageDataGenerator(rescale=1. / 255, validation_split=0.2)\n",
    "training_set = datagen.flow_from_directory('/big-data',\n",
    "                                           target_size=(224, 224),\n",
    "                                           batch_size=32,\n",
    "                                           class_mode='categorical',\n",
    "                                           subset='training')\n",
    "validation_set = datagen.flow_from_directory('/big-data',\n",
    "                                           target_size=(224, 224),\n",
    "                                           batch_size=32,\n",
    "                                           class_mode='categorical',\n",
    "                                           subset='validation')"
   ]
  },
  {
   "cell_type": "markdown",
   "metadata": {},
   "source": [
    "Zapisujemy ilość diagnoz do zmiennej."
   ]
  },
  {
   "cell_type": "code",
   "execution_count": 3,
   "metadata": {
    "execution": {
     "iopub.execute_input": "2021-06-08T16:19:19.453774Z",
     "iopub.status.busy": "2021-06-08T16:19:19.452491Z",
     "iopub.status.idle": "2021-06-08T16:19:19.455107Z",
     "shell.execute_reply": "2021-06-08T16:19:19.456137Z"
    }
   },
   "outputs": [],
   "source": [
    "DIAGNOSIS_NUMBER = len(training_set.class_indices)"
   ]
  },
  {
   "cell_type": "markdown",
   "metadata": {},
   "source": [
    "Budujemy model - sieć konwolucyjną z 3 warstwami konwolucyjnymi (ang. convolutional layer) i 2 warstwami gęstymi (ang. dense layer)."
   ]
  },
  {
   "cell_type": "code",
   "execution_count": 4,
   "metadata": {
    "execution": {
     "iopub.execute_input": "2021-06-08T16:19:19.461284Z",
     "iopub.status.busy": "2021-06-08T16:19:19.460832Z",
     "iopub.status.idle": "2021-06-08T16:19:21.931802Z",
     "shell.execute_reply": "2021-06-08T16:19:21.930781Z"
    }
   },
   "outputs": [],
   "source": [
    "model = Sequential([\n",
    "    hub.KerasLayer(\"https://tfhub.dev/google/tf2-preview/mobilenet_v2/feature_vector/4\", output_shape=[1280],\n",
    "                   trainable=False),\n",
    "    Dense(DIAGNOSIS_NUMBER, activation='softmax')\n",
    "])\n",
    "model.build([None, 224, 224, 3])"
   ]
  },
  {
   "cell_type": "code",
   "execution_count": 5,
   "metadata": {
    "execution": {
     "iopub.execute_input": "2021-06-08T16:19:21.944319Z",
     "iopub.status.busy": "2021-06-08T16:19:21.943160Z",
     "iopub.status.idle": "2021-06-08T16:19:21.953771Z",
     "shell.execute_reply": "2021-06-08T16:19:21.952738Z"
    }
   },
   "outputs": [],
   "source": [
    "model.compile(optimizer='adam', loss='categorical_crossentropy', metrics=['accuracy'])"
   ]
  },
  {
   "cell_type": "markdown",
   "metadata": {},
   "source": [
    "Dodajemy funkcjonalność zbierania danych o wydajności modelu do Tensorboard."
   ]
  },
  {
   "cell_type": "code",
   "execution_count": 6,
   "metadata": {
    "execution": {
     "iopub.execute_input": "2021-06-08T16:19:21.959995Z",
     "iopub.status.busy": "2021-06-08T16:19:21.958824Z",
     "iopub.status.idle": "2021-06-08T16:19:22.114344Z",
     "shell.execute_reply": "2021-06-08T16:19:22.115297Z"
    }
   },
   "outputs": [],
   "source": [
    "log_dir = '../logs/fit/' + datetime.datetime.now().strftime('mobilenet_v2')\n",
    "tensorboard_callback = TensorBoard(log_dir=log_dir, histogram_freq=1)"
   ]
  },
  {
   "cell_type": "markdown",
   "metadata": {},
   "source": [
    "Dodajemy funkcjonalność zapisywania modelu w trakcie jego trenowania. Zwóćmy uwagę, że zapisywany jest tylko jeden model i lepszy nadpisuje gorszy."
   ]
  },
  {
   "cell_type": "code",
   "execution_count": 7,
   "metadata": {
    "execution": {
     "iopub.execute_input": "2021-06-08T16:19:22.121611Z",
     "iopub.status.busy": "2021-06-08T16:19:22.120519Z",
     "iopub.status.idle": "2021-06-08T16:19:22.123267Z",
     "shell.execute_reply": "2021-06-08T16:19:22.122690Z"
    }
   },
   "outputs": [],
   "source": [
    "checkpoint_path = 'checkpoints/mobilenet_v2.ckpt'\n",
    "checkpoint_dir = os.path.dirname(checkpoint_path)\n",
    "\n",
    "checkpoint_callback = ModelCheckpoint(\n",
    "    checkpoint_path,\n",
    "    monitor='val_loss',\n",
    "    verbose=1,\n",
    "    save_best_only=True,\n",
    "    save_weights_only=False,\n",
    "    save_freq='epoch',\n",
    "    mode='auto')"
   ]
  },
  {
   "cell_type": "markdown",
   "metadata": {},
   "source": [
    "Dodajemy funkcjonalność zatrzymania trenowania modelu, jeśli nie będzie poprawy w ciągu 10 epoch."
   ]
  },
  {
   "cell_type": "code",
   "execution_count": 8,
   "metadata": {
    "execution": {
     "iopub.execute_input": "2021-06-08T16:19:22.128805Z",
     "iopub.status.busy": "2021-06-08T16:19:22.128235Z",
     "iopub.status.idle": "2021-06-08T16:19:22.131256Z",
     "shell.execute_reply": "2021-06-08T16:19:22.130758Z"
    }
   },
   "outputs": [],
   "source": [
    "early_stop_callback = EarlyStopping(monitor=\"val_loss\", min_delta=0.01, patience=10, restore_best_weights=True)"
   ]
  },
  {
   "cell_type": "markdown",
   "metadata": {},
   "source": [
    "Trenujemy model."
   ]
  },
  {
   "cell_type": "code",
   "execution_count": 9,
   "metadata": {
    "execution": {
     "iopub.execute_input": "2021-06-08T16:19:22.135548Z",
     "iopub.status.busy": "2021-06-08T16:19:22.134972Z",
     "iopub.status.idle": "2021-06-09T10:44:21.440769Z",
     "shell.execute_reply": "2021-06-09T10:44:21.441869Z"
    }
   },
   "outputs": [
    {
     "name": "stdout",
     "output_type": "stream",
     "text": [
      "Epoch 1/200\n",
      "1373/1373 [==============================] - 4746s 3s/step - loss: 0.7752 - accuracy: 0.7233 - val_loss: 0.7847 - val_accuracy: 0.7521\n",
      "\n",
      "Epoch 00001: val_loss improved from inf to 0.78470, saving model to checkpoints/mobilenet_v2.ckpt\n",
      "INFO:tensorflow:Assets written to: checkpoints/mobilenet_v2.ckpt/assets\n"
     ]
    },
    {
     "name": "stderr",
     "output_type": "stream",
     "text": [
      "INFO:tensorflow:Assets written to: checkpoints/mobilenet_v2.ckpt/assets\n"
     ]
    },
    {
     "name": "stdout",
     "output_type": "stream",
     "text": [
      "Epoch 2/200\n",
      "1373/1373 [==============================] - 4729s 3s/step - loss: 0.6614 - accuracy: 0.7620 - val_loss: 0.8082 - val_accuracy: 0.7549\n",
      "\n",
      "Epoch 00002: val_loss did not improve from 0.78470\n",
      "Epoch 3/200\n",
      "1373/1373 [==============================] - 4731s 3s/step - loss: 0.6258 - accuracy: 0.7742 - val_loss: 0.7995 - val_accuracy: 0.7514\n",
      "\n",
      "Epoch 00003: val_loss did not improve from 0.78470\n",
      "Epoch 4/200\n",
      "1373/1373 [==============================] - 4738s 3s/step - loss: 0.6031 - accuracy: 0.7823 - val_loss: 0.7695 - val_accuracy: 0.7850\n",
      "\n",
      "Epoch 00004: val_loss improved from 0.78470 to 0.76953, saving model to checkpoints/mobilenet_v2.ckpt\n",
      "INFO:tensorflow:Assets written to: checkpoints/mobilenet_v2.ckpt/assets\n"
     ]
    },
    {
     "name": "stderr",
     "output_type": "stream",
     "text": [
      "INFO:tensorflow:Assets written to: checkpoints/mobilenet_v2.ckpt/assets\n"
     ]
    },
    {
     "name": "stdout",
     "output_type": "stream",
     "text": [
      "Epoch 5/200\n",
      "1373/1373 [==============================] - 4733s 3s/step - loss: 0.5903 - accuracy: 0.7848 - val_loss: 0.7830 - val_accuracy: 0.7667\n",
      "\n",
      "Epoch 00005: val_loss did not improve from 0.76953\n",
      "Epoch 6/200\n",
      "1373/1373 [==============================] - 4730s 3s/step - loss: 0.5772 - accuracy: 0.7881 - val_loss: 0.7939 - val_accuracy: 0.7726\n",
      "\n",
      "Epoch 00006: val_loss did not improve from 0.76953\n",
      "Epoch 7/200\n",
      "1373/1373 [==============================] - 4742s 3s/step - loss: 0.5655 - accuracy: 0.7942 - val_loss: 0.7936 - val_accuracy: 0.7504\n",
      "\n",
      "Epoch 00007: val_loss did not improve from 0.76953\n",
      "Epoch 8/200\n",
      "1373/1373 [==============================] - 4738s 3s/step - loss: 0.5607 - accuracy: 0.7946 - val_loss: 0.7843 - val_accuracy: 0.7708\n",
      "\n",
      "Epoch 00008: val_loss did not improve from 0.76953\n",
      "Epoch 9/200\n",
      "1373/1373 [==============================] - 4733s 3s/step - loss: 0.5545 - accuracy: 0.7975 - val_loss: 0.8501 - val_accuracy: 0.7664\n",
      "\n",
      "Epoch 00009: val_loss did not improve from 0.76953\n",
      "Epoch 10/200\n",
      "1373/1373 [==============================] - 4733s 3s/step - loss: 0.5509 - accuracy: 0.7975 - val_loss: 0.8394 - val_accuracy: 0.7825\n",
      "\n",
      "Epoch 00010: val_loss did not improve from 0.76953\n",
      "Epoch 11/200\n",
      "1373/1373 [==============================] - 4733s 3s/step - loss: 0.5487 - accuracy: 0.7988 - val_loss: 0.9462 - val_accuracy: 0.7385\n",
      "\n",
      "Epoch 00011: val_loss did not improve from 0.76953\n",
      "Epoch 12/200\n",
      "1373/1373 [==============================] - 4737s 3s/step - loss: 0.5418 - accuracy: 0.8009 - val_loss: 0.9626 - val_accuracy: 0.7428\n",
      "\n",
      "Epoch 00012: val_loss did not improve from 0.76953\n",
      "Epoch 13/200\n",
      "1373/1373 [==============================] - 4732s 3s/step - loss: 0.5395 - accuracy: 0.7995 - val_loss: 0.8220 - val_accuracy: 0.7830\n",
      "\n",
      "Epoch 00013: val_loss did not improve from 0.76953\n",
      "Epoch 14/200\n",
      "1373/1373 [==============================] - 4731s 3s/step - loss: 0.5364 - accuracy: 0.8031 - val_loss: 0.9698 - val_accuracy: 0.7493\n",
      "\n",
      "Epoch 00014: val_loss did not improve from 0.76953\n"
     ]
    },
    {
     "data": {
      "text/plain": [
       "<tensorflow.python.keras.callbacks.History at 0x7fbdb4a30f98>"
      ]
     },
     "execution_count": 1,
     "metadata": {},
     "output_type": "execute_result"
    }
   ],
   "source": [
    "model.fit(training_set, validation_data=validation_set, epochs=200, callbacks=[tensorboard_callback,\n",
    "                                                                               checkpoint_callback,\n",
    "                                                                               early_stop_callback])"
   ]
  },
  {
   "cell_type": "markdown",
   "metadata": {},
   "source": [
    "## Szacujemy dokładność modelu"
   ]
  },
  {
   "cell_type": "markdown",
   "metadata": {},
   "source": [
    "Ładujemy dane do testowania."
   ]
  },
  {
   "cell_type": "code",
   "execution_count": 10,
   "metadata": {
    "execution": {
     "iopub.execute_input": "2021-06-09T10:44:21.451035Z",
     "iopub.status.busy": "2021-06-09T10:44:21.449999Z",
     "iopub.status.idle": "2021-06-09T10:44:21.565948Z",
     "shell.execute_reply": "2021-06-09T10:44:21.566925Z"
    }
   },
   "outputs": [
    {
     "name": "stdout",
     "output_type": "stream",
     "text": [
      "Found 2889 images belonging to 9 classes.\n"
     ]
    }
   ],
   "source": [
    "datagen = ImageDataGenerator(rescale=1. / 255)\n",
    "testing_set = datagen.flow_from_directory('/big-data-test',\n",
    "                                           target_size=(224, 224),\n",
    "                                           batch_size=32,\n",
    "                                           class_mode='categorical')"
   ]
  },
  {
   "cell_type": "markdown",
   "metadata": {},
   "source": [
    "Pobieramy diagnozy z danych testowych."
   ]
  },
  {
   "cell_type": "code",
   "execution_count": 11,
   "metadata": {
    "execution": {
     "iopub.execute_input": "2021-06-09T10:44:21.574190Z",
     "iopub.status.busy": "2021-06-09T10:44:21.573215Z",
     "iopub.status.idle": "2021-06-09T10:48:35.857011Z",
     "shell.execute_reply": "2021-06-09T10:48:35.856006Z"
    }
   },
   "outputs": [],
   "source": [
    "true_labels = np.concatenate([testing_set[i][1] for i in range(len(testing_set))], axis=0)"
   ]
  },
  {
   "cell_type": "markdown",
   "metadata": {},
   "source": [
    "Prognozujemy diagnozy dla każdego obrazu."
   ]
  },
  {
   "cell_type": "code",
   "execution_count": 12,
   "metadata": {
    "execution": {
     "iopub.execute_input": "2021-06-09T10:48:35.862467Z",
     "iopub.status.busy": "2021-06-09T10:48:35.861427Z",
     "iopub.status.idle": "2021-06-09T10:52:37.048069Z",
     "shell.execute_reply": "2021-06-09T10:52:37.049024Z"
    }
   },
   "outputs": [],
   "source": [
    "predicted_labels = model.predict(testing_set)"
   ]
  },
  {
   "cell_type": "markdown",
   "metadata": {},
   "source": [
    "Obliczamy punkty wykresu ROC (Receiver operating characteristic) i metrykę AUC (Area under the curve)."
   ]
  },
  {
   "cell_type": "code",
   "execution_count": 13,
   "metadata": {
    "execution": {
     "iopub.execute_input": "2021-06-09T10:52:37.059231Z",
     "iopub.status.busy": "2021-06-09T10:52:37.058636Z",
     "iopub.status.idle": "2021-06-09T10:52:37.081047Z",
     "shell.execute_reply": "2021-06-09T10:52:37.082029Z"
    }
   },
   "outputs": [],
   "source": [
    "fpr = dict()\n",
    "tpr = dict()\n",
    "auc_metric = dict()\n",
    "\n",
    "diagnosis_index_dict = {v: k for k, v in training_set.class_indices.items()}\n",
    "\n",
    "for i in range(DIAGNOSIS_NUMBER):\n",
    "    diagnosis = diagnosis_index_dict[i]\n",
    "    fpr[diagnosis], tpr[diagnosis], _ = roc_curve(true_labels[:, i], predicted_labels[:, i])\n",
    "    auc_metric[diagnosis] = auc(fpr[diagnosis], tpr[diagnosis])"
   ]
  },
  {
   "cell_type": "markdown",
   "metadata": {},
   "source": [
    "Rysujemy wykres ROC (Receiver operating characteristic)."
   ]
  },
  {
   "cell_type": "code",
   "execution_count": 14,
   "metadata": {
    "execution": {
     "iopub.execute_input": "2021-06-09T10:52:37.102446Z",
     "iopub.status.busy": "2021-06-09T10:52:37.101249Z",
     "iopub.status.idle": "2021-06-09T10:52:37.305796Z",
     "shell.execute_reply": "2021-06-09T10:52:37.306774Z"
    }
   },
   "outputs": [
    {
     "data": {
      "image/png": "[encoded data removed]",
      "text/plain": [
       "<Figure size 432x288 with 1 Axes>"
      ]
     },
     "metadata": {
      "needs_background": "light"
     },
     "output_type": "display_data"
    }
   ],
   "source": [
    "for diagnosis in training_set.class_indices:\n",
    "    plt.plot(fpr[diagnosis], tpr[diagnosis], label=diagnosis)\n",
    "    \n",
    "plt.plot([0, 1], [0, 1], 'k--')\n",
    "plt.xlabel('False Positive Rate')\n",
    "plt.ylabel('True Positive Rate')\n",
    "plt.title('Receiver operating characteristic')\n",
    "plt.legend(loc=\"lower right\")\n",
    "plt.show()"
   ]
  },
  {
   "cell_type": "markdown",
   "metadata": {},
   "source": [
    "Metryki AUC do każdej diagnozy."
   ]
  },
  {
   "cell_type": "code",
   "execution_count": 15,
   "metadata": {
    "execution": {
     "iopub.execute_input": "2021-06-09T10:52:37.312585Z",
     "iopub.status.busy": "2021-06-09T10:52:37.311352Z",
     "iopub.status.idle": "2021-06-09T10:52:37.314976Z",
     "shell.execute_reply": "2021-06-09T10:52:37.315463Z"
    }
   },
   "outputs": [
    {
     "data": {
      "text/plain": [
       "{'AK': 0.9657618199349557,\n",
       " 'BCC': 0.9645587694437835,\n",
       " 'BKL': 0.8480116818359067,\n",
       " 'DF': 0.9001853782875681,\n",
       " 'MEL': 0.873752729370082,\n",
       " 'NV': 0.9246568525613461,\n",
       " 'SCC': 0.9455373058314235,\n",
       " 'UNK': 0.9629991289798354,\n",
       " 'VASC': 0.9915748368460469}"
      ]
     },
     "execution_count": 1,
     "metadata": {},
     "output_type": "execute_result"
    }
   ],
   "source": [
    "auc_metric"
   ]
  },
  {
   "cell_type": "code",
   "execution_count": null,
   "metadata": {},
   "outputs": [],
   "source": []
  }
 ],
 "metadata": {
  "kernelspec": {
   "display_name": "Python 3",
   "language": "python",
   "name": "python3"
  },
  "language_info": {
   "codemirror_mode": {
    "name": "ipython",
    "version": 3
   },
   "file_extension": ".py",
   "mimetype": "text/x-python",
   "name": "python",
   "nbconvert_exporter": "python",
   "pygments_lexer": "ipython3",
   "version": "3.6.9"
  }
 },
 "nbformat": 4,
 "nbformat_minor": 2
}
