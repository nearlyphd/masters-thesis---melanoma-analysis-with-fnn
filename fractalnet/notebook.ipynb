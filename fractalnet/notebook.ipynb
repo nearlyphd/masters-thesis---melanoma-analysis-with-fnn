{
 "cells": [
  {
   "cell_type": "markdown",
   "id": "overall-procedure",
   "metadata": {},
   "source": [
    "# Melanoma analysis with fractal neural networks"
   ]
  },
  {
   "cell_type": "markdown",
   "id": "local-chair",
   "metadata": {},
   "source": [
    "This notebook shows how good is [Fractal neural network](#Fractal-neural-network) for [melanoma](#Melanoma) analysis."
   ]
  },
  {
   "cell_type": "code",
   "execution_count": 1,
   "id": "bridal-andrews",
   "metadata": {
    "execution": {
     "iopub.execute_input": "2022-03-27T11:28:38.606899Z",
     "iopub.status.busy": "2022-03-27T11:28:38.606189Z",
     "iopub.status.idle": "2022-03-27T11:29:07.784424Z",
     "shell.execute_reply": "2022-03-27T11:29:07.783845Z"
    }
   },
   "outputs": [],
   "source": [
    "import os\n",
    "import datetime\n",
    "import numpy as np\n",
    "import tensorflow as tf\n",
    "import tensorflow_hub as hub\n",
    "import tensorflow_addons as tfa\n",
    "import matplotlib.pyplot as plt\n",
    "from sklearn.metrics import roc_curve, auc"
   ]
  },
  {
   "cell_type": "markdown",
   "id": "level-adelaide",
   "metadata": {},
   "source": [
    "Check if a GPU is available."
   ]
  },
  {
   "cell_type": "code",
   "execution_count": 2,
   "id": "adult-granny",
   "metadata": {
    "execution": {
     "iopub.execute_input": "2022-03-27T11:29:08.055692Z",
     "iopub.status.busy": "2022-03-27T11:29:08.055108Z",
     "iopub.status.idle": "2022-03-27T11:29:08.057729Z",
     "shell.execute_reply": "2022-03-27T11:29:08.058188Z"
    }
   },
   "outputs": [
    {
     "data": {
      "text/plain": [
       "[PhysicalDevice(name='/physical_device:GPU:0', device_type='GPU')]"
      ]
     },
     "execution_count": 1,
     "metadata": {},
     "output_type": "execute_result"
    }
   ],
   "source": [
    "tf.config.list_physical_devices('GPU')"
   ]
  },
  {
   "cell_type": "markdown",
   "id": "demonstrated-bidding",
   "metadata": {},
   "source": [
    "Remove excessive logging. "
   ]
  },
  {
   "cell_type": "code",
   "execution_count": 3,
   "id": "frequent-mortality",
   "metadata": {
    "execution": {
     "iopub.execute_input": "2022-03-27T11:29:08.061925Z",
     "iopub.status.busy": "2022-03-27T11:29:08.061375Z",
     "iopub.status.idle": "2022-03-27T11:29:08.063212Z",
     "shell.execute_reply": "2022-03-27T11:29:08.063642Z"
    }
   },
   "outputs": [],
   "source": [
    "tf.get_logger().setLevel('ERROR')"
   ]
  },
  {
   "cell_type": "markdown",
   "id": "frozen-contemporary",
   "metadata": {},
   "source": [
    "# Melanoma"
   ]
  },
  {
   "cell_type": "markdown",
   "id": "distinguished-parliament",
   "metadata": {},
   "source": [
    "__Melanoma__, also redundantly known as __malignant melanoma__, is a type of skin cancer that develops from the pigment-producing cells known as melanocytes. Melanomas typically occur in the skin, but may rarely occur in the mouth, intestines, or eye (uveal melanoma). In women, they most commonly occur on the legs, while in men, they most commonly occur on the back. About 25% of melanomas develop from moles. Changes in a mole that can indicate melanoma include an increase in size, irregular edges, change in color, itchiness, or skin breakdown."
   ]
  },
  {
   "cell_type": "markdown",
   "id": "primary-desert",
   "metadata": {},
   "source": [
    "![melanoma image](../assets/melanoma.jpg)"
   ]
  },
  {
   "cell_type": "markdown",
   "id": "proper-andorra",
   "metadata": {},
   "source": [
    "<div style=\"text-align: center; font-weight: bold\">Pic.1. A melanoma of approximately 2.5 cm (1 in) by 1.5 cm (0.6 in)</div>"
   ]
  },
  {
   "cell_type": "markdown",
   "id": "massive-compiler",
   "metadata": {},
   "source": [
    "The primary cause of melanoma is ultraviolet light (UV) exposure in those with low levels of the skin pigment melanin. The UV light may be from the sun or other sources, such as tanning devices. Those with many moles, a history of affected family members, and poor immune function are at greater risk. A number of rare genetic conditions, such as xeroderma pigmentosum, also increase the risk. Diagnosis is by biopsy and analysis of any skin lesion that has signs of being potentially cancerous."
   ]
  },
  {
   "cell_type": "markdown",
   "id": "decreased-coverage",
   "metadata": {},
   "source": [
    "Melanoma is the most dangerous type of skin cancer. Globally, in 2012, it newly occurred in 232,000 people. In 2015, 3.1 million people had active disease, which resulted in 59,800 deaths. Australia and New Zealand have the highest rates of melanoma in the world. High rates also occur in Northern Europe and North America, while it is less common in Asia, Africa, and Latin America. In the United States, melanoma occurs about 1.6 times more often in men than women. Melanoma has become more common since the 1960s in areas mostly populated by people of European descent."
   ]
  },
  {
   "cell_type": "markdown",
   "id": "sixth-profession",
   "metadata": {},
   "source": [
    "# Fractal neural network"
   ]
  },
  {
   "cell_type": "markdown",
   "id": "differential-edwards",
   "metadata": {},
   "source": [
    "We propose an ensemble model based on handcrafted fractal features and deep learning that consists of combining the classification of two CNNs by applying the sum rule. We apply feature extraction to obtain 300 fractal features from different\n",
    "dermoscopy datasets. These features are reshaped into a 10 × 10 × 3 matrix to compose an artificial image that\n",
    "is given as input to the first CNN. The second CNN model receives as input the correspondent original image."
   ]
  },
  {
   "cell_type": "markdown",
   "id": "delayed-racing",
   "metadata": {},
   "source": [
    "![CNN image](../assets/fnn.png)"
   ]
  },
  {
   "cell_type": "markdown",
   "id": "dress-serial",
   "metadata": {},
   "source": [
    "<div style=\"text-align: center; font-weight: bold\">Pic.2. Overview of the proposed FNN model.</div>"
   ]
  },
  {
   "cell_type": "markdown",
   "id": "spread-rolling",
   "metadata": {},
   "source": [
    "If you want to learn more about fractal neural networks, read [here](https://www.sciencedirect.com/science/article/abs/pii/S0957417420308563)."
   ]
  },
  {
   "cell_type": "markdown",
   "id": "smaller-session",
   "metadata": {},
   "source": [
    "## Dividing images into patches."
   ]
  },
  {
   "cell_type": "markdown",
   "id": "married-immigration",
   "metadata": {},
   "source": [
    "According to the acticle:\n",
    "> One of the approaches available in the literature for multiscale analysis is the gliding-box algorithm (Ivanovici & Richard, 2011). The main advantage of this approach is that it can be applied on datasets containing images with different resolutions since the output features are given in relation to the scale instead of being absolute values. This algorithm consists in placing a box $\\beta_{i}$ sized $𝐿 × 𝐿$ on the left superior corner of the image, wherein 𝐿 is given in pixels. This box glides through the image, one column and then one row at a time. After reaching the end of the image, the box is repositioned at the starting point and the value of 𝐿 is increased by 2."
   ]
  },
  {
   "cell_type": "markdown",
   "id": "intelligent-essex",
   "metadata": {},
   "source": [
    "The gliding-box method will not be used since it consumes too much RAM. We'll employ a box-counting approach, which basically means we'll partition the images into non-overlapping chunks."
   ]
  },
  {
   "cell_type": "code",
   "execution_count": 4,
   "id": "funny-incidence",
   "metadata": {
    "execution": {
     "iopub.execute_input": "2022-03-27T11:29:08.070421Z",
     "iopub.status.busy": "2022-03-27T11:29:08.069870Z",
     "iopub.status.idle": "2022-03-27T11:29:08.072064Z",
     "shell.execute_reply": "2022-03-27T11:29:08.071598Z"
    }
   },
   "outputs": [],
   "source": [
    "class Patchify(tf.keras.layers.Layer):\n",
    "    def __init__(self, patch_size):\n",
    "        super(Patchify, self).__init__()\n",
    "        \n",
    "        self.patch_size = patch_size\n",
    "        \n",
    "    def call(self, inputs):\n",
    "        outputs = tf.image.extract_patches(\n",
    "            inputs,\n",
    "            sizes=(1, self.patch_size, self.patch_size, 1),\n",
    "            strides=(1, self.patch_size, self.patch_size, 1),\n",
    "            rates=(1, 1, 1, 1),\n",
    "            padding='SAME'\n",
    "        )\n",
    "        \n",
    "        _, rows, cols, _ = tf.unstack(tf.shape(outputs))\n",
    "        outputs = tf.reshape(outputs, shape=(-1, rows * cols, self.patch_size, self.patch_size, 3))\n",
    "        \n",
    "        return outputs"
   ]
  },
  {
   "cell_type": "markdown",
   "id": "valid-contributor",
   "metadata": {},
   "source": [
    "## Creating an array of binary values from image patches using the Chebyshev colour distance function applied to the patch centre and each pixel."
   ]
  },
  {
   "cell_type": "markdown",
   "id": "searching-assignment",
   "metadata": {},
   "source": [
    "According to the article:\n",
    "> For each time the box $\\beta_{i}$ is moved, a multidimensional analysis of colour similarity is performed for every pixel inside it. This is done by assigning the centre pixel to a vector $𝑓_{c} = 𝑟_{c}, 𝑔_{c}, 𝑏_{c}$, where $𝑟_{c}, 𝑔_{c}$ and $𝑏_{c}$ correspond to the colour intensities for each of the RGB colour channels of given pixel. The other pixels in the box are assigned to a vector $𝑓_{i} = 𝑟_{i}, 𝑔_{i}, 𝑏_{i}$ and compared to the centre pixel by calculating a colour distance $\\Delta$. On the proposed approach, the Chebyshev ($\\Delta_{h}$) ..."
   ]
  },
  {
   "cell_type": "markdown",
   "id": "combined-title",
   "metadata": {},
   "source": [
    "The following equation is used to compute the Chebyshev distance."
   ]
  },
  {
   "cell_type": "markdown",
   "id": "based-county",
   "metadata": {},
   "source": [
    "$$\n",
    "\\Delta_{h} = max(|f_{i}(k_{i}) - f_{c}(k_{c})|), k \\in r, g, b. \n",
    "$$ "
   ]
  },
  {
   "cell_type": "code",
   "execution_count": 5,
   "id": "built-poker",
   "metadata": {
    "execution": {
     "iopub.execute_input": "2022-03-27T11:29:08.078769Z",
     "iopub.status.busy": "2022-03-27T11:29:08.078215Z",
     "iopub.status.idle": "2022-03-27T11:29:08.080513Z",
     "shell.execute_reply": "2022-03-27T11:29:08.080062Z"
    }
   },
   "outputs": [],
   "source": [
    "class Chebyshev(tf.keras.layers.Layer):\n",
    "    def __init__(self):\n",
    "        super(Chebyshev, self).__init__()\n",
    "        \n",
    "    def call(self, inputs):\n",
    "        batch_size, patch_number, patch_size, patch_size, channels = tf.unstack(tf.shape(inputs))\n",
    "        outputs = tf.reshape(inputs, shape=(-1, patch_number, patch_size, channels))    \n",
    "        \n",
    "        centers = tf.image.resize_with_crop_or_pad(outputs, 1, 1)\n",
    "\n",
    "        outputs = tf.math.subtract(outputs, centers)\n",
    "        outputs = tf.math.abs(outputs)\n",
    "        outputs = tf.math.reduce_max(outputs, axis=3)\n",
    "        outputs = tf.math.less_equal(outputs, tf.cast(patch_size, dtype=tf.float32))\n",
    "        outputs = tf.cast(outputs, dtype=tf.int32)\n",
    "        outputs = tf.reshape(outputs, shape=(-1, patch_number, patch_size, patch_size))\n",
    "        \n",
    "        return outputs"
   ]
  },
  {
   "cell_type": "markdown",
   "id": "legislative-brief",
   "metadata": {},
   "source": [
    "## Creating an array of binary values from image patches using the Euclidean colour distance function applied to the patch centre and each pixel."
   ]
  },
  {
   "cell_type": "markdown",
   "id": "weird-emperor",
   "metadata": {},
   "source": [
    "According to the article:\n",
    "> For each time the box $\\beta_{i}$ is moved, a multidimensional analysis of colour similarity is performed for every pixel inside it. This is done by assigning the centre pixel to a vector $𝑓_{c} = 𝑟_{c}, 𝑔_{c}, 𝑏_{c}$, where $𝑟_{c}, 𝑔_{c}$ and $𝑏_{c}$ correspond to the colour intensities for each of the RGB colour channels of given pixel. The other pixels in the box are assigned to a vector $𝑓_{i} = 𝑟_{i}, 𝑔_{i}, 𝑏_{i}$ and compared to the centre pixel by calculating a colour distance $\\Delta$. On the proposed approach, ... the Euclidean ($\\Delta_{e}$) ..."
   ]
  },
  {
   "cell_type": "markdown",
   "id": "perfect-jones",
   "metadata": {},
   "source": [
    "$$\n",
    "\\Delta_{e} = \\sqrt{\\sum_{k} (f_{i}(k_{i}) - f_{c}(k_{c}))^2}, k \\in r, g, b\n",
    "$$"
   ]
  },
  {
   "cell_type": "code",
   "execution_count": 6,
   "id": "noted-passing",
   "metadata": {
    "execution": {
     "iopub.execute_input": "2022-03-27T11:29:08.087181Z",
     "iopub.status.busy": "2022-03-27T11:29:08.086629Z",
     "iopub.status.idle": "2022-03-27T11:29:08.088936Z",
     "shell.execute_reply": "2022-03-27T11:29:08.088467Z"
    }
   },
   "outputs": [],
   "source": [
    "class Euclidean(tf.keras.layers.Layer):\n",
    "    def __init__(self):\n",
    "        super(Euclidean, self).__init__()\n",
    "        \n",
    "    def call(self, inputs):\n",
    "        batch_size, patch_number, patch_size, patch_size, channels = tf.unstack(tf.shape(inputs))\n",
    "        outputs = tf.reshape(inputs, shape=(-1, patch_number, patch_size, channels))\n",
    "        \n",
    "        centers = tf.image.resize_with_crop_or_pad(outputs, 1, 1)\n",
    "\n",
    "        outputs = tf.math.subtract(outputs, centers)\n",
    "        outputs = tf.math.pow(outputs, 2)\n",
    "        outputs = tf.math.reduce_sum(outputs, axis=3)\n",
    "        outputs = tf.math.pow(outputs, 0.5)\n",
    "        outputs = tf.math.less_equal(outputs, tf.cast(patch_size, dtype=tf.float32))\n",
    "        outputs = tf.cast(outputs, dtype=tf.int32)\n",
    "        outputs = tf.reshape(outputs, shape=(-1, patch_number, patch_size, patch_size))\n",
    "        \n",
    "        return outputs"
   ]
  },
  {
   "cell_type": "markdown",
   "id": "simple-damages",
   "metadata": {},
   "source": [
    "## Creating an array of binary values from image patches using the Manhattan colour distance function applied to the patch centre and each pixel."
   ]
  },
  {
   "cell_type": "markdown",
   "id": "presidential-crest",
   "metadata": {},
   "source": [
    "According to the article:\n",
    "> For each time the box $\\beta_{i}$ is moved, a multidimensional analysis of colour similarity is performed for every pixel inside it. This is done by assigning the centre pixel to a vector $𝑓_{c} = 𝑟_{c}, 𝑔_{c}, 𝑏_{c}$, where $𝑟_{c}, 𝑔_{c}$ and $𝑏_{c}$ correspond to the colour intensities for each of the RGB colour channels of given pixel. The other pixels in the box are assigned to a vector $𝑓_{i} = 𝑟_{i}, 𝑔_{i}, 𝑏_{i}$ and compared to the centre pixel by calculating a colour distance $\\Delta$. On the proposed approach, ... the Manhattan ($\\Delta_{m}$) ..."
   ]
  },
  {
   "cell_type": "markdown",
   "id": "agreed-tanzania",
   "metadata": {},
   "source": [
    "$$\n",
    "\\Delta_{m} = \\sum_{k} |f_{i}(k_{i}) - f_{c}(k_{c})|, k \\in r, g, b\n",
    "$$"
   ]
  },
  {
   "cell_type": "code",
   "execution_count": 7,
   "id": "educational-consumption",
   "metadata": {
    "execution": {
     "iopub.execute_input": "2022-03-27T11:29:08.095311Z",
     "iopub.status.busy": "2022-03-27T11:29:08.094758Z",
     "iopub.status.idle": "2022-03-27T11:29:08.097072Z",
     "shell.execute_reply": "2022-03-27T11:29:08.096584Z"
    }
   },
   "outputs": [],
   "source": [
    "class Manhattan(tf.keras.layers.Layer):\n",
    "    def __init__(self):\n",
    "        super(Manhattan, self).__init__()\n",
    "        \n",
    "    def call(self, inputs):\n",
    "        batch_size, patch_number, patch_size, patch_size, channels = tf.unstack(tf.shape(inputs))\n",
    "        outputs = tf.reshape(inputs, shape=(-1, patch_number, patch_size, channels))\n",
    "        \n",
    "        centers = tf.image.resize_with_crop_or_pad(outputs, 1, 1)\n",
    "\n",
    "        outputs = tf.math.subtract(outputs, centers)\n",
    "        outputs = tf.math.abs(outputs)\n",
    "        outputs = tf.math.reduce_sum(outputs, axis=3)\n",
    "        outputs = tf.math.less_equal(outputs, tf.cast(patch_size, dtype=tf.float32))\n",
    "        outputs = tf.cast(outputs, dtype=tf.int32)\n",
    "        outputs = tf.reshape(outputs, shape=(-1, patch_number, patch_size, patch_size))\n",
    "            \n",
    "        \n",
    "        return outputs"
   ]
  },
  {
   "cell_type": "markdown",
   "id": "ancient-missile",
   "metadata": {},
   "source": [
    "## Calculating probability matrices"
   ]
  },
  {
   "cell_type": "markdown",
   "id": "union-trout",
   "metadata": {},
   "source": [
    "According to the article:\n",
    "> After performing this conversion for every box of every given 𝐿 scale, a structure known as probability matrix is generated. Each element of the matrix corresponds to the probability 𝑃 that 𝑚 pixels on a scale 𝐿 are labelled as 1 on each box. ... The matrix is normalized in a way that the sum of the elements in a column is equal to 1, as showed here:"
   ]
  },
  {
   "cell_type": "markdown",
   "id": "brilliant-running",
   "metadata": {},
   "source": [
    "$$\n",
    "\\sum_{m=1}^{L^2} P(m, L) = 1, \\forall L\n",
    "$$"
   ]
  },
  {
   "cell_type": "code",
   "execution_count": 8,
   "id": "plastic-madness",
   "metadata": {
    "execution": {
     "iopub.execute_input": "2022-03-27T11:29:08.102350Z",
     "iopub.status.busy": "2022-03-27T11:29:08.101803Z",
     "iopub.status.idle": "2022-03-27T11:29:08.104139Z",
     "shell.execute_reply": "2022-03-27T11:29:08.103617Z"
    }
   },
   "outputs": [],
   "source": [
    "class Probability(tf.keras.layers.Layer):\n",
    "    def __init__(self):\n",
    "        super(Probability, self).__init__()\n",
    "        \n",
    "    def call(self, inputs):\n",
    "        batch_size, patch_number, patch_size, patch_size = tf.unstack(tf.shape(inputs))\n",
    "        \n",
    "        outputs = tf.math.reduce_sum(inputs, axis=(2, 3))\n",
    "        outputs = tf.vectorized_map(lambda image: tf.math.bincount(image, minlength=patch_size ** 2 + 1), outputs)\n",
    "        outputs = tf.math.divide(outputs, patch_number)        \n",
    "        \n",
    "        return outputs"
   ]
  },
  {
   "cell_type": "markdown",
   "id": "sitting-posting",
   "metadata": {},
   "source": [
    "## Calculating fractal dimensions"
   ]
  },
  {
   "cell_type": "markdown",
   "id": "looking-search",
   "metadata": {},
   "source": [
    "According to the article:\n",
    "> FD is the most common technique to evaluate the fractal properties of an image. This is a measure for evaluating the irregularity and the complexity of a fractal. To obtain local FD features from the probability\n",
    "matrix, for each value of 𝐿, the FD denominated 𝐷(𝐿) is calculated according to"
   ]
  },
  {
   "cell_type": "markdown",
   "id": "fewer-madison",
   "metadata": {},
   "source": [
    "$$\n",
    "D(L) = \\sum_{m=1}^{L^2} \\frac{P(m, L)}{m}\n",
    "$$"
   ]
  },
  {
   "cell_type": "code",
   "execution_count": 9,
   "id": "three-hormone",
   "metadata": {
    "execution": {
     "iopub.execute_input": "2022-03-27T11:29:08.109740Z",
     "iopub.status.busy": "2022-03-27T11:29:08.109207Z",
     "iopub.status.idle": "2022-03-27T11:29:08.110975Z",
     "shell.execute_reply": "2022-03-27T11:29:08.111400Z"
    }
   },
   "outputs": [],
   "source": [
    "class FractalDimension(tf.keras.layers.Layer):\n",
    "    def __init__(self):\n",
    "        super(FractalDimension, self).__init__()\n",
    "        \n",
    "    def call(self, inputs):\n",
    "        batch_size, _len = tf.unstack(tf.shape(inputs))\n",
    "        numbers = tf.reshape(\n",
    "            tf.concat(\n",
    "                [tf.constant([1], dtype=tf.float32), tf.range(1, _len, dtype=tf.float32)], \n",
    "                axis=0\n",
    "            ), \n",
    "            shape=(1, -1)\n",
    "        )\n",
    "        \n",
    "        outputs = tf.math.divide(inputs, numbers)\n",
    "        outputs = tf.math.reduce_sum(outputs, axis=1)\n",
    "        \n",
    "        return outputs"
   ]
  },
  {
   "cell_type": "markdown",
   "id": "ethical-puppy",
   "metadata": {},
   "source": [
    "## Calculating lacunarity"
   ]
  },
  {
   "cell_type": "markdown",
   "id": "complimentary-wellington",
   "metadata": {},
   "source": [
    "According to the article:\n",
    "> LAC is a measure complementary to FD and allows to evaluate how the space of a fractal is filled (Ivanovici & Richard, 2009). From the probability matrix, first and second-order moments are calculated with"
   ]
  },
  {
   "cell_type": "markdown",
   "id": "quality-manual",
   "metadata": {},
   "source": [
    "$$\n",
    "\\mu(L) = \\sum_{m=1}^{L^2} mP(m, L)\n",
    "$$"
   ]
  },
  {
   "cell_type": "markdown",
   "id": "romance-speaking",
   "metadata": {},
   "source": [
    "$$\n",
    "\\mu^2(L) = \\sum_{m=1}^{L^2} m^{2}P(m, L)\n",
    "$$"
   ]
  },
  {
   "cell_type": "markdown",
   "id": "standard-maker",
   "metadata": {},
   "source": [
    "> The LAC value for a scale $L$ is given by $\\Lambda$(𝐿), which is obtained according to"
   ]
  },
  {
   "cell_type": "markdown",
   "id": "beginning-david",
   "metadata": {},
   "source": [
    "$$\n",
    "\\Lambda(L) = \\frac{\\mu^{2}(L) - (\\mu(L))^{2}}{(\\mu(L))^{2}}\n",
    "$$"
   ]
  },
  {
   "cell_type": "code",
   "execution_count": 10,
   "id": "purple-edwards",
   "metadata": {
    "execution": {
     "iopub.execute_input": "2022-03-27T11:29:08.118264Z",
     "iopub.status.busy": "2022-03-27T11:29:08.117721Z",
     "iopub.status.idle": "2022-03-27T11:29:08.120003Z",
     "shell.execute_reply": "2022-03-27T11:29:08.119536Z"
    }
   },
   "outputs": [],
   "source": [
    "class Lacunarity(tf.keras.layers.Layer):\n",
    "    def __init__(self):\n",
    "        super(Lacunarity, self).__init__()\n",
    "        \n",
    "    def call(self, inputs):\n",
    "        batch_size, _len = tf.unstack(tf.shape(inputs))\n",
    "        numbers = tf.reshape(\n",
    "            tf.concat(\n",
    "                [tf.constant([1], dtype=tf.float32), tf.range(1, _len, dtype=tf.float32)], \n",
    "                axis=0\n",
    "            ), \n",
    "            shape=(1, -1)\n",
    "        )\n",
    "                \n",
    "        mu_first_2 = tf.math.multiply(inputs, numbers)\n",
    "        mu_first_2 = tf.math.reduce_sum(mu_first_2, axis=1)\n",
    "        mu_first_2 = tf.math.pow(mu_first_2, 2)\n",
    "\n",
    "        mu_second = tf.math.pow(numbers, 2)\n",
    "        mu_second = tf.math.multiply(inputs, mu_second)\n",
    "        mu_second = tf.math.reduce_sum(mu_second, axis=1)\n",
    "\n",
    "        outputs = tf.math.divide(\n",
    "            tf.math.subtract(mu_second, mu_first_2),\n",
    "            mu_first_2\n",
    "        )\n",
    "        \n",
    "        return outputs"
   ]
  },
  {
   "cell_type": "markdown",
   "id": "useful-cyprus",
   "metadata": {},
   "source": [
    "## Calculating percolation Q - the average occurrence of percolation on a scale L"
   ]
  },
  {
   "cell_type": "markdown",
   "id": "peaceful-prague",
   "metadata": {},
   "source": [
    "According to the article:\n",
    "> We can also verify whether a box $\\beta_{i}$ is percolating. This can be achieved due to a property that states a percolation threshold for different types of structures. In squared matrices (digital images), this threshold has the value of $p = 0.59275$, which means that if the ratio between pixels labelled as 1 and pixels labelled as 0 is greater or equal than $p$, the matrix is considered as percolating. Let $\\Omega_{i}$ be the number of pixels labelled as 1 in a box $\\beta_{i}$ with size $L \\times L $ , we determine whether such box is percolating according to"
   ]
  },
  {
   "cell_type": "markdown",
   "id": "exposed-horizontal",
   "metadata": {},
   "source": [
    "$$\n",
    "q_{i} = \n",
    "\\begin{cases}\n",
    "1, & \\frac{\\Omega_{i}}{L^2} \\ge 0.59275 \\\\\n",
    "0, & \\frac{\\Omega_{i}}{L^2} < 0.59275\n",
    "\\end{cases}\n",
    "$$"
   ]
  },
  {
   "cell_type": "markdown",
   "id": "entitled-intranet",
   "metadata": {},
   "source": [
    "> This results in a binary value for $q_{i}$, wherein 1 indicates that thebox is percolating. The feature $Q(L)$ regards the average occurrence of percolation on a scale $L$ and can be obtained by"
   ]
  },
  {
   "cell_type": "markdown",
   "id": "finished-wrist",
   "metadata": {},
   "source": [
    "$$\n",
    "Q(L) = \\frac{\\sum_{i=1}^{T(L)} q_{i}}{T(L)}\n",
    "$$"
   ]
  },
  {
   "cell_type": "code",
   "execution_count": 11,
   "id": "computational-third",
   "metadata": {
    "execution": {
     "iopub.execute_input": "2022-03-27T11:29:08.125827Z",
     "iopub.status.busy": "2022-03-27T11:29:08.125275Z",
     "iopub.status.idle": "2022-03-27T11:29:08.127068Z",
     "shell.execute_reply": "2022-03-27T11:29:08.127508Z"
    }
   },
   "outputs": [],
   "source": [
    "class PercolationQ(tf.keras.layers.Layer):\n",
    "    def __init__(self, threshold=0.59275):\n",
    "        super(PercolationQ, self).__init__()\n",
    "        \n",
    "        self.threshold = threshold\n",
    "        \n",
    "    def call(self, inputs):\n",
    "        batch_size, patch_number, patch_size, patch_size = tf.unstack(tf.shape(inputs))\n",
    "        \n",
    "        outputs = tf.math.reduce_sum(inputs, axis=(2, 3))\n",
    "        outputs = tf.math.divide(outputs, patch_size ** 2)\n",
    "        outputs = tf.math.greater_equal(outputs, self.threshold)\n",
    "        outputs = tf.cast(outputs, dtype=tf.float32)\n",
    "        outputs = tf.math.reduce_mean(outputs, axis=1)\n",
    "        \n",
    "        return outputs"
   ]
  },
  {
   "cell_type": "markdown",
   "id": "sound-keeping",
   "metadata": {},
   "source": [
    "## Clustering values in binarized patches "
   ]
  },
  {
   "cell_type": "markdown",
   "id": "exterior-specific",
   "metadata": {},
   "source": [
    "The next two layers, which calculate percolation C and M, work with value clusters. We clustorize values in a separate layer to speed up calculations."
   ]
  },
  {
   "cell_type": "code",
   "execution_count": 12,
   "id": "center-factory",
   "metadata": {
    "execution": {
     "iopub.execute_input": "2022-03-27T11:29:08.132580Z",
     "iopub.status.busy": "2022-03-27T11:29:08.132025Z",
     "iopub.status.idle": "2022-03-27T11:29:08.133798Z",
     "shell.execute_reply": "2022-03-27T11:29:08.134229Z"
    }
   },
   "outputs": [],
   "source": [
    "class Clusterize(tf.keras.layers.Layer):\n",
    "    def __init__(self):\n",
    "        super(Clusterize, self).__init__()\n",
    "        \n",
    "    def call(self, inputs):\n",
    "        batch_size, patch_number, patch_size, patch_size = tf.unstack(tf.shape(inputs))\n",
    "        \n",
    "        outputs = tf.reshape(inputs, shape=(-1, patch_size, patch_size))\n",
    "        outputs = tfa.image.connected_components(outputs)\n",
    "        outputs = tf.reshape(outputs, shape=(-1, patch_number, patch_size, patch_size))\n",
    "        \n",
    "        return outputs"
   ]
  },
  {
   "cell_type": "markdown",
   "id": "academic-referral",
   "metadata": {},
   "source": [
    "## Calculating percolation C - the average number of clusters per box on a scale L"
   ]
  },
  {
   "cell_type": "markdown",
   "id": "bibliographic-remove",
   "metadata": {},
   "source": [
    "According to the article:\n",
    "> Let $c_{i}$ be the number of clusters on a box $\\beta_{i}$, the feature $C(L)$ that represents the average number of clusters per box on a scale $L$ is given by"
   ]
  },
  {
   "cell_type": "markdown",
   "id": "taken-somerset",
   "metadata": {},
   "source": [
    "$$\n",
    "C(L) = \\frac{\\sum_{i=1}^{T(L)} c_{i}}{T(L)}\n",
    "$$"
   ]
  },
  {
   "cell_type": "code",
   "execution_count": 13,
   "id": "embedded-roman",
   "metadata": {
    "execution": {
     "iopub.execute_input": "2022-03-27T11:29:08.139093Z",
     "iopub.status.busy": "2022-03-27T11:29:08.138542Z",
     "iopub.status.idle": "2022-03-27T11:29:08.140790Z",
     "shell.execute_reply": "2022-03-27T11:29:08.140241Z"
    }
   },
   "outputs": [],
   "source": [
    "class PercolationC(tf.keras.layers.Layer):\n",
    "    def __init__(self):\n",
    "        super(PercolationC, self).__init__()\n",
    "        \n",
    "    def call(self, inputs):\n",
    "        outputs = tf.cast(inputs, dtype=tf.float32)\n",
    "        outputs = tf.math.reduce_max(outputs, axis=(2, 3))\n",
    "        outputs = tf.math.reduce_mean(outputs, axis=1)\n",
    "        \n",
    "        return outputs"
   ]
  },
  {
   "cell_type": "markdown",
   "id": "narrow-sweden",
   "metadata": {},
   "source": [
    "## Calculating percolation M - the average coverage area of the largest cluster on a scale L"
   ]
  },
  {
   "cell_type": "markdown",
   "id": "front-warehouse",
   "metadata": {},
   "source": [
    "According to the article:\n",
    ">Another feature that can be obtained is the average coverage area of the largest cluster in a box and is given by $M(L)$. Let $m_{i}$ be the size in pixels of the largest cluster of the box $\\beta_{i}$. The feature $M(L)$ is givenaccording to"
   ]
  },
  {
   "cell_type": "markdown",
   "id": "solid-alfred",
   "metadata": {},
   "source": [
    "$$\n",
    "M(L) = \\frac{\\sum_{i=1}^{T(L)} \\frac{m_{i}}{L^2}}{T(L)}\n",
    "$$"
   ]
  },
  {
   "cell_type": "code",
   "execution_count": 14,
   "id": "macro-certificate",
   "metadata": {
    "execution": {
     "iopub.execute_input": "2022-03-27T11:29:08.146156Z",
     "iopub.status.busy": "2022-03-27T11:29:08.145593Z",
     "iopub.status.idle": "2022-03-27T11:29:08.147387Z",
     "shell.execute_reply": "2022-03-27T11:29:08.147824Z"
    }
   },
   "outputs": [],
   "source": [
    "class PercolationM(tf.keras.layers.Layer):\n",
    "    def __init__(self):\n",
    "        super(PercolationM, self).__init__()\n",
    "        \n",
    "    def call(self, inputs):\n",
    "        batch_size, patch_number, patch_size, patch_size = tf.unstack(tf.shape(inputs))\n",
    "        \n",
    "        outputs = tf.reshape(inputs, shape=(-1, patch_number, patch_size ** 2))\n",
    "        outputs = tf.map_fn(lambda image: tf.math.reduce_max(tf.math.bincount(image)), outputs)\n",
    "        outputs = tf.cast(outputs, dtype=tf.float32)\n",
    "        \n",
    "        return outputs"
   ]
  },
  {
   "cell_type": "markdown",
   "id": "nervous-bradley",
   "metadata": {},
   "source": [
    "## Assembling fractal features into an image channel"
   ]
  },
  {
   "cell_type": "markdown",
   "id": "invisible-front",
   "metadata": {},
   "source": [
    "According to the article:\n",
    "> To serve as input for the incoming CNN classification, the feature vectors generated on the previous layers of the network must be converted into feature matrices. To do so, the 100 features obtained by each distance $\\Delta$ are rearranged as a $10 \\times 10 \\times 10$ matrix. The matrices generated by $\\Delta_{h}$, $\\Delta_{e}$ and $\\Delta_{m}$ correspond to the R, G and B colour channels, respectively. ... Since each of the functions $C(L), Q(L), M(L), \\Lambda(L)$ and $D(L)$, obtained from a specific $\\Delta$, generate 20 features, each function is fit exactly into 2 columns of the matrix.\n",
    "\n",
    ">Since each of the functions $C(L), Q(L), M(L), \\Lambda(L)$ and $D(L)$, obtained from a specific $\\Delta$, generate 20 features, each function is fit exactly into 2 columns of the matrix."
   ]
  },
  {
   "cell_type": "code",
   "execution_count": 15,
   "id": "rubber-bobby",
   "metadata": {
    "execution": {
     "iopub.execute_input": "2022-03-27T11:29:08.154850Z",
     "iopub.status.busy": "2022-03-27T11:29:08.154285Z",
     "iopub.status.idle": "2022-03-27T11:29:08.156059Z",
     "shell.execute_reply": "2022-03-27T11:29:08.156490Z"
    }
   },
   "outputs": [],
   "source": [
    "class AssembleChannel(tf.keras.layers.Layer):\n",
    "    def __init__(self):\n",
    "        super(AssembleChannel, self).__init__()\n",
    "        \n",
    "    def call(self, inputs):\n",
    "        fractal_dimension = tf.convert_to_tensor(inputs[0])\n",
    "        fractal_dimension = tf.transpose(fractal_dimension, perm=(1, 0))\n",
    "        \n",
    "        lacunarity = tf.convert_to_tensor(inputs[1])\n",
    "        lacunarity = tf.transpose(lacunarity, perm=(1, 0))\n",
    "        \n",
    "        percolation_q = tf.convert_to_tensor(inputs[2])\n",
    "        percolation_q = tf.transpose(percolation_q, perm=(1, 0))\n",
    "        \n",
    "        percolation_c = tf.convert_to_tensor(inputs[3])\n",
    "        percolation_c = tf.transpose(percolation_c, perm=(1, 0))\n",
    "        \n",
    "        percolation_m = tf.convert_to_tensor(inputs[4])\n",
    "        percolation_m = tf.transpose(percolation_m, perm=(1, 0))\n",
    "        \n",
    "        outputs = tf.concat([\n",
    "            percolation_c,\n",
    "            percolation_q,\n",
    "            percolation_m,\n",
    "            lacunarity,\n",
    "            fractal_dimension\n",
    "        ], axis=1)\n",
    "        outputs = tf.reshape(outputs, shape=(-1, 10, 10))\n",
    "        \n",
    "        return outputs"
   ]
  },
  {
   "cell_type": "markdown",
   "id": "answering-knitting",
   "metadata": {},
   "source": [
    "## Organising fractal feature extraction into layers"
   ]
  },
  {
   "cell_type": "markdown",
   "id": "compliant-romania",
   "metadata": {},
   "source": [
    "We move feature extraction to layers to simplify and clarify the code."
   ]
  },
  {
   "cell_type": "markdown",
   "id": "novel-camcorder",
   "metadata": {},
   "source": [
    "### based on Chebyshev distance"
   ]
  },
  {
   "cell_type": "code",
   "execution_count": 16,
   "id": "illegal-therapist",
   "metadata": {
    "execution": {
     "iopub.execute_input": "2022-03-27T11:29:08.164120Z",
     "iopub.status.busy": "2022-03-27T11:29:08.163556Z",
     "iopub.status.idle": "2022-03-27T11:29:08.165795Z",
     "shell.execute_reply": "2022-03-27T11:29:08.165278Z"
    }
   },
   "outputs": [],
   "source": [
    "class ChebyshevFeatures(tf.keras.layers.Layer):\n",
    "    def __init__(self):\n",
    "        super(ChebyshevFeatures, self).__init__()\n",
    "        \n",
    "        self.chebyshev = Chebyshev()\n",
    "        self.probability = Probability()\n",
    "        self.clusterize = Clusterize()\n",
    "        \n",
    "        self.fractal_dimension = FractalDimension()\n",
    "        self.lacunarity = Lacunarity()\n",
    "        self.percolation_q = PercolationQ()\n",
    "        self.percolation_c = PercolationC()\n",
    "        self.percolation_m = PercolationM()\n",
    "        \n",
    "        self.assemble_channel = AssembleChannel()\n",
    "        \n",
    "    def call(self, inputs):\n",
    "        chebyshevs = [self.chebyshev(i) for i in inputs]\n",
    "        \n",
    "        probability = [self.probability(ch) for ch in chebyshevs]\n",
    "        cluster = [self.clusterize(ch) for ch in chebyshevs]\n",
    "        \n",
    "        fractal_dimension = [self.fractal_dimension(ch) for ch in probability]\n",
    "        lacunarity = [self.lacunarity(ch) for ch in probability]        \n",
    "        percolation_q = [self.percolation_q(ch) for ch in chebyshevs]\n",
    "        percolation_c = [self.percolation_c(ch) for ch in cluster]\n",
    "        percolation_m = [self.percolation_m(ch) for ch in cluster]\n",
    "        \n",
    "        features = self.assemble_channel([\n",
    "            fractal_dimension,\n",
    "            lacunarity,\n",
    "            percolation_q,\n",
    "            percolation_c,\n",
    "            percolation_m\n",
    "        ])\n",
    "        \n",
    "        return features"
   ]
  },
  {
   "cell_type": "markdown",
   "id": "psychological-israel",
   "metadata": {},
   "source": [
    "### based on Euclidean distance"
   ]
  },
  {
   "cell_type": "code",
   "execution_count": 17,
   "id": "tight-jacksonville",
   "metadata": {
    "execution": {
     "iopub.execute_input": "2022-03-27T11:29:08.173153Z",
     "iopub.status.busy": "2022-03-27T11:29:08.172575Z",
     "iopub.status.idle": "2022-03-27T11:29:08.175011Z",
     "shell.execute_reply": "2022-03-27T11:29:08.174582Z"
    }
   },
   "outputs": [],
   "source": [
    "class EuclideanFeatures(tf.keras.layers.Layer):\n",
    "    def __init__(self):\n",
    "        super(EuclideanFeatures, self).__init__()\n",
    "        \n",
    "        self.euclidean = Euclidean()\n",
    "        self.probability = Probability()\n",
    "        self.clusterize = Clusterize()\n",
    "        \n",
    "        self.fractal_dimension = FractalDimension()\n",
    "        self.lacunarity = Lacunarity()\n",
    "        self.percolation_q = PercolationQ()\n",
    "        self.percolation_c = PercolationC()\n",
    "        self.percolation_m = PercolationM()\n",
    "        \n",
    "        self.assemble_channel = AssembleChannel()\n",
    "        \n",
    "    def call(self, inputs):\n",
    "        euclideans = [self.euclidean(i) for i in inputs]\n",
    "        \n",
    "        probability = [self.probability(eu) for eu in euclideans]\n",
    "        cluster = [self.clusterize(eu) for eu in euclideans]\n",
    "        \n",
    "        fractal_dimension = [self.fractal_dimension(eu) for eu in probability]\n",
    "        lacunarity = [self.lacunarity(eu) for eu in probability]        \n",
    "        percolation_q = [self.percolation_q(eu) for eu in euclideans]\n",
    "        percolation_c = [self.percolation_c(eu) for eu in cluster]\n",
    "        percolation_m = [self.percolation_m(eu) for eu in cluster]\n",
    "        \n",
    "        features = self.assemble_channel([\n",
    "            fractal_dimension,\n",
    "            lacunarity,\n",
    "            percolation_q,\n",
    "            percolation_c,\n",
    "            percolation_m\n",
    "        ])\n",
    "        \n",
    "        return features"
   ]
  },
  {
   "cell_type": "markdown",
   "id": "relevant-consumer",
   "metadata": {},
   "source": [
    "### based on Manhattan distance"
   ]
  },
  {
   "cell_type": "code",
   "execution_count": 18,
   "id": "academic-catalyst",
   "metadata": {
    "execution": {
     "iopub.execute_input": "2022-03-27T11:29:08.181974Z",
     "iopub.status.busy": "2022-03-27T11:29:08.181468Z",
     "iopub.status.idle": "2022-03-27T11:29:08.183671Z",
     "shell.execute_reply": "2022-03-27T11:29:08.183188Z"
    }
   },
   "outputs": [],
   "source": [
    "class ManhattanFeatures(tf.keras.layers.Layer):\n",
    "    def __init__(self):\n",
    "        super(ManhattanFeatures, self).__init__()\n",
    "        \n",
    "        self.manhattan = Manhattan()\n",
    "        self.probability = Probability()\n",
    "        self.clusterize = Clusterize()\n",
    "        \n",
    "        self.fractal_dimension = FractalDimension()\n",
    "        self.lacunarity = Lacunarity()\n",
    "        self.percolation_q = PercolationQ()\n",
    "        self.percolation_c = PercolationC()\n",
    "        self.percolation_m = PercolationM()\n",
    "        \n",
    "        self.assemble_channel = AssembleChannel()\n",
    "        \n",
    "    def call(self, inputs):\n",
    "        manhattans = [self.manhattan(i) for i in inputs]\n",
    "        \n",
    "        probability = [self.probability(mh) for mh in manhattans]\n",
    "        cluster = [self.clusterize(mh) for mh in manhattans]\n",
    "        \n",
    "        fractal_dimension = [self.fractal_dimension(mh) for mh in probability]\n",
    "        lacunarity = [self.lacunarity(mh) for mh in probability]        \n",
    "        percolation_q = [self.percolation_q(mh) for mh in manhattans]\n",
    "        percolation_c = [self.percolation_c(mh) for mh in cluster]\n",
    "        percolation_m = [self.percolation_m(mh) for mh in cluster]\n",
    "        \n",
    "        features = self.assemble_channel([\n",
    "            fractal_dimension,\n",
    "            lacunarity,\n",
    "            percolation_q,\n",
    "            percolation_c,\n",
    "            percolation_m\n",
    "        ])\n",
    "        \n",
    "        return features"
   ]
  },
  {
   "cell_type": "markdown",
   "id": "pleased-debut",
   "metadata": {},
   "source": [
    "## Assembling fractal features into images"
   ]
  },
  {
   "cell_type": "markdown",
   "id": "psychological-termination",
   "metadata": {},
   "source": [
    "We assemble fractal features into images, such that each set of fractal features corresponds to a colour channel (R, G, B)."
   ]
  },
  {
   "cell_type": "code",
   "execution_count": 19,
   "id": "mediterranean-sympathy",
   "metadata": {
    "execution": {
     "iopub.execute_input": "2022-03-27T11:29:08.187923Z",
     "iopub.status.busy": "2022-03-27T11:29:08.187390Z",
     "iopub.status.idle": "2022-03-27T11:29:08.189180Z",
     "shell.execute_reply": "2022-03-27T11:29:08.189582Z"
    }
   },
   "outputs": [],
   "source": [
    "class AssembleImage(tf.keras.layers.Layer):\n",
    "    def __init__(self):\n",
    "        super(AssembleImage, self).__init__()\n",
    "        \n",
    "    def call(self, inputs):\n",
    "        outputs = tf.stack(inputs)\n",
    "        outputs = tf.transpose(outputs, perm=(1, 2, 3, 0))\n",
    "        \n",
    "        return outputs"
   ]
  },
  {
   "cell_type": "markdown",
   "id": "going-expert",
   "metadata": {},
   "source": [
    "## Organising the fractal feature extraction layers into the single, fractal image layer"
   ]
  },
  {
   "cell_type": "markdown",
   "id": "announced-refund",
   "metadata": {},
   "source": [
    "To further simplify the code, we will gather the fractal feature extraction into the single layer, which generates artificial fractal image."
   ]
  },
  {
   "cell_type": "code",
   "execution_count": 20,
   "id": "stable-belize",
   "metadata": {
    "execution": {
     "iopub.execute_input": "2022-03-27T11:29:08.195190Z",
     "iopub.status.busy": "2022-03-27T11:29:08.194696Z",
     "iopub.status.idle": "2022-03-27T11:29:08.196421Z",
     "shell.execute_reply": "2022-03-27T11:29:08.196831Z"
    }
   },
   "outputs": [],
   "source": [
    "class FractalImage(tf.keras.layers.Layer):\n",
    "    def __init__(self):\n",
    "        super(FractalImage, self).__init__()\n",
    "        \n",
    "        self.patchifies = [Patchify(patch_size) for patch_size in range(3, 41 + 1, 2)]\n",
    "        \n",
    "        self.chebyshev_features = ChebyshevFeatures()\n",
    "        self.euclidean_features = EuclideanFeatures()\n",
    "        self.manhattan_features = ManhattanFeatures()\n",
    "        \n",
    "        self.assemble_image = AssembleImage()\n",
    "        \n",
    "    def call(self, inputs):\n",
    "        patchifies = [patchify(inputs) for patchify in self.patchifies]\n",
    "        \n",
    "        chebyshev_features = self.chebyshev_features(patchifies)\n",
    "        euclidean_features = self.euclidean_features(patchifies)\n",
    "        manhattan_features = self.manhattan_features(patchifies)\n",
    "        \n",
    "        outputs = self.assemble_image([\n",
    "            chebyshev_features,\n",
    "            euclidean_features,\n",
    "            manhattan_features\n",
    "        ])\n",
    "        \n",
    "        return outputs"
   ]
  },
  {
   "cell_type": "markdown",
   "id": "improving-correspondence",
   "metadata": {},
   "source": [
    "## Assembling the fractal neural network"
   ]
  },
  {
   "cell_type": "markdown",
   "id": "existing-excess",
   "metadata": {},
   "source": [
    "So, here we are assembling the fractal neural network from the pieces mentioned above."
   ]
  },
  {
   "cell_type": "code",
   "execution_count": 21,
   "id": "suspended-state",
   "metadata": {
    "execution": {
     "iopub.execute_input": "2022-03-27T11:29:08.203831Z",
     "iopub.status.busy": "2022-03-27T11:29:08.203282Z",
     "iopub.status.idle": "2022-03-27T11:29:08.205054Z",
     "shell.execute_reply": "2022-03-27T11:29:08.205457Z"
    }
   },
   "outputs": [],
   "source": [
    "class FractalNeuralNetwork(tf.keras.Model):\n",
    "    TARGET_WIDTH = 224\n",
    "    TARGET_HEIGHT = 224\n",
    "    \n",
    "    def __init__(self, class_number):\n",
    "        super(FractalNeuralNetwork, self).__init__()\n",
    "        \n",
    "        self.fractal_image = FractalImage()\n",
    "        self.resize = tf.keras.layers.Resizing(width=self.TARGET_WIDTH, height=self.TARGET_HEIGHT)\n",
    "        self.rescale_original = tf.keras.layers.Rescaling(scale=1./255)\n",
    "        self.rescale_fractal = tf.keras.layers.Lambda(lambda x: tf.math.divide(x, tf.math.reduce_max(x)))\n",
    "        self.mobilenet_v2 = hub.KerasLayer(\n",
    "            \"https://tfhub.dev/google/tf2-preview/mobilenet_v2/feature_vector/4\", \n",
    "            output_shape=[1280], \n",
    "            trainable=False\n",
    "        )\n",
    "        self.combine = tf.keras.layers.Add()\n",
    "        self.score = tf.keras.layers.Dense(class_number, activation='softmax')\n",
    "        \n",
    "    def call(self, inputs):\n",
    "        fractal_outputs = self.fractal_image(inputs)\n",
    "        fractal_outputs = self.resize(fractal_outputs)\n",
    "        fractal_outputs = self.rescale_fractal(fractal_outputs)\n",
    "        fractal_outputs = self.mobilenet_v2(fractal_outputs)\n",
    "        \n",
    "        original_outputs = self.rescale_original(inputs)\n",
    "        original_outputs = self.mobilenet_v2(original_outputs)\n",
    "        \n",
    "        outputs = self.combine([fractal_outputs, original_outputs])\n",
    "        outputs = self.score(outputs)\n",
    "        \n",
    "        return outputs"
   ]
  },
  {
   "cell_type": "markdown",
   "id": "latin-friday",
   "metadata": {},
   "source": [
    "# Data loading"
   ]
  },
  {
   "cell_type": "markdown",
   "id": "judicial-mounting",
   "metadata": {},
   "source": [
    "## Data source"
   ]
  },
  {
   "cell_type": "markdown",
   "id": "loved-parent",
   "metadata": {},
   "source": [
    "As a data source, we use the ISIC Archive."
   ]
  },
  {
   "cell_type": "markdown",
   "id": "detailed-prague",
   "metadata": {},
   "source": [
    "The ISIC Archive is an open source platform with publicly available images of skin lesions under Creative Commons licenses. The images are associated with ground-truth diagnoses and other clinical metadata. Images can be queried using faceted search and downloaded individually or in batches. The initial focus of the archive has been on dermoscopy images of individual skin lesions, as these images are inherently standardized by the use of a specialized acquisition device and devoid of many of the privacy challenges associated with clinical images. To date, the images have been provided by specialized melanoma centers from around the world. The archive is designed to accept contributions from new sources under the Terms of Use and welcomes new contributors. There are ongoing efforts to supplement the dermoscopy images in the archive with close-up clinical images and a broader representation of skin types. The images in the Archive are used to support educational efforts through linkage with Dermoscopedia and are used for Grand Challenges and Live Challenges to engage the computer science community for the development of diagnostic AI."
   ]
  },
  {
   "cell_type": "markdown",
   "id": "expected-baptist",
   "metadata": {},
   "source": [
    "For more information, go to [ISIC Archive web site](https://www.isic-archive.com/)"
   ]
  },
  {
   "cell_type": "code",
   "execution_count": 22,
   "id": "hollow-links",
   "metadata": {
    "execution": {
     "iopub.execute_input": "2022-03-27T11:29:08.210563Z",
     "iopub.status.busy": "2022-03-27T11:29:08.209995Z",
     "iopub.status.idle": "2022-03-27T11:29:08.440200Z",
     "shell.execute_reply": "2022-03-27T11:29:08.440638Z"
    }
   },
   "outputs": [
    {
     "name": "stdout",
     "output_type": "stream",
     "text": [
      "Found 7881 images belonging to 9 classes.\n",
      "Found 1964 images belonging to 9 classes.\n"
     ]
    }
   ],
   "source": [
    "generator = tf.keras.preprocessing.image.ImageDataGenerator(\n",
    "    rotation_range=180,\n",
    "    horizontal_flip=True,\n",
    "    vertical_flip=True,\n",
    "    brightness_range=(0.2, 1.5),\n",
    "    validation_split=0.2,\n",
    ")\n",
    "\n",
    "\n",
    "training_set = generator.flow_from_directory(\n",
    "    f\"{os.environ['SCRATCH']}/data10000\",\n",
    "    target_size=(224, 224), \n",
    "    batch_size=32, \n",
    "    class_mode='categorical', \n",
    "    subset='training'\n",
    ")\n",
    "validation_set = generator.flow_from_directory(\n",
    "    f\"{os.environ['SCRATCH']}/data10000\", \n",
    "    target_size=(224, 224), \n",
    "    batch_size=32, \n",
    "    class_mode='categorical', \n",
    "    subset='validation'\n",
    ")"
   ]
  },
  {
   "cell_type": "code",
   "execution_count": 23,
   "id": "hollywood-invention",
   "metadata": {
    "execution": {
     "iopub.execute_input": "2022-03-27T11:29:08.443976Z",
     "iopub.status.busy": "2022-03-27T11:29:08.443457Z",
     "iopub.status.idle": "2022-03-27T11:29:08.445703Z",
     "shell.execute_reply": "2022-03-27T11:29:08.445177Z"
    }
   },
   "outputs": [],
   "source": [
    "CLASS_NUMBER = len(training_set.class_indices)"
   ]
  },
  {
   "cell_type": "markdown",
   "id": "lined-synthetic",
   "metadata": {},
   "source": [
    "# Model training"
   ]
  },
  {
   "cell_type": "markdown",
   "id": "institutional-circus",
   "metadata": {},
   "source": [
    "## Preparing TensorFlow callbacks"
   ]
  },
  {
   "cell_type": "markdown",
   "id": "applied-insulin",
   "metadata": {},
   "source": [
    "For our convenience, we create a few TensorFlow callbacks."
   ]
  },
  {
   "cell_type": "markdown",
   "id": "inappropriate-symposium",
   "metadata": {},
   "source": [
    "### The TensorBoard callback"
   ]
  },
  {
   "cell_type": "markdown",
   "id": "negative-depth",
   "metadata": {},
   "source": [
    "We want to see how the training is going. We add the callback, which will log the metrics to TensorBoard."
   ]
  },
  {
   "cell_type": "code",
   "execution_count": 24,
   "id": "pediatric-guess",
   "metadata": {
    "execution": {
     "iopub.execute_input": "2022-03-27T11:29:08.449570Z",
     "iopub.status.busy": "2022-03-27T11:29:08.449078Z",
     "iopub.status.idle": "2022-03-27T11:29:08.450843Z",
     "shell.execute_reply": "2022-03-27T11:29:08.451277Z"
    }
   },
   "outputs": [],
   "source": [
    "log_dir = '../logs/fit/' + datetime.datetime.now().strftime('fractalnet')\n",
    "tensorboard_callback = tf.keras.callbacks.TensorBoard(log_dir=log_dir, histogram_freq=1)"
   ]
  },
  {
   "cell_type": "markdown",
   "id": "interesting-bangkok",
   "metadata": {},
   "source": [
    "### The EarlyStopping callback"
   ]
  },
  {
   "cell_type": "markdown",
   "id": "found-cambodia",
   "metadata": {},
   "source": [
    "This callback stops training when the metrics (e.g. validation loss) are not improving,"
   ]
  },
  {
   "cell_type": "code",
   "execution_count": 25,
   "id": "recreational-brown",
   "metadata": {
    "execution": {
     "iopub.execute_input": "2022-03-27T11:29:08.454758Z",
     "iopub.status.busy": "2022-03-27T11:29:08.454234Z",
     "iopub.status.idle": "2022-03-27T11:29:08.456467Z",
     "shell.execute_reply": "2022-03-27T11:29:08.455936Z"
    }
   },
   "outputs": [],
   "source": [
    "early_stop_callback = tf.keras.callbacks.EarlyStopping(\n",
    "    monitor=\"val_loss\", \n",
    "    min_delta=0.01, \n",
    "    patience=3, \n",
    "    restore_best_weights=True\n",
    ")"
   ]
  },
  {
   "cell_type": "markdown",
   "id": "otherwise-massage",
   "metadata": {},
   "source": [
    "### The ModelCheckpoint callback"
   ]
  },
  {
   "cell_type": "markdown",
   "id": "linear-stevens",
   "metadata": {},
   "source": [
    "This callback saves the model with the best metrics during training."
   ]
  },
  {
   "cell_type": "code",
   "execution_count": 26,
   "id": "adopted-proposal",
   "metadata": {
    "execution": {
     "iopub.execute_input": "2022-03-27T11:29:08.460192Z",
     "iopub.status.busy": "2022-03-27T11:29:08.459698Z",
     "iopub.status.idle": "2022-03-27T11:29:08.461477Z",
     "shell.execute_reply": "2022-03-27T11:29:08.461891Z"
    }
   },
   "outputs": [],
   "source": [
    "checkpoint_path = 'checkpoints/fractalnet.ckpt'\n",
    "\n",
    "checkpoint_callback = tf.keras.callbacks.ModelCheckpoint(\n",
    "    checkpoint_path,\n",
    "    monitor='val_loss',\n",
    "    verbose=1,\n",
    "    save_best_only=True,\n",
    "    save_weights_only=False,\n",
    "    save_freq='epoch',\n",
    "    mode='auto'\n",
    ")"
   ]
  },
  {
   "cell_type": "markdown",
   "id": "knowing-manner",
   "metadata": {},
   "source": [
    "## Actual training"
   ]
  },
  {
   "cell_type": "code",
   "execution_count": 27,
   "id": "victorian-proceeding",
   "metadata": {
    "execution": {
     "iopub.execute_input": "2022-03-27T11:29:08.465772Z",
     "iopub.status.busy": "2022-03-27T11:29:08.465241Z",
     "iopub.status.idle": "2022-03-27T16:56:40.960818Z",
     "shell.execute_reply": "2022-03-27T16:56:40.961367Z"
    },
    "scrolled": false
   },
   "outputs": [
    {
     "name": "stdout",
     "output_type": "stream",
     "text": [
      "Epoch 1/10\n",
      "247/247 [==============================] - ETA: 0s - loss: 0.6419 - accuracy: 0.8043 \n",
      "Epoch 1: val_loss improved from inf to 0.53930, saving model to checkpoints/fractalnet.ckpt\n"
     ]
    },
    {
     "name": "stderr",
     "output_type": "stream",
     "text": [
      "WARNING:absl:Found untraced functions such as chebyshev_features_layer_call_fn, chebyshev_features_layer_call_and_return_conditional_losses, euclidean_features_layer_call_fn, euclidean_features_layer_call_and_return_conditional_losses, manhattan_features_layer_call_fn while saving (showing 5 of 102). These functions will not be directly callable after loading.\n"
     ]
    },
    {
     "name": "stdout",
     "output_type": "stream",
     "text": [
      "247/247 [==============================] - 4958s 20s/step - loss: 0.6419 - accuracy: 0.8043 - val_loss: 0.5393 - val_accuracy: 0.8325\n",
      "Epoch 2/10\n",
      "247/247 [==============================] - ETA: 0s - loss: 0.5320 - accuracy: 0.8254 \n",
      "Epoch 2: val_loss did not improve from 0.53930\n",
      "247/247 [==============================] - 4873s 20s/step - loss: 0.5320 - accuracy: 0.8254 - val_loss: 0.5595 - val_accuracy: 0.8325\n",
      "Epoch 3/10\n",
      "247/247 [==============================] - ETA: 0s - loss: 0.5062 - accuracy: 0.8334 \n",
      "Epoch 3: val_loss did not improve from 0.53930\n",
      "247/247 [==============================] - 4989s 20s/step - loss: 0.5062 - accuracy: 0.8334 - val_loss: 0.5518 - val_accuracy: 0.8386\n",
      "Epoch 4/10\n",
      "247/247 [==============================] - ETA: 0s - loss: 0.4828 - accuracy: 0.8400 \n",
      "Epoch 4: val_loss did not improve from 0.53930\n",
      "247/247 [==============================] - 4785s 19s/step - loss: 0.4828 - accuracy: 0.8400 - val_loss: 0.6659 - val_accuracy: 0.8284\n"
     ]
    },
    {
     "data": {
      "text/plain": [
       "<keras.callbacks.History at 0x2b373ad44a90>"
      ]
     },
     "execution_count": 1,
     "metadata": {},
     "output_type": "execute_result"
    }
   ],
   "source": [
    "model = FractalNeuralNetwork(class_number=CLASS_NUMBER)\n",
    "model.compile(optimizer='adam', loss='categorical_crossentropy', metrics=['accuracy'])\n",
    "model.fit(\n",
    "    training_set, \n",
    "    validation_data=validation_set, \n",
    "    epochs=10,\n",
    "    callbacks=[\n",
    "        tensorboard_callback,\n",
    "        early_stop_callback,\n",
    "        checkpoint_callback\n",
    "    ]\n",
    ")"
   ]
  },
  {
   "cell_type": "markdown",
   "id": "noticed-liverpool",
   "metadata": {},
   "source": [
    "# Model validation"
   ]
  },
  {
   "cell_type": "markdown",
   "id": "infectious-charity",
   "metadata": {},
   "source": [
    "## Loading the model from the checkpoint"
   ]
  },
  {
   "cell_type": "code",
   "execution_count": 28,
   "id": "painful-memory",
   "metadata": {
    "execution": {
     "iopub.execute_input": "2022-03-27T16:56:40.967293Z",
     "iopub.status.busy": "2022-03-27T16:56:40.966760Z",
     "iopub.status.idle": "2022-03-27T16:56:48.306602Z",
     "shell.execute_reply": "2022-03-27T16:56:48.307064Z"
    }
   },
   "outputs": [
    {
     "data": {
      "text/plain": [
       "<tensorflow.python.training.tracking.util.CheckpointLoadStatus at 0x2b3850743fd0>"
      ]
     },
     "execution_count": 1,
     "metadata": {},
     "output_type": "execute_result"
    }
   ],
   "source": [
    "model = FractalNeuralNetwork(class_number=CLASS_NUMBER)\n",
    "model.load_weights('./checkpoints/fractalnet.ckpt')"
   ]
  },
  {
   "cell_type": "markdown",
   "id": "large-relative",
   "metadata": {},
   "source": [
    "## Loading the test data"
   ]
  },
  {
   "cell_type": "code",
   "execution_count": 29,
   "id": "greek-processor",
   "metadata": {
    "execution": {
     "iopub.execute_input": "2022-03-27T16:56:48.311142Z",
     "iopub.status.busy": "2022-03-27T16:56:48.310588Z",
     "iopub.status.idle": "2022-03-27T16:56:48.512445Z",
     "shell.execute_reply": "2022-03-27T16:56:48.512879Z"
    }
   },
   "outputs": [
    {
     "name": "stdout",
     "output_type": "stream",
     "text": [
      "Found 9843 images belonging to 9 classes.\n"
     ]
    }
   ],
   "source": [
    "testing_set = generator.flow_from_directory(\n",
    "    f\"{os.environ['SCRATCH']}/data10000-test\",\n",
    "    target_size=(224, 224),\n",
    "    batch_size=32,\n",
    "    class_mode='categorical'\n",
    ")"
   ]
  },
  {
   "cell_type": "markdown",
   "id": "smoking-treasury",
   "metadata": {},
   "source": [
    "## Making diagnoses"
   ]
  },
  {
   "cell_type": "code",
   "execution_count": 30,
   "id": "swedish-bicycle",
   "metadata": {
    "execution": {
     "iopub.execute_input": "2022-03-27T16:56:48.516719Z",
     "iopub.status.busy": "2022-03-27T16:56:48.516166Z",
     "iopub.status.idle": "2022-03-27T18:23:42.533364Z",
     "shell.execute_reply": "2022-03-27T18:23:42.533807Z"
    }
   },
   "outputs": [],
   "source": [
    "true_labels = np.concatenate([testing_set[i][1] for i in range(len(testing_set))], axis=0)"
   ]
  },
  {
   "cell_type": "code",
   "execution_count": 31,
   "id": "interim-diagnosis",
   "metadata": {
    "execution": {
     "iopub.execute_input": "2022-03-27T18:23:42.539265Z",
     "iopub.status.busy": "2022-03-27T18:23:42.538626Z",
     "iopub.status.idle": "2022-03-27T19:46:31.127771Z",
     "shell.execute_reply": "2022-03-27T19:46:31.128279Z"
    }
   },
   "outputs": [],
   "source": [
    "predicted_labels = model.predict(testing_set)"
   ]
  },
  {
   "cell_type": "markdown",
   "id": "honey-format",
   "metadata": {},
   "source": [
    "## Plot the ROC Curve"
   ]
  },
  {
   "cell_type": "code",
   "execution_count": 32,
   "id": "adjusted-lingerie",
   "metadata": {
    "execution": {
     "iopub.execute_input": "2022-03-27T19:46:31.134525Z",
     "iopub.status.busy": "2022-03-27T19:46:31.133974Z",
     "iopub.status.idle": "2022-03-27T19:46:31.193658Z",
     "shell.execute_reply": "2022-03-27T19:46:31.194096Z"
    }
   },
   "outputs": [],
   "source": [
    "fpr = dict()\n",
    "tpr = dict()\n",
    "auc_metric = dict()\n",
    "\n",
    "diagnosis_index_dict = {v: k for k, v in testing_set.class_indices.items()}\n",
    "\n",
    "for i in range(CLASS_NUMBER):\n",
    "    diagnosis = diagnosis_index_dict[i]\n",
    "    fpr[diagnosis], tpr[diagnosis], _ = roc_curve(true_labels[:, i], predicted_labels[:, i])\n",
    "    auc_metric[diagnosis] = auc(fpr[diagnosis], tpr[diagnosis])"
   ]
  },
  {
   "cell_type": "code",
   "execution_count": 33,
   "id": "musical-situation",
   "metadata": {
    "execution": {
     "iopub.execute_input": "2022-03-27T19:46:31.201641Z",
     "iopub.status.busy": "2022-03-27T19:46:31.201101Z",
     "iopub.status.idle": "2022-03-27T19:46:32.961912Z",
     "shell.execute_reply": "2022-03-27T19:46:32.962366Z"
    }
   },
   "outputs": [
    {
     "data": {
      "image/png": "[encoded data removed]",
      "text/plain": [
       "<Figure size 432x288 with 1 Axes>"
      ]
     },
     "metadata": {
      "needs_background": "light"
     },
     "output_type": "display_data"
    }
   ],
   "source": [
    "%matplotlib inline \n",
    "for diagnosis in testing_set.class_indices:\n",
    "    plt.plot(fpr[diagnosis], tpr[diagnosis], label=diagnosis)\n",
    "    \n",
    "plt.plot([0, 1], [0, 1], 'k--')\n",
    "plt.xlabel('False Positive Rate')\n",
    "plt.ylabel('True Positive Rate')\n",
    "plt.title('Receiver operating characteristic')\n",
    "plt.legend(loc=\"lower right\")\n",
    "plt.show()"
   ]
  },
  {
   "cell_type": "markdown",
   "id": "burning-maker",
   "metadata": {},
   "source": [
    "## Show AUC"
   ]
  },
  {
   "cell_type": "code",
   "execution_count": 34,
   "id": "cross-hierarchy",
   "metadata": {
    "execution": {
     "iopub.execute_input": "2022-03-27T19:46:32.965943Z",
     "iopub.status.busy": "2022-03-27T19:46:32.965398Z",
     "iopub.status.idle": "2022-03-27T19:46:32.968095Z",
     "shell.execute_reply": "2022-03-27T19:46:32.967656Z"
    }
   },
   "outputs": [
    {
     "name": "stdout",
     "output_type": "stream",
     "text": [
      "{'AK': 0.9318019397651863, 'BCC': 0.919198382246189, 'BKL': 0.881696739344891, 'DF': 0.8550095278992996, 'MEL': 0.8644860714750129, 'NV': 0.9094890217141017, 'SCC': 0.9015646119089095, 'UNK': 0.8148527872460345, 'VASC': 0.9456344349245206}\n"
     ]
    }
   ],
   "source": [
    "print(auc_metric)"
   ]
  },
  {
   "cell_type": "code",
   "execution_count": null,
   "id": "hollywood-belfast",
   "metadata": {},
   "outputs": [],
   "source": []
  }
 ],
 "metadata": {
  "kernelspec": {
   "display_name": "Python 3",
   "language": "python",
   "name": "python3"
  },
  "language_info": {
   "codemirror_mode": {
    "name": "ipython",
    "version": 3
   },
   "file_extension": ".py",
   "mimetype": "text/x-python",
   "name": "python",
   "nbconvert_exporter": "python",
   "pygments_lexer": "ipython3",
   "version": "3.9.1"
  }
 },
 "nbformat": 4,
 "nbformat_minor": 5
}
