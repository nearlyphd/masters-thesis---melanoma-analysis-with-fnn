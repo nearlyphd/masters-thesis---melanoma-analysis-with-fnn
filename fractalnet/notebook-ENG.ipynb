{
 "cells": [
  {
   "cell_type": "markdown",
   "metadata": {},
   "source": [
    "# Melanoma analysis with fractal neural networks"
   ]
  },
  {
   "cell_type": "markdown",
   "metadata": {},
   "source": [
    "This notebook shows how good is [Fractal neural network](#Fractal-neural-network) for [melanoma](#Melanoma) analysis."
   ]
  },
  {
   "cell_type": "code",
   "execution_count": 1,
   "metadata": {},
   "outputs": [],
   "source": [
    "import datetime\n",
    "import numpy as np\n",
    "import tensorflow as tf\n",
    "import tensorflow_hub as hub\n",
    "import tensorflow_addons as tfa\n",
    "import matplotlib.pyplot as plt\n",
    "from sklearn.metrics import roc_curve, auc"
   ]
  },
  {
   "cell_type": "markdown",
   "metadata": {},
   "source": [
    "Check if a GPU is available."
   ]
  },
  {
   "cell_type": "code",
   "execution_count": 2,
   "metadata": {},
   "outputs": [
    {
     "data": {
      "text/plain": [
       "[PhysicalDevice(name='/physical_device:GPU:0', device_type='GPU')]"
      ]
     },
     "execution_count": 2,
     "metadata": {},
     "output_type": "execute_result"
    }
   ],
   "source": [
    "tf.config.list_physical_devices('GPU')"
   ]
  },
  {
   "cell_type": "markdown",
   "metadata": {},
   "source": [
    "# Melanoma"
   ]
  },
  {
   "cell_type": "markdown",
   "metadata": {},
   "source": [
    "__Melanoma__, also redundantly known as __malignant melanoma__, is a type of skin cancer that develops from the pigment-producing cells known as melanocytes. Melanomas typically occur in the skin, but may rarely occur in the mouth, intestines, or eye (uveal melanoma). In women, they most commonly occur on the legs, while in men, they most commonly occur on the back. About 25% of melanomas develop from moles. Changes in a mole that can indicate melanoma include an increase in size, irregular edges, change in color, itchiness, or skin breakdown."
   ]
  },
  {
   "cell_type": "markdown",
   "metadata": {},
   "source": [
    "![melanoma image](../assets/melanoma.jpg)"
   ]
  },
  {
   "cell_type": "markdown",
   "metadata": {},
   "source": [
    "<div style=\"text-align: center; font-weight: bold\">Pic.1. A melanoma of approximately 2.5 cm (1 in) by 1.5 cm (0.6 in)</div>"
   ]
  },
  {
   "cell_type": "markdown",
   "metadata": {},
   "source": [
    "The primary cause of melanoma is ultraviolet light (UV) exposure in those with low levels of the skin pigment melanin. The UV light may be from the sun or other sources, such as tanning devices. Those with many moles, a history of affected family members, and poor immune function are at greater risk. A number of rare genetic conditions, such as xeroderma pigmentosum, also increase the risk. Diagnosis is by biopsy and analysis of any skin lesion that has signs of being potentially cancerous."
   ]
  },
  {
   "cell_type": "markdown",
   "metadata": {},
   "source": [
    "Melanoma is the most dangerous type of skin cancer. Globally, in 2012, it newly occurred in 232,000 people. In 2015, 3.1 million people had active disease, which resulted in 59,800 deaths. Australia and New Zealand have the highest rates of melanoma in the world. High rates also occur in Northern Europe and North America, while it is less common in Asia, Africa, and Latin America. In the United States, melanoma occurs about 1.6 times more often in men than women. Melanoma has become more common since the 1960s in areas mostly populated by people of European descent."
   ]
  },
  {
   "cell_type": "markdown",
   "metadata": {},
   "source": [
    "# Fractal neural network"
   ]
  },
  {
   "cell_type": "markdown",
   "metadata": {},
   "source": [
    "We propose an ensemble model based on handcrafted fractal features and deep learning that consists of combining the classification of two CNNs by applying the sum rule. We apply feature extraction to obtain 300 fractal features from different\n",
    "histological datasets. These features are reshaped into a 10 × 10 × 3 matrix to compose an artificial image that\n",
    "is given as input to the first CNN. The second CNN model receives as input the correspondent original image."
   ]
  },
  {
   "cell_type": "markdown",
   "metadata": {},
   "source": [
    "![CNN image](../assets/fnn.png)"
   ]
  },
  {
   "cell_type": "markdown",
   "metadata": {},
   "source": [
    "<div style=\"text-align: center; font-weight: bold\">Pic.2. Overview of the proposed FNN model.</div>"
   ]
  },
  {
   "cell_type": "markdown",
   "metadata": {},
   "source": [
    "If you want to learn more about fractal neural networks, read [here](https://www.sciencedirect.com/science/article/abs/pii/S0957417420308563)."
   ]
  },
  {
   "cell_type": "markdown",
   "metadata": {},
   "source": [
    "# Data loading"
   ]
  },
  {
   "cell_type": "code",
   "execution_count": 3,
   "metadata": {},
   "outputs": [
    {
     "name": "stdout",
     "output_type": "stream",
     "text": [
      "Found 638 images belonging to 2 classes.\n",
      "Found 159 images belonging to 2 classes.\n"
     ]
    }
   ],
   "source": [
    "generator = tf.keras.preprocessing.image.ImageDataGenerator(\n",
    "    rescale=1./255,\n",
    "    rotation_range=180,\n",
    "    horizontal_flip=True,\n",
    "    vertical_flip=True,\n",
    "    brightness_range=(0.2, 1.5),\n",
    "    validation_split=0.2,\n",
    ")\n",
    "\n",
    "\n",
    "training_set = generator.flow_from_directory(\n",
    "    '/small-data', \n",
    "    target_size=(224, 224), \n",
    "    batch_size=32, \n",
    "    class_mode='categorical', \n",
    "    subset='training'\n",
    ")\n",
    "validation_set = generator.flow_from_directory(\n",
    "    '/small-data', \n",
    "    target_size=(224, 224), \n",
    "    batch_size=32, \n",
    "    class_mode='categorical', \n",
    "    subset='validation'\n",
    ")"
   ]
  },
  {
   "cell_type": "code",
   "execution_count": 4,
   "metadata": {},
   "outputs": [],
   "source": [
    "CLASS_NUMBER = len(training_set.class_indices)"
   ]
  },
  {
   "cell_type": "markdown",
   "metadata": {},
   "source": [
    "### Data source"
   ]
  },
  {
   "cell_type": "markdown",
   "metadata": {},
   "source": [
    "As a data source, we use the ISIC Archive."
   ]
  },
  {
   "cell_type": "markdown",
   "metadata": {},
   "source": [
    "The ISIC Archive is an open source platform with publicly available images of skin lesions under Creative Commons licenses. The images are associated with ground-truth diagnoses and other clinical metadata. Images can be queried using faceted search and downloaded individually or in batches. The initial focus of the archive has been on dermoscopy images of individual skin lesions, as these images are inherently standardized by the use of a specialized acquisition device and devoid of many of the privacy challenges associated with clinical images. To date, the images have been provided by specialized melanoma centers from around the world. The archive is designed to accept contributions from new sources under the Terms of Use and welcomes new contributors. There are ongoing efforts to supplement the dermoscopy images in the archive with close-up clinical images and a broader representation of skin types. The images in the Archive are used to support educational efforts through linkage with Dermoscopedia and are used for Grand Challenges and Live Challenges to engage the computer science community for the development of diagnostic AI."
   ]
  },
  {
   "cell_type": "markdown",
   "metadata": {},
   "source": [
    "For more information, go to [ISIC Archive web site](https://www.isic-archive.com/)"
   ]
  },
  {
   "cell_type": "markdown",
   "metadata": {},
   "source": [
    "# Define fractal neural network"
   ]
  },
  {
   "cell_type": "markdown",
   "metadata": {},
   "source": [
    "## Colour distance functions"
   ]
  },
  {
   "cell_type": "markdown",
   "metadata": {},
   "source": [
    "We define functions, which calculate colour distance between the centres of images to every pixel of the images."
   ]
  },
  {
   "cell_type": "markdown",
   "metadata": {},
   "source": [
    "### Chessboard distance"
   ]
  },
  {
   "cell_type": "markdown",
   "metadata": {},
   "source": [
    "In mathematics, __Chebyshev distance__ (or __Tchebychev distance__), __maximum metric__, or __L∞ metric__ is a metric defined on a vector space where the distance between two vectors is the greatest of their differences along any coordinate dimension. It is named after Pafnuty Chebyshev."
   ]
  },
  {
   "cell_type": "markdown",
   "metadata": {},
   "source": [
    "It is also known as __chessboard distance__, since in the game of chess the minimum number of moves needed by a king to go from one square on a chessboard to another equals the Chebyshev distance between the centers of the squares, if the squares have side length one, as represented in 2-D spatial coordinates with axes aligned to the edges of the board. For example, the Chebyshev distance between f6 and e2 equals 4."
   ]
  },
  {
   "cell_type": "markdown",
   "metadata": {},
   "source": [
    "The Chebyshev distance between two vectors or points x and y, with standard coordinates x<sub>i</sub> and y<sub>i</sub>, respectively, is\n",
    "![chessboard distance](../assets/chessboard_distancesvg.svg)"
   ]
  },
  {
   "cell_type": "code",
   "execution_count": 5,
   "metadata": {},
   "outputs": [],
   "source": [
    "def chessboard_distance(inputs, kernel_size):\n",
    "    centers = tf.image.resize_with_crop_or_pad(inputs, 1, 1)\n",
    "    return tf.cast(\n",
    "        tf.math.less_equal(\n",
    "            tf.math.reduce_max(\n",
    "                tf.math.abs(tf.math.subtract(inputs, centers)), \n",
    "                axis=3), \n",
    "            kernel_size), \n",
    "        dtype=tf.int32)"
   ]
  },
  {
   "cell_type": "markdown",
   "metadata": {},
   "source": [
    "### Euclidean distance"
   ]
  },
  {
   "cell_type": "markdown",
   "metadata": {},
   "source": [
    "In mathematics, the __Euclidean distance__ between two points in Euclidean space is the length of a line segment between the two points. It can be calculated from the Cartesian coordinates of the points using the Pythagorean theorem, therefore occasionally being called the Pythagorean distance. These names come from the ancient Greek mathematicians Euclid and Pythagoras, although Euclid did not represent distances as numbers, and the connection from the Pythagorean theorem to distance calculation was not made until the 18th century."
   ]
  },
  {
   "cell_type": "markdown",
   "metadata": {},
   "source": [
    "The distance between two objects that are not points is usually defined to be the smallest distance among pairs of points from the two objects. Formulas are known for computing distances between different types of objects, such as the distance from a point to a line. In advanced mathematics, the concept of distance has been generalized to abstract metric spaces, and other distances than Euclidean have been studied. In some applications in statistics and optimization, the square of the Euclidean distance is used instead of the distance itself."
   ]
  },
  {
   "cell_type": "markdown",
   "metadata": {},
   "source": [
    "- formula for one dimension\n",
    "![euclidian distance](../assets/eud_1.svg)\n",
    "- formula for two dimension\n",
    "![euclidian distance](../assets/eud_2.svg)\n",
    "- formula for higher dimension\n",
    "![euclidian distance](../assets/eud_n.svg)"
   ]
  },
  {
   "cell_type": "code",
   "execution_count": 6,
   "metadata": {},
   "outputs": [],
   "source": [
    "def euclidean_distance(inputs, kernel_size):\n",
    "    centers = tf.image.resize_with_crop_or_pad(inputs, 1, 1)\n",
    "    return tf.cast(\n",
    "        tf.math.less_equal(\n",
    "            tf.math.pow(\n",
    "                tf.math.reduce_sum(\n",
    "                    tf.math.pow(\n",
    "                        tf.math.subtract(inputs, centers), \n",
    "                        2), \n",
    "                    axis=3), \n",
    "                0.5), \n",
    "            kernel_size), \n",
    "        dtype=tf.int32)"
   ]
  },
  {
   "cell_type": "markdown",
   "metadata": {},
   "source": [
    "### Manhattan distance"
   ]
  },
  {
   "cell_type": "markdown",
   "metadata": {},
   "source": [
    "A taxicab geometry is a form of geometry in which the usual distance function or metric of Euclidean geometry is replaced by a new metric in which the distance between two points is the sum of the absolute differences of their Cartesian coordinates. The taxicab metric is also known as rectilinear distance, __Manhattan distance__ or Manhattan length, with corresponding variations in the name of the geometry. The latter names allude to the grid layout of most streets on the island of Manhattan, which causes the shortest path a car could take between two intersections in the borough to have length equal to the intersections' distance in taxicab geometry."
   ]
  },
  {
   "cell_type": "markdown",
   "metadata": {},
   "source": [
    "The geometry has been used in regression analysis since the 18th century, and today is often referred to as LASSO. The geometric interpretation dates to non-Euclidean geometry of the 19th century and is due to Hermann Minkowski."
   ]
  },
  {
   "cell_type": "markdown",
   "metadata": {},
   "source": [
    "![manhatten distance](../assets/md.svg)"
   ]
  },
  {
   "cell_type": "code",
   "execution_count": 7,
   "metadata": {},
   "outputs": [],
   "source": [
    "def manhattan_distance(inputs, kernel_size):\n",
    "    centers = tf.image.resize_with_crop_or_pad(inputs, 1, 1)\n",
    "    return tf.cast(\n",
    "        tf.math.less_equal(\n",
    "            tf.math.reduce_sum(\n",
    "                tf.math.abs(tf.math.subtract(inputs, centers)), \n",
    "                axis=3), \n",
    "            kernel_size), \n",
    "        dtype=tf.int32)"
   ]
  },
  {
   "cell_type": "markdown",
   "metadata": {},
   "source": [
    "## Fractal layer"
   ]
  },
  {
   "cell_type": "markdown",
   "metadata": {},
   "source": [
    "We define a custom layer, which extracts fractal features from images and reshapes them into an artificial image."
   ]
  },
  {
   "cell_type": "code",
   "execution_count": 8,
   "metadata": {},
   "outputs": [],
   "source": [
    "class Fractal2D(tf.keras.layers.Layer):\n",
    "    def __init__(\n",
    "        self, \n",
    "        fractal_output, \n",
    "        percolation_threshold, \n",
    "        distance_functions, \n",
    "        next_shape,\n",
    "        verbose\n",
    "    ):\n",
    "        super(Fractal2D, self).__init__(name='fractal_2d')\n",
    "        \n",
    "        a, b = fractal_output\n",
    "        self.kernel_size_start = 3\n",
    "        self.kernel_size_end = int(0.4 * a * b + 1)\n",
    "        self.kernel_size_step = 2\n",
    "        \n",
    "        self.percolation_threshold = percolation_threshold\n",
    "        self.distance_functions = distance_functions\n",
    "        self.next_shape = next_shape\n",
    "        self.fractal_output = fractal_output\n",
    "        self.verbose = verbose\n",
    "\n",
    "        \n",
    "    def calculate_binarized_patches(self, inputs, kernel_size, distance_function):\n",
    "        patched_inputs = tf.image.extract_patches(\n",
    "            inputs,\n",
    "            sizes=(1, kernel_size, kernel_size, 1),\n",
    "            strides=(1, kernel_size, kernel_size, 1),\n",
    "            rates=(1, 1, 1, 1),\n",
    "            padding='SAME'\n",
    "        )\n",
    "        _, rows, cols, _ = patched_inputs.shape\n",
    "        patched_inputs = tf.reshape(patched_inputs, shape=(-1, kernel_size, kernel_size, 3))\n",
    "        \n",
    "        return tf.reshape(\n",
    "            distance_function(patched_inputs, kernel_size), \n",
    "            shape=(-1, rows * cols, kernel_size, kernel_size)\n",
    "        )\n",
    "    \n",
    "    \n",
    "    def calculate_probability_matrices(self, binarized_inputs, kernel_size):\n",
    "        number_of_ones = tf.map_fn(\n",
    "            lambda binarized_input: tf.map_fn(lambda binary_patch: tf.math.reduce_sum(binary_patch), binarized_input), \n",
    "            binarized_inputs\n",
    "        )\n",
    "        _, patch_number = number_of_ones.shape\n",
    "        return tf.math.bincount(number_of_ones,\n",
    "                                minlength=1, \n",
    "                                maxlength=kernel_size ** 2, \n",
    "                                axis=-1) / patch_number\n",
    "    \n",
    "    \n",
    "    def calculate_fractal_dimensions(self, probability_matrices):\n",
    "        def fd_helper(matrix):\n",
    "            return tf.math.reduce_sum(tf.math.divide(matrix, tf.range(1, len(matrix) + 1, dtype=tf.float64)))\n",
    "        return tf.map_fn(lambda matrix: fd_helper(matrix), probability_matrices)\n",
    "    \n",
    "    \n",
    "    def calculate_lacunarity(self, probability_matrices):\n",
    "        def m_helper(matrix):\n",
    "            return tf.math.reduce_sum(tf.math.multiply(matrix, tf.range(1, len(matrix) + 1, dtype=tf.float64)))\n",
    "        \n",
    "        def m2_helper(matrix):\n",
    "            return tf.math.reduce_sum(tf.math.multiply(tf.math.pow(matrix, 2), tf.range(1, len(matrix) + 1, dtype=tf.float64)))\n",
    "        \n",
    "        return tf.map_fn(lambda probability_matrix: \n",
    "                         tf.math.divide(\n",
    "                             tf.math.subtract(m2_helper(probability_matrix), \n",
    "                                               tf.math.pow(m_helper(probability_matrix), 2)), \n",
    "                             tf.math.pow(m_helper(probability_matrix), 2)), \n",
    "                         probability_matrices)\n",
    "    \n",
    "    \n",
    "    def calculate_average_cluster_percolation(self, binarized_inputs, kernel_size):\n",
    "        number_of_ones = tf.map_fn(lambda binarized_input: tf.map_fn(lambda binary_patch: tf.math.reduce_sum(binary_patch), \n",
    "                                                                  binarized_input), \n",
    "                                   binarized_inputs)\n",
    "        \n",
    "        return tf.math.reduce_mean(\n",
    "                        tf.cast(\n",
    "                            tf.math.greater_equal(\n",
    "                                tf.math.divide(number_of_ones, kernel_size ** 2), \n",
    "                                self.percolation_threshold), \n",
    "                            dtype=tf.int32), \n",
    "                    axis=1)\n",
    "    \n",
    "    \n",
    "    def calculate_average_cluster_number(self, binarized_inputs):\n",
    "        return tf.math.reduce_mean(\n",
    "            tf.map_fn(\n",
    "                lambda binarized_input: tf.map_fn(\n",
    "                    lambda patch: tf.math.reduce_max(tfa.image.connected_components(patch)), \n",
    "                    binarized_input), \n",
    "                binarized_inputs), \n",
    "            axis=1)\n",
    "    \n",
    "    def calculate_average_cluster_max_area(self, binarized_inputs):    \n",
    "        def most_common(array):\n",
    "            _, _, counts = tf.unique_with_counts(array)\n",
    "            return tf.math.reduce_max(counts)\n",
    "        \n",
    "        return tf.math.reduce_mean(\n",
    "                tf.map_fn(lambda binarized_input: \n",
    "                            tf.map_fn(lambda patch: \n",
    "                                        most_common(tf.reshape(tfa.image.connected_components(patch), shape=(-1,))), \n",
    "                                      binarized_input), \n",
    "                          binarized_inputs), axis=1)\n",
    "    \n",
    "    def calculate_components(self, inputs, kernel_size, distance_function):\n",
    "        self.log(message=f'\\t\\tfractal2d: calculating binarized patches')\n",
    "        binary_patches = self.calculate_binarized_patches(inputs, kernel_size, distance_function)\n",
    "        \n",
    "        self.log(message=f'\\t\\tfractal2d: calculating probability matrices')\n",
    "        probability_matrices = self.calculate_probability_matrices(binary_patches, kernel_size)\n",
    "        \n",
    "        self.log(message=f'\\t\\tfractal2d: calculating fractal dimensions')\n",
    "        fractal_dimensions = self.calculate_fractal_dimensions(probability_matrices)\n",
    "        \n",
    "        self.log(message=f'\\t\\tfractal2d: calculating lacunarity')\n",
    "        lacunarity = self.calculate_lacunarity(probability_matrices)\n",
    "        \n",
    "        self.log(message=f'\\t\\tfractal2d: calculating average cluster percolation')\n",
    "        average_cluster_percolation = self.calculate_average_cluster_percolation(binary_patches, kernel_size)\n",
    "        \n",
    "        self.log(message=f'\\t\\tfractal2d: calculating average cluster number')\n",
    "        average_cluster_number = self.calculate_average_cluster_number(binary_patches)\n",
    "        \n",
    "        self.log(message=f'\\t\\tfractal2d: calculating average cluster max area')\n",
    "        average_cluster_max_area = self.calculate_average_cluster_max_area(binary_patches)\n",
    "        return tf.convert_to_tensor((average_cluster_number,\n",
    "                                    average_cluster_percolation,\n",
    "                                    average_cluster_max_area,\n",
    "                                    lacunarity,\n",
    "                                    fractal_dimensions), dtype=tf.float64)\n",
    "    \n",
    "    def rearrage_metrics(self, components):\n",
    "        def helper(components_input):\n",
    "            length, = components_input.shape\n",
    "            \n",
    "            rearranged_components = tf.concat([\n",
    "                tf.boolean_mask(components_input, tf.range(length) % 5 == 0),\n",
    "                tf.boolean_mask(components_input, tf.range(length) % 5 == 1),\n",
    "                tf.boolean_mask(components_input, tf.range(length) % 5 == 2),\n",
    "                tf.boolean_mask(components_input, tf.range(length) % 5 == 3),\n",
    "                tf.boolean_mask(components_input, tf.range(length) % 5 == 4),\n",
    "            ], axis=0)\n",
    "            return rearranged_components\n",
    "        return tf.map_fn(helper, components)\n",
    "    \n",
    "    \n",
    "    def call(self, inputs):\n",
    "        r_components, g_components, b_components = [], [], []\n",
    "        for kernel_size in range(self.kernel_size_start, self.kernel_size_end + 1, self.kernel_size_step):\n",
    "            self.log(message=f'\\tfractal2d: kernel_size={kernel_size}')\n",
    "            self.log(message=f'\\tfractal2d: adding red components')\n",
    "            r_components.append(\n",
    "                tf.transpose(\n",
    "                    self.calculate_components(inputs, kernel_size, distance_function=self.distance_functions['r'])\n",
    "                )\n",
    "            )\n",
    "            \n",
    "            self.log(message=f'\\tfractal2d: adding green components')\n",
    "            g_components.append(\n",
    "                tf.transpose(\n",
    "                    self.calculate_components(inputs, kernel_size, distance_function=self.distance_functions['g'])\n",
    "                )\n",
    "            )\n",
    "            \n",
    "            self.log(message=f'\\tfractal2d: adding blue components')\n",
    "            b_components.append(\n",
    "                tf.transpose(\n",
    "                    self.calculate_components(inputs, kernel_size, distance_function=self.distance_functions['b'])\n",
    "                )\n",
    "            )\n",
    "            \n",
    "        r_components = tf.reshape(self.rearrage_metrics(tf.concat(r_components, axis=1)), shape=(-1,) + self.fractal_output)\n",
    "        g_components = tf.reshape(self.rearrage_metrics(tf.concat(g_components, axis=1)), shape=(-1,) + self.fractal_output)\n",
    "        b_components = tf.reshape(self.rearrage_metrics(tf.concat(b_components, axis=1)), shape=(-1,) + self.fractal_output)\n",
    "        \n",
    "        outputs = tf.concat([\n",
    "            tf.expand_dims(r_components, axis=3), \n",
    "            tf.expand_dims(g_components, axis=3),\n",
    "            tf.expand_dims(b_components, axis=3)\n",
    "        ], \n",
    "            axis=3)\n",
    "        \n",
    "        return tf.image.resize(outputs, size=self.next_shape)\n",
    "    \n",
    "    def log(self, message):\n",
    "        if self.verbose:\n",
    "            print(message)"
   ]
  },
  {
   "cell_type": "markdown",
   "metadata": {},
   "source": [
    "## Combine function"
   ]
  },
  {
   "cell_type": "markdown",
   "metadata": {},
   "source": [
    "We define a function, combining results from the two sub models."
   ]
  },
  {
   "cell_type": "code",
   "execution_count": 9,
   "metadata": {},
   "outputs": [],
   "source": [
    "combine_function = lambda fractal, ordinary: tf.math.add(fractal, ordinary)"
   ]
  },
  {
   "cell_type": "markdown",
   "metadata": {},
   "source": [
    "## Fractal model"
   ]
  },
  {
   "cell_type": "markdown",
   "metadata": {},
   "source": [
    "We define a fractal model, which is an ensemble model, consisting of a convolutional neural network and a convolutional neural network with the fractal layer."
   ]
  },
  {
   "cell_type": "code",
   "execution_count": 10,
   "metadata": {},
   "outputs": [],
   "source": [
    "class FractalModel(tf.keras.Model):\n",
    "    def __init__(\n",
    "        self, \n",
    "        input_shape, \n",
    "        fractal_output, \n",
    "        percolation_threshold, \n",
    "        distance_functions, \n",
    "        combine_function, \n",
    "        class_number,\n",
    "        verbose=True\n",
    "    ):\n",
    "        super(FractalModel, self).__init__(self, name='fractal_model')\n",
    "        \n",
    "        self.input_shape_ = input_shape\n",
    "        \n",
    "        self.fractal2d = Fractal2D(\n",
    "            fractal_output=fractal_output, \n",
    "            percolation_threshold=percolation_threshold,\n",
    "            distance_functions=distance_functions,\n",
    "            next_shape=input_shape[:-1],\n",
    "            verbose=verbose\n",
    "        )\n",
    "        self.mobilenet_v2 = hub.KerasLayer(\"https://tfhub.dev/google/tf2-preview/mobilenet_v2/feature_vector/4\", \n",
    "                                           output_shape=[1280],\n",
    "                                           trainable=False)\n",
    "        self.score = tf.keras.layers.Dense(class_number, activation='softmax')\n",
    "        self.verbose = verbose\n",
    "        \n",
    "    def call(self, inputs):\n",
    "        inputs = tf.ensure_shape(inputs, (None, ) + self.input_shape_)\n",
    "        \n",
    "        fractal = inputs\n",
    "        self.log(message='fractal2d: start')\n",
    "        fractal = self.fractal2d(fractal)\n",
    "        fractal = self.mobilenet_v2(fractal)\n",
    "        \n",
    "        ordinary = inputs\n",
    "        ordinary = self.mobilenet_v2(ordinary)\n",
    "        \n",
    "        combine = combine_function(fractal, ordinary)\n",
    "        score = self.score(combine)\n",
    "        \n",
    "        return score\n",
    "    \n",
    "    def log(self, message):\n",
    "        if self.verbose:\n",
    "            print(message)"
   ]
  },
  {
   "cell_type": "markdown",
   "metadata": {},
   "source": [
    "# Model training"
   ]
  },
  {
   "cell_type": "markdown",
   "metadata": {},
   "source": [
    "### Building the model"
   ]
  },
  {
   "cell_type": "markdown",
   "metadata": {},
   "source": [
    "We take the model from TensorFlow Hub. [Look here](https://tfhub.dev/google/tf2-preview/mobilenet_v2/feature_vector/4)."
   ]
  },
  {
   "cell_type": "code",
   "execution_count": 11,
   "metadata": {},
   "outputs": [],
   "source": [
    "model = FractalModel(\n",
    "    input_shape=(224, 224, 3), \n",
    "    fractal_output=(10, 10), \n",
    "    percolation_threshold=0.59275, \n",
    "    distance_functions={\n",
    "        'r': chessboard_distance,\n",
    "        'g': euclidean_distance,\n",
    "        'b': manhattan_distance\n",
    "    }, \n",
    "    combine_function=combine_function, \n",
    "    class_number=CLASS_NUMBER\n",
    ")"
   ]
  },
  {
   "cell_type": "code",
   "execution_count": 12,
   "metadata": {},
   "outputs": [],
   "source": [
    "model.compile(optimizer='adam', loss='categorical_crossentropy', metrics=['accuracy'])"
   ]
  },
  {
   "cell_type": "markdown",
   "metadata": {},
   "source": [
    "### Preparing TensorFlow callbacks"
   ]
  },
  {
   "cell_type": "markdown",
   "metadata": {},
   "source": [
    "For our convenience, we create a few TensorFlow callbacks."
   ]
  },
  {
   "cell_type": "markdown",
   "metadata": {},
   "source": [
    "#### The TensorBoard callback"
   ]
  },
  {
   "cell_type": "markdown",
   "metadata": {},
   "source": [
    "We want to see how the training is going. We add the callback, which will log the metrics to TensorBoard."
   ]
  },
  {
   "cell_type": "code",
   "execution_count": 13,
   "metadata": {},
   "outputs": [],
   "source": [
    "log_dir = '../logs/fit/' + datetime.datetime.now().strftime('fractalnet')\n",
    "tensorboard_callback = tf.keras.callbacks.TensorBoard(log_dir=log_dir, histogram_freq=1)"
   ]
  },
  {
   "cell_type": "markdown",
   "metadata": {},
   "source": [
    "#### The EarlyStopping callback"
   ]
  },
  {
   "cell_type": "markdown",
   "metadata": {},
   "source": [
    "This callback stops training when the metrics (e.g. validation loss) are not improving,"
   ]
  },
  {
   "cell_type": "code",
   "execution_count": 14,
   "metadata": {},
   "outputs": [],
   "source": [
    "early_stop_callback = tf.keras.callbacks.EarlyStopping(\n",
    "    monitor=\"val_loss\", \n",
    "    min_delta=0.01, \n",
    "    patience=10, \n",
    "    restore_best_weights=True\n",
    ")"
   ]
  },
  {
   "cell_type": "markdown",
   "metadata": {},
   "source": [
    "#### The ModelCheckpoint callback"
   ]
  },
  {
   "cell_type": "markdown",
   "metadata": {},
   "source": [
    "This callback saves the model with the best metrics during training."
   ]
  },
  {
   "cell_type": "code",
   "execution_count": 15,
   "metadata": {},
   "outputs": [],
   "source": [
    "checkpoint_path = 'checkpoints/fractalnet.ckpt'\n",
    "\n",
    "checkpoint_callback = tf.keras.callbacks.ModelCheckpoint(\n",
    "    checkpoint_path,\n",
    "    monitor='val_loss',\n",
    "    verbose=1,\n",
    "    save_best_only=True,\n",
    "    save_weights_only=False,\n",
    "    save_freq='epoch',\n",
    "    mode='auto'\n",
    ")"
   ]
  },
  {
   "cell_type": "markdown",
   "metadata": {},
   "source": [
    "### Training the model"
   ]
  },
  {
   "cell_type": "code",
   "execution_count": 16,
   "metadata": {
    "scrolled": false
   },
   "outputs": [
    {
     "name": "stdout",
     "output_type": "stream",
     "text": [
      "fractal2d: start\n",
      "\tfractal2d: kernel_size=3\n",
      "\tfractal2d: adding red components\n",
      "\t\tfractal2d: calculating binarized patches\n",
      "\t\tfractal2d: calculating probability matrices\n",
      "\t\tfractal2d: calculating fractal dimensions\n",
      "\t\tfractal2d: calculating lacunarity\n",
      "\t\tfractal2d: calculating average cluster percolation\n",
      "\t\tfractal2d: calculating average cluster number\n",
      "\t\tfractal2d: calculating average cluster max area\n",
      "\tfractal2d: adding green components\n",
      "\t\tfractal2d: calculating binarized patches\n",
      "\t\tfractal2d: calculating probability matrices\n",
      "\t\tfractal2d: calculating fractal dimensions\n",
      "\t\tfractal2d: calculating lacunarity\n",
      "\t\tfractal2d: calculating average cluster percolation\n",
      "\t\tfractal2d: calculating average cluster number\n",
      "\t\tfractal2d: calculating average cluster max area\n",
      "\tfractal2d: adding blue components\n",
      "\t\tfractal2d: calculating binarized patches\n",
      "\t\tfractal2d: calculating probability matrices\n",
      "\t\tfractal2d: calculating fractal dimensions\n",
      "\t\tfractal2d: calculating lacunarity\n",
      "\t\tfractal2d: calculating average cluster percolation\n",
      "\t\tfractal2d: calculating average cluster number\n",
      "\t\tfractal2d: calculating average cluster max area\n",
      "\tfractal2d: kernel_size=5\n",
      "\tfractal2d: adding red components\n",
      "\t\tfractal2d: calculating binarized patches\n",
      "\t\tfractal2d: calculating probability matrices\n",
      "\t\tfractal2d: calculating fractal dimensions\n",
      "\t\tfractal2d: calculating lacunarity\n",
      "\t\tfractal2d: calculating average cluster percolation\n",
      "\t\tfractal2d: calculating average cluster number\n",
      "\t\tfractal2d: calculating average cluster max area\n",
      "\tfractal2d: adding green components\n",
      "\t\tfractal2d: calculating binarized patches\n",
      "\t\tfractal2d: calculating probability matrices\n",
      "\t\tfractal2d: calculating fractal dimensions\n",
      "\t\tfractal2d: calculating lacunarity\n",
      "\t\tfractal2d: calculating average cluster percolation\n",
      "\t\tfractal2d: calculating average cluster number\n",
      "\t\tfractal2d: calculating average cluster max area\n",
      "\tfractal2d: adding blue components\n",
      "\t\tfractal2d: calculating binarized patches\n",
      "\t\tfractal2d: calculating probability matrices\n",
      "\t\tfractal2d: calculating fractal dimensions\n",
      "\t\tfractal2d: calculating lacunarity\n",
      "\t\tfractal2d: calculating average cluster percolation\n",
      "\t\tfractal2d: calculating average cluster number\n",
      "\t\tfractal2d: calculating average cluster max area\n",
      "\tfractal2d: kernel_size=7\n",
      "\tfractal2d: adding red components\n",
      "\t\tfractal2d: calculating binarized patches\n",
      "\t\tfractal2d: calculating probability matrices\n",
      "\t\tfractal2d: calculating fractal dimensions\n",
      "\t\tfractal2d: calculating lacunarity\n",
      "\t\tfractal2d: calculating average cluster percolation\n",
      "\t\tfractal2d: calculating average cluster number\n",
      "\t\tfractal2d: calculating average cluster max area\n",
      "\tfractal2d: adding green components\n",
      "\t\tfractal2d: calculating binarized patches\n",
      "\t\tfractal2d: calculating probability matrices\n",
      "\t\tfractal2d: calculating fractal dimensions\n",
      "\t\tfractal2d: calculating lacunarity\n",
      "\t\tfractal2d: calculating average cluster percolation\n",
      "\t\tfractal2d: calculating average cluster number\n",
      "\t\tfractal2d: calculating average cluster max area\n",
      "\tfractal2d: adding blue components\n",
      "\t\tfractal2d: calculating binarized patches\n",
      "\t\tfractal2d: calculating probability matrices\n",
      "\t\tfractal2d: calculating fractal dimensions\n",
      "\t\tfractal2d: calculating lacunarity\n",
      "\t\tfractal2d: calculating average cluster percolation\n",
      "\t\tfractal2d: calculating average cluster number\n",
      "\t\tfractal2d: calculating average cluster max area\n",
      "\tfractal2d: kernel_size=9\n",
      "\tfractal2d: adding red components\n",
      "\t\tfractal2d: calculating binarized patches\n",
      "\t\tfractal2d: calculating probability matrices\n",
      "\t\tfractal2d: calculating fractal dimensions\n",
      "\t\tfractal2d: calculating lacunarity\n",
      "\t\tfractal2d: calculating average cluster percolation\n",
      "\t\tfractal2d: calculating average cluster number\n",
      "\t\tfractal2d: calculating average cluster max area\n",
      "\tfractal2d: adding green components\n",
      "\t\tfractal2d: calculating binarized patches\n",
      "\t\tfractal2d: calculating probability matrices\n",
      "\t\tfractal2d: calculating fractal dimensions\n",
      "\t\tfractal2d: calculating lacunarity\n",
      "\t\tfractal2d: calculating average cluster percolation\n",
      "\t\tfractal2d: calculating average cluster number\n",
      "\t\tfractal2d: calculating average cluster max area\n",
      "\tfractal2d: adding blue components\n",
      "\t\tfractal2d: calculating binarized patches\n",
      "\t\tfractal2d: calculating probability matrices\n",
      "\t\tfractal2d: calculating fractal dimensions\n",
      "\t\tfractal2d: calculating lacunarity\n",
      "\t\tfractal2d: calculating average cluster percolation\n",
      "\t\tfractal2d: calculating average cluster number\n",
      "\t\tfractal2d: calculating average cluster max area\n",
      "\tfractal2d: kernel_size=11\n",
      "\tfractal2d: adding red components\n",
      "\t\tfractal2d: calculating binarized patches\n",
      "\t\tfractal2d: calculating probability matrices\n",
      "\t\tfractal2d: calculating fractal dimensions\n",
      "\t\tfractal2d: calculating lacunarity\n",
      "\t\tfractal2d: calculating average cluster percolation\n",
      "\t\tfractal2d: calculating average cluster number\n",
      "\t\tfractal2d: calculating average cluster max area\n",
      "\tfractal2d: adding green components\n",
      "\t\tfractal2d: calculating binarized patches\n",
      "\t\tfractal2d: calculating probability matrices\n",
      "\t\tfractal2d: calculating fractal dimensions\n",
      "\t\tfractal2d: calculating lacunarity\n",
      "\t\tfractal2d: calculating average cluster percolation\n",
      "\t\tfractal2d: calculating average cluster number\n",
      "\t\tfractal2d: calculating average cluster max area\n",
      "\tfractal2d: adding blue components\n",
      "\t\tfractal2d: calculating binarized patches\n",
      "\t\tfractal2d: calculating probability matrices\n",
      "\t\tfractal2d: calculating fractal dimensions\n",
      "\t\tfractal2d: calculating lacunarity\n",
      "\t\tfractal2d: calculating average cluster percolation\n",
      "\t\tfractal2d: calculating average cluster number\n",
      "\t\tfractal2d: calculating average cluster max area\n",
      "\tfractal2d: kernel_size=13\n",
      "\tfractal2d: adding red components\n",
      "\t\tfractal2d: calculating binarized patches\n",
      "\t\tfractal2d: calculating probability matrices\n",
      "\t\tfractal2d: calculating fractal dimensions\n",
      "\t\tfractal2d: calculating lacunarity\n",
      "\t\tfractal2d: calculating average cluster percolation\n",
      "\t\tfractal2d: calculating average cluster number\n",
      "\t\tfractal2d: calculating average cluster max area\n",
      "\tfractal2d: adding green components\n",
      "\t\tfractal2d: calculating binarized patches\n",
      "\t\tfractal2d: calculating probability matrices\n",
      "\t\tfractal2d: calculating fractal dimensions\n",
      "\t\tfractal2d: calculating lacunarity\n",
      "\t\tfractal2d: calculating average cluster percolation\n",
      "\t\tfractal2d: calculating average cluster number\n",
      "\t\tfractal2d: calculating average cluster max area\n",
      "\tfractal2d: adding blue components\n",
      "\t\tfractal2d: calculating binarized patches\n",
      "\t\tfractal2d: calculating probability matrices\n",
      "\t\tfractal2d: calculating fractal dimensions\n",
      "\t\tfractal2d: calculating lacunarity\n",
      "\t\tfractal2d: calculating average cluster percolation\n",
      "\t\tfractal2d: calculating average cluster number\n",
      "\t\tfractal2d: calculating average cluster max area\n",
      "\tfractal2d: kernel_size=15\n",
      "\tfractal2d: adding red components\n",
      "\t\tfractal2d: calculating binarized patches\n",
      "\t\tfractal2d: calculating probability matrices\n",
      "\t\tfractal2d: calculating fractal dimensions\n",
      "\t\tfractal2d: calculating lacunarity\n",
      "\t\tfractal2d: calculating average cluster percolation\n",
      "\t\tfractal2d: calculating average cluster number\n",
      "\t\tfractal2d: calculating average cluster max area\n",
      "\tfractal2d: adding green components\n",
      "\t\tfractal2d: calculating binarized patches\n",
      "\t\tfractal2d: calculating probability matrices\n",
      "\t\tfractal2d: calculating fractal dimensions\n",
      "\t\tfractal2d: calculating lacunarity\n",
      "\t\tfractal2d: calculating average cluster percolation\n",
      "\t\tfractal2d: calculating average cluster number\n",
      "\t\tfractal2d: calculating average cluster max area\n",
      "\tfractal2d: adding blue components\n",
      "\t\tfractal2d: calculating binarized patches\n",
      "\t\tfractal2d: calculating probability matrices\n",
      "\t\tfractal2d: calculating fractal dimensions\n",
      "\t\tfractal2d: calculating lacunarity\n",
      "\t\tfractal2d: calculating average cluster percolation\n",
      "\t\tfractal2d: calculating average cluster number\n",
      "\t\tfractal2d: calculating average cluster max area\n",
      "\tfractal2d: kernel_size=17\n",
      "\tfractal2d: adding red components\n",
      "\t\tfractal2d: calculating binarized patches\n",
      "\t\tfractal2d: calculating probability matrices\n",
      "\t\tfractal2d: calculating fractal dimensions\n",
      "\t\tfractal2d: calculating lacunarity\n",
      "\t\tfractal2d: calculating average cluster percolation\n",
      "\t\tfractal2d: calculating average cluster number\n",
      "\t\tfractal2d: calculating average cluster max area\n",
      "\tfractal2d: adding green components\n",
      "\t\tfractal2d: calculating binarized patches\n",
      "\t\tfractal2d: calculating probability matrices\n",
      "\t\tfractal2d: calculating fractal dimensions\n",
      "\t\tfractal2d: calculating lacunarity\n",
      "\t\tfractal2d: calculating average cluster percolation\n"
     ]
    },
    {
     "name": "stdout",
     "output_type": "stream",
     "text": [
      "\t\tfractal2d: calculating average cluster number\n",
      "\t\tfractal2d: calculating average cluster max area\n",
      "\tfractal2d: adding blue components\n",
      "\t\tfractal2d: calculating binarized patches\n",
      "\t\tfractal2d: calculating probability matrices\n",
      "\t\tfractal2d: calculating fractal dimensions\n",
      "\t\tfractal2d: calculating lacunarity\n",
      "\t\tfractal2d: calculating average cluster percolation\n",
      "\t\tfractal2d: calculating average cluster number\n",
      "\t\tfractal2d: calculating average cluster max area\n",
      "\tfractal2d: kernel_size=19\n",
      "\tfractal2d: adding red components\n",
      "\t\tfractal2d: calculating binarized patches\n",
      "\t\tfractal2d: calculating probability matrices\n",
      "\t\tfractal2d: calculating fractal dimensions\n",
      "\t\tfractal2d: calculating lacunarity\n",
      "\t\tfractal2d: calculating average cluster percolation\n",
      "\t\tfractal2d: calculating average cluster number\n",
      "\t\tfractal2d: calculating average cluster max area\n",
      "\tfractal2d: adding green components\n",
      "\t\tfractal2d: calculating binarized patches\n",
      "\t\tfractal2d: calculating probability matrices\n",
      "\t\tfractal2d: calculating fractal dimensions\n",
      "\t\tfractal2d: calculating lacunarity\n",
      "\t\tfractal2d: calculating average cluster percolation\n",
      "\t\tfractal2d: calculating average cluster number\n",
      "\t\tfractal2d: calculating average cluster max area\n",
      "\tfractal2d: adding blue components\n",
      "\t\tfractal2d: calculating binarized patches\n",
      "\t\tfractal2d: calculating probability matrices\n",
      "\t\tfractal2d: calculating fractal dimensions\n",
      "\t\tfractal2d: calculating lacunarity\n",
      "\t\tfractal2d: calculating average cluster percolation\n",
      "\t\tfractal2d: calculating average cluster number\n",
      "\t\tfractal2d: calculating average cluster max area\n",
      "\tfractal2d: kernel_size=21\n",
      "\tfractal2d: adding red components\n",
      "\t\tfractal2d: calculating binarized patches\n",
      "\t\tfractal2d: calculating probability matrices\n",
      "\t\tfractal2d: calculating fractal dimensions\n",
      "\t\tfractal2d: calculating lacunarity\n",
      "\t\tfractal2d: calculating average cluster percolation\n",
      "\t\tfractal2d: calculating average cluster number\n",
      "\t\tfractal2d: calculating average cluster max area\n",
      "\tfractal2d: adding green components\n",
      "\t\tfractal2d: calculating binarized patches\n",
      "\t\tfractal2d: calculating probability matrices\n",
      "\t\tfractal2d: calculating fractal dimensions\n",
      "\t\tfractal2d: calculating lacunarity\n",
      "\t\tfractal2d: calculating average cluster percolation\n",
      "\t\tfractal2d: calculating average cluster number\n",
      "\t\tfractal2d: calculating average cluster max area\n",
      "\tfractal2d: adding blue components\n",
      "\t\tfractal2d: calculating binarized patches\n",
      "\t\tfractal2d: calculating probability matrices\n",
      "\t\tfractal2d: calculating fractal dimensions\n",
      "\t\tfractal2d: calculating lacunarity\n",
      "\t\tfractal2d: calculating average cluster percolation\n",
      "\t\tfractal2d: calculating average cluster number\n",
      "\t\tfractal2d: calculating average cluster max area\n",
      "\tfractal2d: kernel_size=23\n",
      "\tfractal2d: adding red components\n",
      "\t\tfractal2d: calculating binarized patches\n",
      "\t\tfractal2d: calculating probability matrices\n",
      "\t\tfractal2d: calculating fractal dimensions\n",
      "\t\tfractal2d: calculating lacunarity\n",
      "\t\tfractal2d: calculating average cluster percolation\n",
      "\t\tfractal2d: calculating average cluster number\n",
      "\t\tfractal2d: calculating average cluster max area\n",
      "\tfractal2d: adding green components\n",
      "\t\tfractal2d: calculating binarized patches\n",
      "\t\tfractal2d: calculating probability matrices\n",
      "\t\tfractal2d: calculating fractal dimensions\n",
      "\t\tfractal2d: calculating lacunarity\n",
      "\t\tfractal2d: calculating average cluster percolation\n",
      "\t\tfractal2d: calculating average cluster number\n",
      "\t\tfractal2d: calculating average cluster max area\n",
      "\tfractal2d: adding blue components\n",
      "\t\tfractal2d: calculating binarized patches\n",
      "\t\tfractal2d: calculating probability matrices\n",
      "\t\tfractal2d: calculating fractal dimensions\n",
      "\t\tfractal2d: calculating lacunarity\n",
      "\t\tfractal2d: calculating average cluster percolation\n",
      "\t\tfractal2d: calculating average cluster number\n",
      "\t\tfractal2d: calculating average cluster max area\n",
      "\tfractal2d: kernel_size=25\n",
      "\tfractal2d: adding red components\n",
      "\t\tfractal2d: calculating binarized patches\n",
      "\t\tfractal2d: calculating probability matrices\n",
      "\t\tfractal2d: calculating fractal dimensions\n",
      "\t\tfractal2d: calculating lacunarity\n",
      "\t\tfractal2d: calculating average cluster percolation\n",
      "\t\tfractal2d: calculating average cluster number\n",
      "\t\tfractal2d: calculating average cluster max area\n",
      "\tfractal2d: adding green components\n",
      "\t\tfractal2d: calculating binarized patches\n",
      "\t\tfractal2d: calculating probability matrices\n",
      "\t\tfractal2d: calculating fractal dimensions\n",
      "\t\tfractal2d: calculating lacunarity\n",
      "\t\tfractal2d: calculating average cluster percolation\n",
      "\t\tfractal2d: calculating average cluster number\n",
      "\t\tfractal2d: calculating average cluster max area\n",
      "\tfractal2d: adding blue components\n",
      "\t\tfractal2d: calculating binarized patches\n",
      "\t\tfractal2d: calculating probability matrices\n",
      "\t\tfractal2d: calculating fractal dimensions\n",
      "\t\tfractal2d: calculating lacunarity\n",
      "\t\tfractal2d: calculating average cluster percolation\n",
      "\t\tfractal2d: calculating average cluster number\n",
      "\t\tfractal2d: calculating average cluster max area\n",
      "\tfractal2d: kernel_size=27\n",
      "\tfractal2d: adding red components\n",
      "\t\tfractal2d: calculating binarized patches\n",
      "\t\tfractal2d: calculating probability matrices\n",
      "\t\tfractal2d: calculating fractal dimensions\n",
      "\t\tfractal2d: calculating lacunarity\n",
      "\t\tfractal2d: calculating average cluster percolation\n",
      "\t\tfractal2d: calculating average cluster number\n",
      "\t\tfractal2d: calculating average cluster max area\n",
      "\tfractal2d: adding green components\n",
      "\t\tfractal2d: calculating binarized patches\n",
      "\t\tfractal2d: calculating probability matrices\n",
      "\t\tfractal2d: calculating fractal dimensions\n",
      "\t\tfractal2d: calculating lacunarity\n",
      "\t\tfractal2d: calculating average cluster percolation\n",
      "\t\tfractal2d: calculating average cluster number\n",
      "\t\tfractal2d: calculating average cluster max area\n",
      "\tfractal2d: adding blue components\n",
      "\t\tfractal2d: calculating binarized patches\n",
      "\t\tfractal2d: calculating probability matrices\n",
      "\t\tfractal2d: calculating fractal dimensions\n",
      "\t\tfractal2d: calculating lacunarity\n",
      "\t\tfractal2d: calculating average cluster percolation\n",
      "\t\tfractal2d: calculating average cluster number\n",
      "\t\tfractal2d: calculating average cluster max area\n",
      "\tfractal2d: kernel_size=29\n",
      "\tfractal2d: adding red components\n",
      "\t\tfractal2d: calculating binarized patches\n",
      "\t\tfractal2d: calculating probability matrices\n",
      "\t\tfractal2d: calculating fractal dimensions\n",
      "\t\tfractal2d: calculating lacunarity\n",
      "\t\tfractal2d: calculating average cluster percolation\n",
      "\t\tfractal2d: calculating average cluster number\n",
      "\t\tfractal2d: calculating average cluster max area\n",
      "\tfractal2d: adding green components\n",
      "\t\tfractal2d: calculating binarized patches\n",
      "\t\tfractal2d: calculating probability matrices\n",
      "\t\tfractal2d: calculating fractal dimensions\n",
      "\t\tfractal2d: calculating lacunarity\n",
      "\t\tfractal2d: calculating average cluster percolation\n",
      "\t\tfractal2d: calculating average cluster number\n",
      "\t\tfractal2d: calculating average cluster max area\n",
      "\tfractal2d: adding blue components\n",
      "\t\tfractal2d: calculating binarized patches\n",
      "\t\tfractal2d: calculating probability matrices\n",
      "\t\tfractal2d: calculating fractal dimensions\n",
      "\t\tfractal2d: calculating lacunarity\n",
      "\t\tfractal2d: calculating average cluster percolation\n",
      "\t\tfractal2d: calculating average cluster number\n",
      "\t\tfractal2d: calculating average cluster max area\n",
      "\tfractal2d: kernel_size=31\n",
      "\tfractal2d: adding red components\n",
      "\t\tfractal2d: calculating binarized patches\n",
      "\t\tfractal2d: calculating probability matrices\n",
      "\t\tfractal2d: calculating fractal dimensions\n",
      "\t\tfractal2d: calculating lacunarity\n",
      "\t\tfractal2d: calculating average cluster percolation\n",
      "\t\tfractal2d: calculating average cluster number\n",
      "\t\tfractal2d: calculating average cluster max area\n",
      "\tfractal2d: adding green components\n",
      "\t\tfractal2d: calculating binarized patches\n",
      "\t\tfractal2d: calculating probability matrices\n",
      "\t\tfractal2d: calculating fractal dimensions\n",
      "\t\tfractal2d: calculating lacunarity\n",
      "\t\tfractal2d: calculating average cluster percolation\n",
      "\t\tfractal2d: calculating average cluster number\n",
      "\t\tfractal2d: calculating average cluster max area\n",
      "\tfractal2d: adding blue components\n",
      "\t\tfractal2d: calculating binarized patches\n",
      "\t\tfractal2d: calculating probability matrices\n",
      "\t\tfractal2d: calculating fractal dimensions\n",
      "\t\tfractal2d: calculating lacunarity\n",
      "\t\tfractal2d: calculating average cluster percolation\n",
      "\t\tfractal2d: calculating average cluster number\n",
      "\t\tfractal2d: calculating average cluster max area\n",
      "\tfractal2d: kernel_size=33\n",
      "\tfractal2d: adding red components\n",
      "\t\tfractal2d: calculating binarized patches\n",
      "\t\tfractal2d: calculating probability matrices\n"
     ]
    },
    {
     "name": "stdout",
     "output_type": "stream",
     "text": [
      "\t\tfractal2d: calculating fractal dimensions\n",
      "\t\tfractal2d: calculating lacunarity\n",
      "\t\tfractal2d: calculating average cluster percolation\n",
      "\t\tfractal2d: calculating average cluster number\n",
      "\t\tfractal2d: calculating average cluster max area\n",
      "\tfractal2d: adding green components\n",
      "\t\tfractal2d: calculating binarized patches\n",
      "\t\tfractal2d: calculating probability matrices\n",
      "\t\tfractal2d: calculating fractal dimensions\n",
      "\t\tfractal2d: calculating lacunarity\n",
      "\t\tfractal2d: calculating average cluster percolation\n",
      "\t\tfractal2d: calculating average cluster number\n",
      "\t\tfractal2d: calculating average cluster max area\n",
      "\tfractal2d: adding blue components\n",
      "\t\tfractal2d: calculating binarized patches\n",
      "\t\tfractal2d: calculating probability matrices\n",
      "\t\tfractal2d: calculating fractal dimensions\n",
      "\t\tfractal2d: calculating lacunarity\n",
      "\t\tfractal2d: calculating average cluster percolation\n",
      "\t\tfractal2d: calculating average cluster number\n",
      "\t\tfractal2d: calculating average cluster max area\n",
      "\tfractal2d: kernel_size=35\n",
      "\tfractal2d: adding red components\n",
      "\t\tfractal2d: calculating binarized patches\n",
      "\t\tfractal2d: calculating probability matrices\n",
      "\t\tfractal2d: calculating fractal dimensions\n",
      "\t\tfractal2d: calculating lacunarity\n",
      "\t\tfractal2d: calculating average cluster percolation\n",
      "\t\tfractal2d: calculating average cluster number\n",
      "\t\tfractal2d: calculating average cluster max area\n",
      "\tfractal2d: adding green components\n",
      "\t\tfractal2d: calculating binarized patches\n",
      "\t\tfractal2d: calculating probability matrices\n",
      "\t\tfractal2d: calculating fractal dimensions\n",
      "\t\tfractal2d: calculating lacunarity\n",
      "\t\tfractal2d: calculating average cluster percolation\n",
      "\t\tfractal2d: calculating average cluster number\n",
      "\t\tfractal2d: calculating average cluster max area\n",
      "\tfractal2d: adding blue components\n",
      "\t\tfractal2d: calculating binarized patches\n",
      "\t\tfractal2d: calculating probability matrices\n",
      "\t\tfractal2d: calculating fractal dimensions\n",
      "\t\tfractal2d: calculating lacunarity\n",
      "\t\tfractal2d: calculating average cluster percolation\n",
      "\t\tfractal2d: calculating average cluster number\n",
      "\t\tfractal2d: calculating average cluster max area\n",
      "\tfractal2d: kernel_size=37\n",
      "\tfractal2d: adding red components\n",
      "\t\tfractal2d: calculating binarized patches\n",
      "\t\tfractal2d: calculating probability matrices\n",
      "\t\tfractal2d: calculating fractal dimensions\n",
      "\t\tfractal2d: calculating lacunarity\n",
      "\t\tfractal2d: calculating average cluster percolation\n",
      "\t\tfractal2d: calculating average cluster number\n",
      "\t\tfractal2d: calculating average cluster max area\n",
      "\tfractal2d: adding green components\n",
      "\t\tfractal2d: calculating binarized patches\n",
      "\t\tfractal2d: calculating probability matrices\n",
      "\t\tfractal2d: calculating fractal dimensions\n",
      "\t\tfractal2d: calculating lacunarity\n",
      "\t\tfractal2d: calculating average cluster percolation\n",
      "\t\tfractal2d: calculating average cluster number\n",
      "\t\tfractal2d: calculating average cluster max area\n",
      "\tfractal2d: adding blue components\n",
      "\t\tfractal2d: calculating binarized patches\n",
      "\t\tfractal2d: calculating probability matrices\n",
      "\t\tfractal2d: calculating fractal dimensions\n",
      "\t\tfractal2d: calculating lacunarity\n",
      "\t\tfractal2d: calculating average cluster percolation\n",
      "\t\tfractal2d: calculating average cluster number\n",
      "\t\tfractal2d: calculating average cluster max area\n",
      "\tfractal2d: kernel_size=39\n",
      "\tfractal2d: adding red components\n",
      "\t\tfractal2d: calculating binarized patches\n",
      "\t\tfractal2d: calculating probability matrices\n",
      "\t\tfractal2d: calculating fractal dimensions\n",
      "\t\tfractal2d: calculating lacunarity\n",
      "\t\tfractal2d: calculating average cluster percolation\n",
      "\t\tfractal2d: calculating average cluster number\n",
      "\t\tfractal2d: calculating average cluster max area\n",
      "\tfractal2d: adding green components\n",
      "\t\tfractal2d: calculating binarized patches\n",
      "\t\tfractal2d: calculating probability matrices\n",
      "\t\tfractal2d: calculating fractal dimensions\n",
      "\t\tfractal2d: calculating lacunarity\n",
      "\t\tfractal2d: calculating average cluster percolation\n",
      "\t\tfractal2d: calculating average cluster number\n",
      "\t\tfractal2d: calculating average cluster max area\n",
      "\tfractal2d: adding blue components\n",
      "\t\tfractal2d: calculating binarized patches\n",
      "\t\tfractal2d: calculating probability matrices\n",
      "\t\tfractal2d: calculating fractal dimensions\n",
      "\t\tfractal2d: calculating lacunarity\n",
      "\t\tfractal2d: calculating average cluster percolation\n",
      "\t\tfractal2d: calculating average cluster number\n",
      "\t\tfractal2d: calculating average cluster max area\n",
      "\tfractal2d: kernel_size=41\n",
      "\tfractal2d: adding red components\n",
      "\t\tfractal2d: calculating binarized patches\n",
      "\t\tfractal2d: calculating probability matrices\n",
      "\t\tfractal2d: calculating fractal dimensions\n",
      "\t\tfractal2d: calculating lacunarity\n",
      "\t\tfractal2d: calculating average cluster percolation\n",
      "\t\tfractal2d: calculating average cluster number\n",
      "\t\tfractal2d: calculating average cluster max area\n",
      "\tfractal2d: adding green components\n",
      "\t\tfractal2d: calculating binarized patches\n",
      "\t\tfractal2d: calculating probability matrices\n",
      "\t\tfractal2d: calculating fractal dimensions\n",
      "\t\tfractal2d: calculating lacunarity\n",
      "\t\tfractal2d: calculating average cluster percolation\n",
      "\t\tfractal2d: calculating average cluster number\n",
      "\t\tfractal2d: calculating average cluster max area\n",
      "\tfractal2d: adding blue components\n",
      "\t\tfractal2d: calculating binarized patches\n",
      "\t\tfractal2d: calculating probability matrices\n",
      "\t\tfractal2d: calculating fractal dimensions\n",
      "\t\tfractal2d: calculating lacunarity\n",
      "\t\tfractal2d: calculating average cluster percolation\n",
      "\t\tfractal2d: calculating average cluster number\n",
      "\t\tfractal2d: calculating average cluster max area\n"
     ]
    },
    {
     "ename": "UnknownError",
     "evalue": "Exception encountered when calling layer \"keras_layer\" (type KerasLayer).\n\n Failed to get convolution algorithm. This is probably because cuDNN failed to initialize, so try looking to see if a warning log message was printed above.\n\t [[node predict/MobilenetV2/Conv/Conv2D\n (defined at /usr/local/lib/python3.8/dist-packages/tensorflow_hub/module_v2.py:106)\n]] [Op:__inference_restored_function_body_47160370]\n\nErrors may have originated from an input operation.\nInput Source operations connected to node predict/MobilenetV2/Conv/Conv2D:\nIn[0] predict/MobilenetV2/input:\t\nIn[1] predict/MobilenetV2/Conv/Conv2D/ReadVariableOp:\n\nOperation defined at: (most recent call last)\n>>>   File \"/usr/lib/python3.8/runpy.py\", line 194, in _run_module_as_main\n>>>     return _run_code(code, main_globals, None,\n>>> \n>>>   File \"/usr/lib/python3.8/runpy.py\", line 87, in _run_code\n>>>     exec(code, run_globals)\n>>> \n>>>   File \"/usr/local/lib/python3.8/dist-packages/ipykernel_launcher.py\", line 16, in <module>\n>>>     app.launch_new_instance()\n>>> \n>>>   File \"/usr/local/lib/python3.8/dist-packages/traitlets/config/application.py\", line 846, in launch_instance\n>>>     app.start()\n>>> \n>>>   File \"/usr/local/lib/python3.8/dist-packages/ipykernel/kernelapp.py\", line 505, in start\n>>>     self.io_loop.start()\n>>> \n>>>   File \"/usr/local/lib/python3.8/dist-packages/tornado/platform/asyncio.py\", line 199, in start\n>>>     self.asyncio_loop.run_forever()\n>>> \n>>>   File \"/usr/lib/python3.8/asyncio/base_events.py\", line 570, in run_forever\n>>>     self._run_once()\n>>> \n>>>   File \"/usr/lib/python3.8/asyncio/base_events.py\", line 1859, in _run_once\n>>>     handle._run()\n>>> \n>>>   File \"/usr/lib/python3.8/asyncio/events.py\", line 81, in _run\n>>>     self._context.run(self._callback, *self._args)\n>>> \n>>>   File \"/usr/local/lib/python3.8/dist-packages/tornado/ioloop.py\", line 688, in <lambda>\n>>>     lambda f: self._run_callback(functools.partial(callback, future))\n>>> \n>>>   File \"/usr/local/lib/python3.8/dist-packages/tornado/ioloop.py\", line 741, in _run_callback\n>>>     ret = callback()\n>>> \n>>>   File \"/usr/local/lib/python3.8/dist-packages/tornado/gen.py\", line 814, in inner\n>>>     self.ctx_run(self.run)\n>>> \n>>>   File \"/usr/local/lib/python3.8/dist-packages/tornado/gen.py\", line 775, in run\n>>>     yielded = self.gen.send(value)\n>>> \n>>>   File \"/usr/local/lib/python3.8/dist-packages/ipykernel/kernelbase.py\", line 378, in dispatch_queue\n>>>     yield self.process_one()\n>>> \n>>>   File \"/usr/local/lib/python3.8/dist-packages/tornado/gen.py\", line 250, in wrapper\n>>>     runner = Runner(ctx_run, result, future, yielded)\n>>> \n>>>   File \"/usr/local/lib/python3.8/dist-packages/tornado/gen.py\", line 741, in __init__\n>>>     self.ctx_run(self.run)\n>>> \n>>>   File \"/usr/local/lib/python3.8/dist-packages/tornado/gen.py\", line 775, in run\n>>>     yielded = self.gen.send(value)\n>>> \n>>>   File \"/usr/local/lib/python3.8/dist-packages/ipykernel/kernelbase.py\", line 365, in process_one\n>>>     yield gen.maybe_future(dispatch(*args))\n>>> \n>>>   File \"/usr/local/lib/python3.8/dist-packages/tornado/gen.py\", line 234, in wrapper\n>>>     yielded = ctx_run(next, result)\n>>> \n>>>   File \"/usr/local/lib/python3.8/dist-packages/ipykernel/kernelbase.py\", line 272, in dispatch_shell\n>>>     yield gen.maybe_future(handler(stream, idents, msg))\n>>> \n>>>   File \"/usr/local/lib/python3.8/dist-packages/tornado/gen.py\", line 234, in wrapper\n>>>     yielded = ctx_run(next, result)\n>>> \n>>>   File \"/usr/local/lib/python3.8/dist-packages/ipykernel/kernelbase.py\", line 540, in execute_request\n>>>     self.do_execute(\n>>> \n>>>   File \"/usr/local/lib/python3.8/dist-packages/tornado/gen.py\", line 234, in wrapper\n>>>     yielded = ctx_run(next, result)\n>>> \n>>>   File \"/usr/local/lib/python3.8/dist-packages/ipykernel/ipkernel.py\", line 294, in do_execute\n>>>     res = shell.run_cell(code, store_history=store_history, silent=silent)\n>>> \n>>>   File \"/usr/local/lib/python3.8/dist-packages/ipykernel/zmqshell.py\", line 536, in run_cell\n>>>     return super(ZMQInteractiveShell, self).run_cell(*args, **kwargs)\n>>> \n>>>   File \"/usr/local/lib/python3.8/dist-packages/IPython/core/interactiveshell.py\", line 2901, in run_cell\n>>>     result = self._run_cell(\n>>> \n>>>   File \"/usr/local/lib/python3.8/dist-packages/IPython/core/interactiveshell.py\", line 2947, in _run_cell\n>>>     return runner(coro)\n>>> \n>>>   File \"/usr/local/lib/python3.8/dist-packages/IPython/core/async_helpers.py\", line 68, in _pseudo_sync_runner\n>>>     coro.send(None)\n>>> \n>>>   File \"/usr/local/lib/python3.8/dist-packages/IPython/core/interactiveshell.py\", line 3172, in run_cell_async\n>>>     has_raised = await self.run_ast_nodes(code_ast.body, cell_name,\n>>> \n>>>   File \"/usr/local/lib/python3.8/dist-packages/IPython/core/interactiveshell.py\", line 3364, in run_ast_nodes\n>>>     if (await self.run_code(code, result,  async_=asy)):\n>>> \n>>>   File \"/usr/local/lib/python3.8/dist-packages/IPython/core/interactiveshell.py\", line 3444, in run_code\n>>>     exec(code_obj, self.user_global_ns, self.user_ns)\n>>> \n>>>   File \"<ipython-input-11-508f479b7c35>\", line 1, in <module>\n>>>     model = FractalModel(\n>>> \n>>>   File \"<ipython-input-10-95a377b23076>\", line 23, in __init__\n>>>     self.mobilenet_v2 = hub.KerasLayer(\"https://tfhub.dev/google/tf2-preview/mobilenet_v2/feature_vector/4\",\n>>> \n>>>   File \"/usr/local/lib/python3.8/dist-packages/tensorflow_hub/keras_layer.py\", line 153, in __init__\n>>>     self._func = load_module(handle, tags, self._load_options)\n>>> \n>>>   File \"/usr/local/lib/python3.8/dist-packages/tensorflow_hub/keras_layer.py\", line 449, in load_module\n>>>     return module_v2.load(handle, tags=tags, options=set_load_options)\n>>> \n>>>   File \"/usr/local/lib/python3.8/dist-packages/tensorflow_hub/module_v2.py\", line 106, in load\n>>>     obj = tf.compat.v1.saved_model.load_v2(module_path, tags=tags)\n>>> \n\nFunction call stack:\nrestored_function_body -> pruned\n\n\nCall arguments received:\n  • inputs=tf.Tensor(shape=(32, 224, 224, 3), dtype=float32)\n  • training=False",
     "output_type": "error",
     "traceback": [
      "\u001b[0;31m---------------------------------------------------------------------------\u001b[0m",
      "\u001b[0;31mUnknownError\u001b[0m                              Traceback (most recent call last)",
      "\u001b[0;32m<ipython-input-16-7e06c01437a6>\u001b[0m in \u001b[0;36m<module>\u001b[0;34m\u001b[0m\n\u001b[0;32m----> 1\u001b[0;31m model.fit(\n\u001b[0m\u001b[1;32m      2\u001b[0m     \u001b[0mtraining_set\u001b[0m\u001b[0;34m,\u001b[0m\u001b[0;34m\u001b[0m\u001b[0;34m\u001b[0m\u001b[0m\n\u001b[1;32m      3\u001b[0m     \u001b[0mvalidation_data\u001b[0m\u001b[0;34m=\u001b[0m\u001b[0mvalidation_set\u001b[0m\u001b[0;34m,\u001b[0m\u001b[0;34m\u001b[0m\u001b[0;34m\u001b[0m\u001b[0m\n\u001b[1;32m      4\u001b[0m     \u001b[0mepochs\u001b[0m\u001b[0;34m=\u001b[0m\u001b[0;36m1\u001b[0m\u001b[0;34m,\u001b[0m\u001b[0;34m\u001b[0m\u001b[0;34m\u001b[0m\u001b[0m\n\u001b[1;32m      5\u001b[0m     callbacks=[\n",
      "\u001b[0;32m/usr/local/lib/python3.8/dist-packages/keras/utils/traceback_utils.py\u001b[0m in \u001b[0;36merror_handler\u001b[0;34m(*args, **kwargs)\u001b[0m\n\u001b[1;32m     65\u001b[0m     \u001b[0;32mexcept\u001b[0m \u001b[0mException\u001b[0m \u001b[0;32mas\u001b[0m \u001b[0me\u001b[0m\u001b[0;34m:\u001b[0m  \u001b[0;31m# pylint: disable=broad-except\u001b[0m\u001b[0;34m\u001b[0m\u001b[0;34m\u001b[0m\u001b[0m\n\u001b[1;32m     66\u001b[0m       \u001b[0mfiltered_tb\u001b[0m \u001b[0;34m=\u001b[0m \u001b[0m_process_traceback_frames\u001b[0m\u001b[0;34m(\u001b[0m\u001b[0me\u001b[0m\u001b[0;34m.\u001b[0m\u001b[0m__traceback__\u001b[0m\u001b[0;34m)\u001b[0m\u001b[0;34m\u001b[0m\u001b[0;34m\u001b[0m\u001b[0m\n\u001b[0;32m---> 67\u001b[0;31m       \u001b[0;32mraise\u001b[0m \u001b[0me\u001b[0m\u001b[0;34m.\u001b[0m\u001b[0mwith_traceback\u001b[0m\u001b[0;34m(\u001b[0m\u001b[0mfiltered_tb\u001b[0m\u001b[0;34m)\u001b[0m \u001b[0;32mfrom\u001b[0m \u001b[0;32mNone\u001b[0m\u001b[0;34m\u001b[0m\u001b[0;34m\u001b[0m\u001b[0m\n\u001b[0m\u001b[1;32m     68\u001b[0m     \u001b[0;32mfinally\u001b[0m\u001b[0;34m:\u001b[0m\u001b[0;34m\u001b[0m\u001b[0;34m\u001b[0m\u001b[0m\n\u001b[1;32m     69\u001b[0m       \u001b[0;32mdel\u001b[0m \u001b[0mfiltered_tb\u001b[0m\u001b[0;34m\u001b[0m\u001b[0;34m\u001b[0m\u001b[0m\n",
      "\u001b[0;32m<ipython-input-10-95a377b23076>\u001b[0m in \u001b[0;36mcall\u001b[0;34m(self, inputs)\u001b[0m\n\u001b[1;32m     33\u001b[0m         \u001b[0mself\u001b[0m\u001b[0;34m.\u001b[0m\u001b[0mlog\u001b[0m\u001b[0;34m(\u001b[0m\u001b[0mmessage\u001b[0m\u001b[0;34m=\u001b[0m\u001b[0;34m'fractal2d: start'\u001b[0m\u001b[0;34m)\u001b[0m\u001b[0;34m\u001b[0m\u001b[0;34m\u001b[0m\u001b[0m\n\u001b[1;32m     34\u001b[0m         \u001b[0mfractal\u001b[0m \u001b[0;34m=\u001b[0m \u001b[0mself\u001b[0m\u001b[0;34m.\u001b[0m\u001b[0mfractal2d\u001b[0m\u001b[0;34m(\u001b[0m\u001b[0mfractal\u001b[0m\u001b[0;34m)\u001b[0m\u001b[0;34m\u001b[0m\u001b[0;34m\u001b[0m\u001b[0m\n\u001b[0;32m---> 35\u001b[0;31m         \u001b[0mfractal\u001b[0m \u001b[0;34m=\u001b[0m \u001b[0mself\u001b[0m\u001b[0;34m.\u001b[0m\u001b[0mmobilenet_v2\u001b[0m\u001b[0;34m(\u001b[0m\u001b[0mfractal\u001b[0m\u001b[0;34m)\u001b[0m\u001b[0;34m\u001b[0m\u001b[0;34m\u001b[0m\u001b[0m\n\u001b[0m\u001b[1;32m     36\u001b[0m \u001b[0;34m\u001b[0m\u001b[0m\n\u001b[1;32m     37\u001b[0m         \u001b[0mordinary\u001b[0m \u001b[0;34m=\u001b[0m \u001b[0minputs\u001b[0m\u001b[0;34m\u001b[0m\u001b[0;34m\u001b[0m\u001b[0m\n",
      "\u001b[0;32m/usr/local/lib/python3.8/dist-packages/tensorflow_hub/keras_layer.py\u001b[0m in \u001b[0;36mcall\u001b[0;34m(self, inputs, training)\u001b[0m\n\u001b[1;32m    235\u001b[0m         \u001b[0;31m# Behave like BatchNormalization. (Dropout is different, b/181839368.)\u001b[0m\u001b[0;34m\u001b[0m\u001b[0;34m\u001b[0m\u001b[0;34m\u001b[0m\u001b[0m\n\u001b[1;32m    236\u001b[0m         \u001b[0mtraining\u001b[0m \u001b[0;34m=\u001b[0m \u001b[0;32mFalse\u001b[0m\u001b[0;34m\u001b[0m\u001b[0;34m\u001b[0m\u001b[0m\n\u001b[0;32m--> 237\u001b[0;31m       result = smart_cond.smart_cond(training,\n\u001b[0m\u001b[1;32m    238\u001b[0m                                      \u001b[0;32mlambda\u001b[0m\u001b[0;34m:\u001b[0m \u001b[0mf\u001b[0m\u001b[0;34m(\u001b[0m\u001b[0mtraining\u001b[0m\u001b[0;34m=\u001b[0m\u001b[0;32mTrue\u001b[0m\u001b[0;34m)\u001b[0m\u001b[0;34m,\u001b[0m\u001b[0;34m\u001b[0m\u001b[0;34m\u001b[0m\u001b[0m\n\u001b[1;32m    239\u001b[0m                                      lambda: f(training=False))\n",
      "\u001b[0;32m/usr/local/lib/python3.8/dist-packages/tensorflow_hub/keras_layer.py\u001b[0m in \u001b[0;36m<lambda>\u001b[0;34m()\u001b[0m\n\u001b[1;32m    237\u001b[0m       result = smart_cond.smart_cond(training,\n\u001b[1;32m    238\u001b[0m                                      \u001b[0;32mlambda\u001b[0m\u001b[0;34m:\u001b[0m \u001b[0mf\u001b[0m\u001b[0;34m(\u001b[0m\u001b[0mtraining\u001b[0m\u001b[0;34m=\u001b[0m\u001b[0;32mTrue\u001b[0m\u001b[0;34m)\u001b[0m\u001b[0;34m,\u001b[0m\u001b[0;34m\u001b[0m\u001b[0;34m\u001b[0m\u001b[0m\n\u001b[0;32m--> 239\u001b[0;31m                                      lambda: f(training=False))\n\u001b[0m\u001b[1;32m    240\u001b[0m \u001b[0;34m\u001b[0m\u001b[0m\n\u001b[1;32m    241\u001b[0m     \u001b[0;31m# Unwrap dicts returned by signatures.\u001b[0m\u001b[0;34m\u001b[0m\u001b[0;34m\u001b[0m\u001b[0;34m\u001b[0m\u001b[0m\n",
      "\u001b[0;31mUnknownError\u001b[0m: Exception encountered when calling layer \"keras_layer\" (type KerasLayer).\n\n Failed to get convolution algorithm. This is probably because cuDNN failed to initialize, so try looking to see if a warning log message was printed above.\n\t [[node predict/MobilenetV2/Conv/Conv2D\n (defined at /usr/local/lib/python3.8/dist-packages/tensorflow_hub/module_v2.py:106)\n]] [Op:__inference_restored_function_body_47160370]\n\nErrors may have originated from an input operation.\nInput Source operations connected to node predict/MobilenetV2/Conv/Conv2D:\nIn[0] predict/MobilenetV2/input:\t\nIn[1] predict/MobilenetV2/Conv/Conv2D/ReadVariableOp:\n\nOperation defined at: (most recent call last)\n>>>   File \"/usr/lib/python3.8/runpy.py\", line 194, in _run_module_as_main\n>>>     return _run_code(code, main_globals, None,\n>>> \n>>>   File \"/usr/lib/python3.8/runpy.py\", line 87, in _run_code\n>>>     exec(code, run_globals)\n>>> \n>>>   File \"/usr/local/lib/python3.8/dist-packages/ipykernel_launcher.py\", line 16, in <module>\n>>>     app.launch_new_instance()\n>>> \n>>>   File \"/usr/local/lib/python3.8/dist-packages/traitlets/config/application.py\", line 846, in launch_instance\n>>>     app.start()\n>>> \n>>>   File \"/usr/local/lib/python3.8/dist-packages/ipykernel/kernelapp.py\", line 505, in start\n>>>     self.io_loop.start()\n>>> \n>>>   File \"/usr/local/lib/python3.8/dist-packages/tornado/platform/asyncio.py\", line 199, in start\n>>>     self.asyncio_loop.run_forever()\n>>> \n>>>   File \"/usr/lib/python3.8/asyncio/base_events.py\", line 570, in run_forever\n>>>     self._run_once()\n>>> \n>>>   File \"/usr/lib/python3.8/asyncio/base_events.py\", line 1859, in _run_once\n>>>     handle._run()\n>>> \n>>>   File \"/usr/lib/python3.8/asyncio/events.py\", line 81, in _run\n>>>     self._context.run(self._callback, *self._args)\n>>> \n>>>   File \"/usr/local/lib/python3.8/dist-packages/tornado/ioloop.py\", line 688, in <lambda>\n>>>     lambda f: self._run_callback(functools.partial(callback, future))\n>>> \n>>>   File \"/usr/local/lib/python3.8/dist-packages/tornado/ioloop.py\", line 741, in _run_callback\n>>>     ret = callback()\n>>> \n>>>   File \"/usr/local/lib/python3.8/dist-packages/tornado/gen.py\", line 814, in inner\n>>>     self.ctx_run(self.run)\n>>> \n>>>   File \"/usr/local/lib/python3.8/dist-packages/tornado/gen.py\", line 775, in run\n>>>     yielded = self.gen.send(value)\n>>> \n>>>   File \"/usr/local/lib/python3.8/dist-packages/ipykernel/kernelbase.py\", line 378, in dispatch_queue\n>>>     yield self.process_one()\n>>> \n>>>   File \"/usr/local/lib/python3.8/dist-packages/tornado/gen.py\", line 250, in wrapper\n>>>     runner = Runner(ctx_run, result, future, yielded)\n>>> \n>>>   File \"/usr/local/lib/python3.8/dist-packages/tornado/gen.py\", line 741, in __init__\n>>>     self.ctx_run(self.run)\n>>> \n>>>   File \"/usr/local/lib/python3.8/dist-packages/tornado/gen.py\", line 775, in run\n>>>     yielded = self.gen.send(value)\n>>> \n>>>   File \"/usr/local/lib/python3.8/dist-packages/ipykernel/kernelbase.py\", line 365, in process_one\n>>>     yield gen.maybe_future(dispatch(*args))\n>>> \n>>>   File \"/usr/local/lib/python3.8/dist-packages/tornado/gen.py\", line 234, in wrapper\n>>>     yielded = ctx_run(next, result)\n>>> \n>>>   File \"/usr/local/lib/python3.8/dist-packages/ipykernel/kernelbase.py\", line 272, in dispatch_shell\n>>>     yield gen.maybe_future(handler(stream, idents, msg))\n>>> \n>>>   File \"/usr/local/lib/python3.8/dist-packages/tornado/gen.py\", line 234, in wrapper\n>>>     yielded = ctx_run(next, result)\n>>> \n>>>   File \"/usr/local/lib/python3.8/dist-packages/ipykernel/kernelbase.py\", line 540, in execute_request\n>>>     self.do_execute(\n>>> \n>>>   File \"/usr/local/lib/python3.8/dist-packages/tornado/gen.py\", line 234, in wrapper\n>>>     yielded = ctx_run(next, result)\n>>> \n>>>   File \"/usr/local/lib/python3.8/dist-packages/ipykernel/ipkernel.py\", line 294, in do_execute\n>>>     res = shell.run_cell(code, store_history=store_history, silent=silent)\n>>> \n>>>   File \"/usr/local/lib/python3.8/dist-packages/ipykernel/zmqshell.py\", line 536, in run_cell\n>>>     return super(ZMQInteractiveShell, self).run_cell(*args, **kwargs)\n>>> \n>>>   File \"/usr/local/lib/python3.8/dist-packages/IPython/core/interactiveshell.py\", line 2901, in run_cell\n>>>     result = self._run_cell(\n>>> \n>>>   File \"/usr/local/lib/python3.8/dist-packages/IPython/core/interactiveshell.py\", line 2947, in _run_cell\n>>>     return runner(coro)\n>>> \n>>>   File \"/usr/local/lib/python3.8/dist-packages/IPython/core/async_helpers.py\", line 68, in _pseudo_sync_runner\n>>>     coro.send(None)\n>>> \n>>>   File \"/usr/local/lib/python3.8/dist-packages/IPython/core/interactiveshell.py\", line 3172, in run_cell_async\n>>>     has_raised = await self.run_ast_nodes(code_ast.body, cell_name,\n>>> \n>>>   File \"/usr/local/lib/python3.8/dist-packages/IPython/core/interactiveshell.py\", line 3364, in run_ast_nodes\n>>>     if (await self.run_code(code, result,  async_=asy)):\n>>> \n>>>   File \"/usr/local/lib/python3.8/dist-packages/IPython/core/interactiveshell.py\", line 3444, in run_code\n>>>     exec(code_obj, self.user_global_ns, self.user_ns)\n>>> \n>>>   File \"<ipython-input-11-508f479b7c35>\", line 1, in <module>\n>>>     model = FractalModel(\n>>> \n>>>   File \"<ipython-input-10-95a377b23076>\", line 23, in __init__\n>>>     self.mobilenet_v2 = hub.KerasLayer(\"https://tfhub.dev/google/tf2-preview/mobilenet_v2/feature_vector/4\",\n>>> \n>>>   File \"/usr/local/lib/python3.8/dist-packages/tensorflow_hub/keras_layer.py\", line 153, in __init__\n>>>     self._func = load_module(handle, tags, self._load_options)\n>>> \n>>>   File \"/usr/local/lib/python3.8/dist-packages/tensorflow_hub/keras_layer.py\", line 449, in load_module\n>>>     return module_v2.load(handle, tags=tags, options=set_load_options)\n>>> \n>>>   File \"/usr/local/lib/python3.8/dist-packages/tensorflow_hub/module_v2.py\", line 106, in load\n>>>     obj = tf.compat.v1.saved_model.load_v2(module_path, tags=tags)\n>>> \n\nFunction call stack:\nrestored_function_body -> pruned\n\n\nCall arguments received:\n  • inputs=tf.Tensor(shape=(32, 224, 224, 3), dtype=float32)\n  • training=False"
     ]
    }
   ],
   "source": [
    "model.fit(\n",
    "    training_set, \n",
    "    validation_data=validation_set, \n",
    "    epochs=1, \n",
    "    callbacks=[\n",
    "                tensorboard_callback,\n",
    "                checkpoint_callback,\n",
    "                early_stop_callback\n",
    "            ]\n",
    ")"
   ]
  },
  {
   "cell_type": "markdown",
   "metadata": {},
   "source": [
    "# Model validation"
   ]
  },
  {
   "cell_type": "markdown",
   "metadata": {},
   "source": [
    "### Loading the model"
   ]
  },
  {
   "cell_type": "markdown",
   "metadata": {},
   "source": [
    "We load the model with the best metrics (e.g. validation loss) from the checkpoint."
   ]
  },
  {
   "cell_type": "code",
   "execution_count": null,
   "metadata": {},
   "outputs": [],
   "source": [
    "model = FractalModel(\n",
    "    input_shape=(224, 224, 3), \n",
    "    fractal_output=(10, 10), \n",
    "    percolation_threshold=0.59275, \n",
    "    distance_functions={\n",
    "        'r': chessboard_distance,\n",
    "        'g': euclidean_distance,\n",
    "        'b': manhattan_distance\n",
    "    }, \n",
    "    combine_function=combine_function, \n",
    "    class_number=CLASS_NUMBER\n",
    ")"
   ]
  },
  {
   "cell_type": "code",
   "execution_count": null,
   "metadata": {},
   "outputs": [],
   "source": [
    "model.load_weights('./checkpoints/fractalnet.ckpt')"
   ]
  },
  {
   "cell_type": "markdown",
   "metadata": {},
   "source": [
    "### Loading the test data"
   ]
  },
  {
   "cell_type": "code",
   "execution_count": null,
   "metadata": {},
   "outputs": [],
   "source": [
    "testing_set = generator.flow_from_directory(\n",
    "    '/small-data-test',\n",
    "    target_size=(224, 224),\n",
    "    batch_size=32,\n",
    "    class_mode='categorical'\n",
    ")"
   ]
  },
  {
   "cell_type": "markdown",
   "metadata": {},
   "source": [
    "### Making diagnoses"
   ]
  },
  {
   "cell_type": "code",
   "execution_count": null,
   "metadata": {},
   "outputs": [],
   "source": [
    "true_labels = np.concatenate([testing_set[i][1] for i in range(len(testing_set))], axis=0)"
   ]
  },
  {
   "cell_type": "code",
   "execution_count": null,
   "metadata": {},
   "outputs": [],
   "source": [
    "predicted_labels = model.predict(testing_set)"
   ]
  },
  {
   "cell_type": "markdown",
   "metadata": {},
   "source": [
    "### Plot the ROC Curve"
   ]
  },
  {
   "cell_type": "code",
   "execution_count": null,
   "metadata": {},
   "outputs": [],
   "source": [
    "fpr = dict()\n",
    "tpr = dict()\n",
    "auc_metric = dict()\n",
    "\n",
    "diagnosis_index_dict = {v: k for k, v in testing_set.class_indices.items()}\n",
    "\n",
    "for i in range(CLASS_NUMBER):\n",
    "    diagnosis = diagnosis_index_dict[i]\n",
    "    fpr[diagnosis], tpr[diagnosis], _ = roc_curve(true_labels[:, i], predicted_labels[:, i])\n",
    "    auc_metric[diagnosis] = auc(fpr[diagnosis], tpr[diagnosis])"
   ]
  },
  {
   "cell_type": "code",
   "execution_count": null,
   "metadata": {},
   "outputs": [],
   "source": [
    "for diagnosis in testing_set.class_indices:\n",
    "    plt.plot(fpr[diagnosis], tpr[diagnosis], label=diagnosis)\n",
    "    \n",
    "plt.plot([0, 1], [0, 1], 'k--')\n",
    "plt.xlabel('False Positive Rate')\n",
    "plt.ylabel('True Positive Rate')\n",
    "plt.title('Receiver operating characteristic')\n",
    "plt.legend(loc=\"lower right\")\n",
    "plt.show()"
   ]
  },
  {
   "cell_type": "markdown",
   "metadata": {},
   "source": [
    "### Show AUC"
   ]
  },
  {
   "cell_type": "code",
   "execution_count": null,
   "metadata": {},
   "outputs": [],
   "source": [
    "auc_metric"
   ]
  },
  {
   "cell_type": "code",
   "execution_count": null,
   "metadata": {},
   "outputs": [],
   "source": []
  }
 ],
 "metadata": {
  "kernelspec": {
   "display_name": "Python 3",
   "language": "python",
   "name": "python3"
  },
  "language_info": {
   "codemirror_mode": {
    "name": "ipython",
    "version": 3
   },
   "file_extension": ".py",
   "mimetype": "text/x-python",
   "name": "python",
   "nbconvert_exporter": "python",
   "pygments_lexer": "ipython3",
   "version": "3.8.10"
  }
 },
 "nbformat": 4,
 "nbformat_minor": 2
}
