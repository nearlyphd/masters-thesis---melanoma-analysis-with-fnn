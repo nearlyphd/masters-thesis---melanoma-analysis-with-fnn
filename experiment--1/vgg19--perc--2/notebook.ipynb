{
 "cells": [
  {
   "cell_type": "markdown",
   "id": "00c4f815-80cc-4ba3-a6e2-0105e97d2a16",
   "metadata": {},
   "source": [
    "# Lesion classification"
   ]
  },
  {
   "cell_type": "code",
   "execution_count": null,
   "id": "34cfd3f6-804e-4c25-948c-e290ea5016e3",
   "metadata": {},
   "outputs": [],
   "source": [
    "import sys \n",
    "import os\n",
    "sys.path.append(os.path.abspath(\"/net/people/plgamyshenin/masters-thesis---melanoma-analysis-with-fnn\"))\n",
    "\n",
    "from data import isic_archive_load\n",
    "from auc_metric import calculate_auc\n",
    "from gradcam import display_gradcam, make_gradcam_heatmap, get_img_array\n",
    "from fractal.perc import FractalImage"
   ]
  },
  {
   "cell_type": "code",
   "execution_count": null,
   "id": "ebd47d3d-f251-4298-a45a-633eb774bdf8",
   "metadata": {},
   "outputs": [],
   "source": [
    "import numpy as np\n",
    "import tensorflow as tf\n",
    "import matplotlib.pyplot as plt\n",
    "from IPython.display import Image, display"
   ]
  },
  {
   "cell_type": "code",
   "execution_count": null,
   "id": "b6c7d448-5481-4f6f-8da9-ea2b9ca7cd2d",
   "metadata": {},
   "outputs": [],
   "source": [
    "tf.get_logger().setLevel('ERROR')"
   ]
  },
  {
   "cell_type": "markdown",
   "id": "87f9e0b7-fd63-4b2c-a9d4-d79d42723cc8",
   "metadata": {},
   "source": [
    "### Model description"
   ]
  },
  {
   "cell_type": "markdown",
   "id": "387011bf-4117-48b0-a74e-e3cfa56f503c",
   "metadata": {},
   "source": [
    "- Model architecture: VGG19\n",
    "- Fractal module used: with Percolation \n",
    "- Number of layers tuned: 2"
   ]
  },
  {
   "cell_type": "markdown",
   "id": "eb6c5c07-a542-46c4-aacb-f89600c48db7",
   "metadata": {},
   "source": [
    "### Load the ISIC Archive dataset"
   ]
  },
  {
   "cell_type": "code",
   "execution_count": null,
   "id": "7cabd69f-6b96-49a7-8381-51daa21db881",
   "metadata": {},
   "outputs": [],
   "source": [
    "training_set, testing_set, validation_set = isic_archive_load()"
   ]
  },
  {
   "cell_type": "markdown",
   "id": "5e377812-76ea-42a8-b079-df31cb12ffff",
   "metadata": {},
   "source": [
    "### Model definition and callbacks"
   ]
  },
  {
   "cell_type": "code",
   "execution_count": null,
   "id": "f70ae24d-b7ad-4bc3-8b9e-df63ba43a6f3",
   "metadata": {},
   "outputs": [],
   "source": [
    "class LesionClassifier(tf.keras.Model):\n",
    "    TARGET_WIDTH, TARGET_HEIGHT = 299, 299\n",
    "    \n",
    "    def __init__(self, class_number):\n",
    "        super(LesionClassifier, self).__init__()\n",
    "        \n",
    "        self.fractal_image = FractalImage()\n",
    "        self.resize = tf.keras.layers.Resizing(\n",
    "            width=self.TARGET_WIDTH,\n",
    "            height=self.TARGET_HEIGHT\n",
    "        )\n",
    "        self.rescale = tf.keras.layers.Rescaling(scale=1./255)\n",
    "        \n",
    "        self.o_model = tf.keras.applications.vgg19.VGG19(\n",
    "            include_top=False,\n",
    "            weights='imagenet',\n",
    "            input_shape=(299, 299, 3),\n",
    "            pooling='avg'\n",
    "        )\n",
    "        for layer in self.o_model.layers:\n",
    "            if layer.name == ['block5_conv3', 'block5_conv4']:\n",
    "                layer.trainable = True\n",
    "            else:\n",
    "                layer.trainable = False   \n",
    "        \n",
    "        self.f_model = tf.keras.applications.vgg19.VGG19(\n",
    "            include_top=False,\n",
    "            weights='imagenet',\n",
    "            input_shape=(299, 299, 3),\n",
    "            pooling='avg'\n",
    "        )\n",
    "        for layer in self.f_model.layers:\n",
    "            if layer.name == ['block5_conv3', 'block5_conv4']:\n",
    "                layer.trainable = True\n",
    "            else:\n",
    "                layer.trainable = False  \n",
    "        \n",
    "        self.concatenate = tf.keras.layers.Concatenate()\n",
    "        \n",
    "        self.dense = tf.keras.layers.Dense(class_number, activation='softmax')\n",
    "        \n",
    "    def call(self, inputs):\n",
    "        \n",
    "        o_outputs = self.rescale(inputs)\n",
    "        o_outputs = self.o_model(o_outputs)\n",
    "        \n",
    "        f_outputs = self.fractal_image(inputs)\n",
    "        f_outputs = self.resize(f_outputs)\n",
    "        f_outputs = self.rescale(f_outputs)\n",
    "        f_outputs = self.f_model(f_outputs)\n",
    "        \n",
    "        outputs = self.concatenate([f_outputs, o_outputs])\n",
    "        outputs = self.dense(outputs)\n",
    "        \n",
    "        return outputs"
   ]
  },
  {
   "cell_type": "code",
   "execution_count": null,
   "id": "ea3b2762-aff5-49da-9096-b6403177cef3",
   "metadata": {},
   "outputs": [],
   "source": [
    "checkpoint_path = 'checkpoints/model.ckpt'\n",
    "\n",
    "checkpoint_callback = tf.keras.callbacks.ModelCheckpoint(\n",
    "    checkpoint_path,\n",
    "    monitor='val_loss',\n",
    "    verbose=1,\n",
    "    save_best_only=True,\n",
    "    save_weights_only=False,\n",
    "    save_freq='epoch',\n",
    "    mode='auto'\n",
    ")"
   ]
  },
  {
   "cell_type": "code",
   "execution_count": null,
   "id": "9361ebfe-e2c3-4b57-bda0-fbd1574a5620",
   "metadata": {},
   "outputs": [],
   "source": [
    "early_stop_callback = tf.keras.callbacks.EarlyStopping(\n",
    "    monitor=\"val_loss\", \n",
    "    min_delta=0.01, \n",
    "    patience=5, \n",
    "    restore_best_weights=True\n",
    ")"
   ]
  },
  {
   "cell_type": "markdown",
   "id": "389260ac-6961-477b-a548-7f4d6ee840b5",
   "metadata": {},
   "source": [
    "### Training"
   ]
  },
  {
   "cell_type": "code",
   "execution_count": null,
   "id": "dcb08439-eaf8-43f6-96da-0961382faeb5",
   "metadata": {},
   "outputs": [],
   "source": [
    "strategy = tf.distribute.MirroredStrategy()"
   ]
  },
  {
   "cell_type": "code",
   "execution_count": null,
   "id": "89912b6c-0e40-4518-9a85-e522f79ff2ad",
   "metadata": {},
   "outputs": [],
   "source": [
    "with strategy.scope():\n",
    "    model = LesionClassifier(class_number=len(training_set.class_indices))\n",
    "    model.compile(optimizer='adam', loss='categorical_crossentropy', metrics=['accuracy'])"
   ]
  },
  {
   "cell_type": "code",
   "execution_count": null,
   "id": "f016528c-f3cc-4b4b-beac-ac22b0d8e45a",
   "metadata": {},
   "outputs": [],
   "source": [
    "model.fit(\n",
    "    training_set, \n",
    "    validation_data=validation_set, \n",
    "    epochs=30,\n",
    "    callbacks=[\n",
    "        early_stop_callback,\n",
    "        checkpoint_callback\n",
    "    ]\n",
    ")"
   ]
  },
  {
   "cell_type": "markdown",
   "id": "ed307f69-fe0f-4677-8da5-727040949376",
   "metadata": {},
   "source": [
    "### Testing"
   ]
  },
  {
   "cell_type": "code",
   "execution_count": null,
   "id": "d670ab99-2751-41e4-99e5-a35b7aceea9a",
   "metadata": {},
   "outputs": [],
   "source": [
    "model.load_weights(checkpoint_path)"
   ]
  },
  {
   "cell_type": "code",
   "execution_count": null,
   "id": "914f84c5-da9e-4ec9-b24e-7182aed91820",
   "metadata": {},
   "outputs": [],
   "source": [
    "groundtruth_labels = np.concatenate([testing_set[i][1] for i in range(len(testing_set))], axis=0)"
   ]
  },
  {
   "cell_type": "code",
   "execution_count": null,
   "id": "50c333b0-ded2-424c-b283-e04824f84c49",
   "metadata": {},
   "outputs": [],
   "source": [
    "predicted_labels = model.predict(testing_set)"
   ]
  },
  {
   "cell_type": "code",
   "execution_count": null,
   "id": "84244960-1c67-41da-9225-f9e57b963695",
   "metadata": {},
   "outputs": [],
   "source": [
    "fpr, tpr, auc_metric = calculate_auc(testing_set, groundtruth_labels, predicted_labels)"
   ]
  },
  {
   "cell_type": "code",
   "execution_count": null,
   "id": "5841bf39-3e7c-4790-b0e8-bb41845d68ef",
   "metadata": {},
   "outputs": [],
   "source": [
    "auc_metric"
   ]
  },
  {
   "cell_type": "code",
   "execution_count": null,
   "id": "c7e85f50-5492-4563-b801-5bf1dae84973",
   "metadata": {},
   "outputs": [],
   "source": [
    "%matplotlib inline \n",
    "\n",
    "plt.rcParams['axes.titley'] = -0.3\n",
    "\n",
    "for diagnosis in testing_set.class_indices:\n",
    "    plt.plot(fpr[diagnosis], tpr[diagnosis], label=diagnosis)\n",
    "    \n",
    "plt.plot([0, 1], [0, 1], 'k--')\n",
    "plt.xlabel('False Positive Rate')\n",
    "plt.ylabel('True Positive Rate')\n",
    "plt.title('Receiver operating characteristic')\n",
    "plt.legend(bbox_to_anchor=(1.6, 1), loc=\"upper right\")\n",
    "plt.show()"
   ]
  },
  {
   "cell_type": "markdown",
   "id": "2984cf32-ffac-4770-8c93-1c8d87764de6",
   "metadata": {},
   "source": [
    "### GradCam"
   ]
  },
  {
   "cell_type": "code",
   "execution_count": null,
   "id": "9c5e6f75-d742-413d-8932-fad71edcde0c",
   "metadata": {},
   "outputs": [],
   "source": [
    "melanoma_im_path = f\"{os.environ['SCRATCH']}/isic-archive/ISIC_0000031.jpg\""
   ]
  },
  {
   "cell_type": "code",
   "execution_count": null,
   "id": "12cbaed9-d038-40fe-82f4-c42a71b984d7",
   "metadata": {},
   "outputs": [],
   "source": [
    "display(Image(melanoma_im_path, width=600))"
   ]
  },
  {
   "cell_type": "code",
   "execution_count": null,
   "id": "be609bf5-a058-4979-8eea-91a34087c37c",
   "metadata": {},
   "outputs": [],
   "source": [
    "img_array = tf.keras.applications.vgg19.preprocess_input(get_img_array(melanoma_im_path, size=(299, 299)))"
   ]
  },
  {
   "cell_type": "code",
   "execution_count": null,
   "id": "ee8b278c-1205-466a-95fa-8754763cd20c",
   "metadata": {},
   "outputs": [],
   "source": [
    "heatmap = make_gradcam_heatmap(img_array, model.o_model, 'block5_conv4')"
   ]
  },
  {
   "cell_type": "code",
   "execution_count": null,
   "id": "d9d996e6-cc86-4be7-b38f-da4a655bc252",
   "metadata": {},
   "outputs": [],
   "source": [
    "display_gradcam(melanoma_im_path, heatmap)"
   ]
  },
  {
   "cell_type": "code",
   "execution_count": null,
   "id": "73c9a538-1fe4-4d05-a53c-23646bc1bde0",
   "metadata": {},
   "outputs": [],
   "source": []
  }
 ],
 "metadata": {
  "kernelspec": {
   "display_name": "Python 3",
   "language": "python",
   "name": "python3"
  },
  "language_info": {
   "codemirror_mode": {
    "name": "ipython",
    "version": 3
   },
   "file_extension": ".py",
   "mimetype": "text/x-python",
   "name": "python",
   "nbconvert_exporter": "python",
   "pygments_lexer": "ipython3",
   "version": "3.9.1"
  }
 },
 "nbformat": 4,
 "nbformat_minor": 5
}
