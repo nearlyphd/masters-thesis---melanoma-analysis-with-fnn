{
 "cells": [
  {
   "cell_type": "markdown",
   "id": "25f6e3bc-0b69-411e-bb45-302bbdd5aaf9",
   "metadata": {},
   "source": [
    "# Lesion classification"
   ]
  },
  {
   "cell_type": "code",
   "execution_count": null,
   "id": "1a6c4c31-caa3-4746-b1f8-0832a235f2f8",
   "metadata": {},
   "outputs": [],
   "source": [
    "import sys \n",
    "import os\n",
    "sys.path.append(os.path.abspath(\"/net/people/plgamyshenin/masters-thesis---melanoma-analysis-with-fnn/experiment--2\"))"
   ]
  },
  {
   "cell_type": "code",
   "execution_count": null,
   "id": "372d7ff9-c8e6-48ba-b028-13ccb3495e7a",
   "metadata": {},
   "outputs": [],
   "source": [
    "import numpy as np\n",
    "import tensorflow as tf\n",
    "import tensorflow_addons as tfa\n",
    "import matplotlib.pyplot as plt\n",
    "from IPython.display import Image, display\n",
    "\n",
    "from libs.isic import load\n",
    "from libs.fractal_percolation_module import FractalModule\n",
    "from libs.auc import calculate_auc\n",
    "from libs.gradcam import display_gradcam, make_gradcam_heatmap, get_img_array"
   ]
  },
  {
   "cell_type": "code",
   "execution_count": null,
   "id": "6c4ad8ee-b4a4-47e7-8879-60a575eadd9f",
   "metadata": {},
   "outputs": [],
   "source": [
    "tf.get_logger().setLevel('ERROR')"
   ]
  },
  {
   "cell_type": "markdown",
   "id": "01dcdc67-0cf4-426f-92ea-6ea2eedfd532",
   "metadata": {},
   "source": [
    "## Hyperparameter definition"
   ]
  },
  {
   "cell_type": "code",
   "execution_count": null,
   "id": "def8d27c-d570-4a5f-83ee-b1fa61a264a0",
   "metadata": {},
   "outputs": [],
   "source": [
    "strategy = tf.distribute.MirroredStrategy()"
   ]
  },
  {
   "cell_type": "code",
   "execution_count": null,
   "id": "da9b70d8-a444-4b84-8a23-17769daf3f52",
   "metadata": {},
   "outputs": [],
   "source": [
    "with strategy.scope():\n",
    "    EPOCHS = 200\n",
    "    SAMPLE_NUMBER = None\n",
    "    \n",
    "    TARGET_WIDTH, TARGET_HEIGHT = 299, 299\n",
    "    FRACTAL_WIDTH, FRACTAL_HEIGHT = 10, 10\n",
    "    FRACTAL_MODULE = FractalModule(FRACTAL_WIDTH, FRACTAL_HEIGHT)\n",
    "    O_MODEL = tf.keras.applications.inception_resnet_v2.InceptionResNetV2(\n",
    "        include_top=False,\n",
    "        weights='imagenet',\n",
    "        input_shape=(TARGET_WIDTH, TARGET_HEIGHT, 3),\n",
    "        pooling='avg'\n",
    "    )\n",
    "    F_MODEL = tf.keras.applications.inception_resnet_v2.InceptionResNetV2(\n",
    "        include_top=False,\n",
    "        weights='imagenet',\n",
    "        input_shape=(TARGET_WIDTH, TARGET_HEIGHT, 3),\n",
    "        pooling='avg'\n",
    "    )\n",
    "    RETRAINABLE_LAYERS = []\n",
    "    PREPROCESSING = tf.keras.applications.inception_resnet_v2.preprocess_input"
   ]
  },
  {
   "cell_type": "markdown",
   "id": "a54d704a-2ef3-4727-947f-26814f56a794",
   "metadata": {},
   "source": [
    "## Load the ISIC Archive dataset"
   ]
  },
  {
   "cell_type": "code",
   "execution_count": null,
   "id": "6d844a53-2727-48cf-b183-f25c87058987",
   "metadata": {},
   "outputs": [],
   "source": [
    "(training_set, validation_set, testing_set), class_weights, class_number = load(SAMPLE_NUMBER)"
   ]
  },
  {
   "cell_type": "markdown",
   "id": "85dc4a5a-e2c4-4975-8a49-1ff872ed1c0a",
   "metadata": {},
   "source": [
    "## Model definition"
   ]
  },
  {
   "cell_type": "code",
   "execution_count": null,
   "id": "fbc84176-73d2-408f-b744-2ed4de722b50",
   "metadata": {},
   "outputs": [],
   "source": [
    "class LesionClassifier(tf.keras.Model):\n",
    "    def __init__(self):\n",
    "        super(LesionClassifier, self).__init__()\n",
    "        \n",
    "        self.fractal_module = FRACTAL_MODULE\n",
    "        \n",
    "        self.resize = tf.keras.layers.Resizing(\n",
    "            width=TARGET_WIDTH,\n",
    "            height=TARGET_HEIGHT\n",
    "        )\n",
    "        \n",
    "        self.rescale = tf.keras.layers.Rescaling(scale=1. / 255)\n",
    "        \n",
    "        self.o_model = O_MODEL\n",
    "        for layer in self.o_model.layers:\n",
    "            if layer.name in RETRAINABLE_LAYERS:\n",
    "                layer.trainable = True\n",
    "        else:\n",
    "            layer.trainable = False\n",
    "            \n",
    "        self.f_model = F_MODEL\n",
    "        for layer in self.f_model.layers:\n",
    "            if layer.name in RETRAINABLE_LAYERS:\n",
    "                layer.trainable = True\n",
    "        else:\n",
    "            layer.trainable = False\n",
    "            \n",
    "        self.fusion = tf.keras.layers.Concatenate()\n",
    "        \n",
    "        self.dense = tf.keras.layers.Dense(class_number, activation='softmax')\n",
    "        \n",
    "    def call(self, inputs):\n",
    "        f_outputs = self.fractal_module(inputs)\n",
    "        f_outputs = self.resize(f_outputs)\n",
    "        f_outputs = self.rescale(f_outputs)\n",
    "        f_outputs = self.f_model(f_outputs)\n",
    "\n",
    "        o_outputs = self.rescale(inputs)\n",
    "        o_outputs = self.o_model(o_outputs)\n",
    "\n",
    "        outputs = self.fusion([f_outputs, o_outputs])\n",
    "        outputs = self.dense(outputs)\n",
    "\n",
    "        return outputs"
   ]
  },
  {
   "cell_type": "code",
   "execution_count": null,
   "id": "f79eeb0e-f34d-45e9-8d61-b2af25401359",
   "metadata": {},
   "outputs": [],
   "source": [
    "checkpoint_path = 'checkpoint'\n",
    "\n",
    "checkpoint_callback = tf.keras.callbacks.ModelCheckpoint(\n",
    "    checkpoint_path,\n",
    "    monitor='val_loss',\n",
    "    save_best_only=True,\n",
    "    save_weights_only=False,\n",
    "    save_freq='epoch',\n",
    "    mode='auto'\n",
    ")"
   ]
  },
  {
   "cell_type": "code",
   "execution_count": null,
   "id": "325949c7-afa6-429a-b394-695566a7a0a4",
   "metadata": {},
   "outputs": [],
   "source": [
    "early_stop_callback = tf.keras.callbacks.EarlyStopping(\n",
    "    monitor=\"val_loss\", \n",
    "    min_delta=0.01, \n",
    "    patience=15, \n",
    "    restore_best_weights=True\n",
    ")"
   ]
  },
  {
   "cell_type": "code",
   "execution_count": null,
   "id": "1c44a274-013f-433d-bf46-8e0abac5e1a7",
   "metadata": {},
   "outputs": [],
   "source": [
    "time_stopping = tfa.callbacks.TimeStopping(seconds=65 * 3600)"
   ]
  },
  {
   "cell_type": "markdown",
   "id": "95c86d84-58d3-4aab-a4b0-0e1d3dc4a400",
   "metadata": {},
   "source": [
    "## Training"
   ]
  },
  {
   "cell_type": "code",
   "execution_count": null,
   "id": "edd5a9a1-ebd7-4311-bd8f-685e01c71d2a",
   "metadata": {},
   "outputs": [],
   "source": [
    "with strategy.scope():\n",
    "    model = LesionClassifier()\n",
    "    model.compile(optimizer='adam', loss='categorical_crossentropy', metrics=['accuracy'])"
   ]
  },
  {
   "cell_type": "code",
   "execution_count": null,
   "id": "36b72542-a555-4421-9c85-e02bdbbdfc90",
   "metadata": {},
   "outputs": [],
   "source": [
    "model.fit(\n",
    "    training_set, \n",
    "    validation_data=validation_set, \n",
    "    epochs=EPOCHS,\n",
    "    callbacks=[\n",
    "        checkpoint_callback,\n",
    "        early_stop_callback,\n",
    "        time_stopping\n",
    "    ]\n",
    ")"
   ]
  },
  {
   "cell_type": "markdown",
   "id": "1394c851-5a06-4a40-b862-e23a1953fdf5",
   "metadata": {},
   "source": [
    "## Testing"
   ]
  },
  {
   "cell_type": "code",
   "execution_count": null,
   "id": "3f1aab36-68d4-4bcd-9a03-cfa4c0d41161",
   "metadata": {},
   "outputs": [],
   "source": [
    "model.load_weights(checkpoint_path)"
   ]
  },
  {
   "cell_type": "code",
   "execution_count": null,
   "id": "2178fecd-5fc5-41e7-892c-9082007a2273",
   "metadata": {},
   "outputs": [],
   "source": [
    "groundtruth_labels = np.concatenate([testing_set[i][1] for i in range(len(testing_set))], axis=0)"
   ]
  },
  {
   "cell_type": "code",
   "execution_count": null,
   "id": "a562d328-d42c-492c-b038-670e6ab3c51c",
   "metadata": {},
   "outputs": [],
   "source": [
    "predicted_labels = model.predict(testing_set)"
   ]
  },
  {
   "cell_type": "code",
   "execution_count": null,
   "id": "9c2e7e4f-050a-47dc-b71d-6effb0cd5924",
   "metadata": {},
   "outputs": [],
   "source": [
    "fpr, tpr, auc_metric = calculate_auc(testing_set, groundtruth_labels, predicted_labels)"
   ]
  },
  {
   "cell_type": "code",
   "execution_count": null,
   "id": "c8fb24fb-8daf-4844-97c5-dbfea1199588",
   "metadata": {},
   "outputs": [],
   "source": [
    "auc_metric"
   ]
  },
  {
   "cell_type": "code",
   "execution_count": null,
   "id": "0fa61983-4489-4413-9212-2004e624dcbd",
   "metadata": {},
   "outputs": [],
   "source": [
    "%matplotlib inline \n",
    "\n",
    "plt.rcParams['axes.titley'] = -0.3\n",
    "\n",
    "for diagnosis in testing_set.class_indices:\n",
    "    plt.plot(fpr[diagnosis], tpr[diagnosis], label=diagnosis)\n",
    "    \n",
    "plt.plot([0, 1], [0, 1], 'k--')\n",
    "plt.xlabel('False Positive Rate')\n",
    "plt.ylabel('True Positive Rate')\n",
    "plt.title('Receiver operating characteristic')\n",
    "plt.legend(bbox_to_anchor=(1.6, 1), loc=\"upper right\")\n",
    "plt.show()"
   ]
  },
  {
   "cell_type": "markdown",
   "id": "a9b682fe-f62a-4f21-88ab-9a4db77b167b",
   "metadata": {},
   "source": [
    "## GradCam"
   ]
  },
  {
   "cell_type": "code",
   "execution_count": null,
   "id": "769a443c-2650-4ff0-95f9-f54b4af05e5e",
   "metadata": {},
   "outputs": [],
   "source": [
    "melanoma_im_path = f\"{os.environ['SCRATCH']}/isic-archive/ISIC_0000031.jpg\""
   ]
  },
  {
   "cell_type": "code",
   "execution_count": null,
   "id": "99da2ea4-7837-459c-a997-87f3fc4da470",
   "metadata": {},
   "outputs": [],
   "source": [
    "display(Image(melanoma_im_path, width=600))"
   ]
  },
  {
   "cell_type": "code",
   "execution_count": null,
   "id": "7e6ee644-333c-4987-be3b-b8333c523fb2",
   "metadata": {},
   "outputs": [],
   "source": [
    "img_array = PREPROCESSING(get_img_array(melanoma_im_path, size=(299, 299)))"
   ]
  },
  {
   "cell_type": "code",
   "execution_count": null,
   "id": "d3267c87-fc0e-4855-b89d-42b368f7bfc6",
   "metadata": {},
   "outputs": [],
   "source": [
    "heatmap = make_gradcam_heatmap(img_array, model.o_model, 'conv_7b')"
   ]
  },
  {
   "cell_type": "code",
   "execution_count": null,
   "id": "d5cd20d1-d669-4e8e-a9f2-9afbc4d7ab46",
   "metadata": {},
   "outputs": [],
   "source": [
    "display_gradcam(melanoma_im_path, heatmap)"
   ]
  },
  {
   "cell_type": "code",
   "execution_count": null,
   "id": "354b17d1-fef6-42ff-8c25-9b3e8620dae3",
   "metadata": {},
   "outputs": [],
   "source": []
  }
 ],
 "metadata": {
  "kernelspec": {
   "display_name": "Python 3",
   "language": "python",
   "name": "python3"
  },
  "language_info": {
   "codemirror_mode": {
    "name": "ipython",
    "version": 3
   },
   "file_extension": ".py",
   "mimetype": "text/x-python",
   "name": "python",
   "nbconvert_exporter": "python",
   "pygments_lexer": "ipython3",
   "version": "3.9.1"
  }
 },
 "nbformat": 4,
 "nbformat_minor": 5
}
