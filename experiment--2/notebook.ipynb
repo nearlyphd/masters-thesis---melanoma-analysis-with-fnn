{
 "cells": [
  {
   "cell_type": "code",
   "execution_count": null,
   "id": "68f0a113-2df1-4bdd-920a-8151240a2a65",
   "metadata": {},
   "outputs": [],
   "source": [
    "import sys \n",
    "import os\n",
    "sys.path.append(os.path.abspath(\"/net/people/plgamyshenin/masters-thesis---melanoma-analysis-with-fnn/experiment--2\"))\n",
    "\n",
    "import pandas as pd\n",
    "import matplotlib.cm as cm\n",
    "import matplotlib.pyplot as plt\n",
    "from sklearn.model_selection import train_test_split\n",
    "from random import shuffle\n",
    "from notebook import *"
   ]
  },
  {
   "cell_type": "markdown",
   "id": "f18e33d3-e1e3-4244-ab37-98fc83fc1b5b",
   "metadata": {},
   "source": [
    "# Data research"
   ]
  },
  {
   "cell_type": "markdown",
   "id": "fc579e5a-1ef7-4133-8f98-9e117be2b761",
   "metadata": {},
   "source": [
    "We load the __metadata.csv__, which contains information about each image."
   ]
  },
  {
   "cell_type": "code",
   "execution_count": null,
   "id": "87079465-47f2-4a73-9b74-bb0d330910d4",
   "metadata": {},
   "outputs": [],
   "source": [
    "metadata = pd.read_csv(f\"{os.environ['SCRATCH']}/isic-archive/metadata.csv\")\n",
    "metadata"
   ]
  },
  {
   "cell_type": "markdown",
   "id": "3723a833-e2f9-4d6e-ad91-e49766caafd3",
   "metadata": {},
   "source": [
    "__Note__:\n",
    "As we discovered, there are invalid image files. Let's remove those from the metadata."
   ]
  },
  {
   "cell_type": "code",
   "execution_count": null,
   "id": "d98b2bf2-2cbd-45a2-8f49-a5da2cb393a6",
   "metadata": {},
   "outputs": [],
   "source": [
    "metadata = metadata.drop(metadata[metadata['isic_id'].isin(['ISIC_0060052', 'ISIC_0029842'])].index)"
   ]
  },
  {
   "cell_type": "markdown",
   "id": "4271a308-f3e9-4577-a65e-eca0edca1948",
   "metadata": {},
   "source": [
    "Two columns are particularly important for research: __benign_malignant__ - indicates whether the lesion is benign or malignant without any particular diagnosis, and __diagnosis__ column. \n",
    "\n",
    "We break down the data by __benign_malignant__ and __diagnosis__ to see, what is the balance there."
   ]
  },
  {
   "cell_type": "code",
   "execution_count": null,
   "id": "06ac0154-1f35-4456-922c-e97040775256",
   "metadata": {},
   "outputs": [],
   "source": [
    "diagnosis_breaddown_metadata = metadata.groupby(['diagnosis'], dropna=False, as_index=False).size()"
   ]
  },
  {
   "cell_type": "code",
   "execution_count": null,
   "id": "1153f900-8c6f-4630-b877-1e91afec5aff",
   "metadata": {},
   "outputs": [],
   "source": [
    "benign_malignant_breaddown_metadata = metadata.groupby(['benign_malignant'], dropna=False, as_index=False).size()"
   ]
  },
  {
   "cell_type": "code",
   "execution_count": null,
   "id": "fb2e0ce3-6bc2-4f7b-863c-de02ce93a907",
   "metadata": {},
   "outputs": [],
   "source": [
    "%matplotlib inline\n",
    "\n",
    "plt.rcParams['axes.titley'] = -0.7\n",
    "\n",
    "fig, (ax1, ax2) = plt.subplots(1, 2, figsize=(23,5))\n",
    "\n",
    "# diagnosis plot\n",
    "data = diagnosis_breaddown_metadata['size']\n",
    "keys = diagnosis_breaddown_metadata['diagnosis']\n",
    "palette_color = ['#333745', '#E63462', '#FE5F55', '#C7EFCF', '#C7EFCF', '#D5573B', '#885053', '#777DA7', '#94C9A9', '#C6ECAE', '#3E92CC', '#2A628F', '#13293D', '#16324F', '#18435A', '#F4E04D', '#FCFCFC', '#54F2F2', '#5EB1BF', '#042A2B', '#EAC435', '#345995', '#03CEA4', '#FB4D3D', '#CA1551', '#89023E', '#CC7178', '#FFD9DA', '#C7D9B7']\n",
    "shuffle(palette_color)\n",
    "percentages = 100. * data / data.sum()\n",
    "\n",
    "# plotting data on chart\n",
    "patches, texts = ax1.pie(data, colors=palette_color, startangle=90, radius=2.5)\n",
    "labels = ['{0} - {1:1.2f} %'.format(i,j) for i,j in zip(keys, percentages)]\n",
    "patches, labels, dummy =  zip(*sorted(zip(patches, labels, data),\n",
    "                                      key=lambda x: x[2],\n",
    "                                      reverse=True))\n",
    "ax1.set_title('Pic.3. Metadata breakdown by diagnosis')\n",
    "ax1.legend(patches, labels, loc='upper right', bbox_to_anchor=(-0.1, 1.),\n",
    "           fontsize=10)\n",
    "\n",
    "# diagnosis plot\n",
    "data = benign_malignant_breaddown_metadata['size']\n",
    "keys = benign_malignant_breaddown_metadata['benign_malignant']\n",
    "palette_color = ['#333745', '#E63462', '#FE5F55', '#C7EFCF', '#C7EFCF', '#D5573B', '#885053', '#777DA7', '#94C9A9', '#C6ECAE', '#3E92CC', '#2A628F', '#13293D', '#16324F', '#18435A', '#F4E04D', '#FCFCFC', '#54F2F2', '#5EB1BF', '#042A2B', '#EAC435', '#345995', '#03CEA4', '#FB4D3D', '#CA1551', '#89023E', '#CC7178', '#FFD9DA', '#C7D9B7']\n",
    "shuffle(palette_color)\n",
    "percentages = 100. * data / data.sum()\n",
    "\n",
    "# plotting data on chart\n",
    "patches, texts = ax2.pie(data, colors=palette_color, startangle=90, radius=2.5)\n",
    "labels = ['{0} - {1:1.2f} %'.format(i,j) for i,j in zip(keys, percentages)]\n",
    "patches, labels, dummy =  zip(*sorted(zip(patches, labels, data),\n",
    "                                      key=lambda x: x[2],\n",
    "                                      reverse=True))\n",
    "\n",
    "ax2.set_title('Pic. 4. Metadata breakdown by malignancy')\n",
    "ax2.legend(patches, labels, loc='upper right', bbox_to_anchor=(-0.1, 1.),\n",
    "           fontsize=10)"
   ]
  },
  {
   "cell_type": "markdown",
   "id": "2e94f054-ef5b-4be9-a4ba-d8e75c37b3dc",
   "metadata": {},
   "source": [
    "<a id='metadata_breakdowns'></a>\n",
    "From the first pie chart, we see, that __39.28%__ samples don't have a diagnosis. We think, that the fact somehow correlates with the lesions' malignancy and the way the diagnosis' were obtained."
   ]
  },
  {
   "cell_type": "code",
   "execution_count": null,
   "id": "f57abe70-591e-4b06-9aaa-bdf4d370dfe9",
   "metadata": {},
   "outputs": [],
   "source": [
    "no_diagnosis_metadata = metadata[pd.isnull(metadata['diagnosis'])]"
   ]
  },
  {
   "cell_type": "code",
   "execution_count": null,
   "id": "09b359fd-57c4-4ffb-920b-c2a624b74667",
   "metadata": {},
   "outputs": [],
   "source": [
    "benign_malignant_breaddown_no_diagnosis_metadata = no_diagnosis_metadata.groupby(['benign_malignant'], dropna=False, as_index=False).size()"
   ]
  },
  {
   "cell_type": "code",
   "execution_count": null,
   "id": "7509c427-33b2-4e98-898d-a241c3f83904",
   "metadata": {},
   "outputs": [],
   "source": [
    "diagnosis_confirm_type_breaddown_no_diagnosis_metadata = no_diagnosis_metadata.groupby(['diagnosis_confirm_type'], dropna=False, as_index=False).size()"
   ]
  },
  {
   "cell_type": "code",
   "execution_count": null,
   "id": "4588c604-94a3-4060-a323-e1c30ab23036",
   "metadata": {},
   "outputs": [],
   "source": [
    "%matplotlib inline\n",
    "\n",
    "plt.rcParams['axes.titley'] = -0.7\n",
    "\n",
    "fig, (ax1, ax2) = plt.subplots(1, 2, figsize=(23,5))\n",
    "\n",
    "# diagnosis plot\n",
    "data = benign_malignant_breaddown_no_diagnosis_metadata['size']\n",
    "keys = benign_malignant_breaddown_no_diagnosis_metadata['benign_malignant']\n",
    "palette_color = ['#333745', '#E63462', '#FE5F55', '#C7EFCF', '#C7EFCF', '#D5573B', '#885053', '#777DA7', '#94C9A9', '#C6ECAE', '#3E92CC', '#2A628F', '#13293D', '#16324F', '#18435A', '#F4E04D', '#FCFCFC', '#54F2F2', '#5EB1BF', '#042A2B', '#EAC435', '#345995', '#03CEA4', '#FB4D3D', '#CA1551', '#89023E', '#CC7178', '#FFD9DA', '#C7D9B7']\n",
    "shuffle(palette_color)\n",
    "percentages = 100. * data / data.sum()\n",
    "\n",
    "# plotting data on chart\n",
    "patches, texts = ax1.pie(data, colors=palette_color, startangle=90, radius=2.5)\n",
    "labels = ['{0} - {1:1.2f} %'.format(i,j) for i,j in zip(keys, percentages)]\n",
    "patches, labels, dummy =  zip(*sorted(zip(patches, labels, data),\n",
    "                                      key=lambda x: x[2],\n",
    "                                      reverse=True))\n",
    "ax1.set_title('Pic. 5. Metadata with no dignosis breakdown by malignancy')\n",
    "ax1.legend(patches, labels, loc='upper right', bbox_to_anchor=(-0.1, 1.),\n",
    "           fontsize=10)\n",
    "\n",
    "# diagnosis plot\n",
    "data = diagnosis_confirm_type_breaddown_no_diagnosis_metadata['size']\n",
    "keys = diagnosis_confirm_type_breaddown_no_diagnosis_metadata['diagnosis_confirm_type']\n",
    "palette_color = ['#333745', '#E63462', '#FE5F55', '#C7EFCF', '#C7EFCF', '#D5573B', '#885053', '#777DA7', '#94C9A9', '#C6ECAE', '#3E92CC', '#2A628F', '#13293D', '#16324F', '#18435A', '#F4E04D', '#FCFCFC', '#54F2F2', '#5EB1BF', '#042A2B', '#EAC435', '#345995', '#03CEA4', '#FB4D3D', '#CA1551', '#89023E', '#CC7178', '#FFD9DA', '#C7D9B7']\n",
    "shuffle(palette_color)\n",
    "percentages = 100. * data / data.sum()\n",
    "\n",
    "# plotting data on chart\n",
    "patches, texts = ax2.pie(data, colors=palette_color, startangle=90, radius=2.5)\n",
    "labels = ['{0} - {1:1.2f} %'.format(i,j) for i,j in zip(keys, percentages)]\n",
    "patches, labels, dummy =  zip(*sorted(zip(patches, labels, data),\n",
    "                                      key=lambda x: x[2],\n",
    "                                      reverse=True))\n",
    "\n",
    "ax2.set_title('Pic. 6. Metadata with no dignosis breakdown by diagnosis confirmation type')\n",
    "ax2.legend(patches, labels, loc='upper right', bbox_to_anchor=(-0.1, 1.),\n",
    "           fontsize=10)"
   ]
  },
  {
   "cell_type": "markdown",
   "id": "d81c9155-fcbf-40e5-8d6d-e2eb6a050d44",
   "metadata": {},
   "source": [
    "__99.72%__ of samples without a diagnosis are benign and only __1.52%__ are consirmed with histopathology research. \n",
    "\n",
    "Probably, because excision wasn't done, the hospital protocol allowed not to put exact diagnosis. But imaging researches were enough to conclude that the lesions were benign.\n",
    "\n",
    "Let's see, what kind of research is made with the samples, which have diagnosis."
   ]
  },
  {
   "cell_type": "code",
   "execution_count": null,
   "id": "8c5796d4-6f3f-4d9c-ab8a-d4d454a8c44f",
   "metadata": {},
   "outputs": [],
   "source": [
    "yes_diagnosis_metadata = metadata[pd.notnull(metadata['diagnosis'])]"
   ]
  },
  {
   "cell_type": "code",
   "execution_count": null,
   "id": "0005ad12-0f3e-4cea-ad3e-b48fa71565ef",
   "metadata": {},
   "outputs": [],
   "source": [
    "benign_malignant_breaddown_yes_diagnosis_metadata = yes_diagnosis_metadata.groupby(['benign_malignant'], dropna=False, as_index=False).size()"
   ]
  },
  {
   "cell_type": "code",
   "execution_count": null,
   "id": "48644917-0a59-409d-bf30-aa34cc74544c",
   "metadata": {},
   "outputs": [],
   "source": [
    "diagnosis_confirm_type_breaddown_yes_diagnosis_metadata = yes_diagnosis_metadata.groupby(['diagnosis_confirm_type'], dropna=False, as_index=False).size()"
   ]
  },
  {
   "cell_type": "code",
   "execution_count": null,
   "id": "7691dcad-e043-4df8-84f7-51462101876a",
   "metadata": {},
   "outputs": [],
   "source": [
    "%matplotlib inline\n",
    "\n",
    "plt.rcParams['axes.titley'] = -0.7\n",
    "\n",
    "fig, (ax1, ax2) = plt.subplots(1, 2, figsize=(23,5))\n",
    "\n",
    "# diagnosis plot\n",
    "data = benign_malignant_breaddown_yes_diagnosis_metadata['size']\n",
    "keys = benign_malignant_breaddown_yes_diagnosis_metadata['benign_malignant']\n",
    "palette_color = ['#333745', '#E63462', '#FE5F55', '#C7EFCF', '#C7EFCF', '#D5573B', '#885053', '#777DA7', '#94C9A9', '#C6ECAE', '#3E92CC', '#2A628F', '#13293D', '#16324F', '#18435A', '#F4E04D', '#FCFCFC', '#54F2F2', '#5EB1BF', '#042A2B', '#EAC435', '#345995', '#03CEA4', '#FB4D3D', '#CA1551', '#89023E', '#CC7178', '#FFD9DA', '#C7D9B7']\n",
    "shuffle(palette_color)\n",
    "percentages = 100. * data / data.sum()\n",
    "\n",
    "# plotting data on chart\n",
    "patches, texts = ax1.pie(data, colors=palette_color, startangle=90, radius=2.5)\n",
    "labels = ['{0} - {1:1.2f} %'.format(i,j) for i,j in zip(keys, percentages)]\n",
    "patches, labels, dummy =  zip(*sorted(zip(patches, labels, data),\n",
    "                                      key=lambda x: x[2],\n",
    "                                      reverse=True))\n",
    "ax1.set_title('Pic. 7. Metadata with no dignosis breakdown by malignancy')\n",
    "ax1.legend(patches, labels, loc='upper right', bbox_to_anchor=(-0.1, 1.),\n",
    "           fontsize=10)\n",
    "\n",
    "# diagnosis plot\n",
    "data = diagnosis_confirm_type_breaddown_yes_diagnosis_metadata['size']\n",
    "keys = diagnosis_confirm_type_breaddown_yes_diagnosis_metadata['diagnosis_confirm_type']\n",
    "palette_color = ['#333745', '#E63462', '#FE5F55', '#C7EFCF', '#C7EFCF', '#D5573B', '#885053', '#777DA7', '#94C9A9', '#C6ECAE', '#3E92CC', '#2A628F', '#13293D', '#16324F', '#18435A', '#F4E04D', '#FCFCFC', '#54F2F2', '#5EB1BF', '#042A2B', '#EAC435', '#345995', '#03CEA4', '#FB4D3D', '#CA1551', '#89023E', '#CC7178', '#FFD9DA', '#C7D9B7']\n",
    "shuffle(palette_color)\n",
    "percentages = 100. * data / data.sum()\n",
    "\n",
    "# plotting data on chart\n",
    "patches, texts = ax2.pie(data, colors=palette_color, startangle=90, radius=2.5)\n",
    "labels = ['{0} - {1:1.2f} %'.format(i,j) for i,j in zip(keys, percentages)]\n",
    "patches, labels, dummy =  zip(*sorted(zip(patches, labels, data),\n",
    "                                      key=lambda x: x[2],\n",
    "                                      reverse=True))\n",
    "\n",
    "ax2.set_title('Pic. 8. Metadata with no dignosis breakdown by diagnosis confirmation type')\n",
    "ax2.legend(patches, labels, loc='upper right', bbox_to_anchor=(-0.1, 1.),\n",
    "           fontsize=10)"
   ]
  },
  {
   "cell_type": "markdown",
   "id": "3103a900-2712-479f-9960-c4b65070fcc2",
   "metadata": {},
   "source": [
    "Out of the samples with diagnosis, much more of them were confirmed with a histopathological research - __48.18%__. But, and that's important, if a sample has a diagnosis, it doesn't mean, that it was confirmed with a histopathological research."
   ]
  },
  {
   "cell_type": "markdown",
   "id": "8d0b63d7-3c09-4746-8597-00ff3b7518fe",
   "metadata": {},
   "source": [
    "Let's go back to the [Pic. 4. Breakdown by malignancy](#metadata_breakdowns) . __10.92%__ of samples have unknown malignancy, so we will study it through diagnosis and other columns."
   ]
  },
  {
   "cell_type": "code",
   "execution_count": null,
   "id": "72598fa2-6bc7-48d1-84e9-9baf04a65b06",
   "metadata": {},
   "outputs": [],
   "source": [
    "no_benign_malignant_metadata = metadata[pd.isnull(metadata['benign_malignant'])]"
   ]
  },
  {
   "cell_type": "code",
   "execution_count": null,
   "id": "a3c15d38-6511-4a61-8fb8-5e51b1fdb1c6",
   "metadata": {},
   "outputs": [],
   "source": [
    "diagnosis_breakdown_no_benign_malignant_metadata = no_benign_malignant_metadata.groupby(['diagnosis'], dropna=False, as_index=False).size()"
   ]
  },
  {
   "cell_type": "code",
   "execution_count": null,
   "id": "e9d69b15-2f77-4a0f-9b93-8625d125ad2b",
   "metadata": {},
   "outputs": [],
   "source": [
    "diagnosis_confirm_type_no_benign_malignant_metadata = no_benign_malignant_metadata.groupby(['diagnosis_confirm_type'], dropna=False, as_index=False).size()"
   ]
  },
  {
   "cell_type": "code",
   "execution_count": null,
   "id": "567f7a31-b867-42f7-bceb-5fca0bd1c776",
   "metadata": {},
   "outputs": [],
   "source": [
    "%matplotlib inline\n",
    "\n",
    "plt.rcParams['axes.titley'] = -0.7\n",
    "\n",
    "fig, (ax1, ax2) = plt.subplots(1, 2, figsize=(23,5))\n",
    "\n",
    "# diagnosis plot\n",
    "data = diagnosis_breakdown_no_benign_malignant_metadata['size']\n",
    "keys = diagnosis_breakdown_no_benign_malignant_metadata['diagnosis']\n",
    "palette_color = ['#333745', '#E63462', '#FE5F55', '#C7EFCF', '#C7EFCF', '#D5573B', '#885053', '#777DA7', '#94C9A9', '#C6ECAE', '#3E92CC', '#2A628F', '#13293D', '#16324F', '#18435A', '#F4E04D', '#FCFCFC', '#54F2F2', '#5EB1BF', '#042A2B', '#EAC435', '#345995', '#03CEA4', '#FB4D3D', '#CA1551', '#89023E', '#CC7178', '#FFD9DA', '#C7D9B7']\n",
    "shuffle(palette_color)\n",
    "percentages = 100. * data / data.sum()\n",
    "\n",
    "# plotting data on chart\n",
    "patches, texts = ax1.pie(data, colors=palette_color, startangle=90, radius=2.5)\n",
    "labels = ['{0} - {1:1.2f} %'.format(i,j) for i,j in zip(keys, percentages)]\n",
    "patches, labels, dummy =  zip(*sorted(zip(patches, labels, data),\n",
    "                                      key=lambda x: x[2],\n",
    "                                      reverse=True))\n",
    "ax1.set_title('Pic. 9. Metadata with no malignancy breakdown by diagnosis')\n",
    "ax1.legend(patches, labels, loc='upper right', bbox_to_anchor=(-0.1, 1.),\n",
    "           fontsize=10)\n",
    "\n",
    "# diagnosis plot\n",
    "data = diagnosis_confirm_type_no_benign_malignant_metadata['size']\n",
    "keys = diagnosis_confirm_type_no_benign_malignant_metadata['diagnosis_confirm_type']\n",
    "palette_color = ['#333745', '#E63462', '#FE5F55', '#C7EFCF', '#C7EFCF', '#D5573B', '#885053', '#777DA7', '#94C9A9', '#C6ECAE', '#3E92CC', '#2A628F', '#13293D', '#16324F', '#18435A', '#F4E04D', '#FCFCFC', '#54F2F2', '#5EB1BF', '#042A2B', '#EAC435', '#345995', '#03CEA4', '#FB4D3D', '#CA1551', '#89023E', '#CC7178', '#FFD9DA', '#C7D9B7']\n",
    "shuffle(palette_color)\n",
    "percentages = 100. * data / data.sum()\n",
    "\n",
    "# plotting data on chart\n",
    "patches, texts = ax2.pie(data, colors=palette_color, startangle=90, radius=2.5)\n",
    "labels = ['{0} - {1:1.2f} %'.format(i,j) for i,j in zip(keys, percentages)]\n",
    "patches, labels, dummy =  zip(*sorted(zip(patches, labels, data),\n",
    "                                      key=lambda x: x[2],\n",
    "                                      reverse=True))\n",
    "\n",
    "ax2.set_title('Pic. 10. Metadata with no malignancy breakdown by diagnosis confirmation type')\n",
    "ax2.legend(patches, labels, loc='upper right', bbox_to_anchor=(-0.1, 1.),\n",
    "           fontsize=10)"
   ]
  },
  {
   "cell_type": "markdown",
   "id": "b69a8365-80c3-48cf-8099-633cc313d795",
   "metadata": {},
   "source": [
    "For the most cases, the issues is with incorrectly filled data:\n",
    "- [Basal-cell carcinoma](https://en.wikipedia.org/wiki/Basal-cell_carcinoma) - malignant\n",
    "- Pigmented benign ketosis - benign\n",
    "- [Seborrheic keratosis](https://en.wikipedia.org/wiki/Seborrheic_keratosis) - benign\n",
    "- [Actinic keratosis](https://en.wikipedia.org/wiki/Actinic_keratosis) - precancerous, untreated lesions have up to a 20% risk of progression to squamous cell carcinoma, for our purposes, we'll consider it malignant\n",
    "- [Squamous cell carcinoma](https://en.wikipedia.org/wiki/Squamous_cell_carcinoma) - malignant\n",
    "- [Vascular lesion](https://en.wikipedia.org/wiki/Vascular_anomaly) - benign\n",
    "- [Dermatofibroma](https://en.wikipedia.org/wiki/Dermatofibroma) - benign\n",
    "- [Solar lentigo](https://en.wikipedia.org/wiki/Liver_spot) - benign\n",
    "\n",
    "Let's fix the data"
   ]
  },
  {
   "cell_type": "code",
   "execution_count": null,
   "id": "c6f87da8-88f8-4f2f-95c5-fc3382485ed0",
   "metadata": {},
   "outputs": [],
   "source": [
    "metadata.loc[metadata['diagnosis'] == 'basal cell carcinoma', 'benign_malignant']  = 'malignant'\n",
    "metadata.loc[metadata['diagnosis'] == 'pigmented benign keratosis', 'benign_malignant']  = 'benign'\n",
    "metadata.loc[metadata['diagnosis'] == 'seborrheic keratosis', 'benign_malignant']  = 'benign'\n",
    "metadata.loc[metadata['diagnosis'] == 'actinic keratosis', 'benign_malignant']  = 'malignant'\n",
    "metadata.loc[metadata['diagnosis'] == 'squamous cell carcinoma', 'benign_malignant']  = 'malignant'\n",
    "metadata.loc[metadata['diagnosis'] == 'vascular lesion', 'benign_malignant']  = 'benign'\n",
    "metadata.loc[metadata['diagnosis'] == 'dermatofibroma', 'benign_malignant']  = 'benign'\n",
    "metadata.loc[metadata['diagnosis'] == 'solar lentigo', 'benign_malignant']  = 'benign'"
   ]
  },
  {
   "cell_type": "markdown",
   "id": "116b814f-8228-4b85-bb3f-b4d897beb860",
   "metadata": {},
   "source": [
    "Returning to samples without a diagnosis, we have two ways out of this:\n",
    "- remove the samples\n",
    "- introduce a new \"label\"\n",
    "\n",
    "We don't know much about those samples except that they contain all kind of benign skin conditions. So, for example, there will be __solar lentigo__ samples in the __solar lentigo__ subset and the undiagnosed subset. That will may lead to classifying __solar lentigo__ as a part of undiagnosed subset. That's why, it's better to exclude the undiagnosed samples from training.\n",
    "\n",
    "In addition to that, the dataset is tilted toward benign skin conditions, and almost all undiagnosed samples represent benign skin conditions. In that way, we not only remove confusing data but perform undersampling to balance out the dataset."
   ]
  },
  {
   "cell_type": "code",
   "execution_count": null,
   "id": "fac400ba-0c1e-4b9f-89c5-9af8de1efda9",
   "metadata": {},
   "outputs": [],
   "source": [
    "metadata = metadata.drop(metadata[pd.isnull(metadata['diagnosis'])].index)"
   ]
  },
  {
   "cell_type": "markdown",
   "id": "546cb34c-e857-4569-83f2-68e66f3d45b4",
   "metadata": {},
   "source": [
    "Later on we will need to split the dataset into training, validation and testing. To do that, all diagnoses should have sufficient amount of  samples."
   ]
  },
  {
   "cell_type": "code",
   "execution_count": null,
   "id": "57f611fd-69a8-4e5c-90a6-f8fa58eb29eb",
   "metadata": {},
   "outputs": [],
   "source": [
    "diagnosis_numbers = metadata.groupby(['diagnosis'], dropna=False, as_index=False).size().sort_values(by='size')\n",
    "diagnosis_numbers"
   ]
  },
  {
   "cell_type": "markdown",
   "id": "3ae1cd18-7d02-431b-95d5-a94c3cd0e0f9",
   "metadata": {},
   "source": [
    "We'll remove the samples, which are not part of the 10 most common diagnosis categories."
   ]
  },
  {
   "cell_type": "code",
   "execution_count": null,
   "id": "f1258e24-6499-42ba-8f10-16441d41ddaf",
   "metadata": {},
   "outputs": [],
   "source": [
    "rare_diagnosis = diagnosis_numbers[:-10]['diagnosis']\n",
    "rare_diagnosis"
   ]
  },
  {
   "cell_type": "code",
   "execution_count": null,
   "id": "a6042a1c-9469-4120-be9f-727e6af982ce",
   "metadata": {},
   "outputs": [],
   "source": [
    "metadata = metadata.drop(metadata[metadata['diagnosis'].isin(rare_diagnosis)].index)\n",
    "metadata = metadata.drop(metadata[~metadata['benign_malignant'].isin(['benign', 'malignant'])].index)"
   ]
  },
  {
   "cell_type": "markdown",
   "id": "9f8bd5b7-92c8-4f7e-b486-a46a87b081b5",
   "metadata": {},
   "source": [
    "Let's look at the breakdown now."
   ]
  },
  {
   "cell_type": "code",
   "execution_count": null,
   "id": "495d6ea8-42e3-49d8-968b-322e2bfe5e71",
   "metadata": {},
   "outputs": [],
   "source": [
    "diagnosis_breaddown_metadata = metadata.groupby(['diagnosis'], dropna=False, as_index=False).size()"
   ]
  },
  {
   "cell_type": "code",
   "execution_count": null,
   "id": "e194832c-4873-4a64-a796-1cdfda7c3d8c",
   "metadata": {},
   "outputs": [],
   "source": [
    "benign_malignant_breaddown_metadata = metadata.groupby(['benign_malignant'], dropna=False, as_index=False).size()"
   ]
  },
  {
   "cell_type": "code",
   "execution_count": null,
   "id": "c1372de8-7dac-4685-a0d2-d8723dcf6471",
   "metadata": {},
   "outputs": [],
   "source": [
    "%matplotlib inline\n",
    "\n",
    "plt.rcParams['axes.titley'] = -0.7\n",
    "\n",
    "fig, (ax1, ax2) = plt.subplots(1, 2, figsize=(23,5))\n",
    "\n",
    "# diagnosis plot\n",
    "data = diagnosis_breaddown_metadata['size']\n",
    "keys = diagnosis_breaddown_metadata['diagnosis']\n",
    "palette_color = ['#333745', '#E63462', '#FE5F55', '#C7EFCF', '#C7EFCF', '#D5573B', '#885053', '#777DA7', '#94C9A9', '#C6ECAE', '#3E92CC', '#2A628F', '#13293D', '#16324F', '#18435A', '#F4E04D', '#FCFCFC', '#54F2F2', '#5EB1BF', '#042A2B', '#EAC435', '#345995', '#03CEA4', '#FB4D3D', '#CA1551', '#89023E', '#CC7178', '#FFD9DA', '#C7D9B7']\n",
    "shuffle(palette_color)\n",
    "percentages = 100. * data / data.sum()\n",
    "\n",
    "# plotting data on chart\n",
    "patches, texts = ax1.pie(data, colors=palette_color, startangle=90, radius=2.5)\n",
    "labels = ['{0} - {1:1.2f} %'.format(i,j) for i,j in zip(keys, percentages)]\n",
    "patches, labels, dummy =  zip(*sorted(zip(patches, labels, data),\n",
    "                                      key=lambda x: x[2],\n",
    "                                      reverse=True))\n",
    "ax1.set_title('Pic.11. Metadata breakdown by diagnosis after preprocessing')\n",
    "ax1.legend(patches, labels, loc='upper right', bbox_to_anchor=(-0.1, 1.),\n",
    "           fontsize=10)\n",
    "\n",
    "# diagnosis plot\n",
    "data = benign_malignant_breaddown_metadata['size']\n",
    "keys = benign_malignant_breaddown_metadata['benign_malignant']\n",
    "palette_color = ['#333745', '#E63462', '#FE5F55', '#C7EFCF', '#C7EFCF', '#D5573B', '#885053', '#777DA7', '#94C9A9', '#C6ECAE', '#3E92CC', '#2A628F', '#13293D', '#16324F', '#18435A', '#F4E04D', '#FCFCFC', '#54F2F2', '#5EB1BF', '#042A2B', '#EAC435', '#345995', '#03CEA4', '#FB4D3D', '#CA1551', '#89023E', '#CC7178', '#FFD9DA', '#C7D9B7']\n",
    "percentages = 100. * data / data.sum()\n",
    "\n",
    "# plotting data on chart\n",
    "patches, texts = ax2.pie(data, colors=palette_color, startangle=90, radius=2.5)\n",
    "labels = ['{0} - {1:1.2f} %'.format(i,j) for i,j in zip(keys, percentages)]\n",
    "patches, labels, dummy =  zip(*sorted(zip(patches, labels, data),\n",
    "                                      key=lambda x: x[2],\n",
    "                                      reverse=True))\n",
    "\n",
    "ax2.set_title('Pic. 12. Metadata breakdown by malignancy after preprocessing')\n",
    "ax2.legend(patches, labels, loc='upper right', bbox_to_anchor=(-0.1, 1.),\n",
    "           fontsize=10)"
   ]
  },
  {
   "cell_type": "markdown",
   "id": "3806a18b-ed94-47b0-9a07-0ef320bfbe38",
   "metadata": {},
   "source": [
    "The dataset is still imbalanced, so we'll calculate class weights to use them in training."
   ]
  },
  {
   "cell_type": "code",
   "execution_count": null,
   "id": "44bec018-ffd9-4ee5-b676-fbe0d214fbb4",
   "metadata": {},
   "outputs": [],
   "source": [
    "class_weights = metadata.groupby(['diagnosis'], dropna=False, as_index=False).size()\n",
    "class_weights.loc[:, 'size'] =  1 / class_weights.loc[:, 'size']\n",
    "class_weights.loc[:, 'size'] *= ( len(metadata) / 10 )\n",
    "class_weights"
   ]
  },
  {
   "cell_type": "code",
   "execution_count": null,
   "id": "ad8af459-05d3-4584-8eeb-54ba6c3ee4e4",
   "metadata": {},
   "outputs": [],
   "source": [
    "class_weights = dict(enumerate(class_weights['size']))"
   ]
  },
  {
   "cell_type": "markdown",
   "id": "09b906ab-0cde-4a40-98ea-f68b82f946dd",
   "metadata": {},
   "source": [
    "We transform ISIC ids to filenames. "
   ]
  },
  {
   "cell_type": "code",
   "execution_count": null,
   "id": "c5909d23-0422-4124-88f6-e8a033ce29e4",
   "metadata": {},
   "outputs": [],
   "source": [
    "metadata['isic_id'] += '.jpg'"
   ]
  },
  {
   "cell_type": "markdown",
   "id": "29662192-58e1-4aef-a4e8-37102bca2875",
   "metadata": {},
   "source": [
    "We need to extract testing files from the dataset."
   ]
  },
  {
   "cell_type": "code",
   "execution_count": null,
   "id": "a046311f-4700-4b8f-818a-7fb50826affa",
   "metadata": {},
   "outputs": [],
   "source": [
    "rest_set, testing_set = train_test_split(metadata, test_size=0.1)"
   ]
  },
  {
   "cell_type": "markdown",
   "id": "801e2856-4401-4f8e-b39e-d4f9180ace69",
   "metadata": {},
   "source": [
    "Finally, we can load the images."
   ]
  },
  {
   "cell_type": "code",
   "execution_count": null,
   "id": "aa7eb5fb-483d-4aee-9d02-087429f7797d",
   "metadata": {},
   "outputs": [],
   "source": [
    "generator = tf.keras.preprocessing.image.ImageDataGenerator(\n",
    "    rotation_range=180,\n",
    "    horizontal_flip=True,\n",
    "    vertical_flip=True,\n",
    "    brightness_range=(0.2, 1.5),\n",
    "    validation_split=0.2\n",
    ")\n",
    "\n",
    "training_set = generator.flow_from_dataframe(\n",
    "    rest_set,\n",
    "    directory=f\"{os.environ['SCRATCH']}/isic-archive\",\n",
    "    x_col='isic_id',\n",
    "    y_col='diagnosis',\n",
    "    \n",
    "    target_size=(299, 299), \n",
    "    batch_size=32, \n",
    "    class_mode='categorical', \n",
    "    subset='training'\n",
    ")\n",
    "\n",
    "validation_set = generator.flow_from_dataframe(\n",
    "    rest_set,\n",
    "    directory=f\"{os.environ['SCRATCH']}/isic-archive\",\n",
    "    x_col='isic_id',\n",
    "    y_col='diagnosis',\n",
    "    \n",
    "    target_size=(299, 299), \n",
    "    batch_size=32, \n",
    "    class_mode='categorical', \n",
    "    subset='validation'\n",
    ")\n",
    "\n",
    "testing_set = generator.flow_from_dataframe(\n",
    "    testing_set,\n",
    "    directory=f\"{os.environ['SCRATCH']}/isic-archive\",\n",
    "    x_col='isic_id',\n",
    "    y_col='diagnosis',\n",
    "    \n",
    "    target_size=(299, 299), \n",
    "    batch_size=32, \n",
    "    class_mode='categorical'\n",
    ")"
   ]
  },
  {
   "cell_type": "code",
   "execution_count": null,
   "id": "e58f3b73-830f-4b8d-8695-cfbc6554b6ef",
   "metadata": {},
   "outputs": [],
   "source": [
    "CLASS_NUMBER = len(training_set.class_indices)"
   ]
  },
  {
   "cell_type": "markdown",
   "id": "ea1861dc-14f1-4e96-8578-6c791651da5f",
   "metadata": {},
   "source": [
    "## Data source"
   ]
  },
  {
   "cell_type": "markdown",
   "id": "021c70fd-2a25-4c39-a194-9856c62b8dde",
   "metadata": {},
   "source": [
    "As a data source, we use the ISIC Archive."
   ]
  },
  {
   "cell_type": "markdown",
   "id": "674fd0bb-3ec4-4a51-8abb-32bf3e40ceae",
   "metadata": {},
   "source": [
    "The ISIC Archive is an open source platform with publicly available images of skin lesions under Creative Commons licenses. The images are associated with ground-truth diagnoses and other clinical metadata. Images can be queried using faceted search and downloaded individually or in batches. The initial focus of the archive has been on dermoscopy images of individual skin lesions, as these images are inherently standardized by the use of a specialized acquisition device and devoid of many of the privacy challenges associated with clinical images. To date, the images have been provided by specialized melanoma centers from around the world. The archive is designed to accept contributions from new sources under the Terms of Use and welcomes new contributors. There are ongoing efforts to supplement the dermoscopy images in the archive with close-up clinical images and a broader representation of skin types. The images in the Archive are used to support educational efforts through linkage with Dermoscopedia and are used for Grand Challenges and Live Challenges to engage the computer science community for the development of diagnostic AI."
   ]
  },
  {
   "cell_type": "markdown",
   "id": "a8463ce7-3f0b-47ca-ac77-479ec1dfc394",
   "metadata": {},
   "source": [
    "For more information, go to [ISIC Archive web site](https://www.isic-archive.com/)"
   ]
  },
  {
   "cell_type": "markdown",
   "id": "da595ddc-7826-4c2c-b4a7-d68d26cbee1c",
   "metadata": {},
   "source": [
    "# Model training"
   ]
  },
  {
   "cell_type": "markdown",
   "id": "46b56911-fc6b-4f91-ac13-fdfbb74bd5b5",
   "metadata": {},
   "source": [
    "## Preparing TensorFlow callbacks"
   ]
  },
  {
   "cell_type": "markdown",
   "id": "894ad162-3c9c-4681-a308-ccc6d0bee33a",
   "metadata": {},
   "source": [
    "For our convenience, we create a few TensorFlow callbacks."
   ]
  },
  {
   "cell_type": "markdown",
   "id": "d813f813-390a-44b2-8778-3ac4b7216561",
   "metadata": {},
   "source": [
    "### The EarlyStopping callback"
   ]
  },
  {
   "cell_type": "markdown",
   "id": "0cbe74d2-4aa3-4fe8-87f7-355500242732",
   "metadata": {},
   "source": [
    "This callback stops training when the metrics (e.g. validation loss) are not improving,"
   ]
  },
  {
   "cell_type": "code",
   "execution_count": null,
   "id": "2eed769b-0c6b-4b91-8fdf-043fe9fe8319",
   "metadata": {},
   "outputs": [],
   "source": [
    "early_stop_callback = tf.keras.callbacks.EarlyStopping(\n",
    "    monitor=\"val_loss\", \n",
    "    min_delta=0.01, \n",
    "    patience=5, \n",
    "    restore_best_weights=True\n",
    ")"
   ]
  },
  {
   "cell_type": "markdown",
   "id": "f0f56ae2-ab92-40fe-a21d-c02b5568e11f",
   "metadata": {},
   "source": [
    "## Define the distribution strategy"
   ]
  },
  {
   "cell_type": "code",
   "execution_count": null,
   "id": "80036d44-0286-49bb-8535-500aace46232",
   "metadata": {},
   "outputs": [],
   "source": [
    "strategy = tf.distribute.MirroredStrategy()"
   ]
  },
  {
   "cell_type": "markdown",
   "id": "d852bf51-7e11-4651-9b7e-4ce4089eecab",
   "metadata": {},
   "source": [
    "## Actual training"
   ]
  },
  {
   "cell_type": "code",
   "execution_count": null,
   "id": "2aeb5445-af2a-46f9-85a6-2c4a82ea8b27",
   "metadata": {},
   "outputs": [],
   "source": [
    "with strategy.scope():\n",
    "    model = FractalNeuralNetwork(class_number=CLASS_NUMBER)\n",
    "    model.compile(optimizer='adam', loss='categorical_crossentropy', metrics=['accuracy'])"
   ]
  },
  {
   "cell_type": "code",
   "execution_count": null,
   "id": "8f44e2a6-35fc-434f-8603-f01c50e0257b",
   "metadata": {},
   "outputs": [],
   "source": [
    "model.fit(\n",
    "    training_set, \n",
    "    validation_data=validation_set, \n",
    "    epochs=30,\n",
    "    callbacks=[\n",
    "        early_stop_callback,\n",
    "    ]\n",
    ")"
   ]
  },
  {
   "cell_type": "markdown",
   "id": "a5aaafc8-3c89-4804-96a2-cb6b6f62f70f",
   "metadata": {},
   "source": [
    "## Making diagnoses"
   ]
  },
  {
   "cell_type": "code",
   "execution_count": null,
   "id": "e4642388-bbdf-40cc-b700-6b22008eb3d1",
   "metadata": {},
   "outputs": [],
   "source": [
    "true_labels = np.concatenate([testing_set[i][1] for i in range(len(testing_set))], axis=0)"
   ]
  },
  {
   "cell_type": "code",
   "execution_count": null,
   "id": "2e69f432-8491-4572-890e-58731562ce4f",
   "metadata": {},
   "outputs": [],
   "source": [
    "predicted_labels = model.predict(testing_set)"
   ]
  },
  {
   "cell_type": "markdown",
   "id": "20e4a3f9-8b25-45d8-a516-7b561b0e818a",
   "metadata": {},
   "source": [
    "## Plot the ROC Curve"
   ]
  },
  {
   "cell_type": "code",
   "execution_count": null,
   "id": "499c6f87-2532-4243-abb2-70a5dafd336c",
   "metadata": {},
   "outputs": [],
   "source": [
    "fpr = dict()\n",
    "tpr = dict()\n",
    "auc_metric = dict()\n",
    "\n",
    "diagnosis_index_dict = {v: k for k, v in testing_set.class_indices.items()}\n",
    "\n",
    "for i in range(len(diagnosis_index_dict)):\n",
    "    diagnosis = diagnosis_index_dict[i]\n",
    "    fpr[diagnosis], tpr[diagnosis], _ = roc_curve(true_labels[:, i], predicted_labels[:, i])\n",
    "    auc_metric[diagnosis] = auc(fpr[diagnosis], tpr[diagnosis])"
   ]
  },
  {
   "cell_type": "code",
   "execution_count": null,
   "id": "e0c9d530-14e9-4d13-a8b4-0b299edf0c54",
   "metadata": {
    "tags": []
   },
   "outputs": [],
   "source": [
    "%matplotlib inline \n",
    "for diagnosis in testing_set.class_indices:\n",
    "    plt.plot(fpr[diagnosis], tpr[diagnosis], label=diagnosis)\n",
    "    \n",
    "plt.plot([0, 1], [0, 1], 'k--')\n",
    "plt.xlabel('False Positive Rate')\n",
    "plt.ylabel('True Positive Rate')\n",
    "plt.title('Receiver operating characteristic')\n",
    "plt.legend(loc=\"lower right\")\n",
    "plt.show()"
   ]
  },
  {
   "cell_type": "markdown",
   "id": "613235b0-6cf7-4024-8a26-06382a9b6e4a",
   "metadata": {},
   "source": [
    "## Show AUC"
   ]
  },
  {
   "cell_type": "code",
   "execution_count": null,
   "id": "a52f9c59-620d-42aa-9c84-0322a36154fc",
   "metadata": {},
   "outputs": [],
   "source": [
    "auc_metric"
   ]
  }
 ],
 "metadata": {
  "kernelspec": {
   "display_name": "Python 3",
   "language": "python",
   "name": "python3"
  },
  "language_info": {
   "codemirror_mode": {
    "name": "ipython",
    "version": 3
   },
   "file_extension": ".py",
   "mimetype": "text/x-python",
   "name": "python",
   "nbconvert_exporter": "python",
   "pygments_lexer": "ipython3",
   "version": "3.9.1"
  }
 },
 "nbformat": 4,
 "nbformat_minor": 5
}
