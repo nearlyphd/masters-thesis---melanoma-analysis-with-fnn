{
 "cells": [
  {
   "cell_type": "markdown",
   "id": "e8b5195f-e3f0-4995-a9a3-2646f24586b8",
   "metadata": {},
   "source": [
    "# Lesion classification"
   ]
  },
  {
   "cell_type": "code",
   "execution_count": null,
   "id": "0a2a990d-07b3-4648-9b30-08a868437444",
   "metadata": {},
   "outputs": [],
   "source": [
    "import sys \n",
    "import os\n",
    "sys.path.append(os.path.abspath(\"/net/people/plgamyshenin/masters-thesis---melanoma-analysis-with-fnn/experiment--2\"))\n",
    "\n",
    "from lib.auc import calculate_auc\n",
    "from lib.isic_loader import isic_loader\n",
    "from lib.fractal_percolation import FractalPercolation\n",
    "from lib.gradcam import display_gradcam, make_gradcam_heatmap, get_img_array"
   ]
  },
  {
   "cell_type": "code",
   "execution_count": null,
   "id": "dafee79e-3964-45fa-beb7-67e572805b5e",
   "metadata": {},
   "outputs": [],
   "source": [
    "import numpy as np\n",
    "import tensorflow as tf\n",
    "import matplotlib.pyplot as plt\n",
    "from IPython.display import Image, display"
   ]
  },
  {
   "cell_type": "code",
   "execution_count": null,
   "id": "d126d2ed-894b-48b4-b0dd-a3213ec4c8aa",
   "metadata": {},
   "outputs": [],
   "source": [
    "tf.get_logger().setLevel('ERROR')"
   ]
  },
  {
   "cell_type": "markdown",
   "id": "f12fa952-92c1-40db-9ba9-129b1bd759bc",
   "metadata": {},
   "source": [
    "### Model configuration"
   ]
  },
  {
   "cell_type": "markdown",
   "id": "25ec11fd-a1c4-460c-b8cd-d9454bdaf4aa",
   "metadata": {},
   "source": [
    "- Model architecture: Inception ResNet V2\n",
    "- Fractal module used: with Percolation\n",
    "- Number of layers tuned: 1"
   ]
  },
  {
   "cell_type": "code",
   "execution_count": null,
   "id": "dbf4d6a2-be22-4db0-b3b4-2829673e0742",
   "metadata": {},
   "outputs": [],
   "source": [
    "DATA_SIZE = None\n",
    "EPOCHS = 30\n",
    "\n",
    "\n",
    "O_MODEL = tf.keras.applications.inception_resnet_v2.InceptionResNetV2(\n",
    "            include_top=False,\n",
    "            weights='imagenet',\n",
    "            input_shape=(299, 299, 3),\n",
    "            pooling='avg'\n",
    "        )\n",
    "\n",
    "F_MODEL = tf.keras.applications.inception_resnet_v2.InceptionResNetV2(\n",
    "            include_top=False,\n",
    "            weights='imagenet',\n",
    "            input_shape=(299, 299, 3),\n",
    "            pooling='avg'\n",
    "        )\n",
    "\n",
    "IMAGE_PREPROCESSING = tf.keras.applications.inception_resnet_v2.preprocess_input\n",
    "FRACTAL_MODULE = FractalPercolation\n",
    "UNFROZEN_LAYERS = ['conv7_b']\n",
    "GRADCAM_LAYER = 'conv_7b'"
   ]
  },
  {
   "cell_type": "markdown",
   "id": "0b556343-e0da-4013-9aa6-9167436fb310",
   "metadata": {},
   "source": [
    "### Load the ISIC Archive dataset"
   ]
  },
  {
   "cell_type": "code",
   "execution_count": null,
   "id": "b3749a0b-5746-4bff-9dbf-04cf66ed18bd",
   "metadata": {},
   "outputs": [],
   "source": [
    "class_weight, (training_set, validation_set, testing_set) = isic_loader(size=DATA_SIZE)"
   ]
  },
  {
   "cell_type": "markdown",
   "id": "20008d15-a1e9-4538-9114-e9f0d6572f05",
   "metadata": {},
   "source": [
    "### Model definition and callbacks"
   ]
  },
  {
   "cell_type": "code",
   "execution_count": null,
   "id": "2498d353-3649-4f70-b2bf-cc38823dcb5f",
   "metadata": {},
   "outputs": [],
   "source": [
    "class LesionClassifier(tf.keras.Model):\n",
    "    TARGET_WIDTH, TARGET_HEIGHT = 299, 299\n",
    "    \n",
    "    def __init__(self, class_number):\n",
    "        super(LesionClassifier, self).__init__()\n",
    "        \n",
    "        self.fractal_module = FRACTAL_MODULE()\n",
    "        self.resize = tf.keras.layers.Resizing(\n",
    "            width=self.TARGET_WIDTH,\n",
    "            height=self.TARGET_HEIGHT\n",
    "        )\n",
    "        self.rescale = tf.keras.layers.Rescaling(scale=1./255)\n",
    "        \n",
    "        self.o_model = O_MODEL\n",
    "        for layer in self.o_model.layers:\n",
    "            if layer.name in UNFROZEN_LAYERS:\n",
    "                layer.trainable = True\n",
    "            else:\n",
    "                layer.trainable = False\n",
    "                \n",
    "        self.f_model = F_MODEL\n",
    "        for layer in self.f_model.layers:\n",
    "            if layer.name in UNFROZEN_LAYERS:\n",
    "                layer.trainable = True\n",
    "            else:\n",
    "                layer.trainable = False\n",
    "                \n",
    "        self.fusion = tf.keras.layers.Concatenate()\n",
    "        self.dense = tf.keras.layers.Dense(class_number, activation='softmax')\n",
    "        \n",
    "    def call(self, inputs):\n",
    "        f_outputs = self.fractal_module(inputs)\n",
    "        f_outputs = self.resize(f_outputs)\n",
    "        f_outputs = self.rescale(f_outputs)\n",
    "        f_outputs = self.f_model(f_outputs)\n",
    "        \n",
    "        o_outputs = self.rescale(inputs)\n",
    "        o_outputs = self.o_model(o_outputs)\n",
    "        \n",
    "        outputs = self.fusion([f_outputs, o_outputs])\n",
    "        outputs = self.dense(outputs)\n",
    "        \n",
    "        return outputs"
   ]
  },
  {
   "cell_type": "code",
   "execution_count": null,
   "id": "0c8e6583-7673-42e6-8825-7510bc3b7c9f",
   "metadata": {},
   "outputs": [],
   "source": [
    "early_stop_callback = tf.keras.callbacks.EarlyStopping(\n",
    "    monitor=\"val_loss\", \n",
    "    min_delta=0.01, \n",
    "    patience=5, \n",
    "    restore_best_weights=True\n",
    ")"
   ]
  },
  {
   "cell_type": "markdown",
   "id": "45f616e5-4119-409a-a8af-68de4d83fbc1",
   "metadata": {},
   "source": [
    "### Training"
   ]
  },
  {
   "cell_type": "code",
   "execution_count": null,
   "id": "db4cf776-bcbb-4d37-8745-ac346de62fbd",
   "metadata": {},
   "outputs": [],
   "source": [
    "strategy = tf.distribute.MirroredStrategy()"
   ]
  },
  {
   "cell_type": "code",
   "execution_count": null,
   "id": "cecec79c-4d91-4b09-9ea2-86ebd7c6505d",
   "metadata": {},
   "outputs": [],
   "source": [
    "with strategy.scope():\n",
    "    model = LesionClassifier(class_number=len(training_set.class_indices))\n",
    "    model.compile(optimizer='adam', loss='categorical_crossentropy', metrics=['accuracy'])"
   ]
  },
  {
   "cell_type": "code",
   "execution_count": null,
   "id": "153e9964-9b13-45dc-820b-e2f44e20e8c4",
   "metadata": {},
   "outputs": [],
   "source": [
    "model.fit(\n",
    "    training_set, \n",
    "    validation_data=validation_set, \n",
    "    epochs=EPOCHS,\n",
    "    class_weight=class_weight,\n",
    "    callbacks=[\n",
    "        early_stop_callback\n",
    "    ]\n",
    ")"
   ]
  },
  {
   "cell_type": "markdown",
   "id": "dfb4a4c4-0839-49f7-9a93-50e052591520",
   "metadata": {},
   "source": [
    "### Testing"
   ]
  },
  {
   "cell_type": "code",
   "execution_count": null,
   "id": "b8c10be0-d202-4217-b7da-9bd380a2954b",
   "metadata": {},
   "outputs": [],
   "source": [
    "groundtruth_labels = np.concatenate([testing_set[i][1] for i in range(len(testing_set))], axis=0)"
   ]
  },
  {
   "cell_type": "code",
   "execution_count": null,
   "id": "c174de2e-0540-4ff4-8023-3b2fe3160d92",
   "metadata": {},
   "outputs": [],
   "source": [
    "predicted_labels = model.predict(testing_set)"
   ]
  },
  {
   "cell_type": "code",
   "execution_count": null,
   "id": "fb44309a-5d9e-4afd-a0b9-831bd2293fa6",
   "metadata": {},
   "outputs": [],
   "source": [
    "fpr, tpr, auc_metric = calculate_auc(testing_set, groundtruth_labels, predicted_labels)"
   ]
  },
  {
   "cell_type": "code",
   "execution_count": null,
   "id": "3c52fa72-df80-4899-80dc-6911725e2aa9",
   "metadata": {},
   "outputs": [],
   "source": [
    "auc_metric"
   ]
  },
  {
   "cell_type": "code",
   "execution_count": null,
   "id": "19c6bac6-1879-4bda-be69-4f019f0031cf",
   "metadata": {},
   "outputs": [],
   "source": [
    "%matplotlib inline \n",
    "\n",
    "plt.rcParams['axes.titley'] = -0.3\n",
    "\n",
    "for diagnosis in testing_set.class_indices:\n",
    "    plt.plot(fpr[diagnosis], tpr[diagnosis], label=diagnosis)\n",
    "    \n",
    "plt.plot([0, 1], [0, 1], 'k--')\n",
    "plt.xlabel('False Positive Rate')\n",
    "plt.ylabel('True Positive Rate')\n",
    "plt.title('Receiver operating characteristic')\n",
    "plt.legend(bbox_to_anchor=(1.6, 1), loc=\"upper right\")\n",
    "plt.show()"
   ]
  },
  {
   "cell_type": "markdown",
   "id": "8c464251-25a4-44c8-acf6-141844a4df59",
   "metadata": {},
   "source": [
    "### GradCam"
   ]
  },
  {
   "cell_type": "code",
   "execution_count": null,
   "id": "ea2c775d-0d5b-442a-be34-9cf79514a38c",
   "metadata": {},
   "outputs": [],
   "source": [
    "melanoma_im_path = f\"{os.environ['SCRATCH']}/isic-archive/ISIC_0000031.jpg\""
   ]
  },
  {
   "cell_type": "code",
   "execution_count": null,
   "id": "44c8dbf3-3257-4ad0-a034-f25c19b870b4",
   "metadata": {},
   "outputs": [],
   "source": [
    "display(Image(melanoma_im_path, width=600))"
   ]
  },
  {
   "cell_type": "code",
   "execution_count": null,
   "id": "1f4722bc-febb-446f-b01b-e498f7ba7386",
   "metadata": {},
   "outputs": [],
   "source": [
    "img_array = IMAGE_PREPROCESSING(get_img_array(melanoma_im_path, size=(299, 299)))"
   ]
  },
  {
   "cell_type": "code",
   "execution_count": null,
   "id": "29fdc459-25fc-491b-aff3-ccb5ec9eb4bc",
   "metadata": {},
   "outputs": [],
   "source": [
    "heatmap = make_gradcam_heatmap(img_array, model.o_model, GRADCAM_LAYER)"
   ]
  },
  {
   "cell_type": "code",
   "execution_count": null,
   "id": "c552b928-32b3-4055-90d1-3885e04c3c82",
   "metadata": {},
   "outputs": [],
   "source": [
    "display_gradcam(melanoma_im_path, heatmap)"
   ]
  },
  {
   "cell_type": "code",
   "execution_count": null,
   "id": "c43ded08-733f-4613-b35d-388da5e8d347",
   "metadata": {},
   "outputs": [],
   "source": []
  }
 ],
 "metadata": {
  "kernelspec": {
   "display_name": "Python 3",
   "language": "python",
   "name": "python3"
  },
  "language_info": {
   "codemirror_mode": {
    "name": "ipython",
    "version": 3
   },
   "file_extension": ".py",
   "mimetype": "text/x-python",
   "name": "python",
   "nbconvert_exporter": "python",
   "pygments_lexer": "ipython3",
   "version": "3.9.1"
  }
 },
 "nbformat": 4,
 "nbformat_minor": 5
}
