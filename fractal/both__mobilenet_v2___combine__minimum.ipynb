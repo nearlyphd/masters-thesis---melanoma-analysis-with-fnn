{
 "cells": [
  {
   "cell_type": "markdown",
   "id": "overall-procedure",
   "metadata": {},
   "source": [
    "# Melanoma analysis with fractal neural networks"
   ]
  },
  {
   "cell_type": "markdown",
   "id": "local-chair",
   "metadata": {},
   "source": [
    "This notebook shows how good is [Fractal neural network](#Fractal-neural-network) for [melanoma](#Melanoma) analysis."
   ]
  },
  {
   "cell_type": "code",
   "execution_count": null,
   "id": "bridal-andrews",
   "metadata": {},
   "outputs": [],
   "source": [
    "import os\n",
    "import datetime\n",
    "import numpy as np\n",
    "import tensorflow as tf\n",
    "import tensorflow_hub as hub\n",
    "import tensorflow_addons as tfa\n",
    "import matplotlib.pyplot as plt\n",
    "from sklearn.metrics import roc_curve, auc"
   ]
  },
  {
   "cell_type": "markdown",
   "id": "level-adelaide",
   "metadata": {},
   "source": [
    "Check if a GPU is available."
   ]
  },
  {
   "cell_type": "code",
   "execution_count": null,
   "id": "adult-granny",
   "metadata": {},
   "outputs": [],
   "source": [
    "tf.config.list_physical_devices('GPU')"
   ]
  },
  {
   "cell_type": "markdown",
   "id": "demonstrated-bidding",
   "metadata": {},
   "source": [
    "Remove excessive logging. "
   ]
  },
  {
   "cell_type": "code",
   "execution_count": null,
   "id": "frequent-mortality",
   "metadata": {},
   "outputs": [],
   "source": [
    "tf.get_logger().setLevel('ERROR')"
   ]
  },
  {
   "cell_type": "markdown",
   "id": "frozen-contemporary",
   "metadata": {},
   "source": [
    "# Melanoma"
   ]
  },
  {
   "cell_type": "markdown",
   "id": "distinguished-parliament",
   "metadata": {},
   "source": [
    "__Melanoma__, also redundantly known as __malignant melanoma__, is a type of skin cancer that develops from the pigment-producing cells known as melanocytes. Melanomas typically occur in the skin, but may rarely occur in the mouth, intestines, or eye (uveal melanoma). In women, they most commonly occur on the legs, while in men, they most commonly occur on the back. About 25% of melanomas develop from moles. Changes in a mole that can indicate melanoma include an increase in size, irregular edges, change in color, itchiness, or skin breakdown."
   ]
  },
  {
   "cell_type": "markdown",
   "id": "primary-desert",
   "metadata": {},
   "source": [
    "![melanoma image](../assets/melanoma.jpg)"
   ]
  },
  {
   "cell_type": "markdown",
   "id": "proper-andorra",
   "metadata": {},
   "source": [
    "<div style=\"text-align: center; font-weight: bold\">Pic.1. A melanoma of approximately 2.5 cm (1 in) by 1.5 cm (0.6 in)</div>"
   ]
  },
  {
   "cell_type": "markdown",
   "id": "massive-compiler",
   "metadata": {},
   "source": [
    "The primary cause of melanoma is ultraviolet light (UV) exposure in those with low levels of the skin pigment melanin. The UV light may be from the sun or other sources, such as tanning devices. Those with many moles, a history of affected family members, and poor immune function are at greater risk. A number of rare genetic conditions, such as xeroderma pigmentosum, also increase the risk. Diagnosis is by biopsy and analysis of any skin lesion that has signs of being potentially cancerous."
   ]
  },
  {
   "cell_type": "markdown",
   "id": "decreased-coverage",
   "metadata": {},
   "source": [
    "Melanoma is the most dangerous type of skin cancer. Globally, in 2012, it newly occurred in 232,000 people. In 2015, 3.1 million people had active disease, which resulted in 59,800 deaths. Australia and New Zealand have the highest rates of melanoma in the world. High rates also occur in Northern Europe and North America, while it is less common in Asia, Africa, and Latin America. In the United States, melanoma occurs about 1.6 times more often in men than women. Melanoma has become more common since the 1960s in areas mostly populated by people of European descent."
   ]
  },
  {
   "cell_type": "markdown",
   "id": "sixth-profession",
   "metadata": {},
   "source": [
    "# Fractal neural network"
   ]
  },
  {
   "cell_type": "markdown",
   "id": "differential-edwards",
   "metadata": {},
   "source": [
    "We propose an ensemble model based on handcrafted fractal features and deep learning that consists of combining the classification of two CNNs by applying the sum rule. We apply feature extraction to obtain 300 fractal features from different\n",
    "dermoscopy datasets. These features are reshaped into a 10 × 10 × 3 matrix to compose an artificial image that\n",
    "is given as input to the first CNN. The second CNN model receives as input the correspondent original image."
   ]
  },
  {
   "cell_type": "markdown",
   "id": "delayed-racing",
   "metadata": {},
   "source": [
    "![CNN image](../assets/fnn.png)"
   ]
  },
  {
   "cell_type": "markdown",
   "id": "dress-serial",
   "metadata": {},
   "source": [
    "<div style=\"text-align: center; font-weight: bold\">Pic.2. Overview of the proposed FNN model.</div>"
   ]
  },
  {
   "cell_type": "markdown",
   "id": "spread-rolling",
   "metadata": {},
   "source": [
    "If you want to learn more about fractal neural networks, read [here](https://www.sciencedirect.com/science/article/abs/pii/S0957417420308563)."
   ]
  },
  {
   "cell_type": "markdown",
   "id": "smaller-session",
   "metadata": {},
   "source": [
    "## Dividing images into patches."
   ]
  },
  {
   "cell_type": "markdown",
   "id": "married-immigration",
   "metadata": {},
   "source": [
    "According to the acticle:\n",
    "> One of the approaches available in the literature for multiscale analysis is the gliding-box algorithm (Ivanovici & Richard, 2011). The main advantage of this approach is that it can be applied on datasets containing images with different resolutions since the output features are given in relation to the scale instead of being absolute values. This algorithm consists in placing a box $\\beta_{i}$ sized $𝐿 × 𝐿$ on the left superior corner of the image, wherein 𝐿 is given in pixels. This box glides through the image, one column and then one row at a time. After reaching the end of the image, the box is repositioned at the starting point and the value of 𝐿 is increased by 2."
   ]
  },
  {
   "cell_type": "markdown",
   "id": "intelligent-essex",
   "metadata": {},
   "source": [
    "The gliding-box method will not be used since it consumes too much RAM. We'll employ a box-counting approach, which basically means we'll partition the images into non-overlapping chunks."
   ]
  },
  {
   "cell_type": "code",
   "execution_count": null,
   "id": "funny-incidence",
   "metadata": {},
   "outputs": [],
   "source": [
    "class Patchify(tf.keras.layers.Layer):\n",
    "    def __init__(self, patch_size):\n",
    "        super(Patchify, self).__init__()\n",
    "        \n",
    "        self.patch_size = patch_size\n",
    "        \n",
    "    def call(self, inputs):\n",
    "        outputs = tf.image.extract_patches(\n",
    "            inputs,\n",
    "            sizes=(1, self.patch_size, self.patch_size, 1),\n",
    "            strides=(1, self.patch_size, self.patch_size, 1),\n",
    "            rates=(1, 1, 1, 1),\n",
    "            padding='SAME'\n",
    "        )\n",
    "        \n",
    "        _, rows, cols, _ = tf.unstack(tf.shape(outputs))\n",
    "        outputs = tf.reshape(outputs, shape=(-1, rows * cols, self.patch_size, self.patch_size, 3))\n",
    "        \n",
    "        return outputs"
   ]
  },
  {
   "cell_type": "markdown",
   "id": "valid-contributor",
   "metadata": {},
   "source": [
    "## Creating an array of binary values from image patches using the Chebyshev colour distance function applied to the patch centre and each pixel."
   ]
  },
  {
   "cell_type": "markdown",
   "id": "searching-assignment",
   "metadata": {},
   "source": [
    "According to the article:\n",
    "> For each time the box $\\beta_{i}$ is moved, a multidimensional analysis of colour similarity is performed for every pixel inside it. This is done by assigning the centre pixel to a vector $𝑓_{c} = 𝑟_{c}, 𝑔_{c}, 𝑏_{c}$, where $𝑟_{c}, 𝑔_{c}$ and $𝑏_{c}$ correspond to the colour intensities for each of the RGB colour channels of given pixel. The other pixels in the box are assigned to a vector $𝑓_{i} = 𝑟_{i}, 𝑔_{i}, 𝑏_{i}$ and compared to the centre pixel by calculating a colour distance $\\Delta$. On the proposed approach, the Chebyshev ($\\Delta_{h}$) ..."
   ]
  },
  {
   "cell_type": "markdown",
   "id": "combined-title",
   "metadata": {},
   "source": [
    "The following equation is used to compute the Chebyshev distance."
   ]
  },
  {
   "cell_type": "markdown",
   "id": "based-county",
   "metadata": {},
   "source": [
    "$$\n",
    "\\Delta_{h} = max(|f_{i}(k_{i}) - f_{c}(k_{c})|), k \\in r, g, b. \n",
    "$$ "
   ]
  },
  {
   "cell_type": "code",
   "execution_count": null,
   "id": "built-poker",
   "metadata": {},
   "outputs": [],
   "source": [
    "class Chebyshev(tf.keras.layers.Layer):\n",
    "    def __init__(self):\n",
    "        super(Chebyshev, self).__init__()\n",
    "        \n",
    "    def call(self, inputs):\n",
    "        batch_size, patch_number, patch_size, patch_size, channels = tf.unstack(tf.shape(inputs))\n",
    "        outputs = tf.reshape(inputs, shape=(-1, patch_number, patch_size, channels))    \n",
    "        \n",
    "        centers = tf.image.resize_with_crop_or_pad(outputs, 1, 1)\n",
    "\n",
    "        outputs = tf.math.subtract(outputs, centers)\n",
    "        outputs = tf.math.abs(outputs)\n",
    "        outputs = tf.math.reduce_max(outputs, axis=3)\n",
    "        outputs = tf.math.less_equal(outputs, tf.cast(patch_size, dtype=tf.float32))\n",
    "        outputs = tf.cast(outputs, dtype=tf.int32)\n",
    "        outputs = tf.reshape(outputs, shape=(-1, patch_number, patch_size, patch_size))\n",
    "        \n",
    "        return outputs"
   ]
  },
  {
   "cell_type": "markdown",
   "id": "legislative-brief",
   "metadata": {},
   "source": [
    "## Creating an array of binary values from image patches using the Euclidean colour distance function applied to the patch centre and each pixel."
   ]
  },
  {
   "cell_type": "markdown",
   "id": "weird-emperor",
   "metadata": {},
   "source": [
    "According to the article:\n",
    "> For each time the box $\\beta_{i}$ is moved, a multidimensional analysis of colour similarity is performed for every pixel inside it. This is done by assigning the centre pixel to a vector $𝑓_{c} = 𝑟_{c}, 𝑔_{c}, 𝑏_{c}$, where $𝑟_{c}, 𝑔_{c}$ and $𝑏_{c}$ correspond to the colour intensities for each of the RGB colour channels of given pixel. The other pixels in the box are assigned to a vector $𝑓_{i} = 𝑟_{i}, 𝑔_{i}, 𝑏_{i}$ and compared to the centre pixel by calculating a colour distance $\\Delta$. On the proposed approach, ... the Euclidean ($\\Delta_{e}$) ..."
   ]
  },
  {
   "cell_type": "markdown",
   "id": "perfect-jones",
   "metadata": {},
   "source": [
    "$$\n",
    "\\Delta_{e} = \\sqrt{\\sum_{k} (f_{i}(k_{i}) - f_{c}(k_{c}))^2}, k \\in r, g, b\n",
    "$$"
   ]
  },
  {
   "cell_type": "code",
   "execution_count": null,
   "id": "noted-passing",
   "metadata": {},
   "outputs": [],
   "source": [
    "class Euclidean(tf.keras.layers.Layer):\n",
    "    def __init__(self):\n",
    "        super(Euclidean, self).__init__()\n",
    "        \n",
    "    def call(self, inputs):\n",
    "        batch_size, patch_number, patch_size, patch_size, channels = tf.unstack(tf.shape(inputs))\n",
    "        outputs = tf.reshape(inputs, shape=(-1, patch_number, patch_size, channels))\n",
    "        \n",
    "        centers = tf.image.resize_with_crop_or_pad(outputs, 1, 1)\n",
    "\n",
    "        outputs = tf.math.subtract(outputs, centers)\n",
    "        outputs = tf.math.pow(outputs, 2)\n",
    "        outputs = tf.math.reduce_sum(outputs, axis=3)\n",
    "        outputs = tf.math.pow(outputs, 0.5)\n",
    "        outputs = tf.math.less_equal(outputs, tf.cast(patch_size, dtype=tf.float32))\n",
    "        outputs = tf.cast(outputs, dtype=tf.int32)\n",
    "        outputs = tf.reshape(outputs, shape=(-1, patch_number, patch_size, patch_size))\n",
    "        \n",
    "        return outputs"
   ]
  },
  {
   "cell_type": "markdown",
   "id": "simple-damages",
   "metadata": {},
   "source": [
    "## Creating an array of binary values from image patches using the Manhattan colour distance function applied to the patch centre and each pixel."
   ]
  },
  {
   "cell_type": "markdown",
   "id": "presidential-crest",
   "metadata": {},
   "source": [
    "According to the article:\n",
    "> For each time the box $\\beta_{i}$ is moved, a multidimensional analysis of colour similarity is performed for every pixel inside it. This is done by assigning the centre pixel to a vector $𝑓_{c} = 𝑟_{c}, 𝑔_{c}, 𝑏_{c}$, where $𝑟_{c}, 𝑔_{c}$ and $𝑏_{c}$ correspond to the colour intensities for each of the RGB colour channels of given pixel. The other pixels in the box are assigned to a vector $𝑓_{i} = 𝑟_{i}, 𝑔_{i}, 𝑏_{i}$ and compared to the centre pixel by calculating a colour distance $\\Delta$. On the proposed approach, ... the Manhattan ($\\Delta_{m}$) ..."
   ]
  },
  {
   "cell_type": "markdown",
   "id": "agreed-tanzania",
   "metadata": {},
   "source": [
    "$$\n",
    "\\Delta_{m} = \\sum_{k} |f_{i}(k_{i}) - f_{c}(k_{c})|, k \\in r, g, b\n",
    "$$"
   ]
  },
  {
   "cell_type": "code",
   "execution_count": null,
   "id": "educational-consumption",
   "metadata": {},
   "outputs": [],
   "source": [
    "class Manhattan(tf.keras.layers.Layer):\n",
    "    def __init__(self):\n",
    "        super(Manhattan, self).__init__()\n",
    "        \n",
    "    def call(self, inputs):\n",
    "        batch_size, patch_number, patch_size, patch_size, channels = tf.unstack(tf.shape(inputs))\n",
    "        outputs = tf.reshape(inputs, shape=(-1, patch_number, patch_size, channels))\n",
    "        \n",
    "        centers = tf.image.resize_with_crop_or_pad(outputs, 1, 1)\n",
    "\n",
    "        outputs = tf.math.subtract(outputs, centers)\n",
    "        outputs = tf.math.abs(outputs)\n",
    "        outputs = tf.math.reduce_sum(outputs, axis=3)\n",
    "        outputs = tf.math.less_equal(outputs, tf.cast(patch_size, dtype=tf.float32))\n",
    "        outputs = tf.cast(outputs, dtype=tf.int32)\n",
    "        outputs = tf.reshape(outputs, shape=(-1, patch_number, patch_size, patch_size))\n",
    "            \n",
    "        \n",
    "        return outputs"
   ]
  },
  {
   "cell_type": "markdown",
   "id": "ancient-missile",
   "metadata": {},
   "source": [
    "## Calculating probability matrices"
   ]
  },
  {
   "cell_type": "markdown",
   "id": "union-trout",
   "metadata": {},
   "source": [
    "According to the article:\n",
    "> After performing this conversion for every box of every given 𝐿 scale, a structure known as probability matrix is generated. Each element of the matrix corresponds to the probability 𝑃 that 𝑚 pixels on a scale 𝐿 are labelled as 1 on each box. ... The matrix is normalized in a way that the sum of the elements in a column is equal to 1, as showed here:"
   ]
  },
  {
   "cell_type": "markdown",
   "id": "brilliant-running",
   "metadata": {},
   "source": [
    "$$\n",
    "\\sum_{m=1}^{L^2} P(m, L) = 1, \\forall L\n",
    "$$"
   ]
  },
  {
   "cell_type": "code",
   "execution_count": null,
   "id": "plastic-madness",
   "metadata": {},
   "outputs": [],
   "source": [
    "class Probability(tf.keras.layers.Layer):\n",
    "    def __init__(self):\n",
    "        super(Probability, self).__init__()\n",
    "        \n",
    "    def call(self, inputs):\n",
    "        batch_size, patch_number, patch_size, patch_size = tf.unstack(tf.shape(inputs))\n",
    "        \n",
    "        outputs = tf.math.reduce_sum(inputs, axis=(2, 3))\n",
    "        outputs = tf.vectorized_map(lambda image: tf.math.bincount(image, minlength=patch_size ** 2 + 1), outputs)\n",
    "        outputs = tf.math.divide(outputs, patch_number)        \n",
    "        \n",
    "        return outputs"
   ]
  },
  {
   "cell_type": "markdown",
   "id": "sitting-posting",
   "metadata": {},
   "source": [
    "## Calculating fractal dimensions"
   ]
  },
  {
   "cell_type": "markdown",
   "id": "looking-search",
   "metadata": {},
   "source": [
    "According to the article:\n",
    "> FD is the most common technique to evaluate the fractal properties of an image. This is a measure for evaluating the irregularity and the complexity of a fractal. To obtain local FD features from the probability\n",
    "matrix, for each value of 𝐿, the FD denominated 𝐷(𝐿) is calculated according to"
   ]
  },
  {
   "cell_type": "markdown",
   "id": "fewer-madison",
   "metadata": {},
   "source": [
    "$$\n",
    "D(L) = \\sum_{m=1}^{L^2} \\frac{P(m, L)}{m}\n",
    "$$"
   ]
  },
  {
   "cell_type": "code",
   "execution_count": null,
   "id": "three-hormone",
   "metadata": {},
   "outputs": [],
   "source": [
    "class FractalDimension(tf.keras.layers.Layer):\n",
    "    def __init__(self):\n",
    "        super(FractalDimension, self).__init__()\n",
    "        \n",
    "    def call(self, inputs):\n",
    "        batch_size, _len = tf.unstack(tf.shape(inputs))\n",
    "        numbers = tf.reshape(\n",
    "            tf.concat(\n",
    "                [tf.constant([1], dtype=tf.float32), tf.range(1, _len, dtype=tf.float32)], \n",
    "                axis=0\n",
    "            ), \n",
    "            shape=(1, -1)\n",
    "        )\n",
    "        \n",
    "        outputs = tf.math.divide(inputs, numbers)\n",
    "        outputs = tf.math.reduce_sum(outputs, axis=1)\n",
    "        \n",
    "        return outputs"
   ]
  },
  {
   "cell_type": "markdown",
   "id": "ethical-puppy",
   "metadata": {},
   "source": [
    "## Calculating lacunarity"
   ]
  },
  {
   "cell_type": "markdown",
   "id": "complimentary-wellington",
   "metadata": {},
   "source": [
    "According to the article:\n",
    "> LAC is a measure complementary to FD and allows to evaluate how the space of a fractal is filled (Ivanovici & Richard, 2009). From the probability matrix, first and second-order moments are calculated with"
   ]
  },
  {
   "cell_type": "markdown",
   "id": "quality-manual",
   "metadata": {},
   "source": [
    "$$\n",
    "\\mu(L) = \\sum_{m=1}^{L^2} mP(m, L)\n",
    "$$"
   ]
  },
  {
   "cell_type": "markdown",
   "id": "romance-speaking",
   "metadata": {},
   "source": [
    "$$\n",
    "\\mu^2(L) = \\sum_{m=1}^{L^2} m^{2}P(m, L)\n",
    "$$"
   ]
  },
  {
   "cell_type": "markdown",
   "id": "standard-maker",
   "metadata": {},
   "source": [
    "> The LAC value for a scale $L$ is given by $\\Lambda$(𝐿), which is obtained according to"
   ]
  },
  {
   "cell_type": "markdown",
   "id": "beginning-david",
   "metadata": {},
   "source": [
    "$$\n",
    "\\Lambda(L) = \\frac{\\mu^{2}(L) - (\\mu(L))^{2}}{(\\mu(L))^{2}}\n",
    "$$"
   ]
  },
  {
   "cell_type": "code",
   "execution_count": null,
   "id": "purple-edwards",
   "metadata": {},
   "outputs": [],
   "source": [
    "class Lacunarity(tf.keras.layers.Layer):\n",
    "    def __init__(self):\n",
    "        super(Lacunarity, self).__init__()\n",
    "        \n",
    "    def call(self, inputs):\n",
    "        batch_size, _len = tf.unstack(tf.shape(inputs))\n",
    "        numbers = tf.reshape(\n",
    "            tf.concat(\n",
    "                [tf.constant([1], dtype=tf.float32), tf.range(1, _len, dtype=tf.float32)], \n",
    "                axis=0\n",
    "            ), \n",
    "            shape=(1, -1)\n",
    "        )\n",
    "                \n",
    "        mu_first_2 = tf.math.multiply(inputs, numbers)\n",
    "        mu_first_2 = tf.math.reduce_sum(mu_first_2, axis=1)\n",
    "        mu_first_2 = tf.math.pow(mu_first_2, 2)\n",
    "\n",
    "        mu_second = tf.math.pow(numbers, 2)\n",
    "        mu_second = tf.math.multiply(inputs, mu_second)\n",
    "        mu_second = tf.math.reduce_sum(mu_second, axis=1)\n",
    "\n",
    "        outputs = tf.math.divide(\n",
    "            tf.math.subtract(mu_second, mu_first_2),\n",
    "            mu_first_2\n",
    "        )\n",
    "        \n",
    "        return outputs"
   ]
  },
  {
   "cell_type": "markdown",
   "id": "useful-cyprus",
   "metadata": {},
   "source": [
    "## Calculating percolation Q - the average occurrence of percolation on a scale L"
   ]
  },
  {
   "cell_type": "markdown",
   "id": "peaceful-prague",
   "metadata": {},
   "source": [
    "According to the article:\n",
    "> We can also verify whether a box $\\beta_{i}$ is percolating. This can be achieved due to a property that states a percolation threshold for different types of structures. In squared matrices (digital images), this threshold has the value of $p = 0.59275$, which means that if the ratio between pixels labelled as 1 and pixels labelled as 0 is greater or equal than $p$, the matrix is considered as percolating. Let $\\Omega_{i}$ be the number of pixels labelled as 1 in a box $\\beta_{i}$ with size $L \\times L $ , we determine whether such box is percolating according to"
   ]
  },
  {
   "cell_type": "markdown",
   "id": "exposed-horizontal",
   "metadata": {},
   "source": [
    "$$\n",
    "q_{i} = \n",
    "\\begin{cases}\n",
    "1, & \\frac{\\Omega_{i}}{L^2} \\ge 0.59275 \\\\\n",
    "0, & \\frac{\\Omega_{i}}{L^2} < 0.59275\n",
    "\\end{cases}\n",
    "$$"
   ]
  },
  {
   "cell_type": "markdown",
   "id": "entitled-intranet",
   "metadata": {},
   "source": [
    "> This results in a binary value for $q_{i}$, wherein 1 indicates that thebox is percolating. The feature $Q(L)$ regards the average occurrence of percolation on a scale $L$ and can be obtained by"
   ]
  },
  {
   "cell_type": "markdown",
   "id": "finished-wrist",
   "metadata": {},
   "source": [
    "$$\n",
    "Q(L) = \\frac{\\sum_{i=1}^{T(L)} q_{i}}{T(L)}\n",
    "$$"
   ]
  },
  {
   "cell_type": "code",
   "execution_count": null,
   "id": "computational-third",
   "metadata": {},
   "outputs": [],
   "source": [
    "class PercolationQ(tf.keras.layers.Layer):\n",
    "    def __init__(self, threshold=0.59275):\n",
    "        super(PercolationQ, self).__init__()\n",
    "        \n",
    "        self.threshold = threshold\n",
    "        \n",
    "    def call(self, inputs):\n",
    "        batch_size, patch_number, patch_size, patch_size = tf.unstack(tf.shape(inputs))\n",
    "        \n",
    "        outputs = tf.math.reduce_sum(inputs, axis=(2, 3))\n",
    "        outputs = tf.math.divide(outputs, patch_size ** 2)\n",
    "        outputs = tf.math.greater_equal(outputs, self.threshold)\n",
    "        outputs = tf.cast(outputs, dtype=tf.float32)\n",
    "        outputs = tf.math.reduce_mean(outputs, axis=1)\n",
    "        \n",
    "        return outputs"
   ]
  },
  {
   "cell_type": "markdown",
   "id": "sound-keeping",
   "metadata": {},
   "source": [
    "## Clustering values in binarized patches "
   ]
  },
  {
   "cell_type": "markdown",
   "id": "exterior-specific",
   "metadata": {},
   "source": [
    "The next two layers, which calculate percolation C and M, work with value clusters. We clustorize values in a separate layer to speed up calculations."
   ]
  },
  {
   "cell_type": "code",
   "execution_count": null,
   "id": "center-factory",
   "metadata": {},
   "outputs": [],
   "source": [
    "class Clusterize(tf.keras.layers.Layer):\n",
    "    def __init__(self):\n",
    "        super(Clusterize, self).__init__()\n",
    "        \n",
    "    def call(self, inputs):\n",
    "        batch_size, patch_number, patch_size, patch_size = tf.unstack(tf.shape(inputs))\n",
    "        \n",
    "        outputs = tf.reshape(inputs, shape=(-1, patch_size, patch_size))\n",
    "        outputs = tfa.image.connected_components(outputs)\n",
    "        outputs = tf.reshape(outputs, shape=(-1, patch_number, patch_size, patch_size))\n",
    "        \n",
    "        return outputs"
   ]
  },
  {
   "cell_type": "markdown",
   "id": "academic-referral",
   "metadata": {},
   "source": [
    "## Calculating percolation C - the average number of clusters per box on a scale L"
   ]
  },
  {
   "cell_type": "markdown",
   "id": "bibliographic-remove",
   "metadata": {},
   "source": [
    "According to the article:\n",
    "> Let $c_{i}$ be the number of clusters on a box $\\beta_{i}$, the feature $C(L)$ that represents the average number of clusters per box on a scale $L$ is given by"
   ]
  },
  {
   "cell_type": "markdown",
   "id": "taken-somerset",
   "metadata": {},
   "source": [
    "$$\n",
    "C(L) = \\frac{\\sum_{i=1}^{T(L)} c_{i}}{T(L)}\n",
    "$$"
   ]
  },
  {
   "cell_type": "code",
   "execution_count": null,
   "id": "embedded-roman",
   "metadata": {},
   "outputs": [],
   "source": [
    "class PercolationC(tf.keras.layers.Layer):\n",
    "    def __init__(self):\n",
    "        super(PercolationC, self).__init__()\n",
    "        \n",
    "    def call(self, inputs):\n",
    "        outputs = tf.cast(inputs, dtype=tf.float32)\n",
    "        outputs = tf.math.reduce_max(outputs, axis=(2, 3))\n",
    "        outputs = tf.math.reduce_mean(outputs, axis=1)\n",
    "        \n",
    "        return outputs"
   ]
  },
  {
   "cell_type": "markdown",
   "id": "narrow-sweden",
   "metadata": {},
   "source": [
    "## Calculating percolation M - the average coverage area of the largest cluster on a scale L"
   ]
  },
  {
   "cell_type": "markdown",
   "id": "front-warehouse",
   "metadata": {},
   "source": [
    "According to the article:\n",
    ">Another feature that can be obtained is the average coverage area of the largest cluster in a box and is given by $M(L)$. Let $m_{i}$ be the size in pixels of the largest cluster of the box $\\beta_{i}$. The feature $M(L)$ is givenaccording to"
   ]
  },
  {
   "cell_type": "markdown",
   "id": "solid-alfred",
   "metadata": {},
   "source": [
    "$$\n",
    "M(L) = \\frac{\\sum_{i=1}^{T(L)} \\frac{m_{i}}{L^2}}{T(L)}\n",
    "$$"
   ]
  },
  {
   "cell_type": "code",
   "execution_count": null,
   "id": "macro-certificate",
   "metadata": {},
   "outputs": [],
   "source": [
    "class PercolationM(tf.keras.layers.Layer):\n",
    "    def __init__(self):\n",
    "        super(PercolationM, self).__init__()\n",
    "        \n",
    "    def call(self, inputs):\n",
    "        batch_size, patch_number, patch_size, patch_size = tf.unstack(tf.shape(inputs))\n",
    "        \n",
    "        outputs = tf.reshape(inputs, shape=(-1, patch_number, patch_size ** 2))\n",
    "        outputs = tf.map_fn(lambda image: tf.math.reduce_max(tf.math.bincount(image)), outputs)\n",
    "        outputs = tf.cast(outputs, dtype=tf.float32)\n",
    "        \n",
    "        return outputs"
   ]
  },
  {
   "cell_type": "markdown",
   "id": "nervous-bradley",
   "metadata": {},
   "source": [
    "## Assembling fractal features into an image channel"
   ]
  },
  {
   "cell_type": "markdown",
   "id": "invisible-front",
   "metadata": {},
   "source": [
    "According to the article:\n",
    "> To serve as input for the incoming CNN classification, the feature vectors generated on the previous layers of the network must be converted into feature matrices. To do so, the 100 features obtained by each distance $\\Delta$ are rearranged as a $10 \\times 10 \\times 10$ matrix. The matrices generated by $\\Delta_{h}$, $\\Delta_{e}$ and $\\Delta_{m}$ correspond to the R, G and B colour channels, respectively. ... Since each of the functions $C(L), Q(L), M(L), \\Lambda(L)$ and $D(L)$, obtained from a specific $\\Delta$, generate 20 features, each function is fit exactly into 2 columns of the matrix.\n",
    "\n",
    ">Since each of the functions $C(L), Q(L), M(L), \\Lambda(L)$ and $D(L)$, obtained from a specific $\\Delta$, generate 20 features, each function is fit exactly into 2 columns of the matrix."
   ]
  },
  {
   "cell_type": "code",
   "execution_count": null,
   "id": "rubber-bobby",
   "metadata": {},
   "outputs": [],
   "source": [
    "class AssembleChannel(tf.keras.layers.Layer):\n",
    "    def __init__(self):\n",
    "        super(AssembleChannel, self).__init__()\n",
    "        \n",
    "    def call(self, inputs):\n",
    "        fractal_dimension = tf.convert_to_tensor(inputs[0])\n",
    "        fractal_dimension = tf.transpose(fractal_dimension, perm=(1, 0))\n",
    "        \n",
    "        lacunarity = tf.convert_to_tensor(inputs[1])\n",
    "        lacunarity = tf.transpose(lacunarity, perm=(1, 0))\n",
    "        \n",
    "        percolation_q = tf.convert_to_tensor(inputs[2])\n",
    "        percolation_q = tf.transpose(percolation_q, perm=(1, 0))\n",
    "        \n",
    "        percolation_c = tf.convert_to_tensor(inputs[3])\n",
    "        percolation_c = tf.transpose(percolation_c, perm=(1, 0))\n",
    "        \n",
    "        percolation_m = tf.convert_to_tensor(inputs[4])\n",
    "        percolation_m = tf.transpose(percolation_m, perm=(1, 0))\n",
    "        \n",
    "        outputs = tf.concat([\n",
    "            percolation_c,\n",
    "            percolation_q,\n",
    "            percolation_m,\n",
    "            lacunarity,\n",
    "            fractal_dimension\n",
    "        ], axis=1)\n",
    "        outputs = tf.reshape(outputs, shape=(-1, 10, 10))\n",
    "        \n",
    "        return outputs"
   ]
  },
  {
   "cell_type": "markdown",
   "id": "answering-knitting",
   "metadata": {},
   "source": [
    "## Organising fractal feature extraction into layers"
   ]
  },
  {
   "cell_type": "markdown",
   "id": "compliant-romania",
   "metadata": {},
   "source": [
    "We move feature extraction to layers to simplify and clarify the code."
   ]
  },
  {
   "cell_type": "markdown",
   "id": "novel-camcorder",
   "metadata": {},
   "source": [
    "### based on Chebyshev distance"
   ]
  },
  {
   "cell_type": "code",
   "execution_count": null,
   "id": "illegal-therapist",
   "metadata": {},
   "outputs": [],
   "source": [
    "class ChebyshevFeatures(tf.keras.layers.Layer):\n",
    "    def __init__(self):\n",
    "        super(ChebyshevFeatures, self).__init__()\n",
    "        \n",
    "        self.chebyshev = Chebyshev()\n",
    "        self.probability = Probability()\n",
    "        self.clusterize = Clusterize()\n",
    "        \n",
    "        self.fractal_dimension = FractalDimension()\n",
    "        self.lacunarity = Lacunarity()\n",
    "        self.percolation_q = PercolationQ()\n",
    "        self.percolation_c = PercolationC()\n",
    "        self.percolation_m = PercolationM()\n",
    "        \n",
    "        self.assemble_channel = AssembleChannel()\n",
    "        \n",
    "    def call(self, inputs):\n",
    "        chebyshevs = [self.chebyshev(i) for i in inputs]\n",
    "        \n",
    "        probability = [self.probability(ch) for ch in chebyshevs]\n",
    "        cluster = [self.clusterize(ch) for ch in chebyshevs]\n",
    "        \n",
    "        fractal_dimension = [self.fractal_dimension(ch) for ch in probability]\n",
    "        lacunarity = [self.lacunarity(ch) for ch in probability]        \n",
    "        percolation_q = [self.percolation_q(ch) for ch in chebyshevs]\n",
    "        percolation_c = [self.percolation_c(ch) for ch in cluster]\n",
    "        percolation_m = [self.percolation_m(ch) for ch in cluster]\n",
    "        \n",
    "        features = self.assemble_channel([\n",
    "            fractal_dimension,\n",
    "            lacunarity,\n",
    "            percolation_q,\n",
    "            percolation_c,\n",
    "            percolation_m\n",
    "        ])\n",
    "        \n",
    "        return features"
   ]
  },
  {
   "cell_type": "markdown",
   "id": "psychological-israel",
   "metadata": {},
   "source": [
    "### based on Euclidean distance"
   ]
  },
  {
   "cell_type": "code",
   "execution_count": null,
   "id": "tight-jacksonville",
   "metadata": {},
   "outputs": [],
   "source": [
    "class EuclideanFeatures(tf.keras.layers.Layer):\n",
    "    def __init__(self):\n",
    "        super(EuclideanFeatures, self).__init__()\n",
    "        \n",
    "        self.euclidean = Euclidean()\n",
    "        self.probability = Probability()\n",
    "        self.clusterize = Clusterize()\n",
    "        \n",
    "        self.fractal_dimension = FractalDimension()\n",
    "        self.lacunarity = Lacunarity()\n",
    "        self.percolation_q = PercolationQ()\n",
    "        self.percolation_c = PercolationC()\n",
    "        self.percolation_m = PercolationM()\n",
    "        \n",
    "        self.assemble_channel = AssembleChannel()\n",
    "        \n",
    "    def call(self, inputs):\n",
    "        euclideans = [self.euclidean(i) for i in inputs]\n",
    "        \n",
    "        probability = [self.probability(eu) for eu in euclideans]\n",
    "        cluster = [self.clusterize(eu) for eu in euclideans]\n",
    "        \n",
    "        fractal_dimension = [self.fractal_dimension(eu) for eu in probability]\n",
    "        lacunarity = [self.lacunarity(eu) for eu in probability]        \n",
    "        percolation_q = [self.percolation_q(eu) for eu in euclideans]\n",
    "        percolation_c = [self.percolation_c(eu) for eu in cluster]\n",
    "        percolation_m = [self.percolation_m(eu) for eu in cluster]\n",
    "        \n",
    "        features = self.assemble_channel([\n",
    "            fractal_dimension,\n",
    "            lacunarity,\n",
    "            percolation_q,\n",
    "            percolation_c,\n",
    "            percolation_m\n",
    "        ])\n",
    "        \n",
    "        return features"
   ]
  },
  {
   "cell_type": "markdown",
   "id": "relevant-consumer",
   "metadata": {},
   "source": [
    "### based on Manhattan distance"
   ]
  },
  {
   "cell_type": "code",
   "execution_count": null,
   "id": "academic-catalyst",
   "metadata": {},
   "outputs": [],
   "source": [
    "class ManhattanFeatures(tf.keras.layers.Layer):\n",
    "    def __init__(self):\n",
    "        super(ManhattanFeatures, self).__init__()\n",
    "        \n",
    "        self.manhattan = Manhattan()\n",
    "        self.probability = Probability()\n",
    "        self.clusterize = Clusterize()\n",
    "        \n",
    "        self.fractal_dimension = FractalDimension()\n",
    "        self.lacunarity = Lacunarity()\n",
    "        self.percolation_q = PercolationQ()\n",
    "        self.percolation_c = PercolationC()\n",
    "        self.percolation_m = PercolationM()\n",
    "        \n",
    "        self.assemble_channel = AssembleChannel()\n",
    "        \n",
    "    def call(self, inputs):\n",
    "        manhattans = [self.manhattan(i) for i in inputs]\n",
    "        \n",
    "        probability = [self.probability(mh) for mh in manhattans]\n",
    "        cluster = [self.clusterize(mh) for mh in manhattans]\n",
    "        \n",
    "        fractal_dimension = [self.fractal_dimension(mh) for mh in probability]\n",
    "        lacunarity = [self.lacunarity(mh) for mh in probability]        \n",
    "        percolation_q = [self.percolation_q(mh) for mh in manhattans]\n",
    "        percolation_c = [self.percolation_c(mh) for mh in cluster]\n",
    "        percolation_m = [self.percolation_m(mh) for mh in cluster]\n",
    "        \n",
    "        features = self.assemble_channel([\n",
    "            fractal_dimension,\n",
    "            lacunarity,\n",
    "            percolation_q,\n",
    "            percolation_c,\n",
    "            percolation_m\n",
    "        ])\n",
    "        \n",
    "        return features"
   ]
  },
  {
   "cell_type": "markdown",
   "id": "pleased-debut",
   "metadata": {},
   "source": [
    "## Assembling fractal features into images"
   ]
  },
  {
   "cell_type": "markdown",
   "id": "psychological-termination",
   "metadata": {},
   "source": [
    "We assemble fractal features into images, such that each set of fractal features corresponds to a colour channel (R, G, B)."
   ]
  },
  {
   "cell_type": "code",
   "execution_count": null,
   "id": "mediterranean-sympathy",
   "metadata": {},
   "outputs": [],
   "source": [
    "class AssembleImage(tf.keras.layers.Layer):\n",
    "    def __init__(self):\n",
    "        super(AssembleImage, self).__init__()\n",
    "        \n",
    "    def call(self, inputs):\n",
    "        outputs = tf.stack(inputs)\n",
    "        outputs = tf.transpose(outputs, perm=(1, 2, 3, 0))\n",
    "        \n",
    "        return outputs"
   ]
  },
  {
   "cell_type": "markdown",
   "id": "going-expert",
   "metadata": {},
   "source": [
    "## Organising the fractal feature extraction layers into the single, fractal image layer"
   ]
  },
  {
   "cell_type": "markdown",
   "id": "announced-refund",
   "metadata": {},
   "source": [
    "To further simplify the code, we will gather the fractal feature extraction into the single layer, which generates artificial fractal image."
   ]
  },
  {
   "cell_type": "code",
   "execution_count": null,
   "id": "stable-belize",
   "metadata": {},
   "outputs": [],
   "source": [
    "class FractalImage(tf.keras.layers.Layer):\n",
    "    def __init__(self):\n",
    "        super(FractalImage, self).__init__()\n",
    "        \n",
    "        self.patchifies = [Patchify(patch_size) for patch_size in range(3, 41 + 1, 2)]\n",
    "        \n",
    "        self.chebyshev_features = ChebyshevFeatures()\n",
    "        self.euclidean_features = EuclideanFeatures()\n",
    "        self.manhattan_features = ManhattanFeatures()\n",
    "        \n",
    "        self.assemble_image = AssembleImage()\n",
    "        \n",
    "    def call(self, inputs):\n",
    "        patchifies = [patchify(inputs) for patchify in self.patchifies]\n",
    "        \n",
    "        chebyshev_features = self.chebyshev_features(patchifies)\n",
    "        euclidean_features = self.euclidean_features(patchifies)\n",
    "        manhattan_features = self.manhattan_features(patchifies)\n",
    "        \n",
    "        outputs = self.assemble_image([\n",
    "            chebyshev_features,\n",
    "            euclidean_features,\n",
    "            manhattan_features\n",
    "        ])\n",
    "        \n",
    "        return outputs"
   ]
  },
  {
   "cell_type": "markdown",
   "id": "improving-correspondence",
   "metadata": {},
   "source": [
    "## Assembling the fractal neural network"
   ]
  },
  {
   "cell_type": "markdown",
   "id": "existing-excess",
   "metadata": {},
   "source": [
    "So, here we are assembling the fractal neural network from the pieces mentioned above."
   ]
  },
  {
   "cell_type": "code",
   "execution_count": null,
   "id": "suspended-state",
   "metadata": {},
   "outputs": [],
   "source": [
    "class FractalNeuralNetwork(tf.keras.Model):\n",
    "    TARGET_WIDTH = 224\n",
    "    TARGET_HEIGHT = 224\n",
    "    \n",
    "    def __init__(self, class_number):\n",
    "        super(FractalNeuralNetwork, self).__init__()\n",
    "        \n",
    "        self.fractal_image = FractalImage()\n",
    "        self.resize = tf.keras.layers.Resizing(width=self.TARGET_WIDTH, height=self.TARGET_HEIGHT)\n",
    "        self.rescale_original = tf.keras.layers.Rescaling(scale=1./255)\n",
    "        self.rescale_fractal = tf.keras.layers.Lambda(lambda x: tf.math.divide(x, tf.math.reduce_max(x)))\n",
    "        self.model = hub.KerasLayer(\n",
    "            \"https://tfhub.dev/google/tf2-preview/mobilenet_v2/feature_vector/4\", \n",
    "            output_shape=[1280], \n",
    "            trainable=False\n",
    "        )\n",
    "        self.combine = tf.keras.layers.Minimum()\n",
    "        self.score = tf.keras.layers.Dense(class_number, activation='softmax')\n",
    "        \n",
    "    def call(self, inputs):\n",
    "        fractal_outputs = self.fractal_image(inputs)\n",
    "        fractal_outputs = self.resize(fractal_outputs)\n",
    "        fractal_outputs = self.rescale_fractal(fractal_outputs)\n",
    "        fractal_outputs = self.model(fractal_outputs)\n",
    "        \n",
    "        original_outputs = self.rescale_original(inputs)\n",
    "        original_outputs = self.model(original_outputs)\n",
    "        \n",
    "        outputs = self.combine([fractal_outputs, original_outputs])\n",
    "        outputs = self.score(outputs)\n",
    "        \n",
    "        return outputs"
   ]
  },
  {
   "cell_type": "markdown",
   "id": "latin-friday",
   "metadata": {},
   "source": [
    "# Data loading"
   ]
  },
  {
   "cell_type": "markdown",
   "id": "judicial-mounting",
   "metadata": {},
   "source": [
    "## Data source"
   ]
  },
  {
   "cell_type": "markdown",
   "id": "loved-parent",
   "metadata": {},
   "source": [
    "As a data source, we use the ISIC Archive."
   ]
  },
  {
   "cell_type": "markdown",
   "id": "detailed-prague",
   "metadata": {},
   "source": [
    "The ISIC Archive is an open source platform with publicly available images of skin lesions under Creative Commons licenses. The images are associated with ground-truth diagnoses and other clinical metadata. Images can be queried using faceted search and downloaded individually or in batches. The initial focus of the archive has been on dermoscopy images of individual skin lesions, as these images are inherently standardized by the use of a specialized acquisition device and devoid of many of the privacy challenges associated with clinical images. To date, the images have been provided by specialized melanoma centers from around the world. The archive is designed to accept contributions from new sources under the Terms of Use and welcomes new contributors. There are ongoing efforts to supplement the dermoscopy images in the archive with close-up clinical images and a broader representation of skin types. The images in the Archive are used to support educational efforts through linkage with Dermoscopedia and are used for Grand Challenges and Live Challenges to engage the computer science community for the development of diagnostic AI."
   ]
  },
  {
   "cell_type": "markdown",
   "id": "expected-baptist",
   "metadata": {},
   "source": [
    "For more information, go to [ISIC Archive web site](https://www.isic-archive.com/)"
   ]
  },
  {
   "cell_type": "code",
   "execution_count": null,
   "id": "hollow-links",
   "metadata": {},
   "outputs": [],
   "source": [
    "generator = tf.keras.preprocessing.image.ImageDataGenerator(\n",
    "    rotation_range=180,\n",
    "    horizontal_flip=True,\n",
    "    vertical_flip=True,\n",
    "    brightness_range=(0.2, 1.5),\n",
    "    validation_split=0.2,\n",
    ")\n",
    "\n",
    "\n",
    "training_set = generator.flow_from_directory(\n",
    "    f\"{os.environ['SCRATCH']}/data10000\",\n",
    "    target_size=(224, 224), \n",
    "    batch_size=32, \n",
    "    class_mode='categorical', \n",
    "    subset='training'\n",
    ")\n",
    "validation_set = generator.flow_from_directory(\n",
    "    f\"{os.environ['SCRATCH']}/data10000\", \n",
    "    target_size=(224, 224), \n",
    "    batch_size=32, \n",
    "    class_mode='categorical', \n",
    "    subset='validation'\n",
    ")"
   ]
  },
  {
   "cell_type": "code",
   "execution_count": null,
   "id": "hollywood-invention",
   "metadata": {},
   "outputs": [],
   "source": [
    "CLASS_NUMBER = len(training_set.class_indices)"
   ]
  },
  {
   "cell_type": "markdown",
   "id": "lined-synthetic",
   "metadata": {},
   "source": [
    "# Model training"
   ]
  },
  {
   "cell_type": "markdown",
   "id": "institutional-circus",
   "metadata": {},
   "source": [
    "## Preparing TensorFlow callbacks"
   ]
  },
  {
   "cell_type": "markdown",
   "id": "applied-insulin",
   "metadata": {},
   "source": [
    "For our convenience, we create a few TensorFlow callbacks."
   ]
  },
  {
   "cell_type": "markdown",
   "id": "inappropriate-symposium",
   "metadata": {},
   "source": [
    "### The TensorBoard callback"
   ]
  },
  {
   "cell_type": "markdown",
   "id": "negative-depth",
   "metadata": {},
   "source": [
    "We want to see how the training is going. We add the callback, which will log the metrics to TensorBoard."
   ]
  },
  {
   "cell_type": "code",
   "execution_count": null,
   "id": "pediatric-guess",
   "metadata": {},
   "outputs": [],
   "source": [
    "log_dir = '../logs/fit/' + datetime.datetime.now().strftime('both__mobilenet_v2___combine__minimum')\n",
    "tensorboard_callback = tf.keras.callbacks.TensorBoard(log_dir=log_dir, histogram_freq=1)"
   ]
  },
  {
   "cell_type": "markdown",
   "id": "interesting-bangkok",
   "metadata": {},
   "source": [
    "### The EarlyStopping callback"
   ]
  },
  {
   "cell_type": "markdown",
   "id": "found-cambodia",
   "metadata": {},
   "source": [
    "This callback stops training when the metrics (e.g. validation loss) are not improving,"
   ]
  },
  {
   "cell_type": "code",
   "execution_count": null,
   "id": "recreational-brown",
   "metadata": {},
   "outputs": [],
   "source": [
    "early_stop_callback = tf.keras.callbacks.EarlyStopping(\n",
    "    monitor=\"val_loss\", \n",
    "    min_delta=0.01, \n",
    "    patience=5, \n",
    "    restore_best_weights=True\n",
    ")"
   ]
  },
  {
   "cell_type": "markdown",
   "id": "otherwise-massage",
   "metadata": {},
   "source": [
    "### The ModelCheckpoint callback"
   ]
  },
  {
   "cell_type": "markdown",
   "id": "linear-stevens",
   "metadata": {},
   "source": [
    "This callback saves the model with the best metrics during training."
   ]
  },
  {
   "cell_type": "code",
   "execution_count": null,
   "id": "adopted-proposal",
   "metadata": {},
   "outputs": [],
   "source": [
    "checkpoint_path = 'checkpoints/both__mobilenet_v2___combine__minimum.ckpt'\n",
    "\n",
    "checkpoint_callback = tf.keras.callbacks.ModelCheckpoint(\n",
    "    checkpoint_path,\n",
    "    monitor='val_loss',\n",
    "    verbose=1,\n",
    "    save_best_only=True,\n",
    "    save_weights_only=False,\n",
    "    save_freq='epoch',\n",
    "    mode='auto'\n",
    ")"
   ]
  },
  {
   "cell_type": "markdown",
   "id": "knowing-manner",
   "metadata": {},
   "source": [
    "## Actual training"
   ]
  },
  {
   "cell_type": "code",
   "execution_count": null,
   "id": "victorian-proceeding",
   "metadata": {
    "scrolled": false
   },
   "outputs": [],
   "source": [
    "model = FractalNeuralNetwork(class_number=CLASS_NUMBER)\n",
    "model.compile(optimizer='adam', loss='categorical_crossentropy', metrics=['accuracy'])\n",
    "model.fit(\n",
    "    training_set, \n",
    "    validation_data=validation_set, \n",
    "    epochs=10,\n",
    "    callbacks=[\n",
    "        tensorboard_callback,\n",
    "        early_stop_callback,\n",
    "        checkpoint_callback\n",
    "    ]\n",
    ")"
   ]
  },
  {
   "cell_type": "markdown",
   "id": "noticed-liverpool",
   "metadata": {},
   "source": [
    "# Model validation"
   ]
  },
  {
   "cell_type": "markdown",
   "id": "infectious-charity",
   "metadata": {},
   "source": [
    "## Loading the model from the checkpoint"
   ]
  },
  {
   "cell_type": "code",
   "execution_count": null,
   "id": "painful-memory",
   "metadata": {},
   "outputs": [],
   "source": [
    "model = FractalNeuralNetwork(class_number=CLASS_NUMBER)"
   ]
  },
  {
   "cell_type": "code",
   "execution_count": null,
   "id": "theoretical-underground",
   "metadata": {},
   "outputs": [],
   "source": [
    "model.load_weights('./checkpoints/both__mobilenet_v2___combine__minimum.ckpt')"
   ]
  },
  {
   "cell_type": "markdown",
   "id": "large-relative",
   "metadata": {},
   "source": [
    "## Loading the test data"
   ]
  },
  {
   "cell_type": "code",
   "execution_count": null,
   "id": "greek-processor",
   "metadata": {},
   "outputs": [],
   "source": [
    "testing_set = generator.flow_from_directory(\n",
    "    f\"{os.environ['SCRATCH']}/data10000-test\",\n",
    "    target_size=(224, 224),\n",
    "    batch_size=32,\n",
    "    class_mode='categorical'\n",
    ")"
   ]
  },
  {
   "cell_type": "markdown",
   "id": "smoking-treasury",
   "metadata": {},
   "source": [
    "## Making diagnoses"
   ]
  },
  {
   "cell_type": "code",
   "execution_count": null,
   "id": "swedish-bicycle",
   "metadata": {},
   "outputs": [],
   "source": [
    "true_labels = np.concatenate([testing_set[i][1] for i in range(len(testing_set))], axis=0)"
   ]
  },
  {
   "cell_type": "code",
   "execution_count": null,
   "id": "interim-diagnosis",
   "metadata": {},
   "outputs": [],
   "source": [
    "predicted_labels = model.predict(testing_set)"
   ]
  },
  {
   "cell_type": "markdown",
   "id": "honey-format",
   "metadata": {},
   "source": [
    "## Plot the ROC Curve"
   ]
  },
  {
   "cell_type": "code",
   "execution_count": null,
   "id": "adjusted-lingerie",
   "metadata": {},
   "outputs": [],
   "source": [
    "fpr = dict()\n",
    "tpr = dict()\n",
    "auc_metric = dict()\n",
    "\n",
    "diagnosis_index_dict = {v: k for k, v in testing_set.class_indices.items()}\n",
    "\n",
    "for i in range(CLASS_NUMBER):\n",
    "    diagnosis = diagnosis_index_dict[i]\n",
    "    fpr[diagnosis], tpr[diagnosis], _ = roc_curve(true_labels[:, i], predicted_labels[:, i])\n",
    "    auc_metric[diagnosis] = auc(fpr[diagnosis], tpr[diagnosis])"
   ]
  },
  {
   "cell_type": "code",
   "execution_count": null,
   "id": "musical-situation",
   "metadata": {},
   "outputs": [],
   "source": [
    "%matplotlib inline \n",
    "for diagnosis in testing_set.class_indices:\n",
    "    plt.plot(fpr[diagnosis], tpr[diagnosis], label=diagnosis)\n",
    "    \n",
    "plt.plot([0, 1], [0, 1], 'k--')\n",
    "plt.xlabel('False Positive Rate')\n",
    "plt.ylabel('True Positive Rate')\n",
    "plt.title('Receiver operating characteristic')\n",
    "plt.legend(loc=\"lower right\")\n",
    "plt.show()"
   ]
  },
  {
   "cell_type": "markdown",
   "id": "burning-maker",
   "metadata": {},
   "source": [
    "## Show AUC"
   ]
  },
  {
   "cell_type": "code",
   "execution_count": null,
   "id": "cross-hierarchy",
   "metadata": {},
   "outputs": [],
   "source": [
    "auc_metric"
   ]
  },
  {
   "cell_type": "code",
   "execution_count": null,
   "id": "hollywood-belfast",
   "metadata": {},
   "outputs": [],
   "source": []
  }
 ],
 "metadata": {
  "kernelspec": {
   "display_name": "Python 3",
   "language": "python",
   "name": "python3"
  },
  "language_info": {
   "codemirror_mode": {
    "name": "ipython",
    "version": 3
   },
   "file_extension": ".py",
   "mimetype": "text/x-python",
   "name": "python",
   "nbconvert_exporter": "python",
   "pygments_lexer": "ipython3",
   "version": "3.9.1"
  }
 },
 "nbformat": 4,
 "nbformat_minor": 5
}
