{
 "cells": [
  {
   "cell_type": "markdown",
   "metadata": {
    "pycharm": {
     "name": "#%% md\n"
    }
   },
   "source": [
    "# Analiza czerniaka za pomocą fraktalnej sieci neuronowej"
   ]
  },
  {
   "cell_type": "code",
   "execution_count": 1,
   "metadata": {
    "pycharm": {
     "name": "#%%\n"
    }
   },
   "outputs": [],
   "source": [
    "import numpy as np\n",
    "from scipy.ndimage import measurements\n",
    "\n",
    "import tensorflow as tf\n",
    "import tensorflow_hub as hub\n",
    "from tensorflow.keras.preprocessing.image import ImageDataGenerator"
   ]
  },
  {
   "cell_type": "markdown",
   "metadata": {},
   "source": [
    "Sprawdzamy dostępne urządzenie"
   ]
  },
  {
   "cell_type": "code",
   "execution_count": 2,
   "metadata": {},
   "outputs": [
    {
     "data": {
      "text/plain": [
       "[PhysicalDevice(name='/physical_device:GPU:0', device_type='GPU')]"
      ]
     },
     "execution_count": 2,
     "metadata": {},
     "output_type": "execute_result"
    }
   ],
   "source": [
    "tf.config.list_physical_devices('GPU')"
   ]
  },
  {
   "cell_type": "markdown",
   "metadata": {
    "pycharm": {
     "name": "#%% md\n"
    }
   },
   "source": [
    "Zapisujemy konfigurację do zmiennych."
   ]
  },
  {
   "cell_type": "code",
   "execution_count": 3,
   "metadata": {
    "pycharm": {
     "name": "#%%\n"
    }
   },
   "outputs": [],
   "source": [
    "IMAGE_SIZE = 224\n",
    "BATCH_SIZE = 32"
   ]
  },
  {
   "cell_type": "markdown",
   "metadata": {
    "pycharm": {
     "name": "#%% md\n"
    }
   },
   "source": [
    "Definiujemy warstwę, która będzie tworzyła obraz z fraktalnych cech podanych jej obrazów."
   ]
  },
  {
   "cell_type": "code",
   "execution_count": 4,
   "metadata": {
    "pycharm": {
     "name": "#%%\n"
    }
   },
   "outputs": [],
   "source": [
    "class Fractal2D(tf.keras.layers.Layer):\n",
    "    PERCOLATION_THRESHOLD = 0.59275\n",
    "    \n",
    "    def __init__(self, kernel_size_range):\n",
    "        super(Fractal2D, self).__init__()\n",
    "        self.kernel_size_range = kernel_size_range\n",
    "\n",
    "    def chessboard_distance(self, patched_inputs, central_pixels, kernel_size):\n",
    "        return tf.cast(\n",
    "            tf.math.less_equal(\n",
    "                tf.math.reduce_max(\n",
    "                    tf.math.abs(tf.math.subtract(patched_inputs, central_pixels)), \n",
    "                    axis=3), \n",
    "                kernel_size), \n",
    "            dtype=tf.int32)\n",
    "    \n",
    "    def euclidean_distance(self, patched_inputs, central_pixels, kernel_size):\n",
    "        return tf.cast(\n",
    "            tf.math.less_equal(\n",
    "                tf.math.pow(\n",
    "                    tf.math.reduce_sum(\n",
    "                        tf.math.pow(\n",
    "                            tf.math.subtract(patched_inputs, central_pixels), \n",
    "                            2), \n",
    "                        axis=3), \n",
    "                    0.5), \n",
    "                kernel_size), \n",
    "            dtype=tf.int32)\n",
    "    \n",
    "    def manhattan_distance(self, patched_inputs, central_pixels, kernel_size):\n",
    "        return tf.cast(\n",
    "            tf.math.less_equal(\n",
    "                tf.math.reduce_sum(\n",
    "                    tf.math.abs(tf.math.subtract(patched_inputs, central_pixels)), \n",
    "                    axis=3), \n",
    "                kernel_size), \n",
    "            dtype=tf.int32)\n",
    "    \n",
    "    def extract_binary_patches(self, inputs, kernel_size, distance_function):\n",
    "        patched_inputs = tf.image.extract_patches(inputs,\n",
    "                                                     sizes=(1, kernel_size, kernel_size, 1),\n",
    "                                                     strides=(1, kernel_size, kernel_size, 1),\n",
    "                                                     rates=(1, 1, 1, 1),\n",
    "                                                     padding='SAME')\n",
    "        _, rows, cols, _ = patched_inputs.shape\n",
    "        patched_inputs = tf.reshape(patched_inputs, shape=(-1, kernel_size, kernel_size, 3))\n",
    "        \n",
    "        central_pixels = tf.image.resize_with_crop_or_pad(patched_inputs, 1, 1)\n",
    "        \n",
    "        return tf.reshape(distance_function(patched_inputs, central_pixels, kernel_size), shape=(-1, rows * cols, kernel_size, kernel_size))\n",
    "    \n",
    "    def calculate_probability_matrices(self, binary_inputs, kernel_size):\n",
    "        number_of_ones = tf.map_fn(lambda binary_input: tf.map_fn(lambda binary_patch: tf.math.reduce_sum(binary_patch), \n",
    "                                                                  binary_input), \n",
    "                                   binary_inputs)\n",
    "        _, patch_number = number_of_ones.shape\n",
    "        return tf.math.bincount(number_of_ones,\n",
    "                                minlength=1, \n",
    "                                maxlength=kernel_size ** 2 + 1, \n",
    "                                axis=-1) / patch_number\n",
    "    \n",
    "    def calculate_fractal_dimensions(self, probability_matrices):\n",
    "        def fd_helper(matrix):\n",
    "            return tf.math.reduce_sum(tf.math.divide(matrix, tf.range(1, len(matrix) + 1, dtype=tf.float64)))\n",
    "        return tf.map_fn(lambda matrix: fd_helper(matrix), probability_matrices)\n",
    "    \n",
    "    def calculate_lacunarity(self, probability_matrices):\n",
    "        def m_helper(matrix):\n",
    "            return tf.math.reduce_sum(tf.math.multiply(matrix, tf.range(1, len(matrix) + 1, dtype=tf.float64)))\n",
    "        \n",
    "        def m2_helper(matrix):\n",
    "            return tf.math.reduce_sum(tf.math.multiply(tf.math.pow(matrix, 2), tf.range(1, len(matrix) + 1, dtype=tf.float64)))\n",
    "        \n",
    "        return tf.map_fn(lambda probability_matrix: \n",
    "                         tf.math.divide(\n",
    "                             tf.math.subtract(m2_helper(probability_matrix), \n",
    "                                               tf.math.pow(m_helper(probability_matrix), 2)), \n",
    "                             tf.math.pow(m_helper(probability_matrix), 2)), \n",
    "                         probability_matrices)\n",
    "    \n",
    "    def average_cluster_percolation(self, binary_inputs, kernel_size):\n",
    "        number_of_ones = tf.map_fn(lambda binary_input: tf.map_fn(lambda binary_patch: tf.math.reduce_sum(binary_patch), \n",
    "                                                                  binary_input), \n",
    "                                   binary_inputs)\n",
    "        _, patch_number = number_of_ones.shape\n",
    "        \n",
    "        return tf.math.divide(\n",
    "                    tf.math.reduce_sum(\n",
    "                        tf.cast(\n",
    "                            tf.math.greater_equal(\n",
    "                                tf.math.divide(number_of_ones, kernel_size ** 2), \n",
    "                                self.PERCOLATION_THRESHOLD), \n",
    "                            dtype=tf.int32), \n",
    "                    axis=1),\n",
    "                patch_number)\n",
    "        \n",
    "        \n",
    "    \n",
    "    def call(self, inputs):\n",
    "        kernel_size_start, kernel_size_end = self.kernel_size_range\n",
    "        \n",
    "        for kernel_size in range(kernel_size_start, kernel_size_end + 1, 2):\n",
    "            cd_binary_patches = self.extract_binary_patches(inputs, kernel_size, distance_function=self.chessboard_distance)\n",
    "            cd_probability_matrices = self.calculate_probability_matrices(cd_binary_patches, kernel_size)\n",
    "            cd_fractal_dimensions = self.calculate_fractal_dimensions(cd_probability_matrices)\n",
    "            cd_lacunarity = self.calculate_lacunarity(cd_probability_matrices)\n",
    "            average_cluster_percolation = self.average_cluster_percolation(cd_binary_patches, kernel_size)\n",
    "            print(f'average cluster percolation shape: {average_cluster_percolation.shape}')\n",
    "        return inputs"
   ]
  },
  {
   "cell_type": "markdown",
   "metadata": {
    "pycharm": {
     "name": "#%% md\n"
    }
   },
   "source": [
    "Ładujemy dane do trenowania i walidacji."
   ]
  },
  {
   "cell_type": "code",
   "execution_count": 5,
   "metadata": {
    "pycharm": {
     "name": "#%%\n"
    }
   },
   "outputs": [
    {
     "name": "stdout",
     "output_type": "stream",
     "text": [
      "Found 640 images belonging to 3 classes.\n",
      "Found 159 images belonging to 3 classes.\n"
     ]
    }
   ],
   "source": [
    "datagen = ImageDataGenerator(validation_split=0.2, rescale=1.0)\n",
    "training_set = datagen.flow_from_directory('/small-data',\n",
    "                                           target_size=(IMAGE_SIZE, IMAGE_SIZE),\n",
    "                                           batch_size=BATCH_SIZE,\n",
    "                                           class_mode='categorical',\n",
    "                                           subset='training')\n",
    "validation_set = datagen.flow_from_directory('/small-data',\n",
    "                                             target_size=(IMAGE_SIZE, IMAGE_SIZE),\n",
    "                                             batch_size=BATCH_SIZE,\n",
    "                                             class_mode='categorical',\n",
    "                                             subset='validation')"
   ]
  },
  {
   "cell_type": "markdown",
   "metadata": {
    "pycharm": {
     "name": "#%% md\n"
    }
   },
   "source": [
    "Zapisujemy ilość rozpoznawalnych diagnoz."
   ]
  },
  {
   "cell_type": "code",
   "execution_count": 6,
   "metadata": {
    "pycharm": {
     "name": "#%%\n"
    }
   },
   "outputs": [],
   "source": [
    "DIAGNOSIS_NUMBER = len(training_set.class_indices)"
   ]
  },
  {
   "cell_type": "markdown",
   "metadata": {
    "pycharm": {
     "name": "#%% md\n"
    }
   },
   "source": [
    "Tworzymy model, który wykorzystuje wcześniej zdefiniowaną warstwę."
   ]
  },
  {
   "cell_type": "code",
   "execution_count": 7,
   "metadata": {
    "pycharm": {
     "name": "#%%\n"
    },
    "scrolled": false
   },
   "outputs": [
    {
     "name": "stdout",
     "output_type": "stream",
     "text": [
      "average cluster percolation shape: (None,)\n",
      "average cluster percolation shape: (None,)\n",
      "average cluster percolation shape: (None,)\n",
      "average cluster percolation shape: (None,)\n",
      "average cluster percolation shape: (None,)\n",
      "average cluster percolation shape: (None,)\n",
      "average cluster percolation shape: (None,)\n",
      "average cluster percolation shape: (None,)\n",
      "average cluster percolation shape: (None,)\n",
      "average cluster percolation shape: (None,)\n",
      "average cluster percolation shape: (None,)\n",
      "average cluster percolation shape: (None,)\n",
      "average cluster percolation shape: (None,)\n",
      "average cluster percolation shape: (None,)\n",
      "average cluster percolation shape: (None,)\n",
      "average cluster percolation shape: (None,)\n",
      "average cluster percolation shape: (None,)\n",
      "average cluster percolation shape: (None,)\n",
      "average cluster percolation shape: (None,)\n",
      "average cluster percolation shape: (None,)\n"
     ]
    }
   ],
   "source": [
    "model = tf.keras.Sequential([\n",
    "    tf.keras.layers.InputLayer(input_shape=(IMAGE_SIZE, IMAGE_SIZE, 3)),\n",
    "    Fractal2D(kernel_size_range=(3, 41)),\n",
    "    hub.KerasLayer(\"https://tfhub.dev/google/tf2-preview/mobilenet_v2/feature_vector/4\", \n",
    "                   output_shape=[1280],\n",
    "                   trainable=False),\n",
    "    tf.keras.layers.Dense(DIAGNOSIS_NUMBER, activation='softmax')\n",
    "])"
   ]
  },
  {
   "cell_type": "code",
   "execution_count": 8,
   "metadata": {
    "pycharm": {
     "name": "#%%\n"
    }
   },
   "outputs": [],
   "source": [
    "model.compile(optimizer='adam', loss='categorical_crossentropy', metrics=['accuracy'])"
   ]
  },
  {
   "cell_type": "code",
   "execution_count": null,
   "metadata": {
    "pycharm": {
     "name": "#%%\n"
    },
    "scrolled": false
   },
   "outputs": [
    {
     "name": "stdout",
     "output_type": "stream",
     "text": [
      "Epoch 1/2\n",
      "average cluster percolation shape: (None,)\n",
      "average cluster percolation shape: (None,)\n",
      "average cluster percolation shape: (None,)\n",
      "average cluster percolation shape: (None,)\n",
      "average cluster percolation shape: (None,)\n",
      "average cluster percolation shape: (None,)\n",
      "average cluster percolation shape: (None,)\n",
      "average cluster percolation shape: (None,)\n",
      "average cluster percolation shape: (None,)\n",
      "average cluster percolation shape: (None,)\n",
      "average cluster percolation shape: (None,)\n",
      "average cluster percolation shape: (None,)\n",
      "average cluster percolation shape: (None,)\n",
      "average cluster percolation shape: (None,)\n",
      "average cluster percolation shape: (None,)\n",
      "average cluster percolation shape: (None,)\n",
      "average cluster percolation shape: (None,)\n",
      "average cluster percolation shape: (None,)\n",
      "average cluster percolation shape: (None,)\n",
      "average cluster percolation shape: (None,)\n",
      "average cluster percolation shape: (None,)\n",
      "average cluster percolation shape: (None,)\n",
      "average cluster percolation shape: (None,)\n",
      "average cluster percolation shape: (None,)\n",
      "average cluster percolation shape: (None,)\n",
      "average cluster percolation shape: (None,)\n",
      "average cluster percolation shape: (None,)\n",
      "average cluster percolation shape: (None,)\n",
      "average cluster percolation shape: (None,)\n",
      "average cluster percolation shape: (None,)\n",
      "average cluster percolation shape: (None,)\n",
      "average cluster percolation shape: (None,)\n",
      "average cluster percolation shape: (None,)\n",
      "average cluster percolation shape: (None,)\n",
      "average cluster percolation shape: (None,)\n",
      "average cluster percolation shape: (None,)\n",
      "average cluster percolation shape: (None,)\n",
      "average cluster percolation shape: (None,)\n",
      "average cluster percolation shape: (None,)\n",
      "average cluster percolation shape: (None,)\n",
      "20/20 [==============================] - ETA: 0s - loss: 0.5257 - accuracy: 0.8250 average cluster percolation shape: (None,)\n",
      "average cluster percolation shape: (None,)\n",
      "average cluster percolation shape: (None,)\n",
      "average cluster percolation shape: (None,)\n",
      "average cluster percolation shape: (None,)\n",
      "average cluster percolation shape: (None,)\n",
      "average cluster percolation shape: (None,)\n",
      "average cluster percolation shape: (None,)\n",
      "average cluster percolation shape: (None,)\n",
      "average cluster percolation shape: (None,)\n",
      "average cluster percolation shape: (None,)\n",
      "average cluster percolation shape: (None,)\n",
      "average cluster percolation shape: (None,)\n",
      "average cluster percolation shape: (None,)\n",
      "average cluster percolation shape: (None,)\n",
      "average cluster percolation shape: (None,)\n",
      "average cluster percolation shape: (None,)\n",
      "average cluster percolation shape: (None,)\n",
      "average cluster percolation shape: (None,)\n",
      "average cluster percolation shape: (None,)\n"
     ]
    }
   ],
   "source": [
    "model.fit(training_set, validation_data=validation_set, epochs=2)"
   ]
  },
  {
   "cell_type": "code",
   "execution_count": null,
   "metadata": {},
   "outputs": [],
   "source": []
  }
 ],
 "metadata": {
  "kernelspec": {
   "display_name": "Python 3",
   "language": "python",
   "name": "python3"
  },
  "language_info": {
   "codemirror_mode": {
    "name": "ipython",
    "version": 3
   },
   "file_extension": ".py",
   "mimetype": "text/x-python",
   "name": "python",
   "nbconvert_exporter": "python",
   "pygments_lexer": "ipython3",
   "version": "3.8.10"
  }
 },
 "nbformat": 4,
 "nbformat_minor": 1
}
