{
 "cells": [
  {
   "cell_type": "markdown",
   "metadata": {
    "pycharm": {
     "name": "#%% md\n"
    }
   },
   "source": [
    "# Analiza czerniaka za pomocą fraktalnej sieci neuronowej"
   ]
  },
  {
   "cell_type": "code",
   "execution_count": 1,
   "metadata": {
    "pycharm": {
     "name": "#%%\n"
    }
   },
   "outputs": [],
   "source": [
    "import numpy as np\n",
    "import tensorflow as tf\n",
    "import tensorflow_hub as hub\n",
    "from tensorflow.keras.preprocessing.image import ImageDataGenerator"
   ]
  },
  {
   "cell_type": "markdown",
   "metadata": {},
   "source": [
    "Sprawdzamy dostępne urządzenie"
   ]
  },
  {
   "cell_type": "code",
   "execution_count": 2,
   "metadata": {},
   "outputs": [
    {
     "data": {
      "text/plain": [
       "[PhysicalDevice(name='/physical_device:GPU:0', device_type='GPU')]"
      ]
     },
     "execution_count": 2,
     "metadata": {},
     "output_type": "execute_result"
    }
   ],
   "source": [
    "tf.config.list_physical_devices('GPU')"
   ]
  },
  {
   "cell_type": "markdown",
   "metadata": {
    "pycharm": {
     "name": "#%% md\n"
    }
   },
   "source": [
    "Zapisujemy konfigurację do zmiennych."
   ]
  },
  {
   "cell_type": "code",
   "execution_count": 3,
   "metadata": {
    "pycharm": {
     "name": "#%%\n"
    }
   },
   "outputs": [],
   "source": [
    "IMAGE_SIZE = 224\n",
    "BATCH_SIZE = 32"
   ]
  },
  {
   "cell_type": "markdown",
   "metadata": {
    "pycharm": {
     "name": "#%% md\n"
    }
   },
   "source": [
    "Definiujemy warstwę, która będzie tworzyła obraz z fraktalnych cech podanych jej obrazów."
   ]
  },
  {
   "cell_type": "code",
   "execution_count": 4,
   "metadata": {
    "pycharm": {
     "name": "#%%\n"
    }
   },
   "outputs": [],
   "source": [
    "class Fractal2D(tf.keras.layers.Layer):\n",
    "    def __init__(self, kernel_size_range):\n",
    "        super(Fractal2D, self).__init__()\n",
    "        self.kernel_size_range = kernel_size_range\n",
    "    \n",
    "    @staticmethod\n",
    "    def binarize(patch_batch, kernel_size, batch_size):\n",
    "        auxiliary_patch_batch = tf.image.resize_with_crop_or_pad(patch_batch, 1, 1)\n",
    "        \n",
    "        cd_binary = tf.cast(tf.math.less_equal(tf.math.reduce_max(tf.math.abs(tf.math.subtract(patch_batch, auxiliary_patch_batch)), axis=3), kernel_size), tf.int32)\n",
    "        ed_binary = tf.cast(tf.math.less_equal(tf.math.pow(tf.math.reduce_sum(tf.math.pow(tf.math.subtract(patch_batch, auxiliary_patch_batch), 2), axis=3), 0.5), kernel_size), tf.int32)\n",
    "        md_binary = tf.cast(tf.math.less_equal(tf.math.reduce_sum(tf.math.abs(tf.math.subtract(patch_batch, auxiliary_patch_batch)), axis=3), kernel_size), tf.int32)\n",
    "        \n",
    "        return  tf.reshape(cd_binary, shape=(batch_size, -1, kernel_size, kernel_size)), \\\n",
    "                tf.reshape(ed_binary, shape=(batch_size, -1, kernel_size, kernel_size)), \\\n",
    "                tf.reshape(md_binary, shape=(batch_size, -1, kernel_size, kernel_size))\n",
    "    \n",
    "    @staticmethod\n",
    "    def calculate_probability_matrix(binary_matrix):\n",
    "        # tf.map_fn(lambda image: tf.map_fn(lambda patch: tf.math.reduce_sum(patch), image), binary_matrix)\n",
    "        pass\n",
    "            \n",
    "            \n",
    "    def call(self, image_batch):\n",
    "        for kernel_size in range(self.kernel_size_range[0], self.kernel_size_range[1] + 1, 2):\n",
    "            patch_batch = tf.image.extract_patches(image_batch,\n",
    "                                                     sizes=(1, kernel_size, kernel_size, 1),\n",
    "                                                     strides=(1, kernel_size, kernel_size, 1),\n",
    "                                                     rates=(1, 1, 1, 1),\n",
    "                                                     padding='SAME')\n",
    "            batch_size, row_size, col_size, depth = patch_batch.shape\n",
    "            patch_batch = tf.reshape(patch_batch, shape=(batch_size * row_size * col_size, kernel_size, kernel_size, 3))\n",
    "\n",
    "            cd_binary, ed_binary, md_binary = self.binarize(patch_batch, kernel_size, batch_size)\n",
    "        return image_batch"
   ]
  },
  {
   "cell_type": "markdown",
   "metadata": {
    "pycharm": {
     "name": "#%% md\n"
    }
   },
   "source": [
    "Ładujemy dane do trenowania i walidacji."
   ]
  },
  {
   "cell_type": "code",
   "execution_count": 5,
   "metadata": {
    "pycharm": {
     "name": "#%%\n"
    }
   },
   "outputs": [
    {
     "name": "stdout",
     "output_type": "stream",
     "text": [
      "Found 640 images belonging to 3 classes.\n",
      "Found 159 images belonging to 3 classes.\n"
     ]
    }
   ],
   "source": [
    "datagen = ImageDataGenerator(validation_split=0.2, rescale=1.0)\n",
    "training_set = datagen.flow_from_directory('/small-data',\n",
    "                                           target_size=(IMAGE_SIZE, IMAGE_SIZE),\n",
    "                                           batch_size=BATCH_SIZE,\n",
    "                                           class_mode='categorical',\n",
    "                                           subset='training')\n",
    "validation_set = datagen.flow_from_directory('/small-data',\n",
    "                                             target_size=(IMAGE_SIZE, IMAGE_SIZE),\n",
    "                                             batch_size=BATCH_SIZE,\n",
    "                                             class_mode='categorical',\n",
    "                                             subset='validation')"
   ]
  },
  {
   "cell_type": "markdown",
   "metadata": {
    "pycharm": {
     "name": "#%% md\n"
    }
   },
   "source": [
    "Zapisujemy ilość rozpoznawalnych diagnoz."
   ]
  },
  {
   "cell_type": "code",
   "execution_count": 6,
   "metadata": {
    "pycharm": {
     "name": "#%%\n"
    }
   },
   "outputs": [],
   "source": [
    "DIAGNOSIS_NUMBER = len(training_set.class_indices)"
   ]
  },
  {
   "cell_type": "markdown",
   "metadata": {
    "pycharm": {
     "name": "#%% md\n"
    }
   },
   "source": [
    "Tworzymy model, który wykorzystuje wcześniej zdefiniowaną warstwę."
   ]
  },
  {
   "cell_type": "code",
   "execution_count": 7,
   "metadata": {
    "pycharm": {
     "name": "#%%\n"
    }
   },
   "outputs": [
    {
     "name": "stdout",
     "output_type": "stream",
     "text": [
      "cd_binary: (32, 5625, 3, 3)\n",
      "ed_binary: (32, 5625, 3, 3)\n",
      "md_binary: (32, 5625, 3, 3)\n",
      "cd_binary: (32, 2025, 5, 5)\n",
      "ed_binary: (32, 2025, 5, 5)\n",
      "md_binary: (32, 2025, 5, 5)\n",
      "cd_binary: (32, 1024, 7, 7)\n",
      "ed_binary: (32, 1024, 7, 7)\n",
      "md_binary: (32, 1024, 7, 7)\n",
      "cd_binary: (32, 625, 9, 9)\n",
      "ed_binary: (32, 625, 9, 9)\n",
      "md_binary: (32, 625, 9, 9)\n",
      "cd_binary: (32, 441, 11, 11)\n",
      "ed_binary: (32, 441, 11, 11)\n",
      "md_binary: (32, 441, 11, 11)\n",
      "cd_binary: (32, 324, 13, 13)\n",
      "ed_binary: (32, 324, 13, 13)\n",
      "md_binary: (32, 324, 13, 13)\n",
      "cd_binary: (32, 225, 15, 15)\n",
      "ed_binary: (32, 225, 15, 15)\n",
      "md_binary: (32, 225, 15, 15)\n",
      "cd_binary: (32, 196, 17, 17)\n",
      "ed_binary: (32, 196, 17, 17)\n",
      "md_binary: (32, 196, 17, 17)\n",
      "cd_binary: (32, 144, 19, 19)\n",
      "ed_binary: (32, 144, 19, 19)\n",
      "md_binary: (32, 144, 19, 19)\n",
      "cd_binary: (32, 121, 21, 21)\n",
      "ed_binary: (32, 121, 21, 21)\n",
      "md_binary: (32, 121, 21, 21)\n",
      "cd_binary: (32, 100, 23, 23)\n",
      "ed_binary: (32, 100, 23, 23)\n",
      "md_binary: (32, 100, 23, 23)\n",
      "cd_binary: (32, 81, 25, 25)\n",
      "ed_binary: (32, 81, 25, 25)\n",
      "md_binary: (32, 81, 25, 25)\n",
      "cd_binary: (32, 81, 27, 27)\n",
      "ed_binary: (32, 81, 27, 27)\n",
      "md_binary: (32, 81, 27, 27)\n",
      "cd_binary: (32, 64, 29, 29)\n",
      "ed_binary: (32, 64, 29, 29)\n",
      "md_binary: (32, 64, 29, 29)\n",
      "cd_binary: (32, 64, 31, 31)\n",
      "ed_binary: (32, 64, 31, 31)\n",
      "md_binary: (32, 64, 31, 31)\n",
      "cd_binary: (32, 49, 33, 33)\n",
      "ed_binary: (32, 49, 33, 33)\n",
      "md_binary: (32, 49, 33, 33)\n",
      "cd_binary: (32, 49, 35, 35)\n",
      "ed_binary: (32, 49, 35, 35)\n",
      "md_binary: (32, 49, 35, 35)\n",
      "cd_binary: (32, 49, 37, 37)\n",
      "ed_binary: (32, 49, 37, 37)\n",
      "md_binary: (32, 49, 37, 37)\n",
      "cd_binary: (32, 36, 39, 39)\n",
      "ed_binary: (32, 36, 39, 39)\n",
      "md_binary: (32, 36, 39, 39)\n",
      "cd_binary: (32, 36, 41, 41)\n",
      "ed_binary: (32, 36, 41, 41)\n",
      "md_binary: (32, 36, 41, 41)\n"
     ]
    }
   ],
   "source": [
    "model = tf.keras.Sequential([\n",
    "    tf.keras.layers.InputLayer(input_shape=(224, 224, 3), batch_size=32),\n",
    "    Fractal2D(kernel_size_range=(3, 41)),\n",
    "    hub.KerasLayer(\"https://tfhub.dev/google/tf2-preview/mobilenet_v2/feature_vector/4\", output_shape=[1280],\n",
    "                   trainable=False),\n",
    "    tf.keras.layers.Dense(DIAGNOSIS_NUMBER, activation='softmax')\n",
    "])"
   ]
  },
  {
   "cell_type": "code",
   "execution_count": 8,
   "metadata": {
    "pycharm": {
     "name": "#%%\n"
    }
   },
   "outputs": [],
   "source": [
    "model.compile(optimizer='adam', loss='categorical_crossentropy', metrics=['accuracy'])"
   ]
  },
  {
   "cell_type": "code",
   "execution_count": 9,
   "metadata": {
    "pycharm": {
     "name": "#%%\n"
    },
    "scrolled": false
   },
   "outputs": [
    {
     "name": "stdout",
     "output_type": "stream",
     "text": [
      "Epoch 1/20\n",
      "cd_binary: (32, 5625, 3, 3)\n",
      "ed_binary: (32, 5625, 3, 3)\n",
      "md_binary: (32, 5625, 3, 3)\n",
      "cd_binary: (32, 2025, 5, 5)\n",
      "ed_binary: (32, 2025, 5, 5)\n",
      "md_binary: (32, 2025, 5, 5)\n",
      "cd_binary: (32, 1024, 7, 7)\n",
      "ed_binary: (32, 1024, 7, 7)\n",
      "md_binary: (32, 1024, 7, 7)\n",
      "cd_binary: (32, 625, 9, 9)\n",
      "ed_binary: (32, 625, 9, 9)\n",
      "md_binary: (32, 625, 9, 9)\n",
      "cd_binary: (32, 441, 11, 11)\n",
      "ed_binary: (32, 441, 11, 11)\n",
      "md_binary: (32, 441, 11, 11)\n",
      "cd_binary: (32, 324, 13, 13)\n",
      "ed_binary: (32, 324, 13, 13)\n",
      "md_binary: (32, 324, 13, 13)\n",
      "cd_binary: (32, 225, 15, 15)\n",
      "ed_binary: (32, 225, 15, 15)\n",
      "md_binary: (32, 225, 15, 15)\n",
      "cd_binary: (32, 196, 17, 17)\n",
      "ed_binary: (32, 196, 17, 17)\n",
      "md_binary: (32, 196, 17, 17)\n",
      "cd_binary: (32, 144, 19, 19)\n",
      "ed_binary: (32, 144, 19, 19)\n",
      "md_binary: (32, 144, 19, 19)\n",
      "cd_binary: (32, 121, 21, 21)\n",
      "ed_binary: (32, 121, 21, 21)\n",
      "md_binary: (32, 121, 21, 21)\n",
      "cd_binary: (32, 100, 23, 23)\n",
      "ed_binary: (32, 100, 23, 23)\n",
      "md_binary: (32, 100, 23, 23)\n",
      "cd_binary: (32, 81, 25, 25)\n",
      "ed_binary: (32, 81, 25, 25)\n",
      "md_binary: (32, 81, 25, 25)\n",
      "cd_binary: (32, 81, 27, 27)\n",
      "ed_binary: (32, 81, 27, 27)\n",
      "md_binary: (32, 81, 27, 27)\n",
      "cd_binary: (32, 64, 29, 29)\n",
      "ed_binary: (32, 64, 29, 29)\n",
      "md_binary: (32, 64, 29, 29)\n",
      "cd_binary: (32, 64, 31, 31)\n",
      "ed_binary: (32, 64, 31, 31)\n",
      "md_binary: (32, 64, 31, 31)\n",
      "cd_binary: (32, 49, 33, 33)\n",
      "ed_binary: (32, 49, 33, 33)\n",
      "md_binary: (32, 49, 33, 33)\n",
      "cd_binary: (32, 49, 35, 35)\n",
      "ed_binary: (32, 49, 35, 35)\n",
      "md_binary: (32, 49, 35, 35)\n",
      "cd_binary: (32, 49, 37, 37)\n",
      "ed_binary: (32, 49, 37, 37)\n",
      "md_binary: (32, 49, 37, 37)\n",
      "cd_binary: (32, 36, 39, 39)\n",
      "ed_binary: (32, 36, 39, 39)\n",
      "md_binary: (32, 36, 39, 39)\n",
      "cd_binary: (32, 36, 41, 41)\n",
      "ed_binary: (32, 36, 41, 41)\n",
      "md_binary: (32, 36, 41, 41)\n",
      "cd_binary: (32, 5625, 3, 3)\n",
      "ed_binary: (32, 5625, 3, 3)\n",
      "md_binary: (32, 5625, 3, 3)\n",
      "cd_binary: (32, 2025, 5, 5)\n",
      "ed_binary: (32, 2025, 5, 5)\n",
      "md_binary: (32, 2025, 5, 5)\n",
      "cd_binary: (32, 1024, 7, 7)\n",
      "ed_binary: (32, 1024, 7, 7)\n",
      "md_binary: (32, 1024, 7, 7)\n",
      "cd_binary: (32, 625, 9, 9)\n",
      "ed_binary: (32, 625, 9, 9)\n",
      "md_binary: (32, 625, 9, 9)\n",
      "cd_binary: (32, 441, 11, 11)\n",
      "ed_binary: (32, 441, 11, 11)\n",
      "md_binary: (32, 441, 11, 11)\n",
      "cd_binary: (32, 324, 13, 13)\n",
      "ed_binary: (32, 324, 13, 13)\n",
      "md_binary: (32, 324, 13, 13)\n",
      "cd_binary: (32, 225, 15, 15)\n",
      "ed_binary: (32, 225, 15, 15)\n",
      "md_binary: (32, 225, 15, 15)\n",
      "cd_binary: (32, 196, 17, 17)\n",
      "ed_binary: (32, 196, 17, 17)\n",
      "md_binary: (32, 196, 17, 17)\n",
      "cd_binary: (32, 144, 19, 19)\n",
      "ed_binary: (32, 144, 19, 19)\n",
      "md_binary: (32, 144, 19, 19)\n",
      "cd_binary: (32, 121, 21, 21)\n",
      "ed_binary: (32, 121, 21, 21)\n",
      "md_binary: (32, 121, 21, 21)\n",
      "cd_binary: (32, 100, 23, 23)\n",
      "ed_binary: (32, 100, 23, 23)\n",
      "md_binary: (32, 100, 23, 23)\n",
      "cd_binary: (32, 81, 25, 25)\n",
      "ed_binary: (32, 81, 25, 25)\n",
      "md_binary: (32, 81, 25, 25)\n",
      "cd_binary: (32, 81, 27, 27)\n",
      "ed_binary: (32, 81, 27, 27)\n",
      "md_binary: (32, 81, 27, 27)\n",
      "cd_binary: (32, 64, 29, 29)\n",
      "ed_binary: (32, 64, 29, 29)\n",
      "md_binary: (32, 64, 29, 29)\n",
      "cd_binary: (32, 64, 31, 31)\n",
      "ed_binary: (32, 64, 31, 31)\n",
      "md_binary: (32, 64, 31, 31)\n",
      "cd_binary: (32, 49, 33, 33)\n",
      "ed_binary: (32, 49, 33, 33)\n",
      "md_binary: (32, 49, 33, 33)\n",
      "cd_binary: (32, 49, 35, 35)\n",
      "ed_binary: (32, 49, 35, 35)\n",
      "md_binary: (32, 49, 35, 35)\n",
      "cd_binary: (32, 49, 37, 37)\n",
      "ed_binary: (32, 49, 37, 37)\n",
      "md_binary: (32, 49, 37, 37)\n",
      "cd_binary: (32, 36, 39, 39)\n",
      "ed_binary: (32, 36, 39, 39)\n",
      "md_binary: (32, 36, 39, 39)\n",
      "cd_binary: (32, 36, 41, 41)\n",
      "ed_binary: (32, 36, 41, 41)\n",
      "md_binary: (32, 36, 41, 41)\n",
      " 4/20 [=====>........................] - ETA: 18s - loss: 0.5475 - accuracy: 0.8516"
     ]
    },
    {
     "ename": "KeyboardInterrupt",
     "evalue": "",
     "output_type": "error",
     "traceback": [
      "\u001b[0;31m---------------------------------------------------------------------------\u001b[0m",
      "\u001b[0;31mKeyboardInterrupt\u001b[0m                         Traceback (most recent call last)",
      "\u001b[0;32m<ipython-input-9-e2ddedcd0d24>\u001b[0m in \u001b[0;36m<module>\u001b[0;34m\u001b[0m\n\u001b[0;32m----> 1\u001b[0;31m \u001b[0mmodel\u001b[0m\u001b[0;34m.\u001b[0m\u001b[0mfit\u001b[0m\u001b[0;34m(\u001b[0m\u001b[0mtraining_set\u001b[0m\u001b[0;34m,\u001b[0m \u001b[0mvalidation_data\u001b[0m\u001b[0;34m=\u001b[0m\u001b[0mvalidation_set\u001b[0m\u001b[0;34m,\u001b[0m \u001b[0mepochs\u001b[0m\u001b[0;34m=\u001b[0m\u001b[0;36m20\u001b[0m\u001b[0;34m)\u001b[0m\u001b[0;34m\u001b[0m\u001b[0;34m\u001b[0m\u001b[0m\n\u001b[0m",
      "\u001b[0;32m/usr/local/lib/python3.8/dist-packages/keras/utils/traceback_utils.py\u001b[0m in \u001b[0;36merror_handler\u001b[0;34m(*args, **kwargs)\u001b[0m\n\u001b[1;32m     62\u001b[0m     \u001b[0mfiltered_tb\u001b[0m \u001b[0;34m=\u001b[0m \u001b[0;32mNone\u001b[0m\u001b[0;34m\u001b[0m\u001b[0;34m\u001b[0m\u001b[0m\n\u001b[1;32m     63\u001b[0m     \u001b[0;32mtry\u001b[0m\u001b[0;34m:\u001b[0m\u001b[0;34m\u001b[0m\u001b[0;34m\u001b[0m\u001b[0m\n\u001b[0;32m---> 64\u001b[0;31m       \u001b[0;32mreturn\u001b[0m \u001b[0mfn\u001b[0m\u001b[0;34m(\u001b[0m\u001b[0;34m*\u001b[0m\u001b[0margs\u001b[0m\u001b[0;34m,\u001b[0m \u001b[0;34m**\u001b[0m\u001b[0mkwargs\u001b[0m\u001b[0;34m)\u001b[0m\u001b[0;34m\u001b[0m\u001b[0;34m\u001b[0m\u001b[0m\n\u001b[0m\u001b[1;32m     65\u001b[0m     \u001b[0;32mexcept\u001b[0m \u001b[0mException\u001b[0m \u001b[0;32mas\u001b[0m \u001b[0me\u001b[0m\u001b[0;34m:\u001b[0m  \u001b[0;31m# pylint: disable=broad-except\u001b[0m\u001b[0;34m\u001b[0m\u001b[0;34m\u001b[0m\u001b[0m\n\u001b[1;32m     66\u001b[0m       \u001b[0mfiltered_tb\u001b[0m \u001b[0;34m=\u001b[0m \u001b[0m_process_traceback_frames\u001b[0m\u001b[0;34m(\u001b[0m\u001b[0me\u001b[0m\u001b[0;34m.\u001b[0m\u001b[0m__traceback__\u001b[0m\u001b[0;34m)\u001b[0m\u001b[0;34m\u001b[0m\u001b[0;34m\u001b[0m\u001b[0m\n",
      "\u001b[0;32m/usr/local/lib/python3.8/dist-packages/keras/engine/training.py\u001b[0m in \u001b[0;36mfit\u001b[0;34m(self, x, y, batch_size, epochs, verbose, callbacks, validation_split, validation_data, shuffle, class_weight, sample_weight, initial_epoch, steps_per_epoch, validation_steps, validation_batch_size, validation_freq, max_queue_size, workers, use_multiprocessing)\u001b[0m\n\u001b[1;32m   1214\u001b[0m                 _r=1):\n\u001b[1;32m   1215\u001b[0m               \u001b[0mcallbacks\u001b[0m\u001b[0;34m.\u001b[0m\u001b[0mon_train_batch_begin\u001b[0m\u001b[0;34m(\u001b[0m\u001b[0mstep\u001b[0m\u001b[0;34m)\u001b[0m\u001b[0;34m\u001b[0m\u001b[0;34m\u001b[0m\u001b[0m\n\u001b[0;32m-> 1216\u001b[0;31m               \u001b[0mtmp_logs\u001b[0m \u001b[0;34m=\u001b[0m \u001b[0mself\u001b[0m\u001b[0;34m.\u001b[0m\u001b[0mtrain_function\u001b[0m\u001b[0;34m(\u001b[0m\u001b[0miterator\u001b[0m\u001b[0;34m)\u001b[0m\u001b[0;34m\u001b[0m\u001b[0;34m\u001b[0m\u001b[0m\n\u001b[0m\u001b[1;32m   1217\u001b[0m               \u001b[0;32mif\u001b[0m \u001b[0mdata_handler\u001b[0m\u001b[0;34m.\u001b[0m\u001b[0mshould_sync\u001b[0m\u001b[0;34m:\u001b[0m\u001b[0;34m\u001b[0m\u001b[0;34m\u001b[0m\u001b[0m\n\u001b[1;32m   1218\u001b[0m                 \u001b[0mcontext\u001b[0m\u001b[0;34m.\u001b[0m\u001b[0masync_wait\u001b[0m\u001b[0;34m(\u001b[0m\u001b[0;34m)\u001b[0m\u001b[0;34m\u001b[0m\u001b[0;34m\u001b[0m\u001b[0m\n",
      "\u001b[0;32m/usr/local/lib/python3.8/dist-packages/tensorflow/python/util/traceback_utils.py\u001b[0m in \u001b[0;36merror_handler\u001b[0;34m(*args, **kwargs)\u001b[0m\n\u001b[1;32m    148\u001b[0m     \u001b[0mfiltered_tb\u001b[0m \u001b[0;34m=\u001b[0m \u001b[0;32mNone\u001b[0m\u001b[0;34m\u001b[0m\u001b[0;34m\u001b[0m\u001b[0m\n\u001b[1;32m    149\u001b[0m     \u001b[0;32mtry\u001b[0m\u001b[0;34m:\u001b[0m\u001b[0;34m\u001b[0m\u001b[0;34m\u001b[0m\u001b[0m\n\u001b[0;32m--> 150\u001b[0;31m       \u001b[0;32mreturn\u001b[0m \u001b[0mfn\u001b[0m\u001b[0;34m(\u001b[0m\u001b[0;34m*\u001b[0m\u001b[0margs\u001b[0m\u001b[0;34m,\u001b[0m \u001b[0;34m**\u001b[0m\u001b[0mkwargs\u001b[0m\u001b[0;34m)\u001b[0m\u001b[0;34m\u001b[0m\u001b[0;34m\u001b[0m\u001b[0m\n\u001b[0m\u001b[1;32m    151\u001b[0m     \u001b[0;32mexcept\u001b[0m \u001b[0mException\u001b[0m \u001b[0;32mas\u001b[0m \u001b[0me\u001b[0m\u001b[0;34m:\u001b[0m\u001b[0;34m\u001b[0m\u001b[0;34m\u001b[0m\u001b[0m\n\u001b[1;32m    152\u001b[0m       \u001b[0mfiltered_tb\u001b[0m \u001b[0;34m=\u001b[0m \u001b[0m_process_traceback_frames\u001b[0m\u001b[0;34m(\u001b[0m\u001b[0me\u001b[0m\u001b[0;34m.\u001b[0m\u001b[0m__traceback__\u001b[0m\u001b[0;34m)\u001b[0m\u001b[0;34m\u001b[0m\u001b[0;34m\u001b[0m\u001b[0m\n",
      "\u001b[0;32m/usr/local/lib/python3.8/dist-packages/tensorflow/python/eager/def_function.py\u001b[0m in \u001b[0;36m__call__\u001b[0;34m(self, *args, **kwds)\u001b[0m\n\u001b[1;32m    908\u001b[0m \u001b[0;34m\u001b[0m\u001b[0m\n\u001b[1;32m    909\u001b[0m       \u001b[0;32mwith\u001b[0m \u001b[0mOptionalXlaContext\u001b[0m\u001b[0;34m(\u001b[0m\u001b[0mself\u001b[0m\u001b[0;34m.\u001b[0m\u001b[0m_jit_compile\u001b[0m\u001b[0;34m)\u001b[0m\u001b[0;34m:\u001b[0m\u001b[0;34m\u001b[0m\u001b[0;34m\u001b[0m\u001b[0m\n\u001b[0;32m--> 910\u001b[0;31m         \u001b[0mresult\u001b[0m \u001b[0;34m=\u001b[0m \u001b[0mself\u001b[0m\u001b[0;34m.\u001b[0m\u001b[0m_call\u001b[0m\u001b[0;34m(\u001b[0m\u001b[0;34m*\u001b[0m\u001b[0margs\u001b[0m\u001b[0;34m,\u001b[0m \u001b[0;34m**\u001b[0m\u001b[0mkwds\u001b[0m\u001b[0;34m)\u001b[0m\u001b[0;34m\u001b[0m\u001b[0;34m\u001b[0m\u001b[0m\n\u001b[0m\u001b[1;32m    911\u001b[0m \u001b[0;34m\u001b[0m\u001b[0m\n\u001b[1;32m    912\u001b[0m       \u001b[0mnew_tracing_count\u001b[0m \u001b[0;34m=\u001b[0m \u001b[0mself\u001b[0m\u001b[0;34m.\u001b[0m\u001b[0mexperimental_get_tracing_count\u001b[0m\u001b[0;34m(\u001b[0m\u001b[0;34m)\u001b[0m\u001b[0;34m\u001b[0m\u001b[0;34m\u001b[0m\u001b[0m\n",
      "\u001b[0;32m/usr/local/lib/python3.8/dist-packages/tensorflow/python/eager/def_function.py\u001b[0m in \u001b[0;36m_call\u001b[0;34m(self, *args, **kwds)\u001b[0m\n\u001b[1;32m    940\u001b[0m       \u001b[0;31m# In this case we have created variables on the first call, so we run the\u001b[0m\u001b[0;34m\u001b[0m\u001b[0;34m\u001b[0m\u001b[0;34m\u001b[0m\u001b[0m\n\u001b[1;32m    941\u001b[0m       \u001b[0;31m# defunned version which is guaranteed to never create variables.\u001b[0m\u001b[0;34m\u001b[0m\u001b[0;34m\u001b[0m\u001b[0;34m\u001b[0m\u001b[0m\n\u001b[0;32m--> 942\u001b[0;31m       \u001b[0;32mreturn\u001b[0m \u001b[0mself\u001b[0m\u001b[0;34m.\u001b[0m\u001b[0m_stateless_fn\u001b[0m\u001b[0;34m(\u001b[0m\u001b[0;34m*\u001b[0m\u001b[0margs\u001b[0m\u001b[0;34m,\u001b[0m \u001b[0;34m**\u001b[0m\u001b[0mkwds\u001b[0m\u001b[0;34m)\u001b[0m  \u001b[0;31m# pylint: disable=not-callable\u001b[0m\u001b[0;34m\u001b[0m\u001b[0;34m\u001b[0m\u001b[0m\n\u001b[0m\u001b[1;32m    943\u001b[0m     \u001b[0;32melif\u001b[0m \u001b[0mself\u001b[0m\u001b[0;34m.\u001b[0m\u001b[0m_stateful_fn\u001b[0m \u001b[0;32mis\u001b[0m \u001b[0;32mnot\u001b[0m \u001b[0;32mNone\u001b[0m\u001b[0;34m:\u001b[0m\u001b[0;34m\u001b[0m\u001b[0;34m\u001b[0m\u001b[0m\n\u001b[1;32m    944\u001b[0m       \u001b[0;31m# Release the lock early so that multiple threads can perform the call\u001b[0m\u001b[0;34m\u001b[0m\u001b[0;34m\u001b[0m\u001b[0;34m\u001b[0m\u001b[0m\n",
      "\u001b[0;32m/usr/local/lib/python3.8/dist-packages/tensorflow/python/eager/function.py\u001b[0m in \u001b[0;36m__call__\u001b[0;34m(self, *args, **kwargs)\u001b[0m\n\u001b[1;32m   3128\u001b[0m       (graph_function,\n\u001b[1;32m   3129\u001b[0m        filtered_flat_args) = self._maybe_define_function(args, kwargs)\n\u001b[0;32m-> 3130\u001b[0;31m     return graph_function._call_flat(\n\u001b[0m\u001b[1;32m   3131\u001b[0m         filtered_flat_args, captured_inputs=graph_function.captured_inputs)  # pylint: disable=protected-access\n\u001b[1;32m   3132\u001b[0m \u001b[0;34m\u001b[0m\u001b[0m\n",
      "\u001b[0;32m/usr/local/lib/python3.8/dist-packages/tensorflow/python/eager/function.py\u001b[0m in \u001b[0;36m_call_flat\u001b[0;34m(self, args, captured_inputs, cancellation_manager)\u001b[0m\n\u001b[1;32m   1957\u001b[0m         and executing_eagerly):\n\u001b[1;32m   1958\u001b[0m       \u001b[0;31m# No tape is watching; skip to running the function.\u001b[0m\u001b[0;34m\u001b[0m\u001b[0;34m\u001b[0m\u001b[0;34m\u001b[0m\u001b[0m\n\u001b[0;32m-> 1959\u001b[0;31m       return self._build_call_outputs(self._inference_function.call(\n\u001b[0m\u001b[1;32m   1960\u001b[0m           ctx, args, cancellation_manager=cancellation_manager))\n\u001b[1;32m   1961\u001b[0m     forward_backward = self._select_forward_and_backward_functions(\n",
      "\u001b[0;32m/usr/local/lib/python3.8/dist-packages/tensorflow/python/eager/function.py\u001b[0m in \u001b[0;36mcall\u001b[0;34m(self, ctx, args, cancellation_manager)\u001b[0m\n\u001b[1;32m    596\u001b[0m       \u001b[0;32mwith\u001b[0m \u001b[0m_InterpolateFunctionError\u001b[0m\u001b[0;34m(\u001b[0m\u001b[0mself\u001b[0m\u001b[0;34m)\u001b[0m\u001b[0;34m:\u001b[0m\u001b[0;34m\u001b[0m\u001b[0;34m\u001b[0m\u001b[0m\n\u001b[1;32m    597\u001b[0m         \u001b[0;32mif\u001b[0m \u001b[0mcancellation_manager\u001b[0m \u001b[0;32mis\u001b[0m \u001b[0;32mNone\u001b[0m\u001b[0;34m:\u001b[0m\u001b[0;34m\u001b[0m\u001b[0;34m\u001b[0m\u001b[0m\n\u001b[0;32m--> 598\u001b[0;31m           outputs = execute.execute(\n\u001b[0m\u001b[1;32m    599\u001b[0m               \u001b[0mstr\u001b[0m\u001b[0;34m(\u001b[0m\u001b[0mself\u001b[0m\u001b[0;34m.\u001b[0m\u001b[0msignature\u001b[0m\u001b[0;34m.\u001b[0m\u001b[0mname\u001b[0m\u001b[0;34m)\u001b[0m\u001b[0;34m,\u001b[0m\u001b[0;34m\u001b[0m\u001b[0;34m\u001b[0m\u001b[0m\n\u001b[1;32m    600\u001b[0m               \u001b[0mnum_outputs\u001b[0m\u001b[0;34m=\u001b[0m\u001b[0mself\u001b[0m\u001b[0;34m.\u001b[0m\u001b[0m_num_outputs\u001b[0m\u001b[0;34m,\u001b[0m\u001b[0;34m\u001b[0m\u001b[0;34m\u001b[0m\u001b[0m\n",
      "\u001b[0;32m/usr/local/lib/python3.8/dist-packages/tensorflow/python/eager/execute.py\u001b[0m in \u001b[0;36mquick_execute\u001b[0;34m(op_name, num_outputs, inputs, attrs, ctx, name)\u001b[0m\n\u001b[1;32m     56\u001b[0m   \u001b[0;32mtry\u001b[0m\u001b[0;34m:\u001b[0m\u001b[0;34m\u001b[0m\u001b[0;34m\u001b[0m\u001b[0m\n\u001b[1;32m     57\u001b[0m     \u001b[0mctx\u001b[0m\u001b[0;34m.\u001b[0m\u001b[0mensure_initialized\u001b[0m\u001b[0;34m(\u001b[0m\u001b[0;34m)\u001b[0m\u001b[0;34m\u001b[0m\u001b[0;34m\u001b[0m\u001b[0m\n\u001b[0;32m---> 58\u001b[0;31m     tensors = pywrap_tfe.TFE_Py_Execute(ctx._handle, device_name, op_name,\n\u001b[0m\u001b[1;32m     59\u001b[0m                                         inputs, attrs, num_outputs)\n\u001b[1;32m     60\u001b[0m   \u001b[0;32mexcept\u001b[0m \u001b[0mcore\u001b[0m\u001b[0;34m.\u001b[0m\u001b[0m_NotOkStatusException\u001b[0m \u001b[0;32mas\u001b[0m \u001b[0me\u001b[0m\u001b[0;34m:\u001b[0m\u001b[0;34m\u001b[0m\u001b[0;34m\u001b[0m\u001b[0m\n",
      "\u001b[0;31mKeyboardInterrupt\u001b[0m: "
     ]
    }
   ],
   "source": [
    "model.fit(training_set, validation_data=validation_set, epochs=20)"
   ]
  },
  {
   "cell_type": "code",
   "execution_count": null,
   "metadata": {},
   "outputs": [],
   "source": []
  }
 ],
 "metadata": {
  "kernelspec": {
   "display_name": "Python 3",
   "language": "python",
   "name": "python3"
  },
  "language_info": {
   "codemirror_mode": {
    "name": "ipython",
    "version": 3
   },
   "file_extension": ".py",
   "mimetype": "text/x-python",
   "name": "python",
   "nbconvert_exporter": "python",
   "pygments_lexer": "ipython3",
   "version": "3.8.10"
  }
 },
 "nbformat": 4,
 "nbformat_minor": 1
}
