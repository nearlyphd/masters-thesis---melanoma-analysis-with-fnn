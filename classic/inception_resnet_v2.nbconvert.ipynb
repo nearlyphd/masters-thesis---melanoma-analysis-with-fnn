{
 "cells": [
  {
   "cell_type": "markdown",
   "metadata": {},
   "source": [
    "# Melanoma analysis with Inception ResNet V2"
   ]
  },
  {
   "cell_type": "markdown",
   "metadata": {},
   "source": [
    "This notebook shows how good is [Inception ResNet V2](#Inception-ResNet-V2) for [melanoma](#Melanoma) analysis."
   ]
  },
  {
   "cell_type": "code",
   "execution_count": 1,
   "metadata": {
    "execution": {
     "iopub.execute_input": "2022-03-28T19:40:46.010353Z",
     "iopub.status.busy": "2022-03-28T19:40:46.009714Z",
     "iopub.status.idle": "2022-03-28T19:42:32.865452Z",
     "shell.execute_reply": "2022-03-28T19:42:32.865943Z"
    }
   },
   "outputs": [],
   "source": [
    "import os\n",
    "import datetime\n",
    "import numpy as np\n",
    "import tensorflow as tf\n",
    "import tensorflow_hub as hub\n",
    "import matplotlib.pyplot as plt\n",
    "from sklearn.metrics import roc_curve, auc"
   ]
  },
  {
   "cell_type": "markdown",
   "metadata": {},
   "source": [
    "Check if a GPU is available."
   ]
  },
  {
   "cell_type": "code",
   "execution_count": 2,
   "metadata": {
    "execution": {
     "iopub.execute_input": "2022-03-28T19:42:32.868969Z",
     "iopub.status.busy": "2022-03-28T19:42:32.868398Z",
     "iopub.status.idle": "2022-03-28T19:42:33.106798Z",
     "shell.execute_reply": "2022-03-28T19:42:33.107247Z"
    }
   },
   "outputs": [
    {
     "data": {
      "text/plain": [
       "[PhysicalDevice(name='/physical_device:GPU:0', device_type='GPU')]"
      ]
     },
     "execution_count": 1,
     "metadata": {},
     "output_type": "execute_result"
    }
   ],
   "source": [
    "tf.config.list_physical_devices('GPU')"
   ]
  },
  {
   "cell_type": "markdown",
   "metadata": {},
   "source": [
    "# Melanoma"
   ]
  },
  {
   "cell_type": "markdown",
   "metadata": {},
   "source": [
    "__Melanoma__, also redundantly known as __malignant melanoma__, is a type of skin cancer that develops from the pigment-producing cells known as melanocytes. Melanomas typically occur in the skin, but may rarely occur in the mouth, intestines, or eye (uveal melanoma). In women, they most commonly occur on the legs, while in men, they most commonly occur on the back. About 25% of melanomas develop from moles. Changes in a mole that can indicate melanoma include an increase in size, irregular edges, change in color, itchiness, or skin breakdown."
   ]
  },
  {
   "cell_type": "markdown",
   "metadata": {},
   "source": [
    "![melanoma image](../assets/melanoma.jpg)"
   ]
  },
  {
   "cell_type": "markdown",
   "metadata": {},
   "source": [
    "<div style=\"text-align: center; font-weight: bold\">Pic.1. A melanoma of approximately 2.5 cm (1 in) by 1.5 cm (0.6 in)</div>"
   ]
  },
  {
   "cell_type": "markdown",
   "metadata": {},
   "source": [
    "The primary cause of melanoma is ultraviolet light (UV) exposure in those with low levels of the skin pigment melanin. The UV light may be from the sun or other sources, such as tanning devices. Those with many moles, a history of affected family members, and poor immune function are at greater risk. A number of rare genetic conditions, such as xeroderma pigmentosum, also increase the risk. Diagnosis is by biopsy and analysis of any skin lesion that has signs of being potentially cancerous."
   ]
  },
  {
   "cell_type": "markdown",
   "metadata": {},
   "source": [
    "Melanoma is the most dangerous type of skin cancer. Globally, in 2012, it newly occurred in 232,000 people. In 2015, 3.1 million people had active disease, which resulted in 59,800 deaths. Australia and New Zealand have the highest rates of melanoma in the world. High rates also occur in Northern Europe and North America, while it is less common in Asia, Africa, and Latin America. In the United States, melanoma occurs about 1.6 times more often in men than women. Melanoma has become more common since the 1960s in areas mostly populated by people of European descent."
   ]
  },
  {
   "cell_type": "markdown",
   "metadata": {},
   "source": [
    "# Inception ResNet V2"
   ]
  },
  {
   "cell_type": "markdown",
   "metadata": {},
   "source": [
    "__Inception-ResNet-v2__ is a convolutional neural architecture that builds on the Inception family of architectures but incorporates residual connections (replacing the filter concatenation stage of the Inception architecture)."
   ]
  },
  {
   "cell_type": "markdown",
   "metadata": {},
   "source": [
    "![CNN image](../assets/inception_resnet_v2.png)"
   ]
  },
  {
   "cell_type": "markdown",
   "metadata": {},
   "source": [
    "<div style=\"text-align: center; font-weight: bold\">Pic.2. Inception ResNetv 2 architecture</div>"
   ]
  },
  {
   "cell_type": "markdown",
   "metadata": {},
   "source": [
    "If you want to learn more about Inception ResNet v2, read [here](https://paperswithcode.com/method/inception-resnet-v2)."
   ]
  },
  {
   "cell_type": "markdown",
   "metadata": {},
   "source": [
    "# Data loading"
   ]
  },
  {
   "cell_type": "code",
   "execution_count": 3,
   "metadata": {
    "execution": {
     "iopub.execute_input": "2022-03-28T19:42:33.110556Z",
     "iopub.status.busy": "2022-03-28T19:42:33.109966Z",
     "iopub.status.idle": "2022-03-28T19:42:33.358994Z",
     "shell.execute_reply": "2022-03-28T19:42:33.358506Z"
    }
   },
   "outputs": [
    {
     "name": "stdout",
     "output_type": "stream",
     "text": [
      "Found 7881 images belonging to 9 classes.\n",
      "Found 1964 images belonging to 9 classes.\n"
     ]
    }
   ],
   "source": [
    "generator = tf.keras.preprocessing.image.ImageDataGenerator(\n",
    "    rescale=1./255,\n",
    "    rotation_range=180,\n",
    "    horizontal_flip=True,\n",
    "    vertical_flip=True,\n",
    "    brightness_range=(0.2, 1.5),\n",
    "    validation_split=0.2,\n",
    ")\n",
    "\n",
    "\n",
    "training_set = generator.flow_from_directory(\n",
    "    f\"{os.environ['SCRATCH']}/data10000\", \n",
    "    target_size=(299, 299), \n",
    "    batch_size=32, \n",
    "    class_mode='categorical', \n",
    "    subset='training'\n",
    ")\n",
    "validation_set = generator.flow_from_directory(\n",
    "    f\"{os.environ['SCRATCH']}/data10000\", \n",
    "    target_size=(299, 299), \n",
    "    batch_size=32, \n",
    "    class_mode='categorical', \n",
    "    subset='validation'\n",
    ")"
   ]
  },
  {
   "cell_type": "code",
   "execution_count": 4,
   "metadata": {
    "execution": {
     "iopub.execute_input": "2022-03-28T19:42:33.362389Z",
     "iopub.status.busy": "2022-03-28T19:42:33.361871Z",
     "iopub.status.idle": "2022-03-28T19:42:33.363892Z",
     "shell.execute_reply": "2022-03-28T19:42:33.364386Z"
    }
   },
   "outputs": [],
   "source": [
    "CLASS_NUMBER = len(training_set.class_indices)"
   ]
  },
  {
   "cell_type": "markdown",
   "metadata": {},
   "source": [
    "### Data source"
   ]
  },
  {
   "cell_type": "markdown",
   "metadata": {},
   "source": [
    "As a data source, we use the ISIC Archive."
   ]
  },
  {
   "cell_type": "markdown",
   "metadata": {},
   "source": [
    "The ISIC Archive is an open source platform with publicly available images of skin lesions under Creative Commons licenses. The images are associated with ground-truth diagnoses and other clinical metadata. Images can be queried using faceted search and downloaded individually or in batches. The initial focus of the archive has been on dermoscopy images of individual skin lesions, as these images are inherently standardized by the use of a specialized acquisition device and devoid of many of the privacy challenges associated with clinical images. To date, the images have been provided by specialized melanoma centers from around the world. The archive is designed to accept contributions from new sources under the Terms of Use and welcomes new contributors. There are ongoing efforts to supplement the dermoscopy images in the archive with close-up clinical images and a broader representation of skin types. The images in the Archive are used to support educational efforts through linkage with Dermoscopedia and are used for Grand Challenges and Live Challenges to engage the computer science community for the development of diagnostic AI."
   ]
  },
  {
   "cell_type": "markdown",
   "metadata": {},
   "source": [
    "For more information, go to [ISIC Archive web site](https://www.isic-archive.com/)"
   ]
  },
  {
   "cell_type": "markdown",
   "metadata": {},
   "source": [
    "# Model training"
   ]
  },
  {
   "cell_type": "markdown",
   "metadata": {},
   "source": [
    "### Building the model"
   ]
  },
  {
   "cell_type": "markdown",
   "metadata": {},
   "source": [
    "We take the model from TensorFlow Hub. [Look here](https://tfhub.dev/google/tf2-preview/mobilenet_v2/feature_vector/4)."
   ]
  },
  {
   "cell_type": "code",
   "execution_count": 5,
   "metadata": {
    "execution": {
     "iopub.execute_input": "2022-03-28T19:42:33.369243Z",
     "iopub.status.busy": "2022-03-28T19:42:33.368703Z",
     "iopub.status.idle": "2022-03-28T19:43:14.321698Z",
     "shell.execute_reply": "2022-03-28T19:43:14.321135Z"
    },
    "scrolled": false
   },
   "outputs": [],
   "source": [
    "model = tf.keras.models.Sequential([\n",
    "    hub.KerasLayer(\"https://tfhub.dev/google/imagenet/inception_resnet_v2/feature_vector/5\",\n",
    "                   trainable=False),\n",
    "    tf.keras.layers.Dense(CLASS_NUMBER, activation='softmax')\n",
    "])\n",
    "model.build([None, 299, 299, 3])"
   ]
  },
  {
   "cell_type": "code",
   "execution_count": 6,
   "metadata": {
    "execution": {
     "iopub.execute_input": "2022-03-28T19:43:14.325818Z",
     "iopub.status.busy": "2022-03-28T19:43:14.325203Z",
     "iopub.status.idle": "2022-03-28T19:43:14.361861Z",
     "shell.execute_reply": "2022-03-28T19:43:14.362331Z"
    }
   },
   "outputs": [
    {
     "name": "stdout",
     "output_type": "stream",
     "text": [
      "Model: \"sequential\"\n",
      "_________________________________________________________________\n",
      " Layer (type)                Output Shape              Param #   \n",
      "=================================================================\n",
      " keras_layer (KerasLayer)    (None, 1536)              54336736  \n",
      "                                                                 \n",
      " dense (Dense)               (None, 9)                 13833     \n",
      "                                                                 \n",
      "=================================================================\n",
      "Total params: 54,350,569\n",
      "Trainable params: 13,833\n",
      "Non-trainable params: 54,336,736\n",
      "_________________________________________________________________\n"
     ]
    }
   ],
   "source": [
    "model.summary()"
   ]
  },
  {
   "cell_type": "code",
   "execution_count": 7,
   "metadata": {
    "execution": {
     "iopub.execute_input": "2022-03-28T19:43:14.370247Z",
     "iopub.status.busy": "2022-03-28T19:43:14.369715Z",
     "iopub.status.idle": "2022-03-28T19:43:14.374617Z",
     "shell.execute_reply": "2022-03-28T19:43:14.375051Z"
    }
   },
   "outputs": [],
   "source": [
    "model.compile(optimizer='adam', loss='categorical_crossentropy', metrics=['accuracy'])"
   ]
  },
  {
   "cell_type": "markdown",
   "metadata": {},
   "source": [
    "### Preparing TensorFlow callbacks"
   ]
  },
  {
   "cell_type": "markdown",
   "metadata": {},
   "source": [
    "For our convenience, we create a few TensorFlow callbacks."
   ]
  },
  {
   "cell_type": "markdown",
   "metadata": {},
   "source": [
    "#### The TensorBoard callback"
   ]
  },
  {
   "cell_type": "markdown",
   "metadata": {},
   "source": [
    "We want to see how the training is going. We add the callback, which will log the metrics to TensorBoard."
   ]
  },
  {
   "cell_type": "code",
   "execution_count": 8,
   "metadata": {
    "execution": {
     "iopub.execute_input": "2022-03-28T19:43:14.379239Z",
     "iopub.status.busy": "2022-03-28T19:43:14.378686Z",
     "iopub.status.idle": "2022-03-28T19:43:14.380541Z",
     "shell.execute_reply": "2022-03-28T19:43:14.380981Z"
    }
   },
   "outputs": [],
   "source": [
    "log_dir = '../logs/fit/' + datetime.datetime.now().strftime('inception_resnet_v2')\n",
    "tensorboard_callback = tf.keras.callbacks.TensorBoard(log_dir=log_dir, histogram_freq=1)"
   ]
  },
  {
   "cell_type": "markdown",
   "metadata": {},
   "source": [
    "#### The EarlyStopping callback"
   ]
  },
  {
   "cell_type": "markdown",
   "metadata": {},
   "source": [
    "This callback stops training when the metrics (e.g. validation loss) are not improving,"
   ]
  },
  {
   "cell_type": "code",
   "execution_count": 9,
   "metadata": {
    "execution": {
     "iopub.execute_input": "2022-03-28T19:43:14.384712Z",
     "iopub.status.busy": "2022-03-28T19:43:14.384149Z",
     "iopub.status.idle": "2022-03-28T19:43:14.386503Z",
     "shell.execute_reply": "2022-03-28T19:43:14.385929Z"
    }
   },
   "outputs": [],
   "source": [
    "early_stop_callback = tf.keras.callbacks.EarlyStopping(\n",
    "    monitor=\"val_loss\", \n",
    "    min_delta=0.01, \n",
    "    patience=5, \n",
    "    restore_best_weights=True\n",
    ")"
   ]
  },
  {
   "cell_type": "markdown",
   "metadata": {},
   "source": [
    "#### The ModelCheckpoint callback"
   ]
  },
  {
   "cell_type": "markdown",
   "metadata": {},
   "source": [
    "This callback saves the model with the best metrics during training."
   ]
  },
  {
   "cell_type": "code",
   "execution_count": 10,
   "metadata": {
    "execution": {
     "iopub.execute_input": "2022-03-28T19:43:14.390610Z",
     "iopub.status.busy": "2022-03-28T19:43:14.390039Z",
     "iopub.status.idle": "2022-03-28T19:43:14.392588Z",
     "shell.execute_reply": "2022-03-28T19:43:14.392013Z"
    }
   },
   "outputs": [],
   "source": [
    "checkpoint_path = 'checkpoints/inception_resnet_v2.ckpt'\n",
    "\n",
    "checkpoint_callback = tf.keras.callbacks.ModelCheckpoint(\n",
    "    checkpoint_path,\n",
    "    monitor='val_loss',\n",
    "    verbose=1,\n",
    "    save_best_only=True,\n",
    "    save_weights_only=False,\n",
    "    save_freq='epoch',\n",
    "    mode='auto'\n",
    ")"
   ]
  },
  {
   "cell_type": "markdown",
   "metadata": {},
   "source": [
    "### Training the model"
   ]
  },
  {
   "cell_type": "code",
   "execution_count": 11,
   "metadata": {
    "execution": {
     "iopub.execute_input": "2022-03-28T19:43:14.397092Z",
     "iopub.status.busy": "2022-03-28T19:43:14.396533Z",
     "iopub.status.idle": "2022-03-29T08:04:04.014293Z",
     "shell.execute_reply": "2022-03-29T08:04:04.014766Z"
    }
   },
   "outputs": [
    {
     "name": "stdout",
     "output_type": "stream",
     "text": [
      "Epoch 1/200\n",
      "247/247 [==============================] - ETA: 0s - loss: 0.6268 - accuracy: 0.8133 \n",
      "Epoch 1: val_loss improved from inf to 0.51645, saving model to checkpoints/inception_resnet_v2.ckpt\n",
      "INFO:tensorflow:Assets written to: checkpoints/inception_resnet_v2.ckpt/assets\n"
     ]
    },
    {
     "name": "stderr",
     "output_type": "stream",
     "text": [
      "INFO:tensorflow:Assets written to: checkpoints/inception_resnet_v2.ckpt/assets\n"
     ]
    },
    {
     "name": "stdout",
     "output_type": "stream",
     "text": [
      "247/247 [==============================] - 4612s 19s/step - loss: 0.6268 - accuracy: 0.8133 - val_loss: 0.5164 - val_accuracy: 0.8213\n",
      "Epoch 2/200\n",
      "247/247 [==============================] - ETA: 0s - loss: 0.5253 - accuracy: 0.8259 \n",
      "Epoch 2: val_loss did not improve from 0.51645\n",
      "247/247 [==============================] - 4709s 19s/step - loss: 0.5253 - accuracy: 0.8259 - val_loss: 0.6186 - val_accuracy: 0.8187\n",
      "Epoch 3/200\n",
      "247/247 [==============================] - ETA: 0s - loss: 0.4971 - accuracy: 0.8321 \n",
      "Epoch 3: val_loss improved from 0.51645 to 0.50155, saving model to checkpoints/inception_resnet_v2.ckpt\n",
      "INFO:tensorflow:Assets written to: checkpoints/inception_resnet_v2.ckpt/assets\n"
     ]
    },
    {
     "name": "stderr",
     "output_type": "stream",
     "text": [
      "INFO:tensorflow:Assets written to: checkpoints/inception_resnet_v2.ckpt/assets\n"
     ]
    },
    {
     "name": "stdout",
     "output_type": "stream",
     "text": [
      "247/247 [==============================] - 4578s 19s/step - loss: 0.4971 - accuracy: 0.8321 - val_loss: 0.5015 - val_accuracy: 0.8299\n",
      "Epoch 4/200\n",
      "247/247 [==============================] - ETA: 0s - loss: 0.4797 - accuracy: 0.8330 \n",
      "Epoch 4: val_loss improved from 0.50155 to 0.49412, saving model to checkpoints/inception_resnet_v2.ckpt\n",
      "INFO:tensorflow:Assets written to: checkpoints/inception_resnet_v2.ckpt/assets\n"
     ]
    },
    {
     "name": "stderr",
     "output_type": "stream",
     "text": [
      "INFO:tensorflow:Assets written to: checkpoints/inception_resnet_v2.ckpt/assets\n"
     ]
    },
    {
     "name": "stdout",
     "output_type": "stream",
     "text": [
      "247/247 [==============================] - 4392s 18s/step - loss: 0.4797 - accuracy: 0.8330 - val_loss: 0.4941 - val_accuracy: 0.8315\n",
      "Epoch 5/200\n",
      "247/247 [==============================] - ETA: 0s - loss: 0.4640 - accuracy: 0.8401 \n",
      "Epoch 5: val_loss improved from 0.49412 to 0.48890, saving model to checkpoints/inception_resnet_v2.ckpt\n",
      "INFO:tensorflow:Assets written to: checkpoints/inception_resnet_v2.ckpt/assets\n"
     ]
    },
    {
     "name": "stderr",
     "output_type": "stream",
     "text": [
      "INFO:tensorflow:Assets written to: checkpoints/inception_resnet_v2.ckpt/assets\n"
     ]
    },
    {
     "name": "stdout",
     "output_type": "stream",
     "text": [
      "247/247 [==============================] - 4276s 17s/step - loss: 0.4640 - accuracy: 0.8401 - val_loss: 0.4889 - val_accuracy: 0.8310\n",
      "Epoch 6/200\n",
      "247/247 [==============================] - ETA: 0s - loss: 0.4531 - accuracy: 0.8410 \n",
      "Epoch 6: val_loss did not improve from 0.48890\n",
      "247/247 [==============================] - 4413s 18s/step - loss: 0.4531 - accuracy: 0.8410 - val_loss: 0.5228 - val_accuracy: 0.8254\n",
      "Epoch 7/200\n",
      "247/247 [==============================] - ETA: 0s - loss: 0.4484 - accuracy: 0.8461 \n",
      "Epoch 7: val_loss did not improve from 0.48890\n",
      "247/247 [==============================] - 4400s 18s/step - loss: 0.4484 - accuracy: 0.8461 - val_loss: 0.5043 - val_accuracy: 0.8310\n",
      "Epoch 8/200\n",
      "247/247 [==============================] - ETA: 0s - loss: 0.4422 - accuracy: 0.8447 \n",
      "Epoch 8: val_loss did not improve from 0.48890\n",
      "247/247 [==============================] - 4299s 17s/step - loss: 0.4422 - accuracy: 0.8447 - val_loss: 0.4924 - val_accuracy: 0.8274\n",
      "Epoch 9/200\n",
      "247/247 [==============================] - ETA: 0s - loss: 0.4391 - accuracy: 0.8448 \n",
      "Epoch 9: val_loss did not improve from 0.48890\n",
      "247/247 [==============================] - 4373s 18s/step - loss: 0.4391 - accuracy: 0.8448 - val_loss: 0.5614 - val_accuracy: 0.8213\n",
      "Epoch 10/200\n",
      "247/247 [==============================] - ETA: 0s - loss: 0.4423 - accuracy: 0.8404 \n",
      "Epoch 10: val_loss did not improve from 0.48890\n",
      "247/247 [==============================] - 4384s 18s/step - loss: 0.4423 - accuracy: 0.8404 - val_loss: 0.5714 - val_accuracy: 0.8289\n"
     ]
    },
    {
     "data": {
      "text/plain": [
       "<keras.callbacks.History at 0x2b3e1cdb0a60>"
      ]
     },
     "execution_count": 1,
     "metadata": {},
     "output_type": "execute_result"
    }
   ],
   "source": [
    "model.fit(\n",
    "    training_set, \n",
    "    validation_data=validation_set, \n",
    "    epochs=200, \n",
    "    callbacks=[\n",
    "                tensorboard_callback,\n",
    "                checkpoint_callback,\n",
    "                early_stop_callback\n",
    "            ]\n",
    ")"
   ]
  },
  {
   "cell_type": "markdown",
   "metadata": {},
   "source": [
    "# Model validation"
   ]
  },
  {
   "cell_type": "markdown",
   "metadata": {},
   "source": [
    "### Loading the model"
   ]
  },
  {
   "cell_type": "markdown",
   "metadata": {},
   "source": [
    "We load the model with the best metrics (e.g. validation loss) from the checkpoint."
   ]
  },
  {
   "cell_type": "code",
   "execution_count": 12,
   "metadata": {
    "execution": {
     "iopub.execute_input": "2022-03-29T08:04:04.020800Z",
     "iopub.status.busy": "2022-03-29T08:04:04.020270Z",
     "iopub.status.idle": "2022-03-29T08:04:17.079632Z",
     "shell.execute_reply": "2022-03-29T08:04:17.080042Z"
    }
   },
   "outputs": [],
   "source": [
    "model = tf.keras.models.Sequential([\n",
    "    hub.KerasLayer(\"https://tfhub.dev/google/imagenet/inception_resnet_v2/feature_vector/5\",\n",
    "                   trainable=False),\n",
    "    tf.keras.layers.Dense(CLASS_NUMBER, activation='softmax')\n",
    "])\n",
    "model.build([None, 299, 299, 3])"
   ]
  },
  {
   "cell_type": "code",
   "execution_count": 13,
   "metadata": {
    "execution": {
     "iopub.execute_input": "2022-03-29T08:04:17.088688Z",
     "iopub.status.busy": "2022-03-29T08:04:17.084079Z",
     "iopub.status.idle": "2022-03-29T08:04:18.721782Z",
     "shell.execute_reply": "2022-03-29T08:04:18.721322Z"
    }
   },
   "outputs": [
    {
     "data": {
      "text/plain": [
       "<tensorflow.python.training.tracking.util.CheckpointLoadStatus at 0x2b3efecdbeb0>"
      ]
     },
     "execution_count": 1,
     "metadata": {},
     "output_type": "execute_result"
    }
   ],
   "source": [
    "model.load_weights('./checkpoints/inception_resnet_v2.ckpt')"
   ]
  },
  {
   "cell_type": "markdown",
   "metadata": {},
   "source": [
    "### Loading the test data"
   ]
  },
  {
   "cell_type": "code",
   "execution_count": 14,
   "metadata": {
    "execution": {
     "iopub.execute_input": "2022-03-29T08:04:18.725697Z",
     "iopub.status.busy": "2022-03-29T08:04:18.725151Z",
     "iopub.status.idle": "2022-03-29T08:04:18.921875Z",
     "shell.execute_reply": "2022-03-29T08:04:18.922291Z"
    }
   },
   "outputs": [
    {
     "name": "stdout",
     "output_type": "stream",
     "text": [
      "Found 9843 images belonging to 9 classes.\n"
     ]
    }
   ],
   "source": [
    "testing_set = generator.flow_from_directory(\n",
    "    f\"{os.environ['SCRATCH']}/data10000-test\",\n",
    "    target_size=(299, 299),\n",
    "    batch_size=32,\n",
    "    class_mode='categorical'\n",
    ")"
   ]
  },
  {
   "cell_type": "markdown",
   "metadata": {},
   "source": [
    "### Making diagnoses"
   ]
  },
  {
   "cell_type": "code",
   "execution_count": 15,
   "metadata": {
    "execution": {
     "iopub.execute_input": "2022-03-29T08:04:18.926263Z",
     "iopub.status.busy": "2022-03-29T08:04:18.925800Z",
     "iopub.status.idle": "2022-03-29T09:17:24.739247Z",
     "shell.execute_reply": "2022-03-29T09:17:24.739790Z"
    }
   },
   "outputs": [],
   "source": [
    "true_labels = np.concatenate([testing_set[i][1] for i in range(len(testing_set))], axis=0)"
   ]
  },
  {
   "cell_type": "code",
   "execution_count": 16,
   "metadata": {
    "execution": {
     "iopub.execute_input": "2022-03-29T09:17:24.745893Z",
     "iopub.status.busy": "2022-03-29T09:17:24.745276Z",
     "iopub.status.idle": "2022-03-29T10:31:13.625371Z",
     "shell.execute_reply": "2022-03-29T10:31:13.624752Z"
    }
   },
   "outputs": [],
   "source": [
    "predicted_labels = model.predict(testing_set)"
   ]
  },
  {
   "cell_type": "markdown",
   "metadata": {},
   "source": [
    "### Plot the ROC Curve"
   ]
  },
  {
   "cell_type": "code",
   "execution_count": 17,
   "metadata": {
    "execution": {
     "iopub.execute_input": "2022-03-29T10:31:13.631630Z",
     "iopub.status.busy": "2022-03-29T10:31:13.631089Z",
     "iopub.status.idle": "2022-03-29T10:31:13.653926Z",
     "shell.execute_reply": "2022-03-29T10:31:13.653483Z"
    }
   },
   "outputs": [],
   "source": [
    "fpr = dict()\n",
    "tpr = dict()\n",
    "auc_metric = dict()\n",
    "\n",
    "diagnosis_index_dict = {v: k for k, v in testing_set.class_indices.items()}\n",
    "\n",
    "for i in range(CLASS_NUMBER):\n",
    "    diagnosis = diagnosis_index_dict[i]\n",
    "    fpr[diagnosis], tpr[diagnosis], _ = roc_curve(true_labels[:, i], predicted_labels[:, i])\n",
    "    auc_metric[diagnosis] = auc(fpr[diagnosis], tpr[diagnosis])"
   ]
  },
  {
   "cell_type": "code",
   "execution_count": 18,
   "metadata": {
    "execution": {
     "iopub.execute_input": "2022-03-29T10:31:13.661867Z",
     "iopub.status.busy": "2022-03-29T10:31:13.661295Z",
     "iopub.status.idle": "2022-03-29T10:31:14.224082Z",
     "shell.execute_reply": "2022-03-29T10:31:14.223614Z"
    }
   },
   "outputs": [
    {
     "data": {
      "image/png": "[encoded data removed]",
      "text/plain": [
       "<Figure size 432x288 with 1 Axes>"
      ]
     },
     "metadata": {
      "needs_background": "light"
     },
     "output_type": "display_data"
    }
   ],
   "source": [
    "%matplotlib inline\n",
    "for diagnosis in testing_set.class_indices:\n",
    "    plt.plot(fpr[diagnosis], tpr[diagnosis], label=diagnosis)\n",
    "    \n",
    "plt.plot([0, 1], [0, 1], 'k--')\n",
    "plt.xlabel('False Positive Rate')\n",
    "plt.ylabel('True Positive Rate')\n",
    "plt.title('Receiver operating characteristic')\n",
    "plt.legend(loc=\"lower right\")\n",
    "plt.show()"
   ]
  },
  {
   "cell_type": "markdown",
   "metadata": {},
   "source": [
    "### Show AUC"
   ]
  },
  {
   "cell_type": "code",
   "execution_count": 19,
   "metadata": {
    "execution": {
     "iopub.execute_input": "2022-03-29T10:31:14.228495Z",
     "iopub.status.busy": "2022-03-29T10:31:14.227925Z",
     "iopub.status.idle": "2022-03-29T10:31:14.230713Z",
     "shell.execute_reply": "2022-03-29T10:31:14.230277Z"
    }
   },
   "outputs": [
    {
     "data": {
      "text/plain": [
       "{'AK': 0.9546707503828484,\n",
       " 'BCC': 0.9406284351342942,\n",
       " 'BKL': 0.9047243947927797,\n",
       " 'DF': 0.9462116535602136,\n",
       " 'MEL': 0.8852683284231957,\n",
       " 'NV': 0.9291839907751651,\n",
       " 'SCC': 0.9348110901292581,\n",
       " 'UNK': 0.8556026731796345,\n",
       " 'VASC': 0.9488722551758048}"
      ]
     },
     "execution_count": 1,
     "metadata": {},
     "output_type": "execute_result"
    }
   ],
   "source": [
    "auc_metric"
   ]
  },
  {
   "cell_type": "code",
   "execution_count": null,
   "metadata": {},
   "outputs": [],
   "source": []
  }
 ],
 "metadata": {
  "kernelspec": {
   "display_name": "Python 3",
   "language": "python",
   "name": "python3"
  },
  "language_info": {
   "codemirror_mode": {
    "name": "ipython",
    "version": 3
   },
   "file_extension": ".py",
   "mimetype": "text/x-python",
   "name": "python",
   "nbconvert_exporter": "python",
   "pygments_lexer": "ipython3",
   "version": "3.9.1"
  }
 },
 "nbformat": 4,
 "nbformat_minor": 2
}
