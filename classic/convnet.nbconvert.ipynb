{
 "cells": [
  {
   "cell_type": "markdown",
   "metadata": {},
   "source": [
    "# Melanoma analysis with convolutional neural networks"
   ]
  },
  {
   "cell_type": "markdown",
   "metadata": {},
   "source": [
    "This notebook shows how good are [convolutional neural networks](#Convolutional-neural-networks) for [melanoma](#Melanoma) analysis."
   ]
  },
  {
   "cell_type": "code",
   "execution_count": 1,
   "metadata": {
    "execution": {
     "iopub.execute_input": "2022-03-28T19:39:28.961849Z",
     "iopub.status.busy": "2022-03-28T19:39:28.961105Z",
     "iopub.status.idle": "2022-03-28T19:40:40.080002Z",
     "shell.execute_reply": "2022-03-28T19:40:40.080527Z"
    }
   },
   "outputs": [],
   "source": [
    "import os\n",
    "import datetime\n",
    "import numpy as np\n",
    "import tensorflow as tf\n",
    "import matplotlib.pyplot as plt\n",
    "from sklearn.metrics import roc_curve, auc"
   ]
  },
  {
   "cell_type": "markdown",
   "metadata": {},
   "source": [
    "Check if a GPU is available."
   ]
  },
  {
   "cell_type": "code",
   "execution_count": 2,
   "metadata": {
    "execution": {
     "iopub.execute_input": "2022-03-28T19:40:40.196086Z",
     "iopub.status.busy": "2022-03-28T19:40:40.195451Z",
     "iopub.status.idle": "2022-03-28T19:40:40.206498Z",
     "shell.execute_reply": "2022-03-28T19:40:40.207004Z"
    }
   },
   "outputs": [
    {
     "data": {
      "text/plain": [
       "[PhysicalDevice(name='/physical_device:GPU:0', device_type='GPU')]"
      ]
     },
     "execution_count": 1,
     "metadata": {},
     "output_type": "execute_result"
    }
   ],
   "source": [
    "tf.config.list_physical_devices('GPU')"
   ]
  },
  {
   "cell_type": "markdown",
   "metadata": {},
   "source": [
    "# Melanoma"
   ]
  },
  {
   "cell_type": "markdown",
   "metadata": {},
   "source": [
    "__Melanoma__, also redundantly known as __malignant melanoma__, is a type of skin cancer that develops from the pigment-producing cells known as melanocytes. Melanomas typically occur in the skin, but may rarely occur in the mouth, intestines, or eye (uveal melanoma). In women, they most commonly occur on the legs, while in men, they most commonly occur on the back. About 25% of melanomas develop from moles. Changes in a mole that can indicate melanoma include an increase in size, irregular edges, change in color, itchiness, or skin breakdown."
   ]
  },
  {
   "cell_type": "markdown",
   "metadata": {},
   "source": [
    "![melanoma image](../assets/melanoma.jpg)"
   ]
  },
  {
   "cell_type": "markdown",
   "metadata": {},
   "source": [
    "<div style=\"text-align: center; font-weight: bold\">Pic.1. A melanoma of approximately 2.5 cm (1 in) by 1.5 cm (0.6 in)</div>"
   ]
  },
  {
   "cell_type": "markdown",
   "metadata": {},
   "source": [
    "The primary cause of melanoma is ultraviolet light (UV) exposure in those with low levels of the skin pigment melanin. The UV light may be from the sun or other sources, such as tanning devices. Those with many moles, a history of affected family members, and poor immune function are at greater risk. A number of rare genetic conditions, such as xeroderma pigmentosum, also increase the risk. Diagnosis is by biopsy and analysis of any skin lesion that has signs of being potentially cancerous."
   ]
  },
  {
   "cell_type": "markdown",
   "metadata": {},
   "source": [
    "Melanoma is the most dangerous type of skin cancer. Globally, in 2012, it newly occurred in 232,000 people. In 2015, 3.1 million people had active disease, which resulted in 59,800 deaths. Australia and New Zealand have the highest rates of melanoma in the world. High rates also occur in Northern Europe and North America, while it is less common in Asia, Africa, and Latin America. In the United States, melanoma occurs about 1.6 times more often in men than women. Melanoma has become more common since the 1960s in areas mostly populated by people of European descent."
   ]
  },
  {
   "cell_type": "markdown",
   "metadata": {},
   "source": [
    "# Convolutional neural networks"
   ]
  },
  {
   "cell_type": "markdown",
   "metadata": {},
   "source": [
    "In deep learning, a __convolutional neural network__ (CNN, or ConvNet) is a class of artificial neural network, most commonly applied to analyze visual imagery.They are also known as shift invariant or space invariant artificial neural networks (SIANN), based on the shared-weight architecture of the convolution kernels or filters that slide along input features and provide translation equivariant responses known as feature maps. Counter-intuitively, most convolutional neural networks are only equivariant, as opposed to invariant, to translation. They have applications in image and video recognition, recommender systems, image classification, image segmentation, medical image analysis, natural language processing, brain-computer interfaces, and financial time series."
   ]
  },
  {
   "cell_type": "markdown",
   "metadata": {},
   "source": [
    "![CNN image](../assets/cnn.jpeg)"
   ]
  },
  {
   "cell_type": "markdown",
   "metadata": {},
   "source": [
    "<div style=\"text-align: center; font-weight: bold\">Pic.2. Example architecture of a convolutional neural network</div>"
   ]
  },
  {
   "cell_type": "markdown",
   "metadata": {},
   "source": [
    "CNNs are regularized versions of multilayer perceptrons. Multilayer perceptrons usually mean fully connected networks, that is, each neuron in one layer is connected to all neurons in the next layer. The \"full connectivity\" of these networks make them prone to overfitting data. Typical ways of regularization, or preventing overfitting, include: penalizing parameters during training (such as weight decay) or trimming connectivity (skipped connections, dropout, etc.) CNNs take a different approach towards regularization: they take advantage of the hierarchical pattern in data and assemble patterns of increasing complexity using smaller and simpler patterns embossed in their filters. Therefore, on a scale of connectivity and complexity, CNNs are on the lower extreme."
   ]
  },
  {
   "cell_type": "markdown",
   "metadata": {},
   "source": [
    "Convolutional networks were inspired by biological processes in that the connectivity pattern between neurons resembles the organization of the animal visual cortex. Individual cortical neurons respond to stimuli only in a restricted region of the visual field known as the receptive field. The receptive fields of different neurons partially overlap such that they cover the entire visual field."
   ]
  },
  {
   "cell_type": "markdown",
   "metadata": {},
   "source": [
    "CNNs use relatively little pre-processing compared to other image classification algorithms. This means that the network learns to optimize the filters (or kernels) through automated learning, whereas in traditional algorithms these filters are hand-engineered. This independence from prior knowledge and human intervention in feature extraction is a major advantage."
   ]
  },
  {
   "cell_type": "markdown",
   "metadata": {},
   "source": [
    "# Data loading"
   ]
  },
  {
   "cell_type": "code",
   "execution_count": 3,
   "metadata": {
    "execution": {
     "iopub.execute_input": "2022-03-28T19:40:40.213385Z",
     "iopub.status.busy": "2022-03-28T19:40:40.212863Z",
     "iopub.status.idle": "2022-03-28T19:40:40.445140Z",
     "shell.execute_reply": "2022-03-28T19:40:40.445561Z"
    }
   },
   "outputs": [
    {
     "name": "stdout",
     "output_type": "stream",
     "text": [
      "Found 7881 images belonging to 9 classes.\n",
      "Found 1964 images belonging to 9 classes.\n"
     ]
    }
   ],
   "source": [
    "generator = tf.keras.preprocessing.image.ImageDataGenerator(\n",
    "    rescale=1./255,\n",
    "    rotation_range=180,\n",
    "    horizontal_flip=True,\n",
    "    vertical_flip=True,\n",
    "    brightness_range=(0.2, 1.5),\n",
    "    validation_split=0.2,\n",
    ")\n",
    "\n",
    "\n",
    "training_set = generator.flow_from_directory(\n",
    "    f\"{os.environ['SCRATCH']}/data10000\", \n",
    "    target_size=(128, 128), \n",
    "    batch_size=32, \n",
    "    class_mode='categorical', \n",
    "    subset='training'\n",
    ")\n",
    "validation_set = generator.flow_from_directory(\n",
    "    f\"{os.environ['SCRATCH']}/data10000\", \n",
    "    target_size=(128, 128), \n",
    "    batch_size=32, \n",
    "    class_mode='categorical', \n",
    "    subset='validation'\n",
    ")"
   ]
  },
  {
   "cell_type": "code",
   "execution_count": 4,
   "metadata": {
    "execution": {
     "iopub.execute_input": "2022-03-28T19:40:40.448988Z",
     "iopub.status.busy": "2022-03-28T19:40:40.448451Z",
     "iopub.status.idle": "2022-03-28T19:40:40.450836Z",
     "shell.execute_reply": "2022-03-28T19:40:40.450365Z"
    }
   },
   "outputs": [],
   "source": [
    "CLASS_NUMBER = len(training_set.class_indices)"
   ]
  },
  {
   "cell_type": "markdown",
   "metadata": {},
   "source": [
    "### Data source"
   ]
  },
  {
   "cell_type": "markdown",
   "metadata": {},
   "source": [
    "As a data source, we use the ISIC Archive."
   ]
  },
  {
   "cell_type": "markdown",
   "metadata": {},
   "source": [
    "The ISIC Archive is an open source platform with publicly available images of skin lesions under Creative Commons licenses. The images are associated with ground-truth diagnoses and other clinical metadata. Images can be queried using faceted search and downloaded individually or in batches. The initial focus of the archive has been on dermoscopy images of individual skin lesions, as these images are inherently standardized by the use of a specialized acquisition device and devoid of many of the privacy challenges associated with clinical images. To date, the images have been provided by specialized melanoma centers from around the world. The archive is designed to accept contributions from new sources under the Terms of Use and welcomes new contributors. There are ongoing efforts to supplement the dermoscopy images in the archive with close-up clinical images and a broader representation of skin types. The images in the Archive are used to support educational efforts through linkage with Dermoscopedia and are used for Grand Challenges and Live Challenges to engage the computer science community for the development of diagnostic AI."
   ]
  },
  {
   "cell_type": "markdown",
   "metadata": {},
   "source": [
    "For more information, go to [ISIC Archive web site](https://www.isic-archive.com/)"
   ]
  },
  {
   "cell_type": "markdown",
   "metadata": {},
   "source": [
    "# Model training"
   ]
  },
  {
   "cell_type": "markdown",
   "metadata": {},
   "source": [
    "### Building the model"
   ]
  },
  {
   "cell_type": "markdown",
   "metadata": {},
   "source": [
    "We build a convolutional neural network with 3 convolutional layers, 3 maxpoool layers, batch normalization and 2 dense layers."
   ]
  },
  {
   "cell_type": "markdown",
   "metadata": {},
   "source": [
    "![cnn architecture](../assets/cnn.drawio.svg)"
   ]
  },
  {
   "cell_type": "markdown",
   "metadata": {},
   "source": [
    "<div style=\"text-align: center; font-weight: bold\">Pic.3. The architecture of our convolutional neural network</div>"
   ]
  },
  {
   "cell_type": "code",
   "execution_count": 5,
   "metadata": {
    "execution": {
     "iopub.execute_input": "2022-03-28T19:40:40.457316Z",
     "iopub.status.busy": "2022-03-28T19:40:40.456794Z",
     "iopub.status.idle": "2022-03-28T19:40:46.813616Z",
     "shell.execute_reply": "2022-03-28T19:40:46.814069Z"
    }
   },
   "outputs": [],
   "source": [
    "model = tf.keras.models.Sequential([\n",
    "    tf.keras.layers.Conv2D(\n",
    "        filters=64, \n",
    "        kernel_size=3, \n",
    "        activation='relu', \n",
    "        input_shape=(128, 128, 3)\n",
    "    ),\n",
    "    tf.keras.layers.MaxPool2D(pool_size=2, strides=2),\n",
    "    \n",
    "    tf.keras.layers.Conv2D(\n",
    "        filters=64, \n",
    "        kernel_size=3, \n",
    "        activation='relu'\n",
    "    ),\n",
    "    tf.keras.layers.MaxPool2D(pool_size=2, strides=2),\n",
    "    \n",
    "    tf.keras.layers.Conv2D(\n",
    "        filters=64, \n",
    "        kernel_size=3, \n",
    "        activation='relu'\n",
    "    ),\n",
    "    tf.keras.layers.MaxPool2D(pool_size=2, strides=2),\n",
    "    \n",
    "    tf.keras.layers.BatchNormalization(),\n",
    "    \n",
    "    tf.keras.layers.Flatten(),\n",
    "    \n",
    "    tf.keras.layers.Dense(units=128, activation='relu'),\n",
    "    tf.keras.layers.Dropout(0.2),\n",
    "    \n",
    "    tf.keras.layers.Dense(units=128, activation='relu'),\n",
    "    tf.keras.layers.Dropout(0.2),\n",
    "    \n",
    "    tf.keras.layers.Dense(units=CLASS_NUMBER, activation='softmax')\n",
    "])"
   ]
  },
  {
   "cell_type": "code",
   "execution_count": 6,
   "metadata": {
    "execution": {
     "iopub.execute_input": "2022-03-28T19:40:46.817543Z",
     "iopub.status.busy": "2022-03-28T19:40:46.816964Z",
     "iopub.status.idle": "2022-03-28T19:40:46.845967Z",
     "shell.execute_reply": "2022-03-28T19:40:46.842811Z"
    }
   },
   "outputs": [
    {
     "name": "stdout",
     "output_type": "stream",
     "text": [
      "Model: \"sequential\"\n",
      "_________________________________________________________________\n",
      " Layer (type)                Output Shape              Param #   \n",
      "=================================================================\n",
      " conv2d (Conv2D)             (None, 126, 126, 64)      1792      \n",
      "                                                                 \n",
      " max_pooling2d (MaxPooling2D  (None, 63, 63, 64)       0         \n",
      " )                                                               \n",
      "                                                                 \n",
      " conv2d_1 (Conv2D)           (None, 61, 61, 64)        36928     \n",
      "                                                                 \n",
      " max_pooling2d_1 (MaxPooling  (None, 30, 30, 64)       0         \n",
      " 2D)                                                             \n",
      "                                                                 \n",
      " conv2d_2 (Conv2D)           (None, 28, 28, 64)        36928     \n",
      "                                                                 \n",
      " max_pooling2d_2 (MaxPooling  (None, 14, 14, 64)       0         \n",
      " 2D)                                                             \n",
      "                                                                 \n",
      " batch_normalization (BatchN  (None, 14, 14, 64)       256       \n",
      " ormalization)                                                   \n",
      "                                                                 \n",
      " flatten (Flatten)           (None, 12544)             0         \n",
      "                                                                 \n",
      " dense (Dense)               (None, 128)               1605760   \n",
      "                                                                 \n",
      " dropout (Dropout)           (None, 128)               0         \n",
      "                                                                 \n",
      " dense_1 (Dense)             (None, 128)               16512     \n",
      "                                                                 \n",
      " dropout_1 (Dropout)         (None, 128)               0         \n",
      "                                                                 \n",
      " dense_2 (Dense)             (None, 9)                 1161      \n",
      "                                                                 \n",
      "=================================================================\n",
      "Total params: 1,699,337\n",
      "Trainable params: 1,699,209\n",
      "Non-trainable params: 128\n",
      "_________________________________________________________________\n"
     ]
    }
   ],
   "source": [
    "model.summary()"
   ]
  },
  {
   "cell_type": "code",
   "execution_count": 7,
   "metadata": {
    "execution": {
     "iopub.execute_input": "2022-03-28T19:40:46.852132Z",
     "iopub.status.busy": "2022-03-28T19:40:46.849700Z",
     "iopub.status.idle": "2022-03-28T19:40:46.856910Z",
     "shell.execute_reply": "2022-03-28T19:40:46.857352Z"
    }
   },
   "outputs": [],
   "source": [
    "model.compile(optimizer='adam', loss='categorical_crossentropy', metrics=['accuracy'])"
   ]
  },
  {
   "cell_type": "markdown",
   "metadata": {},
   "source": [
    "### Preparing TensorFlow callbacks"
   ]
  },
  {
   "cell_type": "markdown",
   "metadata": {},
   "source": [
    "For our convenience, we create a few TensorFlow callbacks."
   ]
  },
  {
   "cell_type": "markdown",
   "metadata": {},
   "source": [
    "#### The TensorBoard callback"
   ]
  },
  {
   "cell_type": "markdown",
   "metadata": {},
   "source": [
    "We want to see how the training is going. We add the callback, which will log the metrics to TensorBoard."
   ]
  },
  {
   "cell_type": "code",
   "execution_count": 8,
   "metadata": {
    "execution": {
     "iopub.execute_input": "2022-03-28T19:40:46.861434Z",
     "iopub.status.busy": "2022-03-28T19:40:46.860905Z",
     "iopub.status.idle": "2022-03-28T19:40:46.862817Z",
     "shell.execute_reply": "2022-03-28T19:40:46.863234Z"
    }
   },
   "outputs": [],
   "source": [
    "log_dir = '../logs/fit/' + datetime.datetime.now().strftime('convnet')\n",
    "tensorboard_callback = tf.keras.callbacks.TensorBoard(log_dir=log_dir, histogram_freq=1)"
   ]
  },
  {
   "cell_type": "markdown",
   "metadata": {},
   "source": [
    "#### The EarlyStopping callback"
   ]
  },
  {
   "cell_type": "markdown",
   "metadata": {},
   "source": [
    "This callback stops training when the metrics (e.g. validation loss) are not improving,"
   ]
  },
  {
   "cell_type": "code",
   "execution_count": 9,
   "metadata": {
    "execution": {
     "iopub.execute_input": "2022-03-28T19:40:46.866876Z",
     "iopub.status.busy": "2022-03-28T19:40:46.866316Z",
     "iopub.status.idle": "2022-03-28T19:40:46.868731Z",
     "shell.execute_reply": "2022-03-28T19:40:46.868264Z"
    }
   },
   "outputs": [],
   "source": [
    "early_stop_callback = tf.keras.callbacks.EarlyStopping(\n",
    "    monitor=\"val_loss\", \n",
    "    min_delta=0.01, \n",
    "    patience=5, \n",
    "    restore_best_weights=True\n",
    ")"
   ]
  },
  {
   "cell_type": "markdown",
   "metadata": {},
   "source": [
    "#### The ModelCheckpoint callback"
   ]
  },
  {
   "cell_type": "markdown",
   "metadata": {},
   "source": [
    "This callback saves the model with the best metrics during training."
   ]
  },
  {
   "cell_type": "code",
   "execution_count": 10,
   "metadata": {
    "execution": {
     "iopub.execute_input": "2022-03-28T19:40:46.872616Z",
     "iopub.status.busy": "2022-03-28T19:40:46.872074Z",
     "iopub.status.idle": "2022-03-28T19:40:46.873996Z",
     "shell.execute_reply": "2022-03-28T19:40:46.874436Z"
    }
   },
   "outputs": [],
   "source": [
    "checkpoint_path = 'checkpoints/convnet.ckpt'\n",
    "\n",
    "checkpoint_callback = tf.keras.callbacks.ModelCheckpoint(\n",
    "    checkpoint_path,\n",
    "    monitor='val_loss',\n",
    "    verbose=1,\n",
    "    save_best_only=True,\n",
    "    save_weights_only=False,\n",
    "    save_freq='epoch',\n",
    "    mode='auto'\n",
    ")"
   ]
  },
  {
   "cell_type": "markdown",
   "metadata": {},
   "source": [
    "### Training the model"
   ]
  },
  {
   "cell_type": "code",
   "execution_count": 11,
   "metadata": {
    "execution": {
     "iopub.execute_input": "2022-03-28T19:40:46.878776Z",
     "iopub.status.busy": "2022-03-28T19:40:46.878219Z",
     "iopub.status.idle": "2022-03-29T11:07:35.111405Z",
     "shell.execute_reply": "2022-03-29T11:07:35.111827Z"
    }
   },
   "outputs": [
    {
     "name": "stdout",
     "output_type": "stream",
     "text": [
      "Epoch 1/200\n",
      "247/247 [==============================] - ETA: 0s - loss: 0.7694 - accuracy: 0.8018 \n",
      "Epoch 1: val_loss improved from inf to 0.64039, saving model to checkpoints/convnet.ckpt\n",
      "INFO:tensorflow:Assets written to: checkpoints/convnet.ckpt/assets\n",
      "247/247 [==============================] - 4495s 18s/step - loss: 0.7694 - accuracy: 0.8018 - val_loss: 0.6404 - val_accuracy: 0.8172\n",
      "Epoch 2/200\n",
      "247/247 [==============================] - ETA: 0s - loss: 0.6381 - accuracy: 0.8136 \n",
      "Epoch 2: val_loss did not improve from 0.64039\n",
      "247/247 [==============================] - 4508s 18s/step - loss: 0.6381 - accuracy: 0.8136 - val_loss: 0.6967 - val_accuracy: 0.8172\n",
      "Epoch 3/200\n",
      "247/247 [==============================] - ETA: 0s - loss: 0.6595 - accuracy: 0.8135 \n",
      "Epoch 3: val_loss improved from 0.64039 to 0.56841, saving model to checkpoints/convnet.ckpt\n",
      "INFO:tensorflow:Assets written to: checkpoints/convnet.ckpt/assets\n",
      "247/247 [==============================] - 4458s 18s/step - loss: 0.6595 - accuracy: 0.8135 - val_loss: 0.5684 - val_accuracy: 0.8172\n",
      "Epoch 4/200\n",
      "247/247 [==============================] - ETA: 0s - loss: 0.6279 - accuracy: 0.8141 \n",
      "Epoch 4: val_loss did not improve from 0.56841\n",
      "247/247 [==============================] - 4221s 17s/step - loss: 0.6279 - accuracy: 0.8141 - val_loss: 0.7699 - val_accuracy: 0.8172\n",
      "Epoch 5/200\n",
      "247/247 [==============================] - ETA: 0s - loss: 0.6116 - accuracy: 0.8144 \n",
      "Epoch 5: val_loss did not improve from 0.56841\n",
      "247/247 [==============================] - 4117s 17s/step - loss: 0.6116 - accuracy: 0.8144 - val_loss: 0.5925 - val_accuracy: 0.8172\n",
      "Epoch 6/200\n",
      "247/247 [==============================] - ETA: 0s - loss: 0.6074 - accuracy: 0.8140 \n",
      "Epoch 6: val_loss did not improve from 0.56841\n",
      "247/247 [==============================] - 4209s 17s/step - loss: 0.6074 - accuracy: 0.8140 - val_loss: 0.6030 - val_accuracy: 0.8172\n",
      "Epoch 7/200\n",
      "247/247 [==============================] - ETA: 0s - loss: 0.5991 - accuracy: 0.8137 \n",
      "Epoch 7: val_loss did not improve from 0.56841\n",
      "247/247 [==============================] - 4185s 17s/step - loss: 0.5991 - accuracy: 0.8137 - val_loss: 0.6044 - val_accuracy: 0.8172\n",
      "Epoch 8/200\n",
      "247/247 [==============================] - ETA: 0s - loss: 0.5954 - accuracy: 0.8156 \n",
      "Epoch 8: val_loss improved from 0.56841 to 0.53298, saving model to checkpoints/convnet.ckpt\n",
      "INFO:tensorflow:Assets written to: checkpoints/convnet.ckpt/assets\n",
      "247/247 [==============================] - 4069s 16s/step - loss: 0.5954 - accuracy: 0.8156 - val_loss: 0.5330 - val_accuracy: 0.8177\n",
      "Epoch 9/200\n",
      "247/247 [==============================] - ETA: 0s - loss: 0.5795 - accuracy: 0.8160 \n",
      "Epoch 9: val_loss improved from 0.53298 to 0.52869, saving model to checkpoints/convnet.ckpt\n",
      "INFO:tensorflow:Assets written to: checkpoints/convnet.ckpt/assets\n",
      "247/247 [==============================] - 4231s 17s/step - loss: 0.5795 - accuracy: 0.8160 - val_loss: 0.5287 - val_accuracy: 0.8162\n",
      "Epoch 10/200\n",
      "247/247 [==============================] - ETA: 0s - loss: 0.5938 - accuracy: 0.8137 \n",
      "Epoch 10: val_loss improved from 0.52869 to 0.52712, saving model to checkpoints/convnet.ckpt\n",
      "INFO:tensorflow:Assets written to: checkpoints/convnet.ckpt/assets\n",
      "247/247 [==============================] - 4300s 17s/step - loss: 0.5938 - accuracy: 0.8137 - val_loss: 0.5271 - val_accuracy: 0.8162\n",
      "Epoch 11/200\n",
      "247/247 [==============================] - ETA: 0s - loss: 0.5891 - accuracy: 0.8137 \n",
      "Epoch 11: val_loss did not improve from 0.52712\n",
      "247/247 [==============================] - 4118s 17s/step - loss: 0.5891 - accuracy: 0.8137 - val_loss: 0.5725 - val_accuracy: 0.8116\n",
      "Epoch 12/200\n",
      "247/247 [==============================] - ETA: 0s - loss: 0.5819 - accuracy: 0.8144 \n",
      "Epoch 12: val_loss did not improve from 0.52712\n",
      "247/247 [==============================] - 4538s 18s/step - loss: 0.5819 - accuracy: 0.8144 - val_loss: 0.6762 - val_accuracy: 0.8162\n",
      "Epoch 13/200\n",
      "247/247 [==============================] - ETA: 0s - loss: 0.5715 - accuracy: 0.8145 \n",
      "Epoch 13: val_loss did not improve from 0.52712\n",
      "247/247 [==============================] - 4137s 17s/step - loss: 0.5715 - accuracy: 0.8145 - val_loss: 0.6438 - val_accuracy: 0.8172\n"
     ]
    },
    {
     "data": {
      "text/plain": [
       "<keras.callbacks.History at 0x2abb1fd52d00>"
      ]
     },
     "execution_count": 1,
     "metadata": {},
     "output_type": "execute_result"
    }
   ],
   "source": [
    "model.fit(\n",
    "    training_set, \n",
    "    validation_data=validation_set, \n",
    "    epochs=200, \n",
    "    callbacks=[\n",
    "                tensorboard_callback,\n",
    "                checkpoint_callback,\n",
    "                early_stop_callback\n",
    "            ]\n",
    ")"
   ]
  },
  {
   "cell_type": "markdown",
   "metadata": {},
   "source": [
    "# Model validation"
   ]
  },
  {
   "cell_type": "markdown",
   "metadata": {},
   "source": [
    "### Loading the model"
   ]
  },
  {
   "cell_type": "markdown",
   "metadata": {},
   "source": [
    "We load the model with the best metrics (e.g. validation loss) from the checkpoint."
   ]
  },
  {
   "cell_type": "code",
   "execution_count": 12,
   "metadata": {
    "execution": {
     "iopub.execute_input": "2022-03-29T11:07:35.122944Z",
     "iopub.status.busy": "2022-03-29T11:07:35.122399Z",
     "iopub.status.idle": "2022-03-29T11:07:35.196134Z",
     "shell.execute_reply": "2022-03-29T11:07:35.195697Z"
    }
   },
   "outputs": [],
   "source": [
    "model = tf.keras.models.Sequential([\n",
    "    tf.keras.layers.Conv2D(\n",
    "        filters=64, \n",
    "        kernel_size=3, \n",
    "        activation='relu', \n",
    "        input_shape=(128, 128, 3)\n",
    "    ),\n",
    "    tf.keras.layers.MaxPool2D(pool_size=2, strides=2),\n",
    "    \n",
    "    tf.keras.layers.Conv2D(\n",
    "        filters=64, \n",
    "        kernel_size=3, \n",
    "        activation='relu'\n",
    "    ),\n",
    "    tf.keras.layers.MaxPool2D(pool_size=2, strides=2),\n",
    "    \n",
    "    tf.keras.layers.Conv2D(\n",
    "        filters=64, \n",
    "        kernel_size=3, \n",
    "        activation='relu'\n",
    "    ),\n",
    "    tf.keras.layers.MaxPool2D(pool_size=2, strides=2),\n",
    "    \n",
    "    tf.keras.layers.BatchNormalization(),\n",
    "    \n",
    "    tf.keras.layers.Flatten(),\n",
    "    \n",
    "    tf.keras.layers.Dense(units=128, activation='relu'),\n",
    "    tf.keras.layers.Dropout(0.2),\n",
    "    \n",
    "    tf.keras.layers.Dense(units=128, activation='relu'),\n",
    "    tf.keras.layers.Dropout(0.2),\n",
    "    \n",
    "    tf.keras.layers.Dense(units=CLASS_NUMBER, activation='softmax')\n",
    "])"
   ]
  },
  {
   "cell_type": "code",
   "execution_count": 13,
   "metadata": {
    "execution": {
     "iopub.execute_input": "2022-03-29T11:07:35.222506Z",
     "iopub.status.busy": "2022-03-29T11:07:35.222035Z",
     "iopub.status.idle": "2022-03-29T11:07:35.311602Z",
     "shell.execute_reply": "2022-03-29T11:07:35.311113Z"
    }
   },
   "outputs": [
    {
     "data": {
      "text/plain": [
       "<tensorflow.python.training.tracking.util.CheckpointLoadStatus at 0x2abc11c8ff40>"
      ]
     },
     "execution_count": 1,
     "metadata": {},
     "output_type": "execute_result"
    }
   ],
   "source": [
    "model.load_weights('./checkpoints/convnet.ckpt')"
   ]
  },
  {
   "cell_type": "markdown",
   "metadata": {},
   "source": [
    "### Loading the test data"
   ]
  },
  {
   "cell_type": "code",
   "execution_count": 14,
   "metadata": {
    "execution": {
     "iopub.execute_input": "2022-03-29T11:07:35.315538Z",
     "iopub.status.busy": "2022-03-29T11:07:35.315021Z",
     "iopub.status.idle": "2022-03-29T11:07:35.510046Z",
     "shell.execute_reply": "2022-03-29T11:07:35.510447Z"
    }
   },
   "outputs": [
    {
     "name": "stdout",
     "output_type": "stream",
     "text": [
      "Found 9843 images belonging to 9 classes.\n"
     ]
    }
   ],
   "source": [
    "testing_set = generator.flow_from_directory(\n",
    "    f\"{os.environ['SCRATCH']}/data10000-test\",\n",
    "    target_size=(128, 128),\n",
    "    batch_size=32,\n",
    "    class_mode='categorical'\n",
    ")"
   ]
  },
  {
   "cell_type": "markdown",
   "metadata": {},
   "source": [
    "### Making diagnoses"
   ]
  },
  {
   "cell_type": "code",
   "execution_count": 15,
   "metadata": {
    "execution": {
     "iopub.execute_input": "2022-03-29T11:07:35.514547Z",
     "iopub.status.busy": "2022-03-29T11:07:35.513997Z",
     "iopub.status.idle": "2022-03-29T12:26:12.438744Z",
     "shell.execute_reply": "2022-03-29T12:26:12.439144Z"
    }
   },
   "outputs": [],
   "source": [
    "true_labels = np.concatenate([testing_set[i][1] for i in range(len(testing_set))], axis=0)"
   ]
  },
  {
   "cell_type": "code",
   "execution_count": 16,
   "metadata": {
    "execution": {
     "iopub.execute_input": "2022-03-29T12:26:12.444396Z",
     "iopub.status.busy": "2022-03-29T12:26:12.443923Z",
     "iopub.status.idle": "2022-03-29T13:41:41.525054Z",
     "shell.execute_reply": "2022-03-29T13:41:41.525597Z"
    }
   },
   "outputs": [],
   "source": [
    "predicted_labels = model.predict(testing_set)"
   ]
  },
  {
   "cell_type": "markdown",
   "metadata": {},
   "source": [
    "### Plot the ROC Curve"
   ]
  },
  {
   "cell_type": "code",
   "execution_count": 17,
   "metadata": {
    "execution": {
     "iopub.execute_input": "2022-03-29T13:41:41.529369Z",
     "iopub.status.busy": "2022-03-29T13:41:41.528693Z",
     "iopub.status.idle": "2022-03-29T13:41:41.557318Z",
     "shell.execute_reply": "2022-03-29T13:41:41.557808Z"
    }
   },
   "outputs": [],
   "source": [
    "fpr = dict()\n",
    "tpr = dict()\n",
    "auc_metric = dict()\n",
    "\n",
    "diagnosis_index_dict = {v: k for k, v in testing_set.class_indices.items()}\n",
    "\n",
    "for i in range(CLASS_NUMBER):\n",
    "    diagnosis = diagnosis_index_dict[i]\n",
    "    fpr[diagnosis], tpr[diagnosis], _ = roc_curve(true_labels[:, i], predicted_labels[:, i])\n",
    "    auc_metric[diagnosis] = auc(fpr[diagnosis], tpr[diagnosis])"
   ]
  },
  {
   "cell_type": "code",
   "execution_count": 18,
   "metadata": {
    "execution": {
     "iopub.execute_input": "2022-03-29T13:41:41.560825Z",
     "iopub.status.busy": "2022-03-29T13:41:41.560200Z",
     "iopub.status.idle": "2022-03-29T13:41:41.989964Z",
     "shell.execute_reply": "2022-03-29T13:41:41.990370Z"
    }
   },
   "outputs": [
    {
     "data": {
      "image/png": "[encoded data removed]",
      "text/plain": [
       "<Figure size 432x288 with 1 Axes>"
      ]
     },
     "metadata": {
      "needs_background": "light"
     },
     "output_type": "display_data"
    }
   ],
   "source": [
    "%matplotlib inline\n",
    "for diagnosis in testing_set.class_indices:\n",
    "    plt.plot(fpr[diagnosis], tpr[diagnosis], label=diagnosis)\n",
    "    \n",
    "plt.plot([0, 1], [0, 1], 'k--')\n",
    "plt.xlabel('False Positive Rate')\n",
    "plt.ylabel('True Positive Rate')\n",
    "plt.title('Receiver operating characteristic')\n",
    "plt.legend(loc=\"lower right\")\n",
    "plt.show()"
   ]
  },
  {
   "cell_type": "markdown",
   "metadata": {},
   "source": [
    "### Show AUC"
   ]
  },
  {
   "cell_type": "code",
   "execution_count": 19,
   "metadata": {
    "execution": {
     "iopub.execute_input": "2022-03-29T13:41:41.992886Z",
     "iopub.status.busy": "2022-03-29T13:41:41.992354Z",
     "iopub.status.idle": "2022-03-29T13:41:41.996120Z",
     "shell.execute_reply": "2022-03-29T13:41:41.996526Z"
    }
   },
   "outputs": [
    {
     "data": {
      "text/plain": [
       "{'AK': 0.9244703930576825,\n",
       " 'BCC': 0.8834740226070725,\n",
       " 'BKL': 0.8617025652670804,\n",
       " 'DF': 0.854134571512923,\n",
       " 'MEL': 0.7829361411770629,\n",
       " 'NV': 0.8742815212145557,\n",
       " 'SCC': 0.8818453295858767,\n",
       " 'UNK': 0.8037064870232695,\n",
       " 'VASC': 0.8120756572408959}"
      ]
     },
     "execution_count": 1,
     "metadata": {},
     "output_type": "execute_result"
    }
   ],
   "source": [
    "auc_metric"
   ]
  },
  {
   "cell_type": "code",
   "execution_count": null,
   "metadata": {},
   "outputs": [],
   "source": []
  }
 ],
 "metadata": {
  "kernelspec": {
   "display_name": "Python 3",
   "language": "python",
   "name": "python3"
  },
  "language_info": {
   "codemirror_mode": {
    "name": "ipython",
    "version": 3
   },
   "file_extension": ".py",
   "mimetype": "text/x-python",
   "name": "python",
   "nbconvert_exporter": "python",
   "pygments_lexer": "ipython3",
   "version": "3.9.1"
  }
 },
 "nbformat": 4,
 "nbformat_minor": 2
}
