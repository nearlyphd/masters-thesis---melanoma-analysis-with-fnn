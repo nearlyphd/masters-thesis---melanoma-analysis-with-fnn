{
 "cells": [
  {
   "cell_type": "markdown",
   "metadata": {},
   "source": [
    "# Melanoma analysis with MobileNet V2"
   ]
  },
  {
   "cell_type": "markdown",
   "metadata": {},
   "source": [
    "This notebook shows how good is [MobileNet V2](#MobileNet-V2) for [melanoma](#Melanoma) analysis."
   ]
  },
  {
   "cell_type": "code",
   "execution_count": 1,
   "metadata": {
    "execution": {
     "iopub.execute_input": "2022-03-28T19:43:39.936249Z",
     "iopub.status.busy": "2022-03-28T19:43:39.935575Z",
     "iopub.status.idle": "2022-03-28T19:44:28.542631Z",
     "shell.execute_reply": "2022-03-28T19:44:28.543069Z"
    }
   },
   "outputs": [],
   "source": [
    "import os\n",
    "import datetime\n",
    "import numpy as np\n",
    "import tensorflow as tf\n",
    "import tensorflow_hub as hub\n",
    "import matplotlib.pyplot as plt\n",
    "from sklearn.metrics import roc_curve, auc"
   ]
  },
  {
   "cell_type": "markdown",
   "metadata": {},
   "source": [
    "Check if a GPU is available."
   ]
  },
  {
   "cell_type": "code",
   "execution_count": 2,
   "metadata": {
    "execution": {
     "iopub.execute_input": "2022-03-28T19:44:28.746137Z",
     "iopub.status.busy": "2022-03-28T19:44:28.745535Z",
     "iopub.status.idle": "2022-03-28T19:44:28.749698Z",
     "shell.execute_reply": "2022-03-28T19:44:28.750179Z"
    }
   },
   "outputs": [
    {
     "data": {
      "text/plain": [
       "[PhysicalDevice(name='/physical_device:GPU:0', device_type='GPU')]"
      ]
     },
     "execution_count": 1,
     "metadata": {},
     "output_type": "execute_result"
    }
   ],
   "source": [
    "tf.config.list_physical_devices('GPU')"
   ]
  },
  {
   "cell_type": "markdown",
   "metadata": {},
   "source": [
    "# Melanoma"
   ]
  },
  {
   "cell_type": "markdown",
   "metadata": {},
   "source": [
    "__Melanoma__, also redundantly known as __malignant melanoma__, is a type of skin cancer that develops from the pigment-producing cells known as melanocytes. Melanomas typically occur in the skin, but may rarely occur in the mouth, intestines, or eye (uveal melanoma). In women, they most commonly occur on the legs, while in men, they most commonly occur on the back. About 25% of melanomas develop from moles. Changes in a mole that can indicate melanoma include an increase in size, irregular edges, change in color, itchiness, or skin breakdown."
   ]
  },
  {
   "cell_type": "markdown",
   "metadata": {},
   "source": [
    "![melanoma image](../assets/melanoma.jpg)"
   ]
  },
  {
   "cell_type": "markdown",
   "metadata": {},
   "source": [
    "<div style=\"text-align: center; font-weight: bold\">Pic.1. A melanoma of approximately 2.5 cm (1 in) by 1.5 cm (0.6 in)</div>"
   ]
  },
  {
   "cell_type": "markdown",
   "metadata": {},
   "source": [
    "The primary cause of melanoma is ultraviolet light (UV) exposure in those with low levels of the skin pigment melanin. The UV light may be from the sun or other sources, such as tanning devices. Those with many moles, a history of affected family members, and poor immune function are at greater risk. A number of rare genetic conditions, such as xeroderma pigmentosum, also increase the risk. Diagnosis is by biopsy and analysis of any skin lesion that has signs of being potentially cancerous."
   ]
  },
  {
   "cell_type": "markdown",
   "metadata": {},
   "source": [
    "Melanoma is the most dangerous type of skin cancer. Globally, in 2012, it newly occurred in 232,000 people. In 2015, 3.1 million people had active disease, which resulted in 59,800 deaths. Australia and New Zealand have the highest rates of melanoma in the world. High rates also occur in Northern Europe and North America, while it is less common in Asia, Africa, and Latin America. In the United States, melanoma occurs about 1.6 times more often in men than women. Melanoma has become more common since the 1960s in areas mostly populated by people of European descent."
   ]
  },
  {
   "cell_type": "markdown",
   "metadata": {},
   "source": [
    "# MobileNet V2"
   ]
  },
  {
   "cell_type": "markdown",
   "metadata": {},
   "source": [
    "__MobileNetV2__ is a convolutional neural network architecture that seeks to perform well on mobile devices. It is based on an inverted residual structure where the residual connections are between the bottleneck layers. The intermediate expansion layer uses lightweight depthwise convolutions to filter features as a source of non-linearity. As a whole, the architecture of MobileNetV2 contains the initial fully convolution layer with 32 filters, followed by 19 residual bottleneck layers."
   ]
  },
  {
   "cell_type": "markdown",
   "metadata": {},
   "source": [
    "![CNN image](../assets/mobilenetv2.png)"
   ]
  },
  {
   "cell_type": "markdown",
   "metadata": {},
   "source": [
    "<div style=\"text-align: center; font-weight: bold\">Pic.2. MobileNet V2 architecture</div>"
   ]
  },
  {
   "cell_type": "markdown",
   "metadata": {},
   "source": [
    "If you want to learn more about MobileNet V2, read [here](https://paperswithcode.com/method/mobilenetv2)."
   ]
  },
  {
   "cell_type": "markdown",
   "metadata": {},
   "source": [
    "# Data loading"
   ]
  },
  {
   "cell_type": "code",
   "execution_count": 3,
   "metadata": {
    "execution": {
     "iopub.execute_input": "2022-03-28T19:44:28.756645Z",
     "iopub.status.busy": "2022-03-28T19:44:28.756071Z",
     "iopub.status.idle": "2022-03-28T19:44:29.001937Z",
     "shell.execute_reply": "2022-03-28T19:44:29.002444Z"
    }
   },
   "outputs": [
    {
     "name": "stdout",
     "output_type": "stream",
     "text": [
      "Found 7881 images belonging to 9 classes.\n",
      "Found 1964 images belonging to 9 classes.\n"
     ]
    }
   ],
   "source": [
    "generator = tf.keras.preprocessing.image.ImageDataGenerator(\n",
    "    rescale=1./255,\n",
    "    rotation_range=180,\n",
    "    horizontal_flip=True,\n",
    "    vertical_flip=True,\n",
    "    brightness_range=(0.2, 1.5),\n",
    "    validation_split=0.2,\n",
    ")\n",
    "\n",
    "\n",
    "training_set = generator.flow_from_directory(\n",
    "    f\"{os.environ['SCRATCH']}/data10000\", \n",
    "    target_size=(224, 224), \n",
    "    batch_size=32, \n",
    "    class_mode='categorical', \n",
    "    subset='training'\n",
    ")\n",
    "validation_set = generator.flow_from_directory(\n",
    "    f\"{os.environ['SCRATCH']}/data10000\", \n",
    "    target_size=(224, 224), \n",
    "    batch_size=32, \n",
    "    class_mode='categorical', \n",
    "    subset='validation'\n",
    ")"
   ]
  },
  {
   "cell_type": "code",
   "execution_count": 4,
   "metadata": {
    "execution": {
     "iopub.execute_input": "2022-03-28T19:44:29.006420Z",
     "iopub.status.busy": "2022-03-28T19:44:29.005844Z",
     "iopub.status.idle": "2022-03-28T19:44:29.007689Z",
     "shell.execute_reply": "2022-03-28T19:44:29.008115Z"
    }
   },
   "outputs": [],
   "source": [
    "CLASS_NUMBER = len(training_set.class_indices)"
   ]
  },
  {
   "cell_type": "markdown",
   "metadata": {},
   "source": [
    "### Data source"
   ]
  },
  {
   "cell_type": "markdown",
   "metadata": {},
   "source": [
    "As a data source, we use the ISIC Archive."
   ]
  },
  {
   "cell_type": "markdown",
   "metadata": {},
   "source": [
    "The ISIC Archive is an open source platform with publicly available images of skin lesions under Creative Commons licenses. The images are associated with ground-truth diagnoses and other clinical metadata. Images can be queried using faceted search and downloaded individually or in batches. The initial focus of the archive has been on dermoscopy images of individual skin lesions, as these images are inherently standardized by the use of a specialized acquisition device and devoid of many of the privacy challenges associated with clinical images. To date, the images have been provided by specialized melanoma centers from around the world. The archive is designed to accept contributions from new sources under the Terms of Use and welcomes new contributors. There are ongoing efforts to supplement the dermoscopy images in the archive with close-up clinical images and a broader representation of skin types. The images in the Archive are used to support educational efforts through linkage with Dermoscopedia and are used for Grand Challenges and Live Challenges to engage the computer science community for the development of diagnostic AI."
   ]
  },
  {
   "cell_type": "markdown",
   "metadata": {},
   "source": [
    "For more information, go to [ISIC Archive web site](https://www.isic-archive.com/)"
   ]
  },
  {
   "cell_type": "markdown",
   "metadata": {},
   "source": [
    "# Model training"
   ]
  },
  {
   "cell_type": "markdown",
   "metadata": {},
   "source": [
    "### Building the model"
   ]
  },
  {
   "cell_type": "markdown",
   "metadata": {},
   "source": [
    "We take the model from TensorFlow Hub. [Look here](https://tfhub.dev/google/tf2-preview/mobilenet_v2/feature_vector/4)."
   ]
  },
  {
   "cell_type": "code",
   "execution_count": 5,
   "metadata": {
    "execution": {
     "iopub.execute_input": "2022-03-28T19:44:29.013049Z",
     "iopub.status.busy": "2022-03-28T19:44:29.012494Z",
     "iopub.status.idle": "2022-03-28T19:44:38.181691Z",
     "shell.execute_reply": "2022-03-28T19:44:38.181159Z"
    }
   },
   "outputs": [],
   "source": [
    "model = tf.keras.models.Sequential([\n",
    "    hub.KerasLayer(\"https://tfhub.dev/google/tf2-preview/mobilenet_v2/feature_vector/4\", output_shape=[1280],\n",
    "                   trainable=False),\n",
    "    tf.keras.layers.Dense(CLASS_NUMBER, activation='softmax')\n",
    "])\n",
    "model.build([None, 224, 224, 3])"
   ]
  },
  {
   "cell_type": "code",
   "execution_count": 6,
   "metadata": {
    "execution": {
     "iopub.execute_input": "2022-03-28T19:44:38.185890Z",
     "iopub.status.busy": "2022-03-28T19:44:38.185330Z",
     "iopub.status.idle": "2022-03-28T19:44:38.200837Z",
     "shell.execute_reply": "2022-03-28T19:44:38.201295Z"
    }
   },
   "outputs": [
    {
     "name": "stdout",
     "output_type": "stream",
     "text": [
      "Model: \"sequential\"\n",
      "_________________________________________________________________\n",
      " Layer (type)                Output Shape              Param #   \n",
      "=================================================================\n",
      " keras_layer (KerasLayer)    (None, 1280)              2257984   \n",
      "                                                                 \n",
      " dense (Dense)               (None, 9)                 11529     \n",
      "                                                                 \n",
      "=================================================================\n",
      "Total params: 2,269,513\n",
      "Trainable params: 11,529\n",
      "Non-trainable params: 2,257,984\n",
      "_________________________________________________________________\n"
     ]
    }
   ],
   "source": [
    "model.summary()"
   ]
  },
  {
   "cell_type": "code",
   "execution_count": 7,
   "metadata": {
    "execution": {
     "iopub.execute_input": "2022-03-28T19:44:38.210092Z",
     "iopub.status.busy": "2022-03-28T19:44:38.209521Z",
     "iopub.status.idle": "2022-03-28T19:44:38.215036Z",
     "shell.execute_reply": "2022-03-28T19:44:38.215505Z"
    }
   },
   "outputs": [],
   "source": [
    "model.compile(optimizer='adam', loss='categorical_crossentropy', metrics=['accuracy'])"
   ]
  },
  {
   "cell_type": "markdown",
   "metadata": {},
   "source": [
    "### Preparing TensorFlow callbacks"
   ]
  },
  {
   "cell_type": "markdown",
   "metadata": {},
   "source": [
    "For our convenience, we create a few TensorFlow callbacks."
   ]
  },
  {
   "cell_type": "markdown",
   "metadata": {},
   "source": [
    "#### The TensorBoard callback"
   ]
  },
  {
   "cell_type": "markdown",
   "metadata": {},
   "source": [
    "We want to see how the training is going. We add the callback, which will log the metrics to TensorBoard."
   ]
  },
  {
   "cell_type": "code",
   "execution_count": 8,
   "metadata": {
    "execution": {
     "iopub.execute_input": "2022-03-28T19:44:38.220337Z",
     "iopub.status.busy": "2022-03-28T19:44:38.219786Z",
     "iopub.status.idle": "2022-03-28T19:44:38.221695Z",
     "shell.execute_reply": "2022-03-28T19:44:38.222139Z"
    }
   },
   "outputs": [],
   "source": [
    "log_dir = '../logs/fit/' + datetime.datetime.now().strftime('mobilenet_v2')\n",
    "tensorboard_callback = tf.keras.callbacks.TensorBoard(log_dir=log_dir, histogram_freq=1)"
   ]
  },
  {
   "cell_type": "markdown",
   "metadata": {},
   "source": [
    "#### The EarlyStopping callback"
   ]
  },
  {
   "cell_type": "markdown",
   "metadata": {},
   "source": [
    "This callback stops training when the metrics (e.g. validation loss) are not improving,"
   ]
  },
  {
   "cell_type": "code",
   "execution_count": 9,
   "metadata": {
    "execution": {
     "iopub.execute_input": "2022-03-28T19:44:38.226364Z",
     "iopub.status.busy": "2022-03-28T19:44:38.225781Z",
     "iopub.status.idle": "2022-03-28T19:44:38.227629Z",
     "shell.execute_reply": "2022-03-28T19:44:38.228088Z"
    }
   },
   "outputs": [],
   "source": [
    "early_stop_callback = tf.keras.callbacks.EarlyStopping(\n",
    "    monitor=\"val_loss\", \n",
    "    min_delta=0.01, \n",
    "    patience=5, \n",
    "    restore_best_weights=True\n",
    ")"
   ]
  },
  {
   "cell_type": "markdown",
   "metadata": {},
   "source": [
    "#### The ModelCheckpoint callback"
   ]
  },
  {
   "cell_type": "markdown",
   "metadata": {},
   "source": [
    "This callback saves the model with the best metrics during training."
   ]
  },
  {
   "cell_type": "code",
   "execution_count": 10,
   "metadata": {
    "execution": {
     "iopub.execute_input": "2022-03-28T19:44:38.232755Z",
     "iopub.status.busy": "2022-03-28T19:44:38.232177Z",
     "iopub.status.idle": "2022-03-28T19:44:38.234515Z",
     "shell.execute_reply": "2022-03-28T19:44:38.234036Z"
    }
   },
   "outputs": [],
   "source": [
    "checkpoint_path = 'checkpoints/mobilenet_v2.ckpt'\n",
    "\n",
    "checkpoint_callback = tf.keras.callbacks.ModelCheckpoint(\n",
    "    checkpoint_path,\n",
    "    monitor='val_loss',\n",
    "    verbose=1,\n",
    "    save_best_only=True,\n",
    "    save_weights_only=False,\n",
    "    save_freq='epoch',\n",
    "    mode='auto'\n",
    ")"
   ]
  },
  {
   "cell_type": "markdown",
   "metadata": {},
   "source": [
    "### Training the model"
   ]
  },
  {
   "cell_type": "code",
   "execution_count": 11,
   "metadata": {
    "execution": {
     "iopub.execute_input": "2022-03-28T19:44:38.240200Z",
     "iopub.status.busy": "2022-03-28T19:44:38.239585Z",
     "iopub.status.idle": "2022-03-29T04:13:49.165711Z",
     "shell.execute_reply": "2022-03-29T04:13:49.166178Z"
    }
   },
   "outputs": [
    {
     "name": "stdout",
     "output_type": "stream",
     "text": [
      "Epoch 1/200\n",
      "247/247 [==============================] - ETA: 0s - loss: 0.6157 - accuracy: 0.8153 \n",
      "Epoch 1: val_loss improved from inf to 0.50436, saving model to checkpoints/mobilenet_v2.ckpt\n",
      "INFO:tensorflow:Assets written to: checkpoints/mobilenet_v2.ckpt/assets\n"
     ]
    },
    {
     "name": "stderr",
     "output_type": "stream",
     "text": [
      "INFO:tensorflow:Assets written to: checkpoints/mobilenet_v2.ckpt/assets\n"
     ]
    },
    {
     "name": "stdout",
     "output_type": "stream",
     "text": [
      "247/247 [==============================] - 4419s 18s/step - loss: 0.6157 - accuracy: 0.8153 - val_loss: 0.5044 - val_accuracy: 0.8406\n",
      "Epoch 2/200\n",
      "247/247 [==============================] - ETA: 0s - loss: 0.5147 - accuracy: 0.8296 \n",
      "Epoch 2: val_loss improved from 0.50436 to 0.49192, saving model to checkpoints/mobilenet_v2.ckpt\n",
      "INFO:tensorflow:Assets written to: checkpoints/mobilenet_v2.ckpt/assets\n"
     ]
    },
    {
     "name": "stderr",
     "output_type": "stream",
     "text": [
      "INFO:tensorflow:Assets written to: checkpoints/mobilenet_v2.ckpt/assets\n"
     ]
    },
    {
     "name": "stdout",
     "output_type": "stream",
     "text": [
      "247/247 [==============================] - 4590s 19s/step - loss: 0.5147 - accuracy: 0.8296 - val_loss: 0.4919 - val_accuracy: 0.8447\n",
      "Epoch 3/200\n",
      "247/247 [==============================] - ETA: 0s - loss: 0.4792 - accuracy: 0.8375 \n",
      "Epoch 3: val_loss did not improve from 0.49192\n",
      "247/247 [==============================] - 4437s 18s/step - loss: 0.4792 - accuracy: 0.8375 - val_loss: 0.5202 - val_accuracy: 0.8473\n",
      "Epoch 4/200\n",
      "247/247 [==============================] - ETA: 0s - loss: 0.4669 - accuracy: 0.8401 \n",
      "Epoch 4: val_loss improved from 0.49192 to 0.48891, saving model to checkpoints/mobilenet_v2.ckpt\n",
      "INFO:tensorflow:Assets written to: checkpoints/mobilenet_v2.ckpt/assets\n"
     ]
    },
    {
     "name": "stderr",
     "output_type": "stream",
     "text": [
      "INFO:tensorflow:Assets written to: checkpoints/mobilenet_v2.ckpt/assets\n"
     ]
    },
    {
     "name": "stdout",
     "output_type": "stream",
     "text": [
      "247/247 [==============================] - 4341s 18s/step - loss: 0.4669 - accuracy: 0.8401 - val_loss: 0.4889 - val_accuracy: 0.8396\n",
      "Epoch 5/200\n",
      "247/247 [==============================] - ETA: 0s - loss: 0.4438 - accuracy: 0.8467 \n",
      "Epoch 5: val_loss did not improve from 0.48891\n",
      "247/247 [==============================] - 4243s 17s/step - loss: 0.4438 - accuracy: 0.8467 - val_loss: 0.5954 - val_accuracy: 0.8391\n",
      "Epoch 6/200\n",
      "247/247 [==============================] - ETA: 0s - loss: 0.4405 - accuracy: 0.8471 \n",
      "Epoch 6: val_loss did not improve from 0.48891\n",
      "247/247 [==============================] - 4259s 17s/step - loss: 0.4405 - accuracy: 0.8471 - val_loss: 0.5858 - val_accuracy: 0.8320\n",
      "Epoch 7/200\n",
      "247/247 [==============================] - ETA: 0s - loss: 0.4393 - accuracy: 0.8442 \n",
      "Epoch 7: val_loss did not improve from 0.48891\n",
      "247/247 [==============================] - 4244s 17s/step - loss: 0.4393 - accuracy: 0.8442 - val_loss: 0.6076 - val_accuracy: 0.8366\n"
     ]
    },
    {
     "data": {
      "text/plain": [
       "<keras.callbacks.History at 0x2b58fbaf96d0>"
      ]
     },
     "execution_count": 1,
     "metadata": {},
     "output_type": "execute_result"
    }
   ],
   "source": [
    "model.fit(\n",
    "    training_set, \n",
    "    validation_data=validation_set, \n",
    "    epochs=200, \n",
    "    callbacks=[\n",
    "                tensorboard_callback,\n",
    "                checkpoint_callback,\n",
    "                early_stop_callback\n",
    "            ]\n",
    ")"
   ]
  },
  {
   "cell_type": "markdown",
   "metadata": {},
   "source": [
    "# Model validation"
   ]
  },
  {
   "cell_type": "markdown",
   "metadata": {},
   "source": [
    "### Loading the model"
   ]
  },
  {
   "cell_type": "markdown",
   "metadata": {},
   "source": [
    "We load the model with the best metrics (e.g. validation loss) from the checkpoint."
   ]
  },
  {
   "cell_type": "code",
   "execution_count": 12,
   "metadata": {
    "execution": {
     "iopub.execute_input": "2022-03-29T04:13:49.172203Z",
     "iopub.status.busy": "2022-03-29T04:13:49.171638Z",
     "iopub.status.idle": "2022-03-29T04:13:52.177651Z",
     "shell.execute_reply": "2022-03-29T04:13:52.178070Z"
    }
   },
   "outputs": [],
   "source": [
    "model = tf.keras.models.Sequential([\n",
    "    hub.KerasLayer(\"https://tfhub.dev/google/tf2-preview/mobilenet_v2/feature_vector/4\", output_shape=[1280],\n",
    "                   trainable=False),\n",
    "    tf.keras.layers.Dense(CLASS_NUMBER, activation='softmax')\n",
    "])\n",
    "model.build([None, 224, 224, 3])"
   ]
  },
  {
   "cell_type": "code",
   "execution_count": 13,
   "metadata": {
    "execution": {
     "iopub.execute_input": "2022-03-29T04:13:52.183751Z",
     "iopub.status.busy": "2022-03-29T04:13:52.181790Z",
     "iopub.status.idle": "2022-03-29T04:13:52.413782Z",
     "shell.execute_reply": "2022-03-29T04:13:52.414207Z"
    }
   },
   "outputs": [
    {
     "data": {
      "text/plain": [
       "<tensorflow.python.training.tracking.util.CheckpointLoadStatus at 0x2b59834a2040>"
      ]
     },
     "execution_count": 1,
     "metadata": {},
     "output_type": "execute_result"
    }
   ],
   "source": [
    "model.load_weights('./checkpoints/mobilenet_v2.ckpt')"
   ]
  },
  {
   "cell_type": "markdown",
   "metadata": {},
   "source": [
    "### Loading the test data"
   ]
  },
  {
   "cell_type": "code",
   "execution_count": 14,
   "metadata": {
    "execution": {
     "iopub.execute_input": "2022-03-29T04:13:52.418181Z",
     "iopub.status.busy": "2022-03-29T04:13:52.417622Z",
     "iopub.status.idle": "2022-03-29T04:13:52.624795Z",
     "shell.execute_reply": "2022-03-29T04:13:52.625234Z"
    }
   },
   "outputs": [
    {
     "name": "stdout",
     "output_type": "stream",
     "text": [
      "Found 9843 images belonging to 9 classes.\n"
     ]
    }
   ],
   "source": [
    "testing_set = generator.flow_from_directory(\n",
    "    f\"{os.environ['SCRATCH']}/data10000-test\",\n",
    "    target_size=(224, 224),\n",
    "    batch_size=32,\n",
    "    class_mode='categorical'\n",
    ")"
   ]
  },
  {
   "cell_type": "markdown",
   "metadata": {},
   "source": [
    "### Making diagnoses"
   ]
  },
  {
   "cell_type": "code",
   "execution_count": 15,
   "metadata": {
    "execution": {
     "iopub.execute_input": "2022-03-29T04:13:52.629203Z",
     "iopub.status.busy": "2022-03-29T04:13:52.628634Z",
     "iopub.status.idle": "2022-03-29T05:50:27.769158Z",
     "shell.execute_reply": "2022-03-29T05:50:27.769705Z"
    }
   },
   "outputs": [],
   "source": [
    "true_labels = np.concatenate([testing_set[i][1] for i in range(len(testing_set))], axis=0)"
   ]
  },
  {
   "cell_type": "code",
   "execution_count": 16,
   "metadata": {
    "execution": {
     "iopub.execute_input": "2022-03-29T05:50:27.775877Z",
     "iopub.status.busy": "2022-03-29T05:50:27.775330Z",
     "iopub.status.idle": "2022-03-29T07:09:06.061192Z",
     "shell.execute_reply": "2022-03-29T07:09:06.061689Z"
    }
   },
   "outputs": [],
   "source": [
    "predicted_labels = model.predict(testing_set)"
   ]
  },
  {
   "cell_type": "markdown",
   "metadata": {},
   "source": [
    "### Plot the ROC Curve"
   ]
  },
  {
   "cell_type": "code",
   "execution_count": 17,
   "metadata": {
    "execution": {
     "iopub.execute_input": "2022-03-29T07:09:06.068078Z",
     "iopub.status.busy": "2022-03-29T07:09:06.067547Z",
     "iopub.status.idle": "2022-03-29T07:09:06.091798Z",
     "shell.execute_reply": "2022-03-29T07:09:06.091325Z"
    }
   },
   "outputs": [],
   "source": [
    "fpr = dict()\n",
    "tpr = dict()\n",
    "auc_metric = dict()\n",
    "\n",
    "diagnosis_index_dict = {v: k for k, v in testing_set.class_indices.items()}\n",
    "\n",
    "for i in range(CLASS_NUMBER):\n",
    "    diagnosis = diagnosis_index_dict[i]\n",
    "    fpr[diagnosis], tpr[diagnosis], _ = roc_curve(true_labels[:, i], predicted_labels[:, i])\n",
    "    auc_metric[diagnosis] = auc(fpr[diagnosis], tpr[diagnosis])"
   ]
  },
  {
   "cell_type": "code",
   "execution_count": 18,
   "metadata": {
    "execution": {
     "iopub.execute_input": "2022-03-29T07:09:06.100310Z",
     "iopub.status.busy": "2022-03-29T07:09:06.099691Z",
     "iopub.status.idle": "2022-03-29T07:09:06.386564Z",
     "shell.execute_reply": "2022-03-29T07:09:06.387015Z"
    }
   },
   "outputs": [
    {
     "data": {
      "image/png": "[encoded data removed]",
      "text/plain": [
       "<Figure size 432x288 with 1 Axes>"
      ]
     },
     "metadata": {
      "needs_background": "light"
     },
     "output_type": "display_data"
    }
   ],
   "source": [
    "%matplotlib inline\n",
    "for diagnosis in testing_set.class_indices:\n",
    "    plt.plot(fpr[diagnosis], tpr[diagnosis], label=diagnosis)\n",
    "    \n",
    "plt.plot([0, 1], [0, 1], 'k--')\n",
    "plt.xlabel('False Positive Rate')\n",
    "plt.ylabel('True Positive Rate')\n",
    "plt.title('Receiver operating characteristic')\n",
    "plt.legend(loc=\"lower right\")\n",
    "plt.show()"
   ]
  },
  {
   "cell_type": "markdown",
   "metadata": {},
   "source": [
    "### Show AUC"
   ]
  },
  {
   "cell_type": "code",
   "execution_count": 19,
   "metadata": {
    "execution": {
     "iopub.execute_input": "2022-03-29T07:09:06.391942Z",
     "iopub.status.busy": "2022-03-29T07:09:06.391376Z",
     "iopub.status.idle": "2022-03-29T07:09:06.393779Z",
     "shell.execute_reply": "2022-03-29T07:09:06.394199Z"
    }
   },
   "outputs": [
    {
     "data": {
      "text/plain": [
       "{'AK': 0.9431746639441891,\n",
       " 'BCC': 0.9367987140931244,\n",
       " 'BKL': 0.8961658731251884,\n",
       " 'DF': 0.9001771384095119,\n",
       " 'MEL': 0.8869010482573088,\n",
       " 'NV': 0.928305722417553,\n",
       " 'SCC': 0.9144233162062858,\n",
       " 'UNK': 0.7783569070560132,\n",
       " 'VASC': 0.9760014227578486}"
      ]
     },
     "execution_count": 1,
     "metadata": {},
     "output_type": "execute_result"
    }
   ],
   "source": [
    "auc_metric"
   ]
  },
  {
   "cell_type": "code",
   "execution_count": null,
   "metadata": {},
   "outputs": [],
   "source": []
  }
 ],
 "metadata": {
  "kernelspec": {
   "display_name": "Python 3",
   "language": "python",
   "name": "python3"
  },
  "language_info": {
   "codemirror_mode": {
    "name": "ipython",
    "version": 3
   },
   "file_extension": ".py",
   "mimetype": "text/x-python",
   "name": "python",
   "nbconvert_exporter": "python",
   "pygments_lexer": "ipython3",
   "version": "3.9.1"
  }
 },
 "nbformat": 4,
 "nbformat_minor": 2
}
