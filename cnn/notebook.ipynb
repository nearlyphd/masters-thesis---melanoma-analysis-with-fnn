{
 "cells": [
  {
   "cell_type": "markdown",
   "metadata": {},
   "source": [
    "# Konwolucyjna sieć neuronowa (ang. Convolutional neural network) o prostej architekturze w analizie czerniaka"
   ]
  },
  {
   "cell_type": "markdown",
   "metadata": {},
   "source": [
    "## Tworzymy model"
   ]
  },
  {
   "cell_type": "code",
   "execution_count": 1,
   "metadata": {
    "execution": {
     "iopub.execute_input": "2021-06-10T18:14:35.450209Z",
     "iopub.status.busy": "2021-06-10T18:14:35.448663Z",
     "iopub.status.idle": "2021-06-10T18:14:37.436094Z",
     "shell.execute_reply": "2021-06-10T18:14:37.435113Z"
    }
   },
   "outputs": [
    {
     "name": "stderr",
     "output_type": "stream",
     "text": [
      "Matplotlib created a temporary config/cache directory at /tmp/matplotlib-np9i4p76 because the default path (/.config/matplotlib) is not a writable directory; it is highly recommended to set the MPLCONFIGDIR environment variable to a writable directory, in particular to speed up the import of Matplotlib and to better support multiprocessing.\n"
     ]
    }
   ],
   "source": [
    "import os\n",
    "import datetime\n",
    "\n",
    "import numpy as np\n",
    "import matplotlib.pyplot as plt\n",
    "from sklearn.metrics import roc_curve, auc\n",
    "\n",
    "from PIL import ImageFile\n",
    "ImageFile.LOAD_TRUNCATED_IMAGES = True\n",
    "\n",
    "from tensorflow.keras.models import Sequential\n",
    "from tensorflow.keras.preprocessing.image import ImageDataGenerator\n",
    "from tensorflow.keras.layers import Conv2D, MaxPool2D, Dense, Flatten, Dropout, BatchNormalization\n",
    "from tensorflow.keras.callbacks import TensorBoard, ModelCheckpoint, EarlyStopping"
   ]
  },
  {
   "cell_type": "markdown",
   "metadata": {},
   "source": [
    "Ładujemy dane do trenowania i walidacji."
   ]
  },
  {
   "cell_type": "code",
   "execution_count": 2,
   "metadata": {
    "execution": {
     "iopub.execute_input": "2021-06-10T18:14:37.445048Z",
     "iopub.status.busy": "2021-06-10T18:14:37.443769Z",
     "iopub.status.idle": "2021-06-10T18:14:38.772298Z",
     "shell.execute_reply": "2021-06-10T18:14:38.773199Z"
    }
   },
   "outputs": [
    {
     "name": "stdout",
     "output_type": "stream",
     "text": [
      "Found 43922 images belonging to 9 classes.\n",
      "Found 10975 images belonging to 9 classes.\n"
     ]
    }
   ],
   "source": [
    "datagen = ImageDataGenerator(rescale=1. / 255, \n",
    "                             validation_split=0.2,\n",
    "                             rotation_range=180,\n",
    "                             horizontal_flip=True,\n",
    "                             vertical_flip=True,\n",
    "                             brightness_range=(0.2,1.5))\n",
    "training_set = datagen.flow_from_directory('/big-data',\n",
    "                                           target_size=(128, 128),\n",
    "                                           batch_size=32,\n",
    "                                           class_mode='categorical',\n",
    "                                           subset='training')\n",
    "validation_set = datagen.flow_from_directory('/big-data',\n",
    "                                           target_size=(128, 128),\n",
    "                                           batch_size=32,\n",
    "                                           class_mode='categorical',\n",
    "                                           subset='validation')"
   ]
  },
  {
   "cell_type": "markdown",
   "metadata": {},
   "source": [
    "Zapisujemy ilość diagnoz do zmiennej."
   ]
  },
  {
   "cell_type": "code",
   "execution_count": 3,
   "metadata": {
    "execution": {
     "iopub.execute_input": "2021-06-10T18:14:38.777359Z",
     "iopub.status.busy": "2021-06-10T18:14:38.776687Z",
     "iopub.status.idle": "2021-06-10T18:14:38.778848Z",
     "shell.execute_reply": "2021-06-10T18:14:38.779315Z"
    }
   },
   "outputs": [],
   "source": [
    "DIAGNOSIS_NUMBER = len(training_set.class_indices)"
   ]
  },
  {
   "cell_type": "markdown",
   "metadata": {},
   "source": [
    "Budujemy model - sieć konwolucyjną z 3 warstwami konwolucyjnymi (ang. convolutional layer) i 2 warstwami gęstymi (ang. dense layer)."
   ]
  },
  {
   "cell_type": "code",
   "execution_count": 4,
   "metadata": {
    "execution": {
     "iopub.execute_input": "2021-06-10T18:14:38.790508Z",
     "iopub.status.busy": "2021-06-10T18:14:38.789890Z",
     "iopub.status.idle": "2021-06-10T18:14:39.558203Z",
     "shell.execute_reply": "2021-06-10T18:14:39.557249Z"
    }
   },
   "outputs": [],
   "source": [
    "model = Sequential([\n",
    "    # pierwsza warstwa konwolucyjna\n",
    "    Conv2D(filters=64, \n",
    "           kernel_size=3, \n",
    "           activation='relu', \n",
    "           input_shape=(128, 128, 3)),\n",
    "    MaxPool2D(pool_size=2, strides=2),\n",
    "\n",
    "    # druga warstwa konwolucyjna\n",
    "    Conv2D(filters=64, kernel_size=3, activation='relu'),\n",
    "    MaxPool2D(pool_size=2, strides=2),\n",
    "\n",
    "    # trzecia warstwa konwolucyjna\n",
    "    Conv2D(filters=64, kernel_size=3, activation='relu'),\n",
    "    MaxPool2D(pool_size=2, strides=2),\n",
    "    \n",
    "    \n",
    "    BatchNormalization(),\n",
    "    \n",
    "    # trasformacja macierzy do tablicy (2D -> 1D)\n",
    "    Flatten(),\n",
    "    \n",
    "    # 2 warstwy gęste\n",
    "    Dense(units=128, activation='relu'),\n",
    "    Dropout(0.2),\n",
    "    \n",
    "    Dense(units=128, activation='relu'),\n",
    "    Dropout(0.2),\n",
    "\n",
    "    # warstwa wyjściowa\n",
    "    Dense(units=DIAGNOSIS_NUMBER, activation='softmax')\n",
    "])"
   ]
  },
  {
   "cell_type": "code",
   "execution_count": 5,
   "metadata": {
    "execution": {
     "iopub.execute_input": "2021-06-10T18:14:39.572310Z",
     "iopub.status.busy": "2021-06-10T18:14:39.571205Z",
     "iopub.status.idle": "2021-06-10T18:14:39.579189Z",
     "shell.execute_reply": "2021-06-10T18:14:39.580073Z"
    }
   },
   "outputs": [],
   "source": [
    "model.compile(optimizer='adam', loss='categorical_crossentropy', metrics=['accuracy'])"
   ]
  },
  {
   "cell_type": "markdown",
   "metadata": {},
   "source": [
    "Dodajemy funkcjonalność zbierania danych o wydajności modelu do Tensorboard."
   ]
  },
  {
   "cell_type": "code",
   "execution_count": 6,
   "metadata": {
    "execution": {
     "iopub.execute_input": "2021-06-10T18:14:39.585009Z",
     "iopub.status.busy": "2021-06-10T18:14:39.584436Z",
     "iopub.status.idle": "2021-06-10T18:14:39.724229Z",
     "shell.execute_reply": "2021-06-10T18:14:39.723233Z"
    }
   },
   "outputs": [],
   "source": [
    "log_dir = '../logs/fit/' + datetime.datetime.now().strftime('cnn')\n",
    "tensorboard_callback = TensorBoard(log_dir=log_dir, histogram_freq=1)"
   ]
  },
  {
   "cell_type": "markdown",
   "metadata": {},
   "source": [
    "Dodajemy funkcjonalność zapisywania modelu w trakcie jego trenowania. Zwóćmy uwagę, że zapisywany jest tylko jeden model i lepszy nadpisuje gorszy."
   ]
  },
  {
   "cell_type": "code",
   "execution_count": 7,
   "metadata": {
    "execution": {
     "iopub.execute_input": "2021-06-10T18:14:39.731222Z",
     "iopub.status.busy": "2021-06-10T18:14:39.729920Z",
     "iopub.status.idle": "2021-06-10T18:14:39.732545Z",
     "shell.execute_reply": "2021-06-10T18:14:39.733623Z"
    }
   },
   "outputs": [],
   "source": [
    "checkpoint_path = 'checkpoints/cnn.ckpt'\n",
    "checkpoint_dir = os.path.dirname(checkpoint_path)\n",
    "\n",
    "checkpoint_callback = ModelCheckpoint(\n",
    "    checkpoint_path,\n",
    "    monitor='val_loss',\n",
    "    verbose=1,\n",
    "    save_best_only=True,\n",
    "    save_weights_only=False,\n",
    "    save_freq='epoch',\n",
    "    mode='auto')"
   ]
  },
  {
   "cell_type": "markdown",
   "metadata": {},
   "source": [
    "Dodajemy funkcjonalność zatrzymania trenowania modelu, jeśli nie będzie poprawy w ciągu 10 epoch."
   ]
  },
  {
   "cell_type": "code",
   "execution_count": 8,
   "metadata": {
    "execution": {
     "iopub.execute_input": "2021-06-10T18:14:39.738327Z",
     "iopub.status.busy": "2021-06-10T18:14:39.737759Z",
     "iopub.status.idle": "2021-06-10T18:14:39.739642Z",
     "shell.execute_reply": "2021-06-10T18:14:39.740117Z"
    }
   },
   "outputs": [],
   "source": [
    "early_stop_callback = EarlyStopping(monitor=\"val_loss\", min_delta=0.01, patience=10, restore_best_weights=True)"
   ]
  },
  {
   "cell_type": "markdown",
   "metadata": {},
   "source": [
    "Trenujemy model."
   ]
  },
  {
   "cell_type": "code",
   "execution_count": 9,
   "metadata": {
    "execution": {
     "iopub.execute_input": "2021-06-10T18:14:39.744608Z",
     "iopub.status.busy": "2021-06-10T18:14:39.744036Z",
     "iopub.status.idle": "2021-06-12T01:29:23.387437Z",
     "shell.execute_reply": "2021-06-12T01:29:23.388420Z"
    }
   },
   "outputs": [
    {
     "name": "stdout",
     "output_type": "stream",
     "text": [
      "Epoch 1/200\n",
      "1373/1373 [==============================] - 4690s 3s/step - loss: 1.0524 - accuracy: 0.6364 - val_loss: 0.9357 - val_accuracy: 0.6897\n",
      "\n",
      "Epoch 00001: val_loss improved from inf to 0.93570, saving model to checkpoints/cnn.ckpt\n",
      "INFO:tensorflow:Assets written to: checkpoints/cnn.ckpt/assets\n",
      "Epoch 2/200\n",
      "1373/1373 [==============================] - 4684s 3s/step - loss: 0.9034 - accuracy: 0.6916 - val_loss: 0.8821 - val_accuracy: 0.7115\n",
      "\n",
      "Epoch 00002: val_loss improved from 0.93570 to 0.88206, saving model to checkpoints/cnn.ckpt\n",
      "INFO:tensorflow:Assets written to: checkpoints/cnn.ckpt/assets\n",
      "Epoch 3/200\n",
      "1373/1373 [==============================] - 4691s 3s/step - loss: 0.8589 - accuracy: 0.7059 - val_loss: 0.8332 - val_accuracy: 0.7156\n",
      "\n",
      "Epoch 00003: val_loss improved from 0.88206 to 0.83320, saving model to checkpoints/cnn.ckpt\n",
      "INFO:tensorflow:Assets written to: checkpoints/cnn.ckpt/assets\n",
      "Epoch 4/200\n",
      "1373/1373 [==============================] - 4693s 3s/step - loss: 0.8377 - accuracy: 0.7150 - val_loss: 0.8021 - val_accuracy: 0.7272\n",
      "\n",
      "Epoch 00004: val_loss improved from 0.83320 to 0.80205, saving model to checkpoints/cnn.ckpt\n",
      "INFO:tensorflow:Assets written to: checkpoints/cnn.ckpt/assets\n",
      "Epoch 5/200\n",
      "1373/1373 [==============================] - 4685s 3s/step - loss: 0.8168 - accuracy: 0.7188 - val_loss: 0.9304 - val_accuracy: 0.7020\n",
      "\n",
      "Epoch 00005: val_loss did not improve from 0.80205\n",
      "Epoch 6/200\n",
      "1373/1373 [==============================] - 4685s 3s/step - loss: 0.8020 - accuracy: 0.7243 - val_loss: 1.1246 - val_accuracy: 0.6939\n",
      "\n",
      "Epoch 00006: val_loss did not improve from 0.80205\n",
      "Epoch 7/200\n",
      "1373/1373 [==============================] - 4687s 3s/step - loss: 0.7861 - accuracy: 0.7287 - val_loss: 0.7763 - val_accuracy: 0.7391\n",
      "\n",
      "Epoch 00007: val_loss improved from 0.80205 to 0.77633, saving model to checkpoints/cnn.ckpt\n",
      "INFO:tensorflow:Assets written to: checkpoints/cnn.ckpt/assets\n",
      "Epoch 8/200\n",
      "1373/1373 [==============================] - 4686s 3s/step - loss: 0.7755 - accuracy: 0.7327 - val_loss: 0.8152 - val_accuracy: 0.7355\n",
      "\n",
      "Epoch 00008: val_loss did not improve from 0.77633\n",
      "Epoch 9/200\n",
      "1373/1373 [==============================] - 4689s 3s/step - loss: 0.7724 - accuracy: 0.7340 - val_loss: 0.7983 - val_accuracy: 0.7438\n",
      "\n",
      "Epoch 00009: val_loss did not improve from 0.77633\n",
      "Epoch 10/200\n",
      "1373/1373 [==============================] - 4685s 3s/step - loss: 0.7623 - accuracy: 0.7384 - val_loss: 0.7357 - val_accuracy: 0.7487\n",
      "\n",
      "Epoch 00010: val_loss improved from 0.77633 to 0.73566, saving model to checkpoints/cnn.ckpt\n",
      "INFO:tensorflow:Assets written to: checkpoints/cnn.ckpt/assets\n",
      "Epoch 11/200\n",
      "1373/1373 [==============================] - 4685s 3s/step - loss: 0.7522 - accuracy: 0.7408 - val_loss: 0.7370 - val_accuracy: 0.7421\n",
      "\n",
      "Epoch 00011: val_loss did not improve from 0.73566\n",
      "Epoch 12/200\n",
      "1373/1373 [==============================] - 4689s 3s/step - loss: 0.7513 - accuracy: 0.7420 - val_loss: 0.7671 - val_accuracy: 0.7319\n",
      "\n",
      "Epoch 00012: val_loss did not improve from 0.73566\n",
      "Epoch 13/200\n",
      "1373/1373 [==============================] - 4683s 3s/step - loss: 0.7465 - accuracy: 0.7444 - val_loss: 0.7731 - val_accuracy: 0.7510\n",
      "\n",
      "Epoch 00013: val_loss did not improve from 0.73566\n",
      "Epoch 14/200\n",
      "1373/1373 [==============================] - 4683s 3s/step - loss: 0.7347 - accuracy: 0.7445 - val_loss: 0.6873 - val_accuracy: 0.7549\n",
      "\n",
      "Epoch 00014: val_loss improved from 0.73566 to 0.68730, saving model to checkpoints/cnn.ckpt\n",
      "INFO:tensorflow:Assets written to: checkpoints/cnn.ckpt/assets\n",
      "Epoch 15/200\n",
      "1373/1373 [==============================] - 4687s 3s/step - loss: 0.7314 - accuracy: 0.7462 - val_loss: 0.7484 - val_accuracy: 0.7478\n",
      "\n",
      "Epoch 00015: val_loss did not improve from 0.68730\n",
      "Epoch 16/200\n",
      "1373/1373 [==============================] - 4686s 3s/step - loss: 0.7305 - accuracy: 0.7476 - val_loss: 0.7735 - val_accuracy: 0.7327\n",
      "\n",
      "Epoch 00016: val_loss did not improve from 0.68730\n",
      "Epoch 17/200\n",
      "1373/1373 [==============================] - 4683s 3s/step - loss: 0.7206 - accuracy: 0.7500 - val_loss: 0.7391 - val_accuracy: 0.7441\n",
      "\n",
      "Epoch 00017: val_loss did not improve from 0.68730\n",
      "Epoch 18/200\n",
      "1373/1373 [==============================] - 4687s 3s/step - loss: 0.7182 - accuracy: 0.7520 - val_loss: 0.8984 - val_accuracy: 0.7365\n",
      "\n",
      "Epoch 00018: val_loss did not improve from 0.68730\n",
      "Epoch 19/200\n",
      "1373/1373 [==============================] - 4683s 3s/step - loss: 0.7160 - accuracy: 0.7507 - val_loss: 0.7868 - val_accuracy: 0.7341\n",
      "\n",
      "Epoch 00019: val_loss did not improve from 0.68730\n",
      "Epoch 20/200\n",
      "1373/1373 [==============================] - 4684s 3s/step - loss: 0.7172 - accuracy: 0.7523 - val_loss: 0.7211 - val_accuracy: 0.7576\n",
      "\n",
      "Epoch 00020: val_loss did not improve from 0.68730\n",
      "Epoch 21/200\n",
      "1373/1373 [==============================] - 4686s 3s/step - loss: 0.7100 - accuracy: 0.7528 - val_loss: 0.7387 - val_accuracy: 0.7442\n",
      "\n",
      "Epoch 00021: val_loss did not improve from 0.68730\n",
      "Epoch 22/200\n",
      "1373/1373 [==============================] - 4688s 3s/step - loss: 0.7041 - accuracy: 0.7563 - val_loss: 0.7058 - val_accuracy: 0.7522\n",
      "\n",
      "Epoch 00022: val_loss did not improve from 0.68730\n",
      "Epoch 23/200\n",
      "1373/1373 [==============================] - 4683s 3s/step - loss: 0.7055 - accuracy: 0.7550 - val_loss: 0.8509 - val_accuracy: 0.7488\n",
      "\n",
      "Epoch 00023: val_loss did not improve from 0.68730\n",
      "Epoch 24/200\n",
      "1373/1373 [==============================] - 4686s 3s/step - loss: 0.6996 - accuracy: 0.7589 - val_loss: 0.7796 - val_accuracy: 0.7461\n",
      "\n",
      "Epoch 00024: val_loss did not improve from 0.68730\n"
     ]
    },
    {
     "data": {
      "text/plain": [
       "<tensorflow.python.keras.callbacks.History at 0x7f715725def0>"
      ]
     },
     "execution_count": 1,
     "metadata": {},
     "output_type": "execute_result"
    }
   ],
   "source": [
    "model.fit(training_set, validation_data=validation_set, epochs=200, callbacks=[tensorboard_callback,\n",
    "                                                                               checkpoint_callback,\n",
    "                                                                               early_stop_callback])"
   ]
  },
  {
   "cell_type": "markdown",
   "metadata": {},
   "source": [
    "## Szacujemy dokładność modelu"
   ]
  },
  {
   "cell_type": "markdown",
   "metadata": {},
   "source": [
    "Ładujemy dane do testowania."
   ]
  },
  {
   "cell_type": "code",
   "execution_count": 10,
   "metadata": {
    "execution": {
     "iopub.execute_input": "2021-06-12T01:29:23.394822Z",
     "iopub.status.busy": "2021-06-12T01:29:23.394152Z",
     "iopub.status.idle": "2021-06-12T01:29:23.508066Z",
     "shell.execute_reply": "2021-06-12T01:29:23.508996Z"
    }
   },
   "outputs": [
    {
     "name": "stdout",
     "output_type": "stream",
     "text": [
      "Found 2889 images belonging to 9 classes.\n"
     ]
    }
   ],
   "source": [
    "datagen = ImageDataGenerator(rescale=1. / 255)\n",
    "testing_set = datagen.flow_from_directory('/big-data-test',\n",
    "                                           target_size=(128, 128),\n",
    "                                           batch_size=32,\n",
    "                                           class_mode='categorical')"
   ]
  },
  {
   "cell_type": "markdown",
   "metadata": {},
   "source": [
    "Pobieramy diagnozy z danych testowych."
   ]
  },
  {
   "cell_type": "code",
   "execution_count": 11,
   "metadata": {
    "execution": {
     "iopub.execute_input": "2021-06-12T01:29:23.514367Z",
     "iopub.status.busy": "2021-06-12T01:29:23.513473Z",
     "iopub.status.idle": "2021-06-12T01:33:26.318859Z",
     "shell.execute_reply": "2021-06-12T01:33:26.319870Z"
    }
   },
   "outputs": [],
   "source": [
    "true_labels = np.concatenate([testing_set[i][1] for i in range(len(testing_set))], axis=0)"
   ]
  },
  {
   "cell_type": "markdown",
   "metadata": {},
   "source": [
    "Prognozujemy diagnozy dla każdego obrazu."
   ]
  },
  {
   "cell_type": "code",
   "execution_count": 12,
   "metadata": {
    "execution": {
     "iopub.execute_input": "2021-06-12T01:33:26.325763Z",
     "iopub.status.busy": "2021-06-12T01:33:26.324571Z",
     "iopub.status.idle": "2021-06-12T01:37:16.641770Z",
     "shell.execute_reply": "2021-06-12T01:37:16.642785Z"
    }
   },
   "outputs": [],
   "source": [
    "predicted_labels = model.predict(testing_set)"
   ]
  },
  {
   "cell_type": "markdown",
   "metadata": {},
   "source": [
    "Obliczamy punkty wykresu ROC (Receiver operating characteristic) i metrykę AUC (Area under the curve)."
   ]
  },
  {
   "cell_type": "code",
   "execution_count": 13,
   "metadata": {
    "execution": {
     "iopub.execute_input": "2021-06-12T01:37:16.652626Z",
     "iopub.status.busy": "2021-06-12T01:37:16.651341Z",
     "iopub.status.idle": "2021-06-12T01:37:16.663419Z",
     "shell.execute_reply": "2021-06-12T01:37:16.662384Z"
    }
   },
   "outputs": [],
   "source": [
    "fpr = dict()\n",
    "tpr = dict()\n",
    "auc_metric = dict()\n",
    "\n",
    "diagnosis_index_dict = {v: k for k, v in training_set.class_indices.items()}\n",
    "\n",
    "for i in range(DIAGNOSIS_NUMBER):\n",
    "    diagnosis = diagnosis_index_dict[i]\n",
    "    fpr[diagnosis], tpr[diagnosis], _ = roc_curve(true_labels[:, i], predicted_labels[:, i])\n",
    "    auc_metric[diagnosis] = auc(fpr[diagnosis], tpr[diagnosis])"
   ]
  },
  {
   "cell_type": "markdown",
   "metadata": {},
   "source": [
    "Rysujemy wykres ROC (Receiver operating characteristic)."
   ]
  },
  {
   "cell_type": "code",
   "execution_count": 14,
   "metadata": {
    "execution": {
     "iopub.execute_input": "2021-06-12T01:37:16.713435Z",
     "iopub.status.busy": "2021-06-12T01:37:16.712253Z",
     "iopub.status.idle": "2021-06-12T01:37:16.862943Z",
     "shell.execute_reply": "2021-06-12T01:37:16.863869Z"
    }
   },
   "outputs": [
    {
     "data": {
      "image/png": "[encoded data removed]",
      "text/plain": [
       "<Figure size 432x288 with 1 Axes>"
      ]
     },
     "metadata": {
      "needs_background": "light"
     },
     "output_type": "display_data"
    }
   ],
   "source": [
    "for diagnosis in training_set.class_indices:\n",
    "    plt.plot(fpr[diagnosis], tpr[diagnosis], label=diagnosis)\n",
    "    \n",
    "plt.plot([0, 1], [0, 1], 'k--')\n",
    "plt.xlabel('False Positive Rate')\n",
    "plt.ylabel('True Positive Rate')\n",
    "plt.title('Receiver operating characteristic')\n",
    "plt.legend(loc=\"lower right\")\n",
    "plt.show()"
   ]
  },
  {
   "cell_type": "markdown",
   "metadata": {},
   "source": [
    "Metryki AUC do każdej diagnozy."
   ]
  },
  {
   "cell_type": "code",
   "execution_count": 15,
   "metadata": {
    "execution": {
     "iopub.execute_input": "2021-06-12T01:37:16.869720Z",
     "iopub.status.busy": "2021-06-12T01:37:16.868614Z",
     "iopub.status.idle": "2021-06-12T01:37:16.871594Z",
     "shell.execute_reply": "2021-06-12T01:37:16.872086Z"
    }
   },
   "outputs": [
    {
     "data": {
      "text/plain": [
       "{'AK': 0.932496036869372,\n",
       " 'BCC': 0.9381606559505009,\n",
       " 'BKL': 0.8495216918749845,\n",
       " 'DF': 0.8623276561232766,\n",
       " 'MEL': 0.843345830071822,\n",
       " 'NV': 0.9292567916861934,\n",
       " 'SCC': 0.9380252100840336,\n",
       " 'UNK': 0.9561648446644277,\n",
       " 'VASC': 0.9503584037659142}"
      ]
     },
     "execution_count": 1,
     "metadata": {},
     "output_type": "execute_result"
    }
   ],
   "source": [
    "auc_metric"
   ]
  },
  {
   "cell_type": "code",
   "execution_count": null,
   "metadata": {},
   "outputs": [],
   "source": []
  }
 ],
 "metadata": {
  "kernelspec": {
   "display_name": "Python 3",
   "language": "python",
   "name": "python3"
  },
  "language_info": {
   "codemirror_mode": {
    "name": "ipython",
    "version": 3
   },
   "file_extension": ".py",
   "mimetype": "text/x-python",
   "name": "python",
   "nbconvert_exporter": "python",
   "pygments_lexer": "ipython3",
   "version": "3.6.9"
  }
 },
 "nbformat": 4,
 "nbformat_minor": 2
}
