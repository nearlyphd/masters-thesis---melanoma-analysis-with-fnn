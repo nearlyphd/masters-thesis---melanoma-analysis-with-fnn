{
 "cells": [
  {
   "cell_type": "markdown",
   "id": "9dc3f0db-0d47-42b1-ab32-07a771dd234e",
   "metadata": {},
   "source": [
    "# Lesion classification with Inception ResNet V2"
   ]
  },
  {
   "cell_type": "markdown",
   "id": "95ce98dc-b924-491c-847e-0976d434ae63",
   "metadata": {},
   "source": [
    "__TL;DR__\n",
    "\n",
    "We use [Inception ResNet V2](#Inception-ResNet-V2) for lesion classification in general, and [melanoma](#Melanoma) diagnosis in particular, in order to establish the baseline for performance."
   ]
  },
  {
   "cell_type": "code",
   "execution_count": null,
   "id": "0b4358cb-286e-40d7-a495-904fccd2b012",
   "metadata": {},
   "outputs": [],
   "source": [
    "import os\n",
    "import datetime\n",
    "import numpy as np\n",
    "import pandas as pd\n",
    "import tensorflow as tf\n",
    "import matplotlib.cm as cm\n",
    "import matplotlib.pyplot as plt\n",
    "\n",
    "from IPython.display import Image, display\n",
    "from sklearn.metrics import roc_curve, auc\n",
    "from sklearn.model_selection import train_test_split\n",
    "\n",
    "\n",
    "from random import shuffle"
   ]
  },
  {
   "cell_type": "markdown",
   "id": "0b8c7de8-9017-41f0-9876-a31faae61cab",
   "metadata": {},
   "source": [
    "# Melanoma"
   ]
  },
  {
   "cell_type": "markdown",
   "id": "22e8c425-c8d3-4978-a792-5c20694c731c",
   "metadata": {},
   "source": [
    "__Melanoma__, also redundantly known as __malignant melanoma__, is a type of skin cancer that develops from the pigment-producing cells known as melanocytes. Melanomas typically occur in the skin, but may rarely occur in the mouth, intestines, or eye (uveal melanoma). In women, they most commonly occur on the legs, while in men, they most commonly occur on the back. About 25% of melanomas develop from moles. Changes in a mole that can indicate melanoma include an increase in size, irregular edges, change in color, itchiness, or skin breakdown."
   ]
  },
  {
   "cell_type": "markdown",
   "id": "042de7ed-c36b-4ca1-aef2-aec45d75b67c",
   "metadata": {},
   "source": [
    "![melanoma image](../assets/melanoma.jpg)"
   ]
  },
  {
   "cell_type": "markdown",
   "id": "8d020cd8-8cf7-4167-a277-f63d2f00b37d",
   "metadata": {},
   "source": [
    "Pic.1. A melanoma of approximately 2.5 cm (1 in) by 1.5 cm (0.6 in)"
   ]
  },
  {
   "cell_type": "markdown",
   "id": "59134057-d428-4cb5-9bb6-6a69594676b9",
   "metadata": {},
   "source": [
    "The primary cause of melanoma is ultraviolet light (UV) exposure in those with low levels of the skin pigment melanin. The UV light may be from the sun or other sources, such as tanning devices. Those with many moles, a history of affected family members, and poor immune function are at greater risk. A number of rare genetic conditions, such as xeroderma pigmentosum, also increase the risk. Diagnosis is by biopsy and analysis of any skin lesion that has signs of being potentially cancerous."
   ]
  },
  {
   "cell_type": "markdown",
   "id": "4b5099b8-b0bd-4a43-8393-3b3ee89dfe1c",
   "metadata": {},
   "source": [
    "Melanoma is the most dangerous type of skin cancer. Globally, in 2012, it newly occurred in 232,000 people. In 2015, 3.1 million people had active disease, which resulted in 59,800 deaths. Australia and New Zealand have the highest rates of melanoma in the world. High rates also occur in Northern Europe and North America, while it is less common in Asia, Africa, and Latin America. In the United States, melanoma occurs about 1.6 times more often in men than women. Melanoma has become more common since the 1960s in areas mostly populated by people of European descent."
   ]
  },
  {
   "cell_type": "markdown",
   "id": "2f186afe-e06a-4504-b2e4-e77a27539a45",
   "metadata": {},
   "source": [
    "# Inception ResNet V2"
   ]
  },
  {
   "cell_type": "markdown",
   "id": "0667d31f-b13d-4791-9062-d8057738cf70",
   "metadata": {},
   "source": [
    "__Inception ResNet V2__ is a convolutional neural architecture that builds on the Inception family of architectures but incorporates residual connections (replacing the filter concatenation stage of the Inception architecture)."
   ]
  },
  {
   "cell_type": "markdown",
   "id": "23c2c3ee-0cd5-49e7-97a5-2b7120c7d42c",
   "metadata": {},
   "source": [
    "![CNN image](../assets/inception_resnet_v2.png)"
   ]
  },
  {
   "cell_type": "markdown",
   "id": "86fb0f62-9c40-4670-a3d3-55a33e628d84",
   "metadata": {},
   "source": [
    "Pic.2. Inception ResNetv 2 architecture"
   ]
  },
  {
   "cell_type": "markdown",
   "id": "eb3c885a-b1ff-4701-84b2-162c3f8a97e4",
   "metadata": {},
   "source": [
    "If you want to learn more about Inception ResNet v2, read [here](https://paperswithcode.com/method/inception-resnet-v2)."
   ]
  },
  {
   "cell_type": "markdown",
   "id": "5a98892e-41b8-41a3-a7c2-c83cd4fc30f6",
   "metadata": {},
   "source": [
    "# Data research"
   ]
  },
  {
   "cell_type": "markdown",
   "id": "221e31db-cbe9-4d5a-aac3-2925a01e66e5",
   "metadata": {},
   "source": [
    "We load the __metadata.csv__, which contains information about each image."
   ]
  },
  {
   "cell_type": "code",
   "execution_count": null,
   "id": "71c68b65-8650-4d3f-bd37-044e1cd3c257",
   "metadata": {},
   "outputs": [],
   "source": [
    "metadata = pd.read_csv(f\"{os.environ['SCRATCH']}/isic-archive/metadata.csv\")\n",
    "metadata"
   ]
  },
  {
   "cell_type": "markdown",
   "id": "45850e30-6d9a-45ea-a6d2-764f1067cd31",
   "metadata": {},
   "source": [
    "__Note__:\n",
    "As we discovered, there are invalid image files. Let's remove those from the metadata."
   ]
  },
  {
   "cell_type": "code",
   "execution_count": null,
   "id": "6689a6d1-0b65-4b1c-9368-100ec8a3839c",
   "metadata": {},
   "outputs": [],
   "source": [
    "metadata = metadata.drop(metadata[metadata['isic_id'].isin(['ISIC_0060052', 'ISIC_0029842'])].index)"
   ]
  },
  {
   "cell_type": "markdown",
   "id": "0fcd4915-6115-450d-b4b2-dfbb83e27a3d",
   "metadata": {},
   "source": [
    "Two columns are particularly important for research: __benign_malignant__ - indicates whether the lesion is benign or malignant without any particular diagnosis, and __diagnosis__ column. \n",
    "\n",
    "We break down the data by __benign_malignant__ and __diagnosis__ to see, what is the balance there."
   ]
  },
  {
   "cell_type": "code",
   "execution_count": null,
   "id": "a3b8324d-2f2d-4f42-9540-104ccd6121a2",
   "metadata": {},
   "outputs": [],
   "source": [
    "diagnosis_breaddown_metadata = metadata.groupby(['diagnosis'], dropna=False, as_index=False).size()"
   ]
  },
  {
   "cell_type": "code",
   "execution_count": null,
   "id": "87798f0c-33fc-4368-b926-31b8096e9c28",
   "metadata": {},
   "outputs": [],
   "source": [
    "benign_malignant_breaddown_metadata = metadata.groupby(['benign_malignant'], dropna=False, as_index=False).size()"
   ]
  },
  {
   "cell_type": "code",
   "execution_count": null,
   "id": "a1cff34f-dba2-4624-b1b4-0b27af84a5f2",
   "metadata": {},
   "outputs": [],
   "source": [
    "%matplotlib inline\n",
    "\n",
    "plt.rcParams['axes.titley'] = -0.7\n",
    "\n",
    "fig, (ax1, ax2) = plt.subplots(1, 2, figsize=(23,5))\n",
    "\n",
    "# diagnosis plot\n",
    "data = diagnosis_breaddown_metadata['size']\n",
    "keys = diagnosis_breaddown_metadata['diagnosis']\n",
    "palette_color = ['#333745', '#E63462', '#FE5F55', '#C7EFCF', '#C7EFCF', '#D5573B', '#885053', '#777DA7', '#94C9A9', '#C6ECAE', '#3E92CC', '#2A628F', '#13293D', '#16324F', '#18435A', '#F4E04D', '#FCFCFC', '#54F2F2', '#5EB1BF', '#042A2B', '#EAC435', '#345995', '#03CEA4', '#FB4D3D', '#CA1551', '#89023E', '#CC7178', '#FFD9DA', '#C7D9B7']\n",
    "shuffle(palette_color)\n",
    "percentages = 100. * data / data.sum()\n",
    "\n",
    "# plotting data on chart\n",
    "patches, texts = ax1.pie(data, colors=palette_color, startangle=90, radius=2.5)\n",
    "labels = ['{0} - {1:1.2f} %'.format(i,j) for i,j in zip(keys, percentages)]\n",
    "patches, labels, dummy =  zip(*sorted(zip(patches, labels, data),\n",
    "                                      key=lambda x: x[2],\n",
    "                                      reverse=True))\n",
    "ax1.set_title('Pic.3. Metadata breakdown by diagnosis')\n",
    "ax1.legend(patches, labels, loc='upper right', bbox_to_anchor=(-0.1, 1.),\n",
    "           fontsize=10)\n",
    "\n",
    "# diagnosis plot\n",
    "data = benign_malignant_breaddown_metadata['size']\n",
    "keys = benign_malignant_breaddown_metadata['benign_malignant']\n",
    "palette_color = ['#333745', '#E63462', '#FE5F55', '#C7EFCF', '#C7EFCF', '#D5573B', '#885053', '#777DA7', '#94C9A9', '#C6ECAE', '#3E92CC', '#2A628F', '#13293D', '#16324F', '#18435A', '#F4E04D', '#FCFCFC', '#54F2F2', '#5EB1BF', '#042A2B', '#EAC435', '#345995', '#03CEA4', '#FB4D3D', '#CA1551', '#89023E', '#CC7178', '#FFD9DA', '#C7D9B7']\n",
    "shuffle(palette_color)\n",
    "percentages = 100. * data / data.sum()\n",
    "\n",
    "# plotting data on chart\n",
    "patches, texts = ax2.pie(data, colors=palette_color, startangle=90, radius=2.5)\n",
    "labels = ['{0} - {1:1.2f} %'.format(i,j) for i,j in zip(keys, percentages)]\n",
    "patches, labels, dummy =  zip(*sorted(zip(patches, labels, data),\n",
    "                                      key=lambda x: x[2],\n",
    "                                      reverse=True))\n",
    "\n",
    "ax2.set_title('Pic. 4. Metadata breakdown by malignancy')\n",
    "ax2.legend(patches, labels, loc='upper right', bbox_to_anchor=(-0.1, 1.),\n",
    "           fontsize=10)"
   ]
  },
  {
   "cell_type": "markdown",
   "id": "92b06b00-89e8-415e-aa5b-a1adb991e7d7",
   "metadata": {},
   "source": [
    "<a id='metadata_breakdowns'></a>\n",
    "From the first pie chart, we see, that __39.28%__ samples don't have a diagnosis. We think, that the fact somehow correlates with the lesions' malignancy and the way the diagnosis' were obtained."
   ]
  },
  {
   "cell_type": "code",
   "execution_count": null,
   "id": "214e7369-2566-470b-982d-c0a6edaad97b",
   "metadata": {},
   "outputs": [],
   "source": [
    "no_diagnosis_metadata = metadata[pd.isnull(metadata['diagnosis'])]"
   ]
  },
  {
   "cell_type": "code",
   "execution_count": null,
   "id": "d0e167cd-7962-43d3-ba3a-a5278d973a36",
   "metadata": {},
   "outputs": [],
   "source": [
    "benign_malignant_breaddown_no_diagnosis_metadata = no_diagnosis_metadata.groupby(['benign_malignant'], dropna=False, as_index=False).size()"
   ]
  },
  {
   "cell_type": "code",
   "execution_count": null,
   "id": "b07e8f90-f7ee-4c10-8c8d-2ae858591e1a",
   "metadata": {},
   "outputs": [],
   "source": [
    "diagnosis_confirm_type_breaddown_no_diagnosis_metadata = no_diagnosis_metadata.groupby(['diagnosis_confirm_type'], dropna=False, as_index=False).size()"
   ]
  },
  {
   "cell_type": "code",
   "execution_count": null,
   "id": "2809d646-66b6-4b5f-a555-2f20512b096c",
   "metadata": {},
   "outputs": [],
   "source": [
    "%matplotlib inline\n",
    "\n",
    "plt.rcParams['axes.titley'] = -0.7\n",
    "\n",
    "fig, (ax1, ax2) = plt.subplots(1, 2, figsize=(23,5))\n",
    "\n",
    "# diagnosis plot\n",
    "data = benign_malignant_breaddown_no_diagnosis_metadata['size']\n",
    "keys = benign_malignant_breaddown_no_diagnosis_metadata['benign_malignant']\n",
    "palette_color = ['#333745', '#E63462', '#FE5F55', '#C7EFCF', '#C7EFCF', '#D5573B', '#885053', '#777DA7', '#94C9A9', '#C6ECAE', '#3E92CC', '#2A628F', '#13293D', '#16324F', '#18435A', '#F4E04D', '#FCFCFC', '#54F2F2', '#5EB1BF', '#042A2B', '#EAC435', '#345995', '#03CEA4', '#FB4D3D', '#CA1551', '#89023E', '#CC7178', '#FFD9DA', '#C7D9B7']\n",
    "shuffle(palette_color)\n",
    "percentages = 100. * data / data.sum()\n",
    "\n",
    "# plotting data on chart\n",
    "patches, texts = ax1.pie(data, colors=palette_color, startangle=90, radius=2.5)\n",
    "labels = ['{0} - {1:1.2f} %'.format(i,j) for i,j in zip(keys, percentages)]\n",
    "patches, labels, dummy =  zip(*sorted(zip(patches, labels, data),\n",
    "                                      key=lambda x: x[2],\n",
    "                                      reverse=True))\n",
    "ax1.set_title('Pic. 5. Metadata with no dignosis breakdown by malignancy')\n",
    "ax1.legend(patches, labels, loc='upper right', bbox_to_anchor=(-0.1, 1.),\n",
    "           fontsize=10)\n",
    "\n",
    "# diagnosis plot\n",
    "data = diagnosis_confirm_type_breaddown_no_diagnosis_metadata['size']\n",
    "keys = diagnosis_confirm_type_breaddown_no_diagnosis_metadata['diagnosis_confirm_type']\n",
    "palette_color = ['#333745', '#E63462', '#FE5F55', '#C7EFCF', '#C7EFCF', '#D5573B', '#885053', '#777DA7', '#94C9A9', '#C6ECAE', '#3E92CC', '#2A628F', '#13293D', '#16324F', '#18435A', '#F4E04D', '#FCFCFC', '#54F2F2', '#5EB1BF', '#042A2B', '#EAC435', '#345995', '#03CEA4', '#FB4D3D', '#CA1551', '#89023E', '#CC7178', '#FFD9DA', '#C7D9B7']\n",
    "shuffle(palette_color)\n",
    "percentages = 100. * data / data.sum()\n",
    "\n",
    "# plotting data on chart\n",
    "patches, texts = ax2.pie(data, colors=palette_color, startangle=90, radius=2.5)\n",
    "labels = ['{0} - {1:1.2f} %'.format(i,j) for i,j in zip(keys, percentages)]\n",
    "patches, labels, dummy =  zip(*sorted(zip(patches, labels, data),\n",
    "                                      key=lambda x: x[2],\n",
    "                                      reverse=True))\n",
    "\n",
    "ax2.set_title('Pic. 6. Metadata with no dignosis breakdown by diagnosis confirmation type')\n",
    "ax2.legend(patches, labels, loc='upper right', bbox_to_anchor=(-0.1, 1.),\n",
    "           fontsize=10)"
   ]
  },
  {
   "cell_type": "markdown",
   "id": "9368613e-227a-4b2f-a951-b60c63a9ebe1",
   "metadata": {},
   "source": [
    "__99.72%__ of samples without a diagnosis are benign and only __1.52%__ are consirmed with histopathology research. \n",
    "\n",
    "Probably, because excision wasn't done, the hospital protocol allowed not to put exact diagnosis. But imaging researches were enough to conclude that the lesions were benign.\n",
    "\n",
    "Let's see, what kind of research is made with the samples, which have diagnosis."
   ]
  },
  {
   "cell_type": "code",
   "execution_count": null,
   "id": "7f60fa50-fef7-42ce-8707-ddbabc047f72",
   "metadata": {},
   "outputs": [],
   "source": [
    "yes_diagnosis_metadata = metadata[pd.notnull(metadata['diagnosis'])]"
   ]
  },
  {
   "cell_type": "code",
   "execution_count": null,
   "id": "5eb6ffbe-4944-4720-a8d1-827b204d92c3",
   "metadata": {},
   "outputs": [],
   "source": [
    "benign_malignant_breaddown_yes_diagnosis_metadata = yes_diagnosis_metadata.groupby(['benign_malignant'], dropna=False, as_index=False).size()"
   ]
  },
  {
   "cell_type": "code",
   "execution_count": null,
   "id": "a91acf2c-0aba-4cf6-a3ce-95e4e34203b5",
   "metadata": {},
   "outputs": [],
   "source": [
    "diagnosis_confirm_type_breaddown_yes_diagnosis_metadata = yes_diagnosis_metadata.groupby(['diagnosis_confirm_type'], dropna=False, as_index=False).size()"
   ]
  },
  {
   "cell_type": "code",
   "execution_count": null,
   "id": "9e4c8f65-e480-466b-9b2e-eef14b2e26ba",
   "metadata": {},
   "outputs": [],
   "source": [
    "%matplotlib inline\n",
    "\n",
    "plt.rcParams['axes.titley'] = -0.7\n",
    "\n",
    "fig, (ax1, ax2) = plt.subplots(1, 2, figsize=(23,5))\n",
    "\n",
    "# diagnosis plot\n",
    "data = benign_malignant_breaddown_yes_diagnosis_metadata['size']\n",
    "keys = benign_malignant_breaddown_yes_diagnosis_metadata['benign_malignant']\n",
    "palette_color = ['#333745', '#E63462', '#FE5F55', '#C7EFCF', '#C7EFCF', '#D5573B', '#885053', '#777DA7', '#94C9A9', '#C6ECAE', '#3E92CC', '#2A628F', '#13293D', '#16324F', '#18435A', '#F4E04D', '#FCFCFC', '#54F2F2', '#5EB1BF', '#042A2B', '#EAC435', '#345995', '#03CEA4', '#FB4D3D', '#CA1551', '#89023E', '#CC7178', '#FFD9DA', '#C7D9B7']\n",
    "shuffle(palette_color)\n",
    "percentages = 100. * data / data.sum()\n",
    "\n",
    "# plotting data on chart\n",
    "patches, texts = ax1.pie(data, colors=palette_color, startangle=90, radius=2.5)\n",
    "labels = ['{0} - {1:1.2f} %'.format(i,j) for i,j in zip(keys, percentages)]\n",
    "patches, labels, dummy =  zip(*sorted(zip(patches, labels, data),\n",
    "                                      key=lambda x: x[2],\n",
    "                                      reverse=True))\n",
    "ax1.set_title('Pic. 7. Metadata with no dignosis breakdown by malignancy')\n",
    "ax1.legend(patches, labels, loc='upper right', bbox_to_anchor=(-0.1, 1.),\n",
    "           fontsize=10)\n",
    "\n",
    "# diagnosis plot\n",
    "data = diagnosis_confirm_type_breaddown_yes_diagnosis_metadata['size']\n",
    "keys = diagnosis_confirm_type_breaddown_yes_diagnosis_metadata['diagnosis_confirm_type']\n",
    "palette_color = ['#333745', '#E63462', '#FE5F55', '#C7EFCF', '#C7EFCF', '#D5573B', '#885053', '#777DA7', '#94C9A9', '#C6ECAE', '#3E92CC', '#2A628F', '#13293D', '#16324F', '#18435A', '#F4E04D', '#FCFCFC', '#54F2F2', '#5EB1BF', '#042A2B', '#EAC435', '#345995', '#03CEA4', '#FB4D3D', '#CA1551', '#89023E', '#CC7178', '#FFD9DA', '#C7D9B7']\n",
    "shuffle(palette_color)\n",
    "percentages = 100. * data / data.sum()\n",
    "\n",
    "# plotting data on chart\n",
    "patches, texts = ax2.pie(data, colors=palette_color, startangle=90, radius=2.5)\n",
    "labels = ['{0} - {1:1.2f} %'.format(i,j) for i,j in zip(keys, percentages)]\n",
    "patches, labels, dummy =  zip(*sorted(zip(patches, labels, data),\n",
    "                                      key=lambda x: x[2],\n",
    "                                      reverse=True))\n",
    "\n",
    "ax2.set_title('Pic. 8. Metadata with no dignosis breakdown by diagnosis confirmation type')\n",
    "ax2.legend(patches, labels, loc='upper right', bbox_to_anchor=(-0.1, 1.),\n",
    "           fontsize=10)"
   ]
  },
  {
   "cell_type": "markdown",
   "id": "12bb61ef-8c7d-4444-9d0f-e62659415f4c",
   "metadata": {},
   "source": [
    "Out of the samples with diagnosis, much more of them were confirmed with a histopathological research - __48.18%__. But, and that's important, if a sample has a diagnosis, it doesn't mean, that it was confirmed with a histopathological research."
   ]
  },
  {
   "cell_type": "markdown",
   "id": "b418a01b-ff03-4586-b6cb-fa79f9f6cfeb",
   "metadata": {},
   "source": [
    "Let's go back to the [Pic. 4. Breakdown by malignancy](#metadata_breakdowns) . __10.92%__ of samples have unknown malignancy, so we will study it through diagnosis and other columns."
   ]
  },
  {
   "cell_type": "code",
   "execution_count": null,
   "id": "00900d13-4b2b-43cc-97ec-b77178d996d3",
   "metadata": {},
   "outputs": [],
   "source": [
    "no_benign_malignant_metadata = metadata[pd.isnull(metadata['benign_malignant'])]"
   ]
  },
  {
   "cell_type": "code",
   "execution_count": null,
   "id": "4ce91525-2f75-4442-9b65-cb3e3a885e42",
   "metadata": {},
   "outputs": [],
   "source": [
    "diagnosis_breakdown_no_benign_malignant_metadata = no_benign_malignant_metadata.groupby(['diagnosis'], dropna=False, as_index=False).size()"
   ]
  },
  {
   "cell_type": "code",
   "execution_count": null,
   "id": "2f828a00-fb04-4287-8562-4c3bfeb817c8",
   "metadata": {},
   "outputs": [],
   "source": [
    "diagnosis_confirm_type_no_benign_malignant_metadata = no_benign_malignant_metadata.groupby(['diagnosis_confirm_type'], dropna=False, as_index=False).size()"
   ]
  },
  {
   "cell_type": "code",
   "execution_count": null,
   "id": "ce3b9638-1680-4f57-a28f-2233810090ff",
   "metadata": {},
   "outputs": [],
   "source": [
    "%matplotlib inline\n",
    "\n",
    "plt.rcParams['axes.titley'] = -0.7\n",
    "\n",
    "fig, (ax1, ax2) = plt.subplots(1, 2, figsize=(23,5))\n",
    "\n",
    "# diagnosis plot\n",
    "data = diagnosis_breakdown_no_benign_malignant_metadata['size']\n",
    "keys = diagnosis_breakdown_no_benign_malignant_metadata['diagnosis']\n",
    "palette_color = ['#333745', '#E63462', '#FE5F55', '#C7EFCF', '#C7EFCF', '#D5573B', '#885053', '#777DA7', '#94C9A9', '#C6ECAE', '#3E92CC', '#2A628F', '#13293D', '#16324F', '#18435A', '#F4E04D', '#FCFCFC', '#54F2F2', '#5EB1BF', '#042A2B', '#EAC435', '#345995', '#03CEA4', '#FB4D3D', '#CA1551', '#89023E', '#CC7178', '#FFD9DA', '#C7D9B7']\n",
    "shuffle(palette_color)\n",
    "percentages = 100. * data / data.sum()\n",
    "\n",
    "# plotting data on chart\n",
    "patches, texts = ax1.pie(data, colors=palette_color, startangle=90, radius=2.5)\n",
    "labels = ['{0} - {1:1.2f} %'.format(i,j) for i,j in zip(keys, percentages)]\n",
    "patches, labels, dummy =  zip(*sorted(zip(patches, labels, data),\n",
    "                                      key=lambda x: x[2],\n",
    "                                      reverse=True))\n",
    "ax1.set_title('Pic. 9. Metadata with no malignancy breakdown by diagnosis')\n",
    "ax1.legend(patches, labels, loc='upper right', bbox_to_anchor=(-0.1, 1.),\n",
    "           fontsize=10)\n",
    "\n",
    "# diagnosis plot\n",
    "data = diagnosis_confirm_type_no_benign_malignant_metadata['size']\n",
    "keys = diagnosis_confirm_type_no_benign_malignant_metadata['diagnosis_confirm_type']\n",
    "palette_color = ['#333745', '#E63462', '#FE5F55', '#C7EFCF', '#C7EFCF', '#D5573B', '#885053', '#777DA7', '#94C9A9', '#C6ECAE', '#3E92CC', '#2A628F', '#13293D', '#16324F', '#18435A', '#F4E04D', '#FCFCFC', '#54F2F2', '#5EB1BF', '#042A2B', '#EAC435', '#345995', '#03CEA4', '#FB4D3D', '#CA1551', '#89023E', '#CC7178', '#FFD9DA', '#C7D9B7']\n",
    "shuffle(palette_color)\n",
    "percentages = 100. * data / data.sum()\n",
    "\n",
    "# plotting data on chart\n",
    "patches, texts = ax2.pie(data, colors=palette_color, startangle=90, radius=2.5)\n",
    "labels = ['{0} - {1:1.2f} %'.format(i,j) for i,j in zip(keys, percentages)]\n",
    "patches, labels, dummy =  zip(*sorted(zip(patches, labels, data),\n",
    "                                      key=lambda x: x[2],\n",
    "                                      reverse=True))\n",
    "\n",
    "ax2.set_title('Pic. 10. Metadata with no malignancy breakdown by diagnosis confirmation type')\n",
    "ax2.legend(patches, labels, loc='upper right', bbox_to_anchor=(-0.1, 1.),\n",
    "           fontsize=10)"
   ]
  },
  {
   "cell_type": "markdown",
   "id": "9324a4ba-9a90-464d-9b77-a78411b7ee15",
   "metadata": {},
   "source": [
    "For the most cases, the issues is with incorrectly filled data:\n",
    "- [Basal-cell carcinoma](https://en.wikipedia.org/wiki/Basal-cell_carcinoma) - malignant\n",
    "- Pigmented benign ketosis - benign\n",
    "- [Seborrheic keratosis](https://en.wikipedia.org/wiki/Seborrheic_keratosis) - benign\n",
    "- [Actinic keratosis](https://en.wikipedia.org/wiki/Actinic_keratosis) - precancerous, untreated lesions have up to a 20% risk of progression to squamous cell carcinoma, for our purposes, we'll consider it malignant\n",
    "- [Squamous cell carcinoma](https://en.wikipedia.org/wiki/Squamous_cell_carcinoma) - malignant\n",
    "- [Vascular lesion](https://en.wikipedia.org/wiki/Vascular_anomaly) - benign\n",
    "- [Dermatofibroma](https://en.wikipedia.org/wiki/Dermatofibroma) - benign\n",
    "- [Solar lentigo](https://en.wikipedia.org/wiki/Liver_spot) - benign\n",
    "\n",
    "Let's fix the data"
   ]
  },
  {
   "cell_type": "code",
   "execution_count": null,
   "id": "23935822-5e27-42ce-9195-80b91e736fd3",
   "metadata": {},
   "outputs": [],
   "source": [
    "metadata.loc[metadata['diagnosis'] == 'basal cell carcinoma', 'benign_malignant']  = 'malignant'\n",
    "metadata.loc[metadata['diagnosis'] == 'pigmented benign keratosis', 'benign_malignant']  = 'benign'\n",
    "metadata.loc[metadata['diagnosis'] == 'seborrheic keratosis', 'benign_malignant']  = 'benign'\n",
    "metadata.loc[metadata['diagnosis'] == 'actinic keratosis', 'benign_malignant']  = 'malignant'\n",
    "metadata.loc[metadata['diagnosis'] == 'squamous cell carcinoma', 'benign_malignant']  = 'malignant'\n",
    "metadata.loc[metadata['diagnosis'] == 'vascular lesion', 'benign_malignant']  = 'benign'\n",
    "metadata.loc[metadata['diagnosis'] == 'dermatofibroma', 'benign_malignant']  = 'benign'\n",
    "metadata.loc[metadata['diagnosis'] == 'solar lentigo', 'benign_malignant']  = 'benign'"
   ]
  },
  {
   "cell_type": "markdown",
   "id": "b9ee204c-fc08-4c06-932c-7f271fbe392a",
   "metadata": {},
   "source": [
    "Returning to samples without a diagnosis, we have two ways out of this:\n",
    "- remove the samples\n",
    "- introduce a new \"label\"\n",
    "\n",
    "We don't know much about those samples except that they contain all kind of benign skin conditions. So, for example, there will be __solar lentigo__ samples in the __solar lentigo__ subset and the undiagnosed subset. That will may lead to classifying __solar lentigo__ as a part of undiagnosed subset. That's why, it's better to exclude the undiagnosed samples from training.\n",
    "\n",
    "In addition to that, the dataset is tilted toward benign skin conditions, and almost all undiagnosed samples represent benign skin conditions. In that way, we not only remove confusing data but perform undersampling to balance out the dataset."
   ]
  },
  {
   "cell_type": "code",
   "execution_count": null,
   "id": "364faa41-cf61-4bdd-a603-689f1af0b542",
   "metadata": {},
   "outputs": [],
   "source": [
    "metadata = metadata.drop(metadata[pd.isnull(metadata['diagnosis'])].index)"
   ]
  },
  {
   "cell_type": "markdown",
   "id": "b0c8a92c-0981-488c-8958-11b66d1c4857",
   "metadata": {},
   "source": [
    "Later on we will need to split the dataset into training, validation and testing. To do that, all diagnoses should have sufficient amount of  samples."
   ]
  },
  {
   "cell_type": "code",
   "execution_count": null,
   "id": "5f4c28cf-9b3a-4676-a1d4-3bab36139d82",
   "metadata": {},
   "outputs": [],
   "source": [
    "diagnosis_numbers = metadata.groupby(['diagnosis'], dropna=False, as_index=False).size().sort_values(by='size')\n",
    "diagnosis_numbers"
   ]
  },
  {
   "cell_type": "markdown",
   "id": "241adba3-2a1a-4f32-9c73-8f92b9f45286",
   "metadata": {},
   "source": [
    "We'll remove the samples, which are not part of the 10 most common diagnosis categories."
   ]
  },
  {
   "cell_type": "code",
   "execution_count": null,
   "id": "23143335-4aca-4a04-ad06-01d47ba01a71",
   "metadata": {},
   "outputs": [],
   "source": [
    "rare_diagnosis = diagnosis_numbers[:-10]['diagnosis']\n",
    "rare_diagnosis"
   ]
  },
  {
   "cell_type": "code",
   "execution_count": null,
   "id": "4019aba8-7b75-4f2b-a309-922a2868285f",
   "metadata": {},
   "outputs": [],
   "source": [
    "metadata = metadata.drop(metadata[metadata['diagnosis'].isin(rare_diagnosis)].index)\n",
    "metadata = metadata.drop(metadata[~metadata['benign_malignant'].isin(['benign', 'malignant'])].index)"
   ]
  },
  {
   "cell_type": "markdown",
   "id": "7ebcd33a-efa1-496d-82bb-f0d166cd9599",
   "metadata": {},
   "source": [
    "Let's look at the breakdown now."
   ]
  },
  {
   "cell_type": "code",
   "execution_count": null,
   "id": "4c83e46c-2b77-43b9-8f18-cf0dbc86de7c",
   "metadata": {},
   "outputs": [],
   "source": [
    "diagnosis_breaddown_metadata = metadata.groupby(['diagnosis'], dropna=False, as_index=False).size()"
   ]
  },
  {
   "cell_type": "code",
   "execution_count": null,
   "id": "b50fd544-2d3b-4477-b5d9-0d65eaef4daa",
   "metadata": {},
   "outputs": [],
   "source": [
    "benign_malignant_breaddown_metadata = metadata.groupby(['benign_malignant'], dropna=False, as_index=False).size()"
   ]
  },
  {
   "cell_type": "code",
   "execution_count": null,
   "id": "ef3ea13d-0960-43f4-85c9-aa1460d4dd67",
   "metadata": {},
   "outputs": [],
   "source": [
    "%matplotlib inline\n",
    "\n",
    "plt.rcParams['axes.titley'] = -0.7\n",
    "\n",
    "fig, (ax1, ax2) = plt.subplots(1, 2, figsize=(23,5))\n",
    "\n",
    "# diagnosis plot\n",
    "data = diagnosis_breaddown_metadata['size']\n",
    "keys = diagnosis_breaddown_metadata['diagnosis']\n",
    "palette_color = ['#333745', '#E63462', '#FE5F55', '#C7EFCF', '#C7EFCF', '#D5573B', '#885053', '#777DA7', '#94C9A9', '#C6ECAE', '#3E92CC', '#2A628F', '#13293D', '#16324F', '#18435A', '#F4E04D', '#FCFCFC', '#54F2F2', '#5EB1BF', '#042A2B', '#EAC435', '#345995', '#03CEA4', '#FB4D3D', '#CA1551', '#89023E', '#CC7178', '#FFD9DA', '#C7D9B7']\n",
    "shuffle(palette_color)\n",
    "percentages = 100. * data / data.sum()\n",
    "\n",
    "# plotting data on chart\n",
    "patches, texts = ax1.pie(data, colors=palette_color, startangle=90, radius=2.5)\n",
    "labels = ['{0} - {1:1.2f} %'.format(i,j) for i,j in zip(keys, percentages)]\n",
    "patches, labels, dummy =  zip(*sorted(zip(patches, labels, data),\n",
    "                                      key=lambda x: x[2],\n",
    "                                      reverse=True))\n",
    "ax1.set_title('Pic.11. Metadata breakdown by diagnosis after preprocessing')\n",
    "ax1.legend(patches, labels, loc='upper right', bbox_to_anchor=(-0.1, 1.),\n",
    "           fontsize=10)\n",
    "\n",
    "# diagnosis plot\n",
    "data = benign_malignant_breaddown_metadata['size']\n",
    "keys = benign_malignant_breaddown_metadata['benign_malignant']\n",
    "palette_color = ['#333745', '#E63462', '#FE5F55', '#C7EFCF', '#C7EFCF', '#D5573B', '#885053', '#777DA7', '#94C9A9', '#C6ECAE', '#3E92CC', '#2A628F', '#13293D', '#16324F', '#18435A', '#F4E04D', '#FCFCFC', '#54F2F2', '#5EB1BF', '#042A2B', '#EAC435', '#345995', '#03CEA4', '#FB4D3D', '#CA1551', '#89023E', '#CC7178', '#FFD9DA', '#C7D9B7']\n",
    "percentages = 100. * data / data.sum()\n",
    "\n",
    "# plotting data on chart\n",
    "patches, texts = ax2.pie(data, colors=palette_color, startangle=90, radius=2.5)\n",
    "labels = ['{0} - {1:1.2f} %'.format(i,j) for i,j in zip(keys, percentages)]\n",
    "patches, labels, dummy =  zip(*sorted(zip(patches, labels, data),\n",
    "                                      key=lambda x: x[2],\n",
    "                                      reverse=True))\n",
    "\n",
    "ax2.set_title('Pic. 12. Metadata breakdown by malignancy after preprocessing')\n",
    "ax2.legend(patches, labels, loc='upper right', bbox_to_anchor=(-0.1, 1.),\n",
    "           fontsize=10)"
   ]
  },
  {
   "cell_type": "markdown",
   "id": "dac06ee4-73bc-4324-8dab-68b702142533",
   "metadata": {},
   "source": [
    "The dataset is still imbalanced, so we'll calculate class weights to use them in training."
   ]
  },
  {
   "cell_type": "code",
   "execution_count": null,
   "id": "f9cb5124-f1ff-48b8-98db-5997eb5275d2",
   "metadata": {},
   "outputs": [],
   "source": [
    "class_weights = metadata.groupby(['diagnosis'], dropna=False, as_index=False).size()\n",
    "class_weights.loc[:, 'size'] =  1 / class_weights.loc[:, 'size']\n",
    "class_weights.loc[:, 'size'] *= ( len(metadata) / 10 )\n",
    "class_weights"
   ]
  },
  {
   "cell_type": "code",
   "execution_count": null,
   "id": "5925c4e6-8460-4ce6-ab28-e201714b1047",
   "metadata": {},
   "outputs": [],
   "source": [
    "class_weights = dict(enumerate(class_weights['size']))"
   ]
  },
  {
   "cell_type": "markdown",
   "id": "661002f8-4846-4549-ac93-ac8294ea942a",
   "metadata": {},
   "source": [
    "We transform ISIC ids to filenames. "
   ]
  },
  {
   "cell_type": "code",
   "execution_count": null,
   "id": "57300548-f989-4fe0-ba68-645c768fc752",
   "metadata": {},
   "outputs": [],
   "source": [
    "metadata['isic_id'] += '.jpg'"
   ]
  },
  {
   "cell_type": "markdown",
   "id": "f94a929e-500e-4930-abbc-cb56d7ff402f",
   "metadata": {},
   "source": [
    "We need to extract testing files from the dataset."
   ]
  },
  {
   "cell_type": "code",
   "execution_count": null,
   "id": "05b7170a-cacf-4968-8547-61f404203e73",
   "metadata": {},
   "outputs": [],
   "source": [
    "rest_set, testing_set = train_test_split(metadata, test_size=0.1)"
   ]
  },
  {
   "cell_type": "markdown",
   "id": "ff81671d-9cdc-4762-b3a7-239bf212ff81",
   "metadata": {},
   "source": [
    "Finally, we can load the images."
   ]
  },
  {
   "cell_type": "code",
   "execution_count": null,
   "id": "df5cafaa-af21-43cc-8210-1558de921042",
   "metadata": {},
   "outputs": [],
   "source": [
    "generator = tf.keras.preprocessing.image.ImageDataGenerator(\n",
    "    rescale=1./255,\n",
    "    rotation_range=180,\n",
    "    horizontal_flip=True,\n",
    "    vertical_flip=True,\n",
    "    brightness_range=(0.2, 1.5),\n",
    "    validation_split=0.2,\n",
    ")\n",
    "\n",
    "training_set = generator.flow_from_dataframe(\n",
    "    rest_set,\n",
    "    directory=f\"{os.environ['SCRATCH']}/isic-archive\",\n",
    "    x_col='isic_id',\n",
    "    y_col='diagnosis',\n",
    "    \n",
    "    target_size=(299, 299), \n",
    "    batch_size=32, \n",
    "    class_mode='categorical', \n",
    "    subset='training'\n",
    ")\n",
    "\n",
    "validation_set = generator.flow_from_dataframe(\n",
    "    rest_set,\n",
    "    directory=f\"{os.environ['SCRATCH']}/isic-archive\",\n",
    "    x_col='isic_id',\n",
    "    y_col='diagnosis',\n",
    "    \n",
    "    target_size=(299, 299), \n",
    "    batch_size=32, \n",
    "    class_mode='categorical', \n",
    "    subset='validation'\n",
    ")\n",
    "\n",
    "testing_set = generator.flow_from_dataframe(\n",
    "    testing_set,\n",
    "    directory=f\"{os.environ['SCRATCH']}/isic-archive\",\n",
    "    x_col='isic_id',\n",
    "    y_col='diagnosis',\n",
    "    \n",
    "    target_size=(299, 299), \n",
    "    batch_size=32, \n",
    "    class_mode='categorical'\n",
    ")"
   ]
  },
  {
   "cell_type": "code",
   "execution_count": null,
   "id": "b0128897-6c32-47b4-b255-3032640beca1",
   "metadata": {},
   "outputs": [],
   "source": [
    "CLASS_NUMBER = len(training_set.class_indices)"
   ]
  },
  {
   "cell_type": "markdown",
   "id": "ca8ac4b1-6ae4-4447-ad11-4f56c68b560f",
   "metadata": {},
   "source": [
    "## Data source"
   ]
  },
  {
   "cell_type": "markdown",
   "id": "38724dd2-53db-4447-abb5-28c332fe6ec7",
   "metadata": {},
   "source": [
    "As a data source, we use the ISIC Archive."
   ]
  },
  {
   "cell_type": "markdown",
   "id": "cae89257-23ab-4b0d-a551-684ac5b2f5ec",
   "metadata": {},
   "source": [
    "The ISIC Archive is an open source platform with publicly available images of skin lesions under Creative Commons licenses. The images are associated with ground-truth diagnoses and other clinical metadata. Images can be queried using faceted search and downloaded individually or in batches. The initial focus of the archive has been on dermoscopy images of individual skin lesions, as these images are inherently standardized by the use of a specialized acquisition device and devoid of many of the privacy challenges associated with clinical images. To date, the images have been provided by specialized melanoma centers from around the world. The archive is designed to accept contributions from new sources under the Terms of Use and welcomes new contributors. There are ongoing efforts to supplement the dermoscopy images in the archive with close-up clinical images and a broader representation of skin types. The images in the Archive are used to support educational efforts through linkage with Dermoscopedia and are used for Grand Challenges and Live Challenges to engage the computer science community for the development of diagnostic AI."
   ]
  },
  {
   "cell_type": "markdown",
   "id": "5695a17c-1fca-49e9-9780-9e5356781a2a",
   "metadata": {},
   "source": [
    "For more information, go to [ISIC Archive web site](https://www.isic-archive.com/)"
   ]
  },
  {
   "cell_type": "markdown",
   "id": "5bac2374-a490-425f-9535-5c0d0743f050",
   "metadata": {},
   "source": [
    "# Model training"
   ]
  },
  {
   "cell_type": "markdown",
   "id": "4033f06b-2900-4fad-a272-0598e0f7e7f1",
   "metadata": {},
   "source": [
    "We define the model"
   ]
  },
  {
   "cell_type": "code",
   "execution_count": null,
   "id": "b70088ac-5019-4ddc-8ef4-584e92597d75",
   "metadata": {},
   "outputs": [],
   "source": [
    "class Classifier(tf.keras.Model):\n",
    "    def __init__(self, class_number):\n",
    "        super(Classifier, self).__init__()\n",
    "        \n",
    "        self.inception_model = tf.keras.applications.inception_resnet_v2.InceptionResNetV2(\n",
    "            include_top=False,\n",
    "            weights='imagenet',\n",
    "            input_shape=(299, 299, 3),\n",
    "            pooling='avg'\n",
    "        )\n",
    "        for layer in self.inception_model.layers:\n",
    "            if layer.name == 'conv_7b':\n",
    "                layer.trainable = True\n",
    "            else:\n",
    "                layer.trainable = False\n",
    "        self.dense = tf.keras.layers.Dense(class_number, activation='softmax')\n",
    "        \n",
    "    def call(self, inputs):\n",
    "        outputs = self.inception_model(inputs)\n",
    "        outputs = self.dense(outputs)\n",
    "        \n",
    "        return outputs\n",
    "        "
   ]
  },
  {
   "cell_type": "markdown",
   "id": "c95494fa-a2ac-4f3c-8a57-4d6646b608a0",
   "metadata": {},
   "source": [
    "... and the callbacks for it"
   ]
  },
  {
   "cell_type": "code",
   "execution_count": null,
   "id": "2f8667e5-3b28-4efc-98a8-f1a92110a9a8",
   "metadata": {},
   "outputs": [],
   "source": [
    "checkpoint_path = 'checkpoints/model.ckpt'\n",
    "\n",
    "checkpoint_callback = tf.keras.callbacks.ModelCheckpoint(\n",
    "    checkpoint_path,\n",
    "    monitor='val_loss',\n",
    "    verbose=1,\n",
    "    save_best_only=True,\n",
    "    save_weights_only=False,\n",
    "    save_freq='epoch',\n",
    "    mode='auto'\n",
    ")"
   ]
  },
  {
   "cell_type": "code",
   "execution_count": null,
   "id": "018f9ff4-65d2-4b5c-b124-aafbaa20b64b",
   "metadata": {},
   "outputs": [],
   "source": [
    "early_stop_callback = tf.keras.callbacks.EarlyStopping(\n",
    "    monitor=\"val_loss\", \n",
    "    min_delta=0.01, \n",
    "    patience=5, \n",
    "    restore_best_weights=True\n",
    ")"
   ]
  },
  {
   "cell_type": "markdown",
   "id": "fc6d4845-3395-4692-b55b-55bd4c6bf75d",
   "metadata": {},
   "source": [
    "We define distribution strategy"
   ]
  },
  {
   "cell_type": "code",
   "execution_count": null,
   "id": "33d67e63-f630-49a0-8030-1ca875baea8a",
   "metadata": {},
   "outputs": [],
   "source": [
    "strategy = tf.distribute.MirroredStrategy()"
   ]
  },
  {
   "cell_type": "markdown",
   "id": "3e7cabf2-e1ae-4630-8680-b001bbcdf2d9",
   "metadata": {},
   "source": [
    "... and train the model."
   ]
  },
  {
   "cell_type": "code",
   "execution_count": null,
   "id": "6d48dde2-4184-4c12-8eff-2878cfe9b6df",
   "metadata": {},
   "outputs": [],
   "source": [
    "with strategy.scope():\n",
    "    classifier = Classifier(class_number=CLASS_NUMBER)\n",
    "    classifier.compile(optimizer='adam', loss='categorical_crossentropy', metrics=['accuracy'])"
   ]
  },
  {
   "cell_type": "code",
   "execution_count": null,
   "id": "25f94558-180b-43fb-a27c-2736fc0c332f",
   "metadata": {},
   "outputs": [],
   "source": [
    "classifier.fit(\n",
    "    training_set, \n",
    "    validation_data=validation_set, \n",
    "    epochs=30,\n",
    "    callbacks=[\n",
    "        early_stop_callback,\n",
    "        checkpoint_callback\n",
    "    ]\n",
    ")"
   ]
  },
  {
   "cell_type": "markdown",
   "id": "1b07a3c2-f161-4272-95be-6edcc9c7db56",
   "metadata": {},
   "source": [
    "Let's check the model composition."
   ]
  },
  {
   "cell_type": "code",
   "execution_count": null,
   "id": "ba368695-c5f6-4b26-8e9b-af6d36c28d7a",
   "metadata": {},
   "outputs": [],
   "source": [
    "classifier.summary()"
   ]
  },
  {
   "cell_type": "code",
   "execution_count": null,
   "id": "6e5aa3d6-09d6-4536-b68b-56f1c1695753",
   "metadata": {},
   "outputs": [],
   "source": [
    "classifier.inception_model.summary()"
   ]
  },
  {
   "cell_type": "markdown",
   "id": "42bb8eb5-3b96-4fdd-ae88-2868ad4f1b76",
   "metadata": {},
   "source": [
    "We want to plot the [Receiver operating characteristic](https://en.wikipedia.org/wiki/Receiver_operating_characteristic) curve to see the model's performance. The bigger the area under the curve, the better is the performance.\n",
    "\n",
    "Let's load the model from the checkpoint, because it has the least validation loss."
   ]
  },
  {
   "cell_type": "code",
   "execution_count": null,
   "id": "c2431440-dcff-4144-b47f-16fea9408db3",
   "metadata": {},
   "outputs": [],
   "source": [
    "classifier.load_weights(checkpoint_path)"
   ]
  },
  {
   "cell_type": "markdown",
   "id": "d315af79-854b-4c22-8b9a-aeefc3bb6be1",
   "metadata": {},
   "source": [
    "We load the ground truth diagnoses from the testing data."
   ]
  },
  {
   "cell_type": "code",
   "execution_count": null,
   "id": "a9a0ec96-17d3-4938-8689-e4f09212057d",
   "metadata": {},
   "outputs": [],
   "source": [
    "groundtruth_labels = np.concatenate([testing_set[i][1] for i in range(len(testing_set))], axis=0)"
   ]
  },
  {
   "cell_type": "markdown",
   "id": "5ba8165f-f629-4177-99d4-d8e9138960a5",
   "metadata": {},
   "source": [
    "We do inference on the testing data."
   ]
  },
  {
   "cell_type": "code",
   "execution_count": null,
   "id": "ca01b107-1a7e-4fb1-943c-99c7f0923095",
   "metadata": {},
   "outputs": [],
   "source": [
    "predicted_labels = classifier.predict(testing_set)"
   ]
  },
  {
   "cell_type": "markdown",
   "id": "7fcf2e50-3fcd-45c3-bba7-1cbf01c5c17b",
   "metadata": {},
   "source": [
    "And finally, after all preparations, we plot the ROC curve."
   ]
  },
  {
   "cell_type": "code",
   "execution_count": null,
   "id": "0c682694-4c84-4701-9961-7984df1f981e",
   "metadata": {},
   "outputs": [],
   "source": [
    "fpr = dict()\n",
    "tpr = dict()\n",
    "auc_metric = dict()\n",
    "\n",
    "diagnosis_index_dict = {v: k for k, v in testing_set.class_indices.items()}\n",
    "\n",
    "for i in range(len(diagnosis_index_dict)):\n",
    "    diagnosis = diagnosis_index_dict[i]\n",
    "    fpr[diagnosis], tpr[diagnosis], _ = roc_curve(groundtruth_labels[:, i], predicted_labels[:, i])\n",
    "    auc_metric[diagnosis] = auc(fpr[diagnosis], tpr[diagnosis])"
   ]
  },
  {
   "cell_type": "code",
   "execution_count": null,
   "id": "e153196e-98f3-4ffa-9e45-b7dd80045e2c",
   "metadata": {},
   "outputs": [],
   "source": [
    "%matplotlib inline \n",
    "\n",
    "plt.rcParams['axes.titley'] = -0.3\n",
    "\n",
    "for diagnosis in testing_set.class_indices:\n",
    "    plt.plot(fpr[diagnosis], tpr[diagnosis], label=diagnosis)\n",
    "    \n",
    "plt.plot([0, 1], [0, 1], 'k--')\n",
    "plt.xlabel('False Positive Rate')\n",
    "plt.ylabel('True Positive Rate')\n",
    "plt.title('Pic. 13. Receiver operating characteristic')\n",
    "plt.legend(loc=\"lower right\")\n",
    "plt.show()"
   ]
  },
  {
   "cell_type": "code",
   "execution_count": null,
   "id": "14979f6b-3540-4f05-bbb9-90d50b269c8e",
   "metadata": {},
   "outputs": [],
   "source": [
    "auc_metric"
   ]
  },
  {
   "cell_type": "markdown",
   "id": "a10dc6fb-dcb6-40f8-97eb-1e1e3f2b7e90",
   "metadata": {},
   "source": [
    "Now we want some explanations from out model.\n",
    "\n",
    "We load an image with melanoma"
   ]
  },
  {
   "cell_type": "code",
   "execution_count": null,
   "id": "ee758e7b-51c2-4be7-8011-0ea6de4779f2",
   "metadata": {},
   "outputs": [],
   "source": [
    "melanoma_im_path = f\"{os.environ['SCRATCH']}/isic-archive/ISIC_0000031.jpg\""
   ]
  },
  {
   "cell_type": "code",
   "execution_count": null,
   "id": "e2c6095c-5f87-499b-a61c-7dd4eff7d126",
   "metadata": {},
   "outputs": [],
   "source": [
    "display(Image(melanoma_im_path, width=600))"
   ]
  },
  {
   "cell_type": "markdown",
   "id": "96c5784d-5ee6-4933-8914-ec6cd1bf2c06",
   "metadata": {},
   "source": [
    "Pic. 14. Image with melanoma."
   ]
  },
  {
   "cell_type": "code",
   "execution_count": null,
   "id": "3a2d1bec-8aa9-479b-9f9f-7c8a554e3b67",
   "metadata": {},
   "outputs": [],
   "source": [
    "def get_img_array(img_path, size):\n",
    "    img = tf.keras.preprocessing.image.load_img(img_path, target_size=size)\n",
    "    array = tf.keras.preprocessing.image.img_to_array(img)\n",
    "    array = np.expand_dims(array, axis=0)\n",
    "    return array"
   ]
  },
  {
   "cell_type": "code",
   "execution_count": null,
   "id": "e09b447a-3db7-4db1-8204-366dd3a98bbd",
   "metadata": {},
   "outputs": [],
   "source": [
    "img_array = tf.keras.applications.inception_resnet_v2.preprocess_input(get_img_array(melanoma_im_path, size=(299, 299)))"
   ]
  },
  {
   "cell_type": "markdown",
   "id": "c3155580-2ece-4e67-b795-3097eaf8180e",
   "metadata": {},
   "source": [
    "and plot Grad-CAM over the melanoma image,"
   ]
  },
  {
   "cell_type": "code",
   "execution_count": null,
   "id": "827a4b4c-4a11-48cc-95fd-405780e9076d",
   "metadata": {},
   "outputs": [],
   "source": [
    "def make_gradcam_heatmap(img_array, model, last_conv_layer_name, pred_index=None):\n",
    "    grad_model = tf.keras.models.Model(\n",
    "        [model.inputs], [model.get_layer(last_conv_layer_name).output, model.output]\n",
    "    )\n",
    "\n",
    "    with tf.GradientTape() as tape:\n",
    "        last_conv_layer_output, preds = grad_model(img_array)\n",
    "        if pred_index is None:\n",
    "            pred_index = tf.argmax(preds[0])\n",
    "        class_channel = preds[:, pred_index]\n",
    "\n",
    "    grads = tape.gradient(class_channel, last_conv_layer_output)\n",
    "    \n",
    "    pooled_grads = tf.reduce_mean(grads, axis=(0, 1, 2))\n",
    "\n",
    "    last_conv_layer_output = last_conv_layer_output[0]\n",
    "    heatmap = last_conv_layer_output @ pooled_grads[..., tf.newaxis]\n",
    "    heatmap = tf.squeeze(heatmap)\n",
    "\n",
    "    heatmap = tf.maximum(heatmap, 0) / tf.math.reduce_max(heatmap)\n",
    "    return heatmap.numpy()"
   ]
  },
  {
   "cell_type": "code",
   "execution_count": null,
   "id": "63d0f7ef-0e11-4f9e-b5b8-a42ef0e38844",
   "metadata": {},
   "outputs": [],
   "source": [
    "heatmap = make_gradcam_heatmap(img_array, classifier.inception_model, 'conv_7b')"
   ]
  },
  {
   "cell_type": "code",
   "execution_count": null,
   "id": "416a78e7-fad4-486a-b1f3-20a517c92f82",
   "metadata": {},
   "outputs": [],
   "source": [
    "def display_gradcam(img_path, heatmap, alpha=0.4):\n",
    "    img = tf.keras.preprocessing.image.load_img(img_path)\n",
    "    img = tf.keras.preprocessing.image.img_to_array(img)\n",
    "    \n",
    "    heatmap = np.uint8(255 * heatmap)\n",
    "    \n",
    "    jet = cm.get_cmap(\"jet\")\n",
    "    \n",
    "    jet_colors = jet(np.arange(256))[:, :3]\n",
    "    jet_heatmap = jet_colors[heatmap]\n",
    "    \n",
    "    jet_heatmap = tf.keras.preprocessing.image.array_to_img(jet_heatmap)\n",
    "    jet_heatmap = jet_heatmap.resize((img.shape[1], img.shape[0]))\n",
    "    jet_heatmap = tf.keras.preprocessing.image.img_to_array(jet_heatmap)\n",
    "    \n",
    "    superimposed_img = jet_heatmap * alpha + img\n",
    "    superimposed_img = tf.keras.preprocessing.image.array_to_img(superimposed_img)\n",
    "    superimposed_img = superimposed_img.resize((np.array(superimposed_img.size) * 600 / 1504).astype(int))\n",
    "\n",
    "\n",
    "    display(superimposed_img)"
   ]
  },
  {
   "cell_type": "code",
   "execution_count": null,
   "id": "cc3bde22-19fb-4355-80b5-8a77c5579b63",
   "metadata": {},
   "outputs": [],
   "source": [
    "def display_gradcam(img_path, heatmap, alpha=0.4):\n",
    "    img = tf.keras.preprocessing.image.load_img(img_path)\n",
    "    img = tf.keras.preprocessing.image.img_to_array(img)\n",
    "    \n",
    "    heatmap = np.uint8(255 * heatmap)\n",
    "    \n",
    "    jet = cm.get_cmap(\"jet\")\n",
    "    \n",
    "    jet_colors = jet(np.arange(256))[:, :3]\n",
    "    jet_heatmap = jet_colors[heatmap]\n",
    "    \n",
    "    jet_heatmap = tf.keras.preprocessing.image.array_to_img(jet_heatmap)\n",
    "    jet_heatmap = jet_heatmap.resize((img.shape[1], img.shape[0]))\n",
    "    jet_heatmap = tf.keras.preprocessing.image.img_to_array(jet_heatmap)\n",
    "    \n",
    "    superimposed_img = jet_heatmap * alpha + img\n",
    "    superimposed_img = tf.keras.preprocessing.image.array_to_img(superimposed_img)\n",
    "    superimposed_img = superimposed_img.resize((np.array(superimposed_img.size) * 600 / 1504).astype(int))\n",
    "\n",
    "\n",
    "    display(superimposed_img)"
   ]
  },
  {
   "cell_type": "code",
   "execution_count": null,
   "id": "71174b4f-287f-4312-925a-0d5c878945b2",
   "metadata": {},
   "outputs": [],
   "source": [
    "display_gradcam(melanoma_im_path, heatmap)"
   ]
  },
  {
   "cell_type": "markdown",
   "id": "7e7efeee-d9d9-478b-ad1d-f1c4aed2cc8b",
   "metadata": {},
   "source": [
    "Pic. 15. Grad-CAM image of the melanoma."
   ]
  }
 ],
 "metadata": {
  "kernelspec": {
   "display_name": "Python 3",
   "language": "python",
   "name": "python3"
  },
  "language_info": {
   "codemirror_mode": {
    "name": "ipython",
    "version": 3
   },
   "file_extension": ".py",
   "mimetype": "text/x-python",
   "name": "python",
   "nbconvert_exporter": "python",
   "pygments_lexer": "ipython3",
   "version": "3.9.1"
  },
  "toc-autonumbering": false,
  "toc-showcode": false
 },
 "nbformat": 4,
 "nbformat_minor": 5
}
