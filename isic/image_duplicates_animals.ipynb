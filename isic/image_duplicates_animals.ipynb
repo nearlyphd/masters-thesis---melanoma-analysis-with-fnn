{
 "cells": [
  {
   "cell_type": "markdown",
   "id": "1f4ac5f5-cfb3-41c7-a235-15bbbfaab55c",
   "metadata": {},
   "source": [
    "# Find duplicate images in the animal dataset"
   ]
  },
  {
   "cell_type": "code",
   "execution_count": 1,
   "id": "b610d99e-31ce-42ce-8400-72722c938d02",
   "metadata": {},
   "outputs": [],
   "source": [
    "import os\n",
    "import numpy as np\n",
    "import tensorflow as tf\n",
    "\n",
    "from sklearn.cluster import DBSCAN"
   ]
  },
  {
   "cell_type": "markdown",
   "id": "aa2d96ab-eeb0-45ab-bb29-185f297a61f4",
   "metadata": {},
   "source": [
    "We load the images."
   ]
  },
  {
   "cell_type": "code",
   "execution_count": 2,
   "id": "fed3be00-a051-406d-b815-2878a3a80e14",
   "metadata": {},
   "outputs": [],
   "source": [
    "generator = tf.keras.preprocessing.image.ImageDataGenerator(\n",
    "    rescale=1./255,\n",
    ")"
   ]
  },
  {
   "cell_type": "code",
   "execution_count": 3,
   "id": "ca44f433-4e52-4ff0-99fa-3eefb67a2d31",
   "metadata": {},
   "outputs": [
    {
     "name": "stdout",
     "output_type": "stream",
     "text": [
      "Found 332 images belonging to 1 classes.\n"
     ]
    }
   ],
   "source": [
    "dataset = generator.flow_from_directory(\n",
    "    directory=f\"{os.environ['SCRATCH']}/data\",\n",
    "    target_size=(299, 299), \n",
    "    class_mode='categorical'\n",
    ")"
   ]
  },
  {
   "cell_type": "markdown",
   "id": "a9450d4e-83ee-49a5-ac58-ce4879771972",
   "metadata": {},
   "source": [
    "We instantiate a model. "
   ]
  },
  {
   "cell_type": "code",
   "execution_count": 4,
   "id": "9f9f0dde-207d-4f5f-978c-5ed86027dd4e",
   "metadata": {},
   "outputs": [],
   "source": [
    "model = tf.keras.applications.inception_resnet_v2.InceptionResNetV2(\n",
    "    include_top=False,\n",
    "    weights='imagenet',\n",
    "    input_shape=(299, 299, 3),\n",
    "    pooling='avg'\n",
    ")"
   ]
  },
  {
   "cell_type": "markdown",
   "id": "945bb4c0-6631-4ead-9dbc-22f9b4f54f86",
   "metadata": {},
   "source": [
    "We make feature vectors."
   ]
  },
  {
   "cell_type": "code",
   "execution_count": 5,
   "id": "454efc93-469b-4124-9b48-fad7cc0f79a0",
   "metadata": {},
   "outputs": [
    {
     "name": "stdout",
     "output_type": "stream",
     "text": [
      "11/11 [==============================] - 12s 620ms/step\n"
     ]
    }
   ],
   "source": [
    "vectors = model.predict(dataset)"
   ]
  },
  {
   "cell_type": "markdown",
   "id": "cf60b9fe-c3cb-42ac-b2dc-da609e118f39",
   "metadata": {},
   "source": [
    "We clusterize the vectors."
   ]
  },
  {
   "cell_type": "code",
   "execution_count": 6,
   "id": "9da5fef7-8c3c-477e-9a84-6fcc05f92c9d",
   "metadata": {},
   "outputs": [],
   "source": [
    "dbscan_model  = DBSCAN(eps=0.25, min_samples=2)"
   ]
  },
  {
   "cell_type": "code",
   "execution_count": 7,
   "id": "6422f83f-c618-4c53-81e2-a9e25b7d7320",
   "metadata": {},
   "outputs": [],
   "source": [
    "clusters = dbscan_model.fit_predict(vectors)"
   ]
  },
  {
   "cell_type": "code",
   "execution_count": 8,
   "id": "e2a74eea-c102-4cce-a9dd-902fff37f9ff",
   "metadata": {},
   "outputs": [
    {
     "data": {
      "text/plain": [
       "array([-1, -1, -1,  0, -1, -1,  1, -1, -1, -1, -1, -1, -1,  2, -1, -1, -1,\n",
       "       -1, -1, -1, -1,  3, -1, -1, -1, -1, -1, -1, -1, -1, -1, -1, -1, -1,\n",
       "        4, -1, -1, -1, -1, -1, -1, -1, -1, -1, -1, -1, -1, -1, -1, -1, -1,\n",
       "       -1, -1, -1, -1, -1, -1, -1, -1, -1, -1, -1, -1, -1, -1, -1, -1, -1,\n",
       "       -1, -1,  5, -1, -1, -1,  0, -1, -1,  6, -1, -1, -1, -1, -1, -1, -1,\n",
       "       -1, -1, -1, -1, -1, -1, -1, -1, -1, -1, -1, -1, -1, -1, -1, -1,  6,\n",
       "       -1,  5, -1, -1, -1, -1, -1, -1,  3, -1, -1, -1, -1, -1, -1, -1, -1,\n",
       "       -1, -1,  5,  6, -1, -1, -1, -1, -1, -1, -1, -1,  7,  8, -1,  9, -1,\n",
       "       -1, -1, -1, -1, -1, -1,  3, -1, -1, -1, -1, -1, -1, -1, -1,  1, -1,\n",
       "       -1, -1, -1, -1, -1, -1, -1,  9, -1, -1, -1, -1, -1, -1, -1, -1, -1,\n",
       "       -1, -1, -1, -1, -1, -1, -1, -1, -1,  6, -1, -1, -1, -1, -1, -1, -1,\n",
       "       -1,  8, -1, -1, -1, -1, -1, -1, -1, -1, -1, -1, -1, -1, -1, -1, -1,\n",
       "        0, -1,  4,  4, -1, -1, -1, -1, -1, -1, -1, -1,  1, -1, -1, -1, -1,\n",
       "       -1, -1, -1,  1, -1, -1, -1, -1,  5, -1, -1, -1, -1, -1, -1, -1, -1,\n",
       "       -1, -1, -1, -1, -1, -1, -1, -1, -1, -1, -1,  7, -1, -1, -1, -1, -1,\n",
       "       -1, -1, -1, -1,  9, -1, -1, -1, -1, -1, -1, -1,  2,  2, -1, -1, -1,\n",
       "       -1, -1, -1, -1, -1, -1, -1, -1, -1, -1,  4, -1, -1, -1, -1, -1,  0,\n",
       "       -1,  7, -1, -1, -1,  3, -1, -1, -1, -1,  8, -1, -1, -1, -1, -1, -1,\n",
       "       -1, -1, -1, -1,  7, -1, -1, -1, -1,  9,  8, -1, -1, -1, -1, -1, -1,\n",
       "       -1, -1, -1, -1, -1, -1, -1, -1,  2])"
      ]
     },
     "execution_count": 8,
     "metadata": {},
     "output_type": "execute_result"
    }
   ],
   "source": [
    "clusters"
   ]
  },
  {
   "cell_type": "code",
   "execution_count": 9,
   "id": "1f94794d-571c-4855-9fcc-833240e6d94a",
   "metadata": {},
   "outputs": [
    {
     "data": {
      "text/plain": [
       "array([-1,  0,  1,  2,  3,  4,  5,  6,  7,  8,  9])"
      ]
     },
     "execution_count": 9,
     "metadata": {},
     "output_type": "execute_result"
    }
   ],
   "source": [
    "np.unique(clusters)"
   ]
  },
  {
   "cell_type": "code",
   "execution_count": null,
   "id": "3139513e-9da5-4a57-8d1e-5e33149942a0",
   "metadata": {},
   "outputs": [],
   "source": []
  }
 ],
 "metadata": {
  "kernelspec": {
   "display_name": "Python 3",
   "language": "python",
   "name": "python3"
  },
  "language_info": {
   "codemirror_mode": {
    "name": "ipython",
    "version": 3
   },
   "file_extension": ".py",
   "mimetype": "text/x-python",
   "name": "python",
   "nbconvert_exporter": "python",
   "pygments_lexer": "ipython3",
   "version": "3.9.1"
  }
 },
 "nbformat": 4,
 "nbformat_minor": 5
}
