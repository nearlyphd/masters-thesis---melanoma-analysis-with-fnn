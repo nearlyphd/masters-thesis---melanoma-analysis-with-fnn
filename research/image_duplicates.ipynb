{
 "cells": [
  {
   "cell_type": "code",
   "execution_count": 1,
   "id": "2bb70328-7a79-4405-b814-b892cb94b0bb",
   "metadata": {},
   "outputs": [],
   "source": [
    "import json\n",
    "import numpy as np\n",
    "\n",
    "from glob import glob\n",
    "from PIL import Image\n",
    "from tqdm.notebook import tqdm\n",
    "from dhash import dhash_int, get_num_bits_different\n",
    "from collections import Counter"
   ]
  },
  {
   "cell_type": "code",
   "execution_count": 2,
   "id": "082084ca-87b9-450a-80ad-01e45a28f824",
   "metadata": {},
   "outputs": [],
   "source": [
    "with open('isic_hashes.json', 'r') as file:\n",
    "    dhashes = json.load(file)"
   ]
  },
  {
   "cell_type": "code",
   "execution_count": 3,
   "id": "c23171c9-2150-4534-a5d4-7187642a15fe",
   "metadata": {},
   "outputs": [],
   "source": [
    "repeat_codes = {\n",
    "  dhash: number \n",
    "    for dhash, number in Counter(dhashes.values()).items() \n",
    "      if number > 1\n",
    "}"
   ]
  },
  {
   "cell_type": "code",
   "execution_count": 4,
   "id": "4a7dbf57-9b42-480c-bf05-7d6ae628aa61",
   "metadata": {},
   "outputs": [],
   "source": [
    "repeated_images = {\n",
    "  name \n",
    "    for name, dhash in dhashes.items() \n",
    "      if dhash in repeat_codes\n",
    "}"
   ]
  },
  {
   "cell_type": "code",
   "execution_count": 9,
   "id": "b0b59d8c-bc2a-4a5d-9404-469901299498",
   "metadata": {},
   "outputs": [
    {
     "data": {
      "text/plain": [
       "894"
      ]
     },
     "execution_count": 9,
     "metadata": {},
     "output_type": "execute_result"
    }
   ],
   "source": [
    "sum([value - 1 for value in repeat_codes.values()])"
   ]
  },
  {
   "cell_type": "code",
   "execution_count": null,
   "id": "1c26b6e2-69ea-4e43-a571-7728392ed8e6",
   "metadata": {},
   "outputs": [],
   "source": []
  }
 ],
 "metadata": {
  "kernelspec": {
   "display_name": "Python 3 (ipykernel)",
   "language": "python",
   "name": "python3"
  },
  "language_info": {
   "codemirror_mode": {
    "name": "ipython",
    "version": 3
   },
   "file_extension": ".py",
   "mimetype": "text/x-python",
   "name": "python",
   "nbconvert_exporter": "python",
   "pygments_lexer": "ipython3",
   "version": "3.8.13"
  }
 },
 "nbformat": 4,
 "nbformat_minor": 5
}
