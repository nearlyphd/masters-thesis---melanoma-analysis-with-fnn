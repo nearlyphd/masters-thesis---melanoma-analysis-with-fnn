{
 "cells": [
  {
   "cell_type": "markdown",
   "metadata": {},
   "source": [
    "# Wstępnie trenowana konwolucyjna sieć neuronowa (ang. Pre-trained convolutional neural network) Inception ResNet V2 w analizie czerniaka"
   ]
  },
  {
   "cell_type": "markdown",
   "metadata": {},
   "source": [
    "## Tworzymy model"
   ]
  },
  {
   "cell_type": "code",
   "execution_count": 1,
   "metadata": {
    "execution": {
     "iopub.execute_input": "2021-06-09T20:57:34.249847Z",
     "iopub.status.busy": "2021-06-09T20:57:34.248310Z",
     "iopub.status.idle": "2021-06-09T20:57:36.329673Z",
     "shell.execute_reply": "2021-06-09T20:57:36.329221Z"
    }
   },
   "outputs": [
    {
     "name": "stderr",
     "output_type": "stream",
     "text": [
      "Matplotlib created a temporary config/cache directory at /tmp/matplotlib-ln39_gyt because the default path (/.config/matplotlib) is not a writable directory; it is highly recommended to set the MPLCONFIGDIR environment variable to a writable directory, in particular to speed up the import of Matplotlib and to better support multiprocessing.\n"
     ]
    }
   ],
   "source": [
    "import os\n",
    "import datetime\n",
    "\n",
    "import numpy as np\n",
    "import matplotlib.pyplot as plt\n",
    "from sklearn.metrics import roc_curve, auc\n",
    "\n",
    "from PIL import ImageFile\n",
    "ImageFile.LOAD_TRUNCATED_IMAGES = True\n",
    "\n",
    "import tensorflow_hub as hub\n",
    "from tensorflow.keras.layers import Dense\n",
    "from tensorflow.keras.models import Sequential\n",
    "from tensorflow.keras.preprocessing.image import ImageDataGenerator\n",
    "from tensorflow.keras.callbacks import TensorBoard, ModelCheckpoint, EarlyStopping"
   ]
  },
  {
   "cell_type": "markdown",
   "metadata": {},
   "source": [
    "Ładujemy dane do trenowania i walidacji."
   ]
  },
  {
   "cell_type": "code",
   "execution_count": 2,
   "metadata": {
    "execution": {
     "iopub.execute_input": "2021-06-09T20:57:36.334585Z",
     "iopub.status.busy": "2021-06-09T20:57:36.334132Z",
     "iopub.status.idle": "2021-06-09T20:57:37.632849Z",
     "shell.execute_reply": "2021-06-09T20:57:37.631867Z"
    }
   },
   "outputs": [
    {
     "name": "stdout",
     "output_type": "stream",
     "text": [
      "Found 43922 images belonging to 9 classes.\n",
      "Found 10975 images belonging to 9 classes.\n"
     ]
    }
   ],
   "source": [
    "datagen = ImageDataGenerator(rescale=1. / 255, validation_split=0.2)\n",
    "training_set = datagen.flow_from_directory('/big-data',\n",
    "                                           target_size=(299, 299),\n",
    "                                           batch_size=32,\n",
    "                                           class_mode='categorical',\n",
    "                                           subset='training')\n",
    "validation_set = datagen.flow_from_directory('/big-data',\n",
    "                                           target_size=(299, 299),\n",
    "                                           batch_size=32,\n",
    "                                           class_mode='categorical',\n",
    "                                           subset='validation')"
   ]
  },
  {
   "cell_type": "markdown",
   "metadata": {},
   "source": [
    "Zapisujemy ilość diagnoz do zmiennej."
   ]
  },
  {
   "cell_type": "code",
   "execution_count": 3,
   "metadata": {
    "execution": {
     "iopub.execute_input": "2021-06-09T20:57:37.637808Z",
     "iopub.status.busy": "2021-06-09T20:57:37.636701Z",
     "iopub.status.idle": "2021-06-09T20:57:37.640222Z",
     "shell.execute_reply": "2021-06-09T20:57:37.639165Z"
    }
   },
   "outputs": [],
   "source": [
    "DIAGNOSIS_NUMBER = len(training_set.class_indices)"
   ]
  },
  {
   "cell_type": "markdown",
   "metadata": {},
   "source": [
    "Budujemy model - sieć konwolucyjną z 3 warstwami konwolucyjnymi (ang. convolutional layer) i 2 warstwami gęstymi (ang. dense layer)."
   ]
  },
  {
   "cell_type": "code",
   "execution_count": 4,
   "metadata": {
    "execution": {
     "iopub.execute_input": "2021-06-09T20:57:37.646710Z",
     "iopub.status.busy": "2021-06-09T20:57:37.646250Z",
     "iopub.status.idle": "2021-06-09T20:57:55.996908Z",
     "shell.execute_reply": "2021-06-09T20:57:55.995754Z"
    }
   },
   "outputs": [],
   "source": [
    "model = Sequential([\n",
    "    hub.KerasLayer(\"https://tfhub.dev/google/imagenet/inception_resnet_v2/feature_vector/4\",\n",
    "                   trainable=False),\n",
    "    Dense(DIAGNOSIS_NUMBER, activation='softmax')\n",
    "])\n",
    "model.build([None, 299, 299, 3])"
   ]
  },
  {
   "cell_type": "code",
   "execution_count": 5,
   "metadata": {
    "execution": {
     "iopub.execute_input": "2021-06-09T20:57:56.011180Z",
     "iopub.status.busy": "2021-06-09T20:57:56.010061Z",
     "iopub.status.idle": "2021-06-09T20:57:56.019393Z",
     "shell.execute_reply": "2021-06-09T20:57:56.018416Z"
    }
   },
   "outputs": [],
   "source": [
    "model.compile(optimizer='adam', loss='categorical_crossentropy', metrics=['accuracy'])"
   ]
  },
  {
   "cell_type": "markdown",
   "metadata": {},
   "source": [
    "Dodajemy funkcjonalność zbierania danych o wydajności modelu do Tensorboard."
   ]
  },
  {
   "cell_type": "code",
   "execution_count": 6,
   "metadata": {
    "execution": {
     "iopub.execute_input": "2021-06-09T20:57:56.024914Z",
     "iopub.status.busy": "2021-06-09T20:57:56.023830Z",
     "iopub.status.idle": "2021-06-09T20:57:56.173503Z",
     "shell.execute_reply": "2021-06-09T20:57:56.172480Z"
    }
   },
   "outputs": [],
   "source": [
    "log_dir = '../logs/fit/' + datetime.datetime.now().strftime('inception_resnet_v2')\n",
    "tensorboard_callback = TensorBoard(log_dir=log_dir, histogram_freq=1)"
   ]
  },
  {
   "cell_type": "markdown",
   "metadata": {},
   "source": [
    "Dodajemy funkcjonalność zapisywania modelu w trakcie jego trenowania. Zwóćmy uwagę, że zapisywany jest tylko jeden model i lepszy nadpisuje gorszy."
   ]
  },
  {
   "cell_type": "code",
   "execution_count": 7,
   "metadata": {
    "execution": {
     "iopub.execute_input": "2021-06-09T20:57:56.179508Z",
     "iopub.status.busy": "2021-06-09T20:57:56.178352Z",
     "iopub.status.idle": "2021-06-09T20:57:56.182051Z",
     "shell.execute_reply": "2021-06-09T20:57:56.180931Z"
    }
   },
   "outputs": [],
   "source": [
    "checkpoint_path = 'checkpoints/inception_resnet_v2.ckpt'\n",
    "checkpoint_dir = os.path.dirname(checkpoint_path)\n",
    "\n",
    "checkpoint_callback = ModelCheckpoint(\n",
    "    checkpoint_path,\n",
    "    monitor='val_loss',\n",
    "    verbose=1,\n",
    "    save_best_only=True,\n",
    "    save_weights_only=False,\n",
    "    save_freq='epoch',\n",
    "    mode='auto')"
   ]
  },
  {
   "cell_type": "markdown",
   "metadata": {},
   "source": [
    "Dodajemy funkcjonalność zatrzymania trenowania modelu, jeśli nie będzie poprawy w ciągu 10 epoch."
   ]
  },
  {
   "cell_type": "code",
   "execution_count": 8,
   "metadata": {
    "execution": {
     "iopub.execute_input": "2021-06-09T20:57:56.186698Z",
     "iopub.status.busy": "2021-06-09T20:57:56.186117Z",
     "iopub.status.idle": "2021-06-09T20:57:56.188809Z",
     "shell.execute_reply": "2021-06-09T20:57:56.189288Z"
    }
   },
   "outputs": [],
   "source": [
    "early_stop_callback = EarlyStopping(monitor=\"val_loss\", min_delta=0.01, patience=10, restore_best_weights=True)"
   ]
  },
  {
   "cell_type": "markdown",
   "metadata": {},
   "source": [
    "Trenujemy model."
   ]
  },
  {
   "cell_type": "code",
   "execution_count": 9,
   "metadata": {
    "execution": {
     "iopub.execute_input": "2021-06-09T20:57:56.195921Z",
     "iopub.status.busy": "2021-06-09T20:57:56.195337Z",
     "iopub.status.idle": "2021-06-10T17:24:40.613733Z",
     "shell.execute_reply": "2021-06-10T17:24:40.614844Z"
    }
   },
   "outputs": [
    {
     "name": "stdout",
     "output_type": "stream",
     "text": [
      "Epoch 1/200\n",
      "1373/1373 [==============================] - 4605s 3s/step - loss: 0.7886 - accuracy: 0.7213 - val_loss: 0.7891 - val_accuracy: 0.7605\n",
      "\n",
      "Epoch 00001: val_loss improved from inf to 0.78906, saving model to checkpoints/inception_resnet_v2.ckpt\n",
      "INFO:tensorflow:Assets written to: checkpoints/inception_resnet_v2.ckpt/assets\n"
     ]
    },
    {
     "name": "stderr",
     "output_type": "stream",
     "text": [
      "INFO:tensorflow:Assets written to: checkpoints/inception_resnet_v2.ckpt/assets\n"
     ]
    },
    {
     "name": "stdout",
     "output_type": "stream",
     "text": [
      "Epoch 2/200\n",
      "1373/1373 [==============================] - 4581s 3s/step - loss: 0.6733 - accuracy: 0.7652 - val_loss: 0.8065 - val_accuracy: 0.7264\n",
      "\n",
      "Epoch 00002: val_loss did not improve from 0.78906\n",
      "Epoch 3/200\n",
      "1373/1373 [==============================] - 4583s 3s/step - loss: 0.6385 - accuracy: 0.7779 - val_loss: 0.8820 - val_accuracy: 0.7319\n",
      "\n",
      "Epoch 00003: val_loss did not improve from 0.78906\n",
      "Epoch 4/200\n",
      "1373/1373 [==============================] - 4572s 3s/step - loss: 0.6162 - accuracy: 0.7846 - val_loss: 0.7706 - val_accuracy: 0.7513\n",
      "\n",
      "Epoch 00004: val_loss improved from 0.78906 to 0.77061, saving model to checkpoints/inception_resnet_v2.ckpt\n",
      "INFO:tensorflow:Assets written to: checkpoints/inception_resnet_v2.ckpt/assets\n"
     ]
    },
    {
     "name": "stderr",
     "output_type": "stream",
     "text": [
      "INFO:tensorflow:Assets written to: checkpoints/inception_resnet_v2.ckpt/assets\n"
     ]
    },
    {
     "name": "stdout",
     "output_type": "stream",
     "text": [
      "Epoch 5/200\n",
      "1373/1373 [==============================] - 4576s 3s/step - loss: 0.6012 - accuracy: 0.7882 - val_loss: 0.7721 - val_accuracy: 0.7635\n",
      "\n",
      "Epoch 00005: val_loss did not improve from 0.77061\n",
      "Epoch 6/200\n",
      "1373/1373 [==============================] - 4578s 3s/step - loss: 0.5882 - accuracy: 0.7926 - val_loss: 0.7042 - val_accuracy: 0.7858\n",
      "\n",
      "Epoch 00006: val_loss improved from 0.77061 to 0.70425, saving model to checkpoints/inception_resnet_v2.ckpt\n",
      "INFO:tensorflow:Assets written to: checkpoints/inception_resnet_v2.ckpt/assets\n"
     ]
    },
    {
     "name": "stderr",
     "output_type": "stream",
     "text": [
      "INFO:tensorflow:Assets written to: checkpoints/inception_resnet_v2.ckpt/assets\n"
     ]
    },
    {
     "name": "stdout",
     "output_type": "stream",
     "text": [
      "Epoch 7/200\n",
      "1373/1373 [==============================] - 4580s 3s/step - loss: 0.5776 - accuracy: 0.7958 - val_loss: 0.7953 - val_accuracy: 0.7569\n",
      "\n",
      "Epoch 00007: val_loss did not improve from 0.70425\n",
      "Epoch 8/200\n",
      "1373/1373 [==============================] - 4578s 3s/step - loss: 0.5695 - accuracy: 0.7995 - val_loss: 0.6983 - val_accuracy: 0.7876\n",
      "\n",
      "Epoch 00008: val_loss improved from 0.70425 to 0.69832, saving model to checkpoints/inception_resnet_v2.ckpt\n",
      "INFO:tensorflow:Assets written to: checkpoints/inception_resnet_v2.ckpt/assets\n"
     ]
    },
    {
     "name": "stderr",
     "output_type": "stream",
     "text": [
      "INFO:tensorflow:Assets written to: checkpoints/inception_resnet_v2.ckpt/assets\n"
     ]
    },
    {
     "name": "stdout",
     "output_type": "stream",
     "text": [
      "Epoch 9/200\n",
      "1373/1373 [==============================] - 4592s 3s/step - loss: 0.5605 - accuracy: 0.8023 - val_loss: 0.7550 - val_accuracy: 0.7645\n",
      "\n",
      "Epoch 00009: val_loss did not improve from 0.69832\n",
      "Epoch 10/200\n",
      "1373/1373 [==============================] - 4639s 3s/step - loss: 0.5548 - accuracy: 0.8049 - val_loss: 0.8094 - val_accuracy: 0.7457\n",
      "\n",
      "Epoch 00010: val_loss did not improve from 0.69832\n",
      "Epoch 11/200\n",
      "1373/1373 [==============================] - 4575s 3s/step - loss: 0.5495 - accuracy: 0.8047 - val_loss: 0.8324 - val_accuracy: 0.7547\n",
      "\n",
      "Epoch 00011: val_loss did not improve from 0.69832\n",
      "Epoch 12/200\n",
      "1373/1373 [==============================] - 4579s 3s/step - loss: 0.5430 - accuracy: 0.8072 - val_loss: 0.7469 - val_accuracy: 0.7760\n",
      "\n",
      "Epoch 00012: val_loss did not improve from 0.69832\n",
      "Epoch 13/200\n",
      "1373/1373 [==============================] - 4570s 3s/step - loss: 0.5352 - accuracy: 0.8106 - val_loss: 0.7195 - val_accuracy: 0.7882\n",
      "\n",
      "Epoch 00013: val_loss did not improve from 0.69832\n",
      "Epoch 14/200\n",
      "1373/1373 [==============================] - 4687s 3s/step - loss: 0.5335 - accuracy: 0.8098 - val_loss: 0.8048 - val_accuracy: 0.7692\n",
      "\n",
      "Epoch 00014: val_loss did not improve from 0.69832\n",
      "Epoch 15/200\n",
      "1373/1373 [==============================] - 4595s 3s/step - loss: 0.5276 - accuracy: 0.8132 - val_loss: 0.7614 - val_accuracy: 0.7847\n",
      "\n",
      "Epoch 00015: val_loss did not improve from 0.69832\n",
      "Epoch 16/200\n",
      "1373/1373 [==============================] - 4597s 3s/step - loss: 0.5219 - accuracy: 0.8136 - val_loss: 0.7509 - val_accuracy: 0.7892\n",
      "\n",
      "Epoch 00016: val_loss did not improve from 0.69832\n"
     ]
    },
    {
     "data": {
      "text/plain": [
       "<tensorflow.python.keras.callbacks.History at 0x7f8fe2d1e7f0>"
      ]
     },
     "execution_count": 1,
     "metadata": {},
     "output_type": "execute_result"
    }
   ],
   "source": [
    "model.fit(training_set, validation_data=validation_set, epochs=200, callbacks=[tensorboard_callback,\n",
    "                                                                               checkpoint_callback,\n",
    "                                                                               early_stop_callback])"
   ]
  },
  {
   "cell_type": "markdown",
   "metadata": {},
   "source": [
    "## Szacujemy dokładność modelu"
   ]
  },
  {
   "cell_type": "markdown",
   "metadata": {},
   "source": [
    "Ładujemy dane do testowania."
   ]
  },
  {
   "cell_type": "code",
   "execution_count": 10,
   "metadata": {
    "execution": {
     "iopub.execute_input": "2021-06-10T17:24:40.621656Z",
     "iopub.status.busy": "2021-06-10T17:24:40.620437Z",
     "iopub.status.idle": "2021-06-10T17:24:40.736465Z",
     "shell.execute_reply": "2021-06-10T17:24:40.737564Z"
    }
   },
   "outputs": [
    {
     "name": "stdout",
     "output_type": "stream",
     "text": [
      "Found 2889 images belonging to 9 classes.\n"
     ]
    }
   ],
   "source": [
    "datagen = ImageDataGenerator(rescale=1. / 255)\n",
    "testing_set = datagen.flow_from_directory('/big-data-test',\n",
    "                                           target_size=(299, 299),\n",
    "                                           batch_size=32,\n",
    "                                           class_mode='categorical')"
   ]
  },
  {
   "cell_type": "markdown",
   "metadata": {},
   "source": [
    "Pobieramy diagnozy z danych testowych."
   ]
  },
  {
   "cell_type": "code",
   "execution_count": 11,
   "metadata": {
    "execution": {
     "iopub.execute_input": "2021-06-10T17:24:40.742756Z",
     "iopub.status.busy": "2021-06-10T17:24:40.742121Z",
     "iopub.status.idle": "2021-06-10T17:28:50.832554Z",
     "shell.execute_reply": "2021-06-10T17:28:50.831619Z"
    }
   },
   "outputs": [],
   "source": [
    "true_labels = np.concatenate([testing_set[i][1] for i in range(len(testing_set))], axis=0)"
   ]
  },
  {
   "cell_type": "markdown",
   "metadata": {},
   "source": [
    "Prognozujemy diagnozy dla każdego obrazu."
   ]
  },
  {
   "cell_type": "code",
   "execution_count": 12,
   "metadata": {
    "execution": {
     "iopub.execute_input": "2021-06-10T17:28:50.839017Z",
     "iopub.status.busy": "2021-06-10T17:28:50.837734Z",
     "iopub.status.idle": "2021-06-10T17:32:50.010169Z",
     "shell.execute_reply": "2021-06-10T17:32:50.011204Z"
    }
   },
   "outputs": [],
   "source": [
    "predicted_labels = model.predict(testing_set)"
   ]
  },
  {
   "cell_type": "markdown",
   "metadata": {},
   "source": [
    "Obliczamy punkty wykresu ROC (Receiver operating characteristic) i metrykę AUC (Area under the curve)."
   ]
  },
  {
   "cell_type": "code",
   "execution_count": 13,
   "metadata": {
    "execution": {
     "iopub.execute_input": "2021-06-10T17:32:50.018595Z",
     "iopub.status.busy": "2021-06-10T17:32:50.017985Z",
     "iopub.status.idle": "2021-06-10T17:32:50.032779Z",
     "shell.execute_reply": "2021-06-10T17:32:50.031749Z"
    }
   },
   "outputs": [],
   "source": [
    "fpr = dict()\n",
    "tpr = dict()\n",
    "auc_metric = dict()\n",
    "\n",
    "diagnosis_index_dict = {v: k for k, v in training_set.class_indices.items()}\n",
    "\n",
    "for i in range(DIAGNOSIS_NUMBER):\n",
    "    diagnosis = diagnosis_index_dict[i]\n",
    "    fpr[diagnosis], tpr[diagnosis], _ = roc_curve(true_labels[:, i], predicted_labels[:, i])\n",
    "    auc_metric[diagnosis] = auc(fpr[diagnosis], tpr[diagnosis])"
   ]
  },
  {
   "cell_type": "markdown",
   "metadata": {},
   "source": [
    "Rysujemy wykres ROC (Receiver operating characteristic)."
   ]
  },
  {
   "cell_type": "code",
   "execution_count": 14,
   "metadata": {
    "execution": {
     "iopub.execute_input": "2021-06-10T17:32:50.053099Z",
     "iopub.status.busy": "2021-06-10T17:32:50.051981Z",
     "iopub.status.idle": "2021-06-10T17:32:50.233733Z",
     "shell.execute_reply": "2021-06-10T17:32:50.232732Z"
    }
   },
   "outputs": [
    {
     "data": {
      "image/png": "[encoded data removed]",
      "text/plain": [
       "<Figure size 432x288 with 1 Axes>"
      ]
     },
     "metadata": {
      "needs_background": "light"
     },
     "output_type": "display_data"
    }
   ],
   "source": [
    "for diagnosis in training_set.class_indices:\n",
    "    plt.plot(fpr[diagnosis], tpr[diagnosis], label=diagnosis)\n",
    "    \n",
    "plt.plot([0, 1], [0, 1], 'k--')\n",
    "plt.xlabel('False Positive Rate')\n",
    "plt.ylabel('True Positive Rate')\n",
    "plt.title('Receiver operating characteristic')\n",
    "plt.legend(loc=\"lower right\")\n",
    "plt.show()"
   ]
  },
  {
   "cell_type": "markdown",
   "metadata": {},
   "source": [
    "Metryki AUC do każdej diagnozy."
   ]
  },
  {
   "cell_type": "code",
   "execution_count": 15,
   "metadata": {
    "execution": {
     "iopub.execute_input": "2021-06-10T17:32:50.240630Z",
     "iopub.status.busy": "2021-06-10T17:32:50.238941Z",
     "iopub.status.idle": "2021-06-10T17:32:50.244834Z",
     "shell.execute_reply": "2021-06-10T17:32:50.243706Z"
    }
   },
   "outputs": [
    {
     "data": {
      "text/plain": [
       "{'AK': 0.9650999362630538,\n",
       " 'BCC': 0.9633126365662116,\n",
       " 'BKL': 0.8813273154178661,\n",
       " 'DF': 0.9620843471208436,\n",
       " 'MEL': 0.8778601738557245,\n",
       " 'NV': 0.9411366260671269,\n",
       " 'SCC': 0.9439351498175028,\n",
       " 'UNK': 0.9741551814771059,\n",
       " 'VASC': 0.9645073285546164}"
      ]
     },
     "execution_count": 1,
     "metadata": {},
     "output_type": "execute_result"
    }
   ],
   "source": [
    "auc_metric"
   ]
  },
  {
   "cell_type": "code",
   "execution_count": null,
   "metadata": {},
   "outputs": [],
   "source": []
  }
 ],
 "metadata": {
  "kernelspec": {
   "display_name": "Python 3",
   "language": "python",
   "name": "python3"
  },
  "language_info": {
   "codemirror_mode": {
    "name": "ipython",
    "version": 3
   },
   "file_extension": ".py",
   "mimetype": "text/x-python",
   "name": "python",
   "nbconvert_exporter": "python",
   "pygments_lexer": "ipython3",
   "version": "3.6.9"
  }
 },
 "nbformat": 4,
 "nbformat_minor": 2
}
