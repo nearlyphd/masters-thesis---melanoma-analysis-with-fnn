{
 "cells": [
  {
   "cell_type": "markdown",
   "metadata": {},
   "source": [
    "# Melanoma analysis with Inception ResNet V2"
   ]
  },
  {
   "cell_type": "markdown",
   "metadata": {},
   "source": [
    "This notebook shows how good is [Inception ResNet V2](#Inception-ResNet-V2) for [melanoma](#Melanoma) analysis."
   ]
  },
  {
   "cell_type": "code",
   "execution_count": 1,
   "metadata": {
    "execution": {
     "iopub.execute_input": "2022-03-26T22:43:31.903613Z",
     "iopub.status.busy": "2022-03-26T22:43:31.902993Z",
     "iopub.status.idle": "2022-03-26T22:43:57.856256Z",
     "shell.execute_reply": "2022-03-26T22:43:57.855618Z"
    }
   },
   "outputs": [],
   "source": [
    "import os\n",
    "import datetime\n",
    "import numpy as np\n",
    "import tensorflow as tf\n",
    "import tensorflow_hub as hub\n",
    "import matplotlib.pyplot as plt\n",
    "from sklearn.metrics import roc_curve, auc"
   ]
  },
  {
   "cell_type": "markdown",
   "metadata": {},
   "source": [
    "Check if a GPU is available."
   ]
  },
  {
   "cell_type": "code",
   "execution_count": 2,
   "metadata": {
    "execution": {
     "iopub.execute_input": "2022-03-26T22:43:57.948563Z",
     "iopub.status.busy": "2022-03-26T22:43:57.947984Z",
     "iopub.status.idle": "2022-03-26T22:43:57.951599Z",
     "shell.execute_reply": "2022-03-26T22:43:57.952082Z"
    }
   },
   "outputs": [
    {
     "data": {
      "text/plain": [
       "[PhysicalDevice(name='/physical_device:GPU:0', device_type='GPU')]"
      ]
     },
     "execution_count": 1,
     "metadata": {},
     "output_type": "execute_result"
    }
   ],
   "source": [
    "tf.config.list_physical_devices('GPU')"
   ]
  },
  {
   "cell_type": "markdown",
   "metadata": {},
   "source": [
    "# Melanoma"
   ]
  },
  {
   "cell_type": "markdown",
   "metadata": {},
   "source": [
    "__Melanoma__, also redundantly known as __malignant melanoma__, is a type of skin cancer that develops from the pigment-producing cells known as melanocytes. Melanomas typically occur in the skin, but may rarely occur in the mouth, intestines, or eye (uveal melanoma). In women, they most commonly occur on the legs, while in men, they most commonly occur on the back. About 25% of melanomas develop from moles. Changes in a mole that can indicate melanoma include an increase in size, irregular edges, change in color, itchiness, or skin breakdown."
   ]
  },
  {
   "cell_type": "markdown",
   "metadata": {},
   "source": [
    "![melanoma image](../assets/melanoma.jpg)"
   ]
  },
  {
   "cell_type": "markdown",
   "metadata": {},
   "source": [
    "<div style=\"text-align: center; font-weight: bold\">Pic.1. A melanoma of approximately 2.5 cm (1 in) by 1.5 cm (0.6 in)</div>"
   ]
  },
  {
   "cell_type": "markdown",
   "metadata": {},
   "source": [
    "The primary cause of melanoma is ultraviolet light (UV) exposure in those with low levels of the skin pigment melanin. The UV light may be from the sun or other sources, such as tanning devices. Those with many moles, a history of affected family members, and poor immune function are at greater risk. A number of rare genetic conditions, such as xeroderma pigmentosum, also increase the risk. Diagnosis is by biopsy and analysis of any skin lesion that has signs of being potentially cancerous."
   ]
  },
  {
   "cell_type": "markdown",
   "metadata": {},
   "source": [
    "Melanoma is the most dangerous type of skin cancer. Globally, in 2012, it newly occurred in 232,000 people. In 2015, 3.1 million people had active disease, which resulted in 59,800 deaths. Australia and New Zealand have the highest rates of melanoma in the world. High rates also occur in Northern Europe and North America, while it is less common in Asia, Africa, and Latin America. In the United States, melanoma occurs about 1.6 times more often in men than women. Melanoma has become more common since the 1960s in areas mostly populated by people of European descent."
   ]
  },
  {
   "cell_type": "markdown",
   "metadata": {},
   "source": [
    "# Inception ResNet V2"
   ]
  },
  {
   "cell_type": "markdown",
   "metadata": {},
   "source": [
    "__Inception-ResNet-v2__ is a convolutional neural architecture that builds on the Inception family of architectures but incorporates residual connections (replacing the filter concatenation stage of the Inception architecture)."
   ]
  },
  {
   "cell_type": "markdown",
   "metadata": {},
   "source": [
    "![CNN image](../assets/inception_resnet_v2.png)"
   ]
  },
  {
   "cell_type": "markdown",
   "metadata": {},
   "source": [
    "<div style=\"text-align: center; font-weight: bold\">Pic.2. Inception ResNetv 2 architecture</div>"
   ]
  },
  {
   "cell_type": "markdown",
   "metadata": {},
   "source": [
    "If you want to learn more about Inception ResNet v2, read [here](https://paperswithcode.com/method/inception-resnet-v2)."
   ]
  },
  {
   "cell_type": "markdown",
   "metadata": {},
   "source": [
    "# Data loading"
   ]
  },
  {
   "cell_type": "code",
   "execution_count": 3,
   "metadata": {
    "execution": {
     "iopub.execute_input": "2022-03-26T22:43:57.958308Z",
     "iopub.status.busy": "2022-03-26T22:43:57.957736Z",
     "iopub.status.idle": "2022-03-26T22:43:58.206559Z",
     "shell.execute_reply": "2022-03-26T22:43:58.206078Z"
    }
   },
   "outputs": [
    {
     "name": "stdout",
     "output_type": "stream",
     "text": [
      "Found 7881 images belonging to 9 classes.\n",
      "Found 1964 images belonging to 9 classes.\n"
     ]
    }
   ],
   "source": [
    "generator = tf.keras.preprocessing.image.ImageDataGenerator(\n",
    "    rescale=1./255,\n",
    "    rotation_range=180,\n",
    "    horizontal_flip=True,\n",
    "    vertical_flip=True,\n",
    "    brightness_range=(0.2, 1.5),\n",
    "    validation_split=0.2,\n",
    ")\n",
    "\n",
    "\n",
    "training_set = generator.flow_from_directory(\n",
    "    f\"{os.environ['SCRATCH']}/data10000\", \n",
    "    target_size=(224, 224), \n",
    "    batch_size=32, \n",
    "    class_mode='categorical', \n",
    "    subset='training'\n",
    ")\n",
    "validation_set = generator.flow_from_directory(\n",
    "    f\"{os.environ['SCRATCH']}/data10000\", \n",
    "    target_size=(224, 224), \n",
    "    batch_size=32, \n",
    "    class_mode='categorical', \n",
    "    subset='validation'\n",
    ")"
   ]
  },
  {
   "cell_type": "code",
   "execution_count": 4,
   "metadata": {
    "execution": {
     "iopub.execute_input": "2022-03-26T22:43:58.210007Z",
     "iopub.status.busy": "2022-03-26T22:43:58.209448Z",
     "iopub.status.idle": "2022-03-26T22:43:58.211808Z",
     "shell.execute_reply": "2022-03-26T22:43:58.211340Z"
    }
   },
   "outputs": [],
   "source": [
    "CLASS_NUMBER = len(training_set.class_indices)"
   ]
  },
  {
   "cell_type": "markdown",
   "metadata": {},
   "source": [
    "### Data source"
   ]
  },
  {
   "cell_type": "markdown",
   "metadata": {},
   "source": [
    "As a data source, we use the ISIC Archive."
   ]
  },
  {
   "cell_type": "markdown",
   "metadata": {},
   "source": [
    "The ISIC Archive is an open source platform with publicly available images of skin lesions under Creative Commons licenses. The images are associated with ground-truth diagnoses and other clinical metadata. Images can be queried using faceted search and downloaded individually or in batches. The initial focus of the archive has been on dermoscopy images of individual skin lesions, as these images are inherently standardized by the use of a specialized acquisition device and devoid of many of the privacy challenges associated with clinical images. To date, the images have been provided by specialized melanoma centers from around the world. The archive is designed to accept contributions from new sources under the Terms of Use and welcomes new contributors. There are ongoing efforts to supplement the dermoscopy images in the archive with close-up clinical images and a broader representation of skin types. The images in the Archive are used to support educational efforts through linkage with Dermoscopedia and are used for Grand Challenges and Live Challenges to engage the computer science community for the development of diagnostic AI."
   ]
  },
  {
   "cell_type": "markdown",
   "metadata": {},
   "source": [
    "For more information, go to [ISIC Archive web site](https://www.isic-archive.com/)"
   ]
  },
  {
   "cell_type": "markdown",
   "metadata": {},
   "source": [
    "# Model training"
   ]
  },
  {
   "cell_type": "markdown",
   "metadata": {},
   "source": [
    "### Building the model"
   ]
  },
  {
   "cell_type": "markdown",
   "metadata": {},
   "source": [
    "We take the model from TensorFlow Hub. [Look here](https://tfhub.dev/google/tf2-preview/mobilenet_v2/feature_vector/4)."
   ]
  },
  {
   "cell_type": "code",
   "execution_count": 5,
   "metadata": {
    "execution": {
     "iopub.execute_input": "2022-03-26T22:43:58.216224Z",
     "iopub.status.busy": "2022-03-26T22:43:58.215650Z",
     "iopub.status.idle": "2022-03-26T22:44:12.253815Z",
     "shell.execute_reply": "2022-03-26T22:44:12.254265Z"
    },
    "scrolled": false
   },
   "outputs": [],
   "source": [
    "model = tf.keras.models.Sequential([\n",
    "    hub.KerasLayer(\"https://tfhub.dev/google/imagenet/inception_resnet_v2/feature_vector/4\", output_shape=[1280],\n",
    "                   trainable=False),\n",
    "    tf.keras.layers.Dense(CLASS_NUMBER, activation='softmax')\n",
    "])\n",
    "model.build([None, 224, 224, 3])"
   ]
  },
  {
   "cell_type": "code",
   "execution_count": 6,
   "metadata": {
    "execution": {
     "iopub.execute_input": "2022-03-26T22:44:12.257777Z",
     "iopub.status.busy": "2022-03-26T22:44:12.257191Z",
     "iopub.status.idle": "2022-03-26T22:44:12.284017Z",
     "shell.execute_reply": "2022-03-26T22:44:12.283573Z"
    }
   },
   "outputs": [
    {
     "name": "stdout",
     "output_type": "stream",
     "text": [
      "Model: \"sequential\"\n",
      "_________________________________________________________________\n",
      " Layer (type)                Output Shape              Param #   \n",
      "=================================================================\n",
      " keras_layer (KerasLayer)    (None, 1536)              54336736  \n",
      "                                                                 \n",
      " dense (Dense)               (None, 9)                 13833     \n",
      "                                                                 \n",
      "=================================================================\n",
      "Total params: 54,350,569\n",
      "Trainable params: 13,833\n",
      "Non-trainable params: 54,336,736\n",
      "_________________________________________________________________\n"
     ]
    }
   ],
   "source": [
    "model.summary()"
   ]
  },
  {
   "cell_type": "code",
   "execution_count": 7,
   "metadata": {
    "execution": {
     "iopub.execute_input": "2022-03-26T22:44:12.290640Z",
     "iopub.status.busy": "2022-03-26T22:44:12.290142Z",
     "iopub.status.idle": "2022-03-26T22:44:12.294576Z",
     "shell.execute_reply": "2022-03-26T22:44:12.294997Z"
    }
   },
   "outputs": [],
   "source": [
    "model.compile(optimizer='adam', loss='categorical_crossentropy', metrics=['accuracy'])"
   ]
  },
  {
   "cell_type": "markdown",
   "metadata": {},
   "source": [
    "### Preparing TensorFlow callbacks"
   ]
  },
  {
   "cell_type": "markdown",
   "metadata": {},
   "source": [
    "For our convenience, we create a few TensorFlow callbacks."
   ]
  },
  {
   "cell_type": "markdown",
   "metadata": {},
   "source": [
    "#### The TensorBoard callback"
   ]
  },
  {
   "cell_type": "markdown",
   "metadata": {},
   "source": [
    "We want to see how the training is going. We add the callback, which will log the metrics to TensorBoard."
   ]
  },
  {
   "cell_type": "code",
   "execution_count": 8,
   "metadata": {
    "execution": {
     "iopub.execute_input": "2022-03-26T22:44:12.298892Z",
     "iopub.status.busy": "2022-03-26T22:44:12.298374Z",
     "iopub.status.idle": "2022-03-26T22:44:12.300617Z",
     "shell.execute_reply": "2022-03-26T22:44:12.300185Z"
    }
   },
   "outputs": [],
   "source": [
    "log_dir = '../logs/fit/' + datetime.datetime.now().strftime('inceptionresnetv2')\n",
    "tensorboard_callback = tf.keras.callbacks.TensorBoard(log_dir=log_dir, histogram_freq=1)"
   ]
  },
  {
   "cell_type": "markdown",
   "metadata": {},
   "source": [
    "#### The EarlyStopping callback"
   ]
  },
  {
   "cell_type": "markdown",
   "metadata": {},
   "source": [
    "This callback stops training when the metrics (e.g. validation loss) are not improving,"
   ]
  },
  {
   "cell_type": "code",
   "execution_count": 9,
   "metadata": {
    "execution": {
     "iopub.execute_input": "2022-03-26T22:44:12.304090Z",
     "iopub.status.busy": "2022-03-26T22:44:12.303592Z",
     "iopub.status.idle": "2022-03-26T22:44:12.305435Z",
     "shell.execute_reply": "2022-03-26T22:44:12.305856Z"
    }
   },
   "outputs": [],
   "source": [
    "early_stop_callback = tf.keras.callbacks.EarlyStopping(\n",
    "    monitor=\"val_loss\", \n",
    "    min_delta=0.01, \n",
    "    patience=10, \n",
    "    restore_best_weights=True\n",
    ")"
   ]
  },
  {
   "cell_type": "markdown",
   "metadata": {},
   "source": [
    "#### The ModelCheckpoint callback"
   ]
  },
  {
   "cell_type": "markdown",
   "metadata": {},
   "source": [
    "This callback saves the model with the best metrics during training."
   ]
  },
  {
   "cell_type": "code",
   "execution_count": 10,
   "metadata": {
    "execution": {
     "iopub.execute_input": "2022-03-26T22:44:12.309685Z",
     "iopub.status.busy": "2022-03-26T22:44:12.309189Z",
     "iopub.status.idle": "2022-03-26T22:44:12.311024Z",
     "shell.execute_reply": "2022-03-26T22:44:12.311434Z"
    }
   },
   "outputs": [],
   "source": [
    "checkpoint_path = 'checkpoints/inceptionresnetv2.ckpt'\n",
    "\n",
    "checkpoint_callback = tf.keras.callbacks.ModelCheckpoint(\n",
    "    checkpoint_path,\n",
    "    monitor='val_loss',\n",
    "    verbose=1,\n",
    "    save_best_only=True,\n",
    "    save_weights_only=False,\n",
    "    save_freq='epoch',\n",
    "    mode='auto'\n",
    ")"
   ]
  },
  {
   "cell_type": "markdown",
   "metadata": {},
   "source": [
    "### Training the model"
   ]
  },
  {
   "cell_type": "code",
   "execution_count": 11,
   "metadata": {
    "execution": {
     "iopub.execute_input": "2022-03-26T22:44:12.315693Z",
     "iopub.status.busy": "2022-03-26T22:44:12.315082Z",
     "iopub.status.idle": "2022-03-27T11:15:24.442893Z",
     "shell.execute_reply": "2022-03-27T11:15:24.443367Z"
    }
   },
   "outputs": [
    {
     "name": "stdout",
     "output_type": "stream",
     "text": [
      "Epoch 1/200\n",
      "247/247 [==============================] - ETA: 0s - loss: 0.6525 - accuracy: 0.8099 \n",
      "Epoch 1: val_loss improved from inf to 0.49969, saving model to checkpoints/inceptionresnetv2.ckpt\n",
      "INFO:tensorflow:Assets written to: checkpoints/inceptionresnetv2.ckpt/assets\n"
     ]
    },
    {
     "name": "stderr",
     "output_type": "stream",
     "text": [
      "INFO:tensorflow:Assets written to: checkpoints/inceptionresnetv2.ckpt/assets\n"
     ]
    },
    {
     "name": "stdout",
     "output_type": "stream",
     "text": [
      "247/247 [==============================] - 3866s 16s/step - loss: 0.6525 - accuracy: 0.8099 - val_loss: 0.4997 - val_accuracy: 0.8208\n",
      "Epoch 2/200\n",
      "247/247 [==============================] - ETA: 0s - loss: 0.5251 - accuracy: 0.8230 \n",
      "Epoch 2: val_loss did not improve from 0.49969\n",
      "247/247 [==============================] - 3714s 15s/step - loss: 0.5251 - accuracy: 0.8230 - val_loss: 0.5928 - val_accuracy: 0.8248\n",
      "Epoch 3/200\n",
      "247/247 [==============================] - ETA: 0s - loss: 0.5076 - accuracy: 0.8291 \n",
      "Epoch 3: val_loss did not improve from 0.49969\n",
      "247/247 [==============================] - 3509s 14s/step - loss: 0.5076 - accuracy: 0.8291 - val_loss: 0.5287 - val_accuracy: 0.8248\n",
      "Epoch 4/200\n",
      "247/247 [==============================] - ETA: 0s - loss: 0.5016 - accuracy: 0.8301 \n",
      "Epoch 4: val_loss did not improve from 0.49969\n",
      "247/247 [==============================] - 3761s 15s/step - loss: 0.5016 - accuracy: 0.8301 - val_loss: 0.5049 - val_accuracy: 0.8294\n",
      "Epoch 5/200\n",
      "247/247 [==============================] - ETA: 0s - loss: 0.4780 - accuracy: 0.8385 \n",
      "Epoch 5: val_loss did not improve from 0.49969\n",
      "247/247 [==============================] - 3761s 15s/step - loss: 0.4780 - accuracy: 0.8385 - val_loss: 0.5735 - val_accuracy: 0.8274\n",
      "Epoch 6/200\n",
      "247/247 [==============================] - ETA: 0s - loss: 0.4724 - accuracy: 0.8342 \n",
      "Epoch 6: val_loss did not improve from 0.49969\n",
      "247/247 [==============================] - 3697s 15s/step - loss: 0.4724 - accuracy: 0.8342 - val_loss: 0.5873 - val_accuracy: 0.8284\n",
      "Epoch 7/200\n",
      "247/247 [==============================] - ETA: 0s - loss: 0.4612 - accuracy: 0.8352 \n",
      "Epoch 7: val_loss did not improve from 0.49969\n",
      "247/247 [==============================] - 4168s 17s/step - loss: 0.4612 - accuracy: 0.8352 - val_loss: 0.5008 - val_accuracy: 0.8376\n",
      "Epoch 8/200\n",
      "247/247 [==============================] - ETA: 0s - loss: 0.4586 - accuracy: 0.8397 \n",
      "Epoch 8: val_loss did not improve from 0.49969\n",
      "247/247 [==============================] - 4455s 18s/step - loss: 0.4586 - accuracy: 0.8397 - val_loss: 0.5615 - val_accuracy: 0.8355\n",
      "Epoch 9/200\n",
      "247/247 [==============================] - ETA: 0s - loss: 0.4599 - accuracy: 0.8423 \n",
      "Epoch 9: val_loss did not improve from 0.49969\n",
      "247/247 [==============================] - 4609s 19s/step - loss: 0.4599 - accuracy: 0.8423 - val_loss: 0.5223 - val_accuracy: 0.8340\n",
      "Epoch 10/200\n",
      "247/247 [==============================] - ETA: 0s - loss: 0.4561 - accuracy: 0.8432 \n",
      "Epoch 10: val_loss did not improve from 0.49969\n",
      "247/247 [==============================] - 4832s 20s/step - loss: 0.4561 - accuracy: 0.8432 - val_loss: 0.6494 - val_accuracy: 0.8243\n",
      "Epoch 11/200\n",
      "247/247 [==============================] - ETA: 0s - loss: 0.4434 - accuracy: 0.8435 \n",
      "Epoch 11: val_loss did not improve from 0.49969\n",
      "247/247 [==============================] - 4680s 19s/step - loss: 0.4434 - accuracy: 0.8435 - val_loss: 0.5152 - val_accuracy: 0.8401\n"
     ]
    },
    {
     "data": {
      "text/plain": [
       "<keras.callbacks.History at 0x2b90dfc1d3d0>"
      ]
     },
     "execution_count": 1,
     "metadata": {},
     "output_type": "execute_result"
    }
   ],
   "source": [
    "model.fit(\n",
    "    training_set, \n",
    "    validation_data=validation_set, \n",
    "    epochs=200, \n",
    "    callbacks=[\n",
    "                tensorboard_callback,\n",
    "                checkpoint_callback,\n",
    "                early_stop_callback\n",
    "            ]\n",
    ")"
   ]
  },
  {
   "cell_type": "markdown",
   "metadata": {},
   "source": [
    "# Model validation"
   ]
  },
  {
   "cell_type": "markdown",
   "metadata": {},
   "source": [
    "### Loading the model"
   ]
  },
  {
   "cell_type": "markdown",
   "metadata": {},
   "source": [
    "We load the model with the best metrics (e.g. validation loss) from the checkpoint."
   ]
  },
  {
   "cell_type": "code",
   "execution_count": 12,
   "metadata": {
    "execution": {
     "iopub.execute_input": "2022-03-27T11:15:24.448918Z",
     "iopub.status.busy": "2022-03-27T11:15:24.448350Z",
     "iopub.status.idle": "2022-03-27T11:15:36.490096Z",
     "shell.execute_reply": "2022-03-27T11:15:36.490533Z"
    }
   },
   "outputs": [],
   "source": [
    "model = tf.keras.models.Sequential([\n",
    "    hub.KerasLayer(\"https://tfhub.dev/google/imagenet/inception_resnet_v2/feature_vector/4\", output_shape=[1280],\n",
    "                   trainable=False),\n",
    "    tf.keras.layers.Dense(CLASS_NUMBER, activation='softmax')\n",
    "])\n",
    "model.build([None, 224, 224, 3])"
   ]
  },
  {
   "cell_type": "code",
   "execution_count": 13,
   "metadata": {
    "execution": {
     "iopub.execute_input": "2022-03-27T11:15:36.688992Z",
     "iopub.status.busy": "2022-03-27T11:15:36.688448Z",
     "iopub.status.idle": "2022-03-27T11:15:39.984008Z",
     "shell.execute_reply": "2022-03-27T11:15:39.983520Z"
    }
   },
   "outputs": [
    {
     "data": {
      "text/plain": [
       "<tensorflow.python.training.tracking.util.CheckpointLoadStatus at 0x2b91c0701e50>"
      ]
     },
     "execution_count": 1,
     "metadata": {},
     "output_type": "execute_result"
    }
   ],
   "source": [
    "model.load_weights('./checkpoints/inceptionresnetv2.ckpt')"
   ]
  },
  {
   "cell_type": "markdown",
   "metadata": {},
   "source": [
    "### Loading the test data"
   ]
  },
  {
   "cell_type": "code",
   "execution_count": 14,
   "metadata": {
    "execution": {
     "iopub.execute_input": "2022-03-27T11:15:39.987967Z",
     "iopub.status.busy": "2022-03-27T11:15:39.987410Z",
     "iopub.status.idle": "2022-03-27T11:15:40.189792Z",
     "shell.execute_reply": "2022-03-27T11:15:40.189245Z"
    }
   },
   "outputs": [
    {
     "name": "stdout",
     "output_type": "stream",
     "text": [
      "Found 9843 images belonging to 9 classes.\n"
     ]
    }
   ],
   "source": [
    "testing_set = generator.flow_from_directory(\n",
    "    f\"{os.environ['SCRATCH']}/data10000-test\",\n",
    "    target_size=(224, 224),\n",
    "    batch_size=32,\n",
    "    class_mode='categorical'\n",
    ")"
   ]
  },
  {
   "cell_type": "markdown",
   "metadata": {},
   "source": [
    "### Making diagnoses"
   ]
  },
  {
   "cell_type": "code",
   "execution_count": 15,
   "metadata": {
    "execution": {
     "iopub.execute_input": "2022-03-27T11:15:40.202667Z",
     "iopub.status.busy": "2022-03-27T11:15:40.202138Z",
     "iopub.status.idle": "2022-03-27T12:41:27.530032Z",
     "shell.execute_reply": "2022-03-27T12:41:27.529544Z"
    }
   },
   "outputs": [],
   "source": [
    "true_labels = np.concatenate([testing_set[i][1] for i in range(len(testing_set))], axis=0)"
   ]
  },
  {
   "cell_type": "code",
   "execution_count": 16,
   "metadata": {
    "execution": {
     "iopub.execute_input": "2022-03-27T12:41:27.535364Z",
     "iopub.status.busy": "2022-03-27T12:41:27.534821Z",
     "iopub.status.idle": "2022-03-27T14:06:27.520611Z",
     "shell.execute_reply": "2022-03-27T14:06:27.521162Z"
    }
   },
   "outputs": [],
   "source": [
    "predicted_labels = model.predict(testing_set)"
   ]
  },
  {
   "cell_type": "markdown",
   "metadata": {},
   "source": [
    "### Plot the ROC Curve"
   ]
  },
  {
   "cell_type": "code",
   "execution_count": 17,
   "metadata": {
    "execution": {
     "iopub.execute_input": "2022-03-27T14:06:27.527534Z",
     "iopub.status.busy": "2022-03-27T14:06:27.526961Z",
     "iopub.status.idle": "2022-03-27T14:06:27.549053Z",
     "shell.execute_reply": "2022-03-27T14:06:27.548515Z"
    }
   },
   "outputs": [],
   "source": [
    "fpr = dict()\n",
    "tpr = dict()\n",
    "auc_metric = dict()\n",
    "\n",
    "diagnosis_index_dict = {v: k for k, v in testing_set.class_indices.items()}\n",
    "\n",
    "for i in range(CLASS_NUMBER):\n",
    "    diagnosis = diagnosis_index_dict[i]\n",
    "    fpr[diagnosis], tpr[diagnosis], _ = roc_curve(true_labels[:, i], predicted_labels[:, i])\n",
    "    auc_metric[diagnosis] = auc(fpr[diagnosis], tpr[diagnosis])"
   ]
  },
  {
   "cell_type": "code",
   "execution_count": 18,
   "metadata": {
    "execution": {
     "iopub.execute_input": "2022-03-27T14:06:27.557854Z",
     "iopub.status.busy": "2022-03-27T14:06:27.557268Z",
     "iopub.status.idle": "2022-03-27T14:06:27.586841Z",
     "shell.execute_reply": "2022-03-27T14:06:27.586362Z"
    }
   },
   "outputs": [],
   "source": [
    "for diagnosis in testing_set.class_indices:\n",
    "    plt.plot(fpr[diagnosis], tpr[diagnosis], label=diagnosis)\n",
    "    \n",
    "plt.plot([0, 1], [0, 1], 'k--')\n",
    "plt.xlabel('False Positive Rate')\n",
    "plt.ylabel('True Positive Rate')\n",
    "plt.title('Receiver operating characteristic')\n",
    "plt.legend(loc=\"lower right\")\n",
    "plt.show()"
   ]
  },
  {
   "cell_type": "markdown",
   "metadata": {},
   "source": [
    "### Show AUC"
   ]
  },
  {
   "cell_type": "code",
   "execution_count": 19,
   "metadata": {
    "execution": {
     "iopub.execute_input": "2022-03-27T14:06:27.590992Z",
     "iopub.status.busy": "2022-03-27T14:06:27.590414Z",
     "iopub.status.idle": "2022-03-27T14:06:27.592694Z",
     "shell.execute_reply": "2022-03-27T14:06:27.593147Z"
    }
   },
   "outputs": [
    {
     "data": {
      "text/plain": [
       "{'AK': 0.951593074697975,\n",
       " 'BCC': 0.9214974592968993,\n",
       " 'BKL': 0.8738128520215765,\n",
       " 'DF': 0.8989988995947288,\n",
       " 'MEL': 0.8546441699863112,\n",
       " 'NV': 0.9110652830145726,\n",
       " 'SCC': 0.9151589009412556,\n",
       " 'UNK': 0.7689175769612712,\n",
       " 'VASC': 0.9286058019228154}"
      ]
     },
     "execution_count": 1,
     "metadata": {},
     "output_type": "execute_result"
    }
   ],
   "source": [
    "auc_metric"
   ]
  },
  {
   "cell_type": "code",
   "execution_count": null,
   "metadata": {},
   "outputs": [],
   "source": []
  }
 ],
 "metadata": {
  "kernelspec": {
   "display_name": "Python 3",
   "language": "python",
   "name": "python3"
  },
  "language_info": {
   "codemirror_mode": {
    "name": "ipython",
    "version": 3
   },
   "file_extension": ".py",
   "mimetype": "text/x-python",
   "name": "python",
   "nbconvert_exporter": "python",
   "pygments_lexer": "ipython3",
   "version": "3.9.1"
  }
 },
 "nbformat": 4,
 "nbformat_minor": 2
}
