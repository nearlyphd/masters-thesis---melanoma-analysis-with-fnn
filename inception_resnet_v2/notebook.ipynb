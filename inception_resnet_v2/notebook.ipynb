{
 "cells": [
  {
   "cell_type": "markdown",
   "metadata": {},
   "source": [
    "# Melanoma analysis with Inception ResNet V2"
   ]
  },
  {
   "cell_type": "markdown",
   "metadata": {},
   "source": [
    "This notebook shows how good is [Inception ResNet V2](#Inception-ResNet-V2) for [melanoma](#Melanoma) analysis."
   ]
  },
  {
   "cell_type": "code",
   "execution_count": 1,
   "metadata": {
    "execution": {
     "iopub.execute_input": "2022-03-27T14:20:27.320730Z",
     "iopub.status.busy": "2022-03-27T14:20:27.320081Z",
     "iopub.status.idle": "2022-03-27T14:20:56.176675Z",
     "shell.execute_reply": "2022-03-27T14:20:56.177135Z"
    }
   },
   "outputs": [],
   "source": [
    "import os\n",
    "import datetime\n",
    "import numpy as np\n",
    "import tensorflow as tf\n",
    "import tensorflow_hub as hub\n",
    "import matplotlib.pyplot as plt\n",
    "from sklearn.metrics import roc_curve, auc"
   ]
  },
  {
   "cell_type": "markdown",
   "metadata": {},
   "source": [
    "Check if a GPU is available."
   ]
  },
  {
   "cell_type": "code",
   "execution_count": 2,
   "metadata": {
    "execution": {
     "iopub.execute_input": "2022-03-27T14:20:56.268522Z",
     "iopub.status.busy": "2022-03-27T14:20:56.267926Z",
     "iopub.status.idle": "2022-03-27T14:20:56.277094Z",
     "shell.execute_reply": "2022-03-27T14:20:56.277565Z"
    }
   },
   "outputs": [
    {
     "data": {
      "text/plain": [
       "[PhysicalDevice(name='/physical_device:GPU:0', device_type='GPU')]"
      ]
     },
     "execution_count": 1,
     "metadata": {},
     "output_type": "execute_result"
    }
   ],
   "source": [
    "tf.config.list_physical_devices('GPU')"
   ]
  },
  {
   "cell_type": "markdown",
   "metadata": {},
   "source": [
    "# Melanoma"
   ]
  },
  {
   "cell_type": "markdown",
   "metadata": {},
   "source": [
    "__Melanoma__, also redundantly known as __malignant melanoma__, is a type of skin cancer that develops from the pigment-producing cells known as melanocytes. Melanomas typically occur in the skin, but may rarely occur in the mouth, intestines, or eye (uveal melanoma). In women, they most commonly occur on the legs, while in men, they most commonly occur on the back. About 25% of melanomas develop from moles. Changes in a mole that can indicate melanoma include an increase in size, irregular edges, change in color, itchiness, or skin breakdown."
   ]
  },
  {
   "cell_type": "markdown",
   "metadata": {},
   "source": [
    "![melanoma image](../assets/melanoma.jpg)"
   ]
  },
  {
   "cell_type": "markdown",
   "metadata": {},
   "source": [
    "<div style=\"text-align: center; font-weight: bold\">Pic.1. A melanoma of approximately 2.5 cm (1 in) by 1.5 cm (0.6 in)</div>"
   ]
  },
  {
   "cell_type": "markdown",
   "metadata": {},
   "source": [
    "The primary cause of melanoma is ultraviolet light (UV) exposure in those with low levels of the skin pigment melanin. The UV light may be from the sun or other sources, such as tanning devices. Those with many moles, a history of affected family members, and poor immune function are at greater risk. A number of rare genetic conditions, such as xeroderma pigmentosum, also increase the risk. Diagnosis is by biopsy and analysis of any skin lesion that has signs of being potentially cancerous."
   ]
  },
  {
   "cell_type": "markdown",
   "metadata": {},
   "source": [
    "Melanoma is the most dangerous type of skin cancer. Globally, in 2012, it newly occurred in 232,000 people. In 2015, 3.1 million people had active disease, which resulted in 59,800 deaths. Australia and New Zealand have the highest rates of melanoma in the world. High rates also occur in Northern Europe and North America, while it is less common in Asia, Africa, and Latin America. In the United States, melanoma occurs about 1.6 times more often in men than women. Melanoma has become more common since the 1960s in areas mostly populated by people of European descent."
   ]
  },
  {
   "cell_type": "markdown",
   "metadata": {},
   "source": [
    "# Inception ResNet V2"
   ]
  },
  {
   "cell_type": "markdown",
   "metadata": {},
   "source": [
    "__Inception-ResNet-v2__ is a convolutional neural architecture that builds on the Inception family of architectures but incorporates residual connections (replacing the filter concatenation stage of the Inception architecture)."
   ]
  },
  {
   "cell_type": "markdown",
   "metadata": {},
   "source": [
    "![CNN image](../assets/inception_resnet_v2.png)"
   ]
  },
  {
   "cell_type": "markdown",
   "metadata": {},
   "source": [
    "<div style=\"text-align: center; font-weight: bold\">Pic.2. Inception ResNetv 2 architecture</div>"
   ]
  },
  {
   "cell_type": "markdown",
   "metadata": {},
   "source": [
    "If you want to learn more about Inception ResNet v2, read [here](https://paperswithcode.com/method/inception-resnet-v2)."
   ]
  },
  {
   "cell_type": "markdown",
   "metadata": {},
   "source": [
    "# Data loading"
   ]
  },
  {
   "cell_type": "code",
   "execution_count": 3,
   "metadata": {
    "execution": {
     "iopub.execute_input": "2022-03-27T14:20:56.283927Z",
     "iopub.status.busy": "2022-03-27T14:20:56.283373Z",
     "iopub.status.idle": "2022-03-27T14:20:56.534406Z",
     "shell.execute_reply": "2022-03-27T14:20:56.533834Z"
    }
   },
   "outputs": [
    {
     "name": "stdout",
     "output_type": "stream",
     "text": [
      "Found 7881 images belonging to 9 classes.\n",
      "Found 1964 images belonging to 9 classes.\n"
     ]
    }
   ],
   "source": [
    "generator = tf.keras.preprocessing.image.ImageDataGenerator(\n",
    "    rescale=1./255,\n",
    "    rotation_range=180,\n",
    "    horizontal_flip=True,\n",
    "    vertical_flip=True,\n",
    "    brightness_range=(0.2, 1.5),\n",
    "    validation_split=0.2,\n",
    ")\n",
    "\n",
    "\n",
    "training_set = generator.flow_from_directory(\n",
    "    f\"{os.environ['SCRATCH']}/data10000\", \n",
    "    target_size=(224, 224), \n",
    "    batch_size=32, \n",
    "    class_mode='categorical', \n",
    "    subset='training'\n",
    ")\n",
    "validation_set = generator.flow_from_directory(\n",
    "    f\"{os.environ['SCRATCH']}/data10000\", \n",
    "    target_size=(224, 224), \n",
    "    batch_size=32, \n",
    "    class_mode='categorical', \n",
    "    subset='validation'\n",
    ")"
   ]
  },
  {
   "cell_type": "code",
   "execution_count": 4,
   "metadata": {
    "execution": {
     "iopub.execute_input": "2022-03-27T14:20:56.537959Z",
     "iopub.status.busy": "2022-03-27T14:20:56.537438Z",
     "iopub.status.idle": "2022-03-27T14:20:56.539319Z",
     "shell.execute_reply": "2022-03-27T14:20:56.540004Z"
    }
   },
   "outputs": [],
   "source": [
    "CLASS_NUMBER = len(training_set.class_indices)"
   ]
  },
  {
   "cell_type": "markdown",
   "metadata": {},
   "source": [
    "### Data source"
   ]
  },
  {
   "cell_type": "markdown",
   "metadata": {},
   "source": [
    "As a data source, we use the ISIC Archive."
   ]
  },
  {
   "cell_type": "markdown",
   "metadata": {},
   "source": [
    "The ISIC Archive is an open source platform with publicly available images of skin lesions under Creative Commons licenses. The images are associated with ground-truth diagnoses and other clinical metadata. Images can be queried using faceted search and downloaded individually or in batches. The initial focus of the archive has been on dermoscopy images of individual skin lesions, as these images are inherently standardized by the use of a specialized acquisition device and devoid of many of the privacy challenges associated with clinical images. To date, the images have been provided by specialized melanoma centers from around the world. The archive is designed to accept contributions from new sources under the Terms of Use and welcomes new contributors. There are ongoing efforts to supplement the dermoscopy images in the archive with close-up clinical images and a broader representation of skin types. The images in the Archive are used to support educational efforts through linkage with Dermoscopedia and are used for Grand Challenges and Live Challenges to engage the computer science community for the development of diagnostic AI."
   ]
  },
  {
   "cell_type": "markdown",
   "metadata": {},
   "source": [
    "For more information, go to [ISIC Archive web site](https://www.isic-archive.com/)"
   ]
  },
  {
   "cell_type": "markdown",
   "metadata": {},
   "source": [
    "# Model training"
   ]
  },
  {
   "cell_type": "markdown",
   "metadata": {},
   "source": [
    "### Building the model"
   ]
  },
  {
   "cell_type": "markdown",
   "metadata": {},
   "source": [
    "We take the model from TensorFlow Hub. [Look here](https://tfhub.dev/google/tf2-preview/mobilenet_v2/feature_vector/4)."
   ]
  },
  {
   "cell_type": "code",
   "execution_count": 5,
   "metadata": {
    "execution": {
     "iopub.execute_input": "2022-03-27T14:20:56.544447Z",
     "iopub.status.busy": "2022-03-27T14:20:56.543884Z",
     "iopub.status.idle": "2022-03-27T14:21:10.611413Z",
     "shell.execute_reply": "2022-03-27T14:21:10.611864Z"
    },
    "scrolled": false
   },
   "outputs": [],
   "source": [
    "model = tf.keras.models.Sequential([\n",
    "    hub.KerasLayer(\"https://tfhub.dev/google/imagenet/inception_resnet_v2/feature_vector/4\", output_shape=[1280],\n",
    "                   trainable=False),\n",
    "    tf.keras.layers.Dense(CLASS_NUMBER, activation='softmax')\n",
    "])\n",
    "model.build([None, 224, 224, 3])"
   ]
  },
  {
   "cell_type": "code",
   "execution_count": 6,
   "metadata": {
    "execution": {
     "iopub.execute_input": "2022-03-27T14:21:10.615486Z",
     "iopub.status.busy": "2022-03-27T14:21:10.614911Z",
     "iopub.status.idle": "2022-03-27T14:21:10.644345Z",
     "shell.execute_reply": "2022-03-27T14:21:10.643761Z"
    }
   },
   "outputs": [
    {
     "name": "stdout",
     "output_type": "stream",
     "text": [
      "Model: \"sequential\"\n",
      "_________________________________________________________________\n",
      " Layer (type)                Output Shape              Param #   \n",
      "=================================================================\n",
      " keras_layer (KerasLayer)    (None, 1536)              54336736  \n",
      "                                                                 \n",
      " dense (Dense)               (None, 9)                 13833     \n",
      "                                                                 \n",
      "=================================================================\n",
      "Total params: 54,350,569\n",
      "Trainable params: 13,833\n",
      "Non-trainable params: 54,336,736\n",
      "_________________________________________________________________\n"
     ]
    }
   ],
   "source": [
    "model.summary()"
   ]
  },
  {
   "cell_type": "code",
   "execution_count": 7,
   "metadata": {
    "execution": {
     "iopub.execute_input": "2022-03-27T14:21:10.651306Z",
     "iopub.status.busy": "2022-03-27T14:21:10.650757Z",
     "iopub.status.idle": "2022-03-27T14:21:10.656047Z",
     "shell.execute_reply": "2022-03-27T14:21:10.655569Z"
    }
   },
   "outputs": [],
   "source": [
    "model.compile(optimizer='adam', loss='categorical_crossentropy', metrics=['accuracy'])"
   ]
  },
  {
   "cell_type": "markdown",
   "metadata": {},
   "source": [
    "### Preparing TensorFlow callbacks"
   ]
  },
  {
   "cell_type": "markdown",
   "metadata": {},
   "source": [
    "For our convenience, we create a few TensorFlow callbacks."
   ]
  },
  {
   "cell_type": "markdown",
   "metadata": {},
   "source": [
    "#### The TensorBoard callback"
   ]
  },
  {
   "cell_type": "markdown",
   "metadata": {},
   "source": [
    "We want to see how the training is going. We add the callback, which will log the metrics to TensorBoard."
   ]
  },
  {
   "cell_type": "code",
   "execution_count": 8,
   "metadata": {
    "execution": {
     "iopub.execute_input": "2022-03-27T14:21:10.660153Z",
     "iopub.status.busy": "2022-03-27T14:21:10.659608Z",
     "iopub.status.idle": "2022-03-27T14:21:10.661494Z",
     "shell.execute_reply": "2022-03-27T14:21:10.661920Z"
    }
   },
   "outputs": [],
   "source": [
    "log_dir = '../logs/fit/' + datetime.datetime.now().strftime('inceptionresnetv2')\n",
    "tensorboard_callback = tf.keras.callbacks.TensorBoard(log_dir=log_dir, histogram_freq=1)"
   ]
  },
  {
   "cell_type": "markdown",
   "metadata": {},
   "source": [
    "#### The EarlyStopping callback"
   ]
  },
  {
   "cell_type": "markdown",
   "metadata": {},
   "source": [
    "This callback stops training when the metrics (e.g. validation loss) are not improving,"
   ]
  },
  {
   "cell_type": "code",
   "execution_count": 9,
   "metadata": {
    "execution": {
     "iopub.execute_input": "2022-03-27T14:21:10.665927Z",
     "iopub.status.busy": "2022-03-27T14:21:10.665225Z",
     "iopub.status.idle": "2022-03-27T14:21:10.667566Z",
     "shell.execute_reply": "2022-03-27T14:21:10.667104Z"
    }
   },
   "outputs": [],
   "source": [
    "early_stop_callback = tf.keras.callbacks.EarlyStopping(\n",
    "    monitor=\"val_loss\", \n",
    "    min_delta=0.01, \n",
    "    patience=10, \n",
    "    restore_best_weights=True\n",
    ")"
   ]
  },
  {
   "cell_type": "markdown",
   "metadata": {},
   "source": [
    "#### The ModelCheckpoint callback"
   ]
  },
  {
   "cell_type": "markdown",
   "metadata": {},
   "source": [
    "This callback saves the model with the best metrics during training."
   ]
  },
  {
   "cell_type": "code",
   "execution_count": 10,
   "metadata": {
    "execution": {
     "iopub.execute_input": "2022-03-27T14:21:10.671638Z",
     "iopub.status.busy": "2022-03-27T14:21:10.671086Z",
     "iopub.status.idle": "2022-03-27T14:21:10.673438Z",
     "shell.execute_reply": "2022-03-27T14:21:10.672978Z"
    }
   },
   "outputs": [],
   "source": [
    "checkpoint_path = 'checkpoints/inceptionresnetv2.ckpt'\n",
    "\n",
    "checkpoint_callback = tf.keras.callbacks.ModelCheckpoint(\n",
    "    checkpoint_path,\n",
    "    monitor='val_loss',\n",
    "    verbose=1,\n",
    "    save_best_only=True,\n",
    "    save_weights_only=False,\n",
    "    save_freq='epoch',\n",
    "    mode='auto'\n",
    ")"
   ]
  },
  {
   "cell_type": "markdown",
   "metadata": {},
   "source": [
    "### Training the model"
   ]
  },
  {
   "cell_type": "code",
   "execution_count": 11,
   "metadata": {
    "execution": {
     "iopub.execute_input": "2022-03-27T14:21:10.677542Z",
     "iopub.status.busy": "2022-03-27T14:21:10.676992Z",
     "iopub.status.idle": "2022-03-28T06:27:34.197120Z",
     "shell.execute_reply": "2022-03-28T06:27:34.197672Z"
    }
   },
   "outputs": [
    {
     "name": "stdout",
     "output_type": "stream",
     "text": [
      "Epoch 1/200\n",
      "247/247 [==============================] - ETA: 0s - loss: 0.6541 - accuracy: 0.8094 \n",
      "Epoch 1: val_loss improved from inf to 0.58770, saving model to checkpoints/inceptionresnetv2.ckpt\n",
      "INFO:tensorflow:Assets written to: checkpoints/inceptionresnetv2.ckpt/assets\n"
     ]
    },
    {
     "name": "stderr",
     "output_type": "stream",
     "text": [
      "INFO:tensorflow:Assets written to: checkpoints/inceptionresnetv2.ckpt/assets\n"
     ]
    },
    {
     "name": "stdout",
     "output_type": "stream",
     "text": [
      "247/247 [==============================] - 5002s 20s/step - loss: 0.6541 - accuracy: 0.8094 - val_loss: 0.5877 - val_accuracy: 0.8198\n",
      "Epoch 2/200\n",
      "247/247 [==============================] - ETA: 0s - loss: 0.5317 - accuracy: 0.8226 \n",
      "Epoch 2: val_loss improved from 0.58770 to 0.48859, saving model to checkpoints/inceptionresnetv2.ckpt\n",
      "INFO:tensorflow:Assets written to: checkpoints/inceptionresnetv2.ckpt/assets\n"
     ]
    },
    {
     "name": "stderr",
     "output_type": "stream",
     "text": [
      "INFO:tensorflow:Assets written to: checkpoints/inceptionresnetv2.ckpt/assets\n"
     ]
    },
    {
     "name": "stdout",
     "output_type": "stream",
     "text": [
      "247/247 [==============================] - 4813s 20s/step - loss: 0.5317 - accuracy: 0.8226 - val_loss: 0.4886 - val_accuracy: 0.8299\n",
      "Epoch 3/200\n",
      "247/247 [==============================] - ETA: 0s - loss: 0.5122 - accuracy: 0.8279 \n",
      "Epoch 3: val_loss did not improve from 0.48859\n",
      "247/247 [==============================] - 4974s 20s/step - loss: 0.5122 - accuracy: 0.8279 - val_loss: 0.5092 - val_accuracy: 0.8422\n",
      "Epoch 4/200\n",
      "247/247 [==============================] - ETA: 0s - loss: 0.4969 - accuracy: 0.8305 \n",
      "Epoch 4: val_loss did not improve from 0.48859\n",
      "247/247 [==============================] - 4975s 20s/step - loss: 0.4969 - accuracy: 0.8305 - val_loss: 0.4985 - val_accuracy: 0.8355\n",
      "Epoch 5/200\n",
      "247/247 [==============================] - ETA: 0s - loss: 0.4826 - accuracy: 0.8373 \n",
      "Epoch 5: val_loss did not improve from 0.48859\n",
      "247/247 [==============================] - 5049s 20s/step - loss: 0.4826 - accuracy: 0.8373 - val_loss: 0.5112 - val_accuracy: 0.8335\n",
      "Epoch 6/200\n",
      "247/247 [==============================] - ETA: 0s - loss: 0.4900 - accuracy: 0.8295 \n",
      "Epoch 6: val_loss did not improve from 0.48859\n",
      "247/247 [==============================] - 4833s 20s/step - loss: 0.4900 - accuracy: 0.8295 - val_loss: 0.5081 - val_accuracy: 0.8391\n",
      "Epoch 7/200\n",
      "247/247 [==============================] - ETA: 0s - loss: 0.4585 - accuracy: 0.8406 \n",
      "Epoch 7: val_loss did not improve from 0.48859\n",
      "247/247 [==============================] - 4760s 19s/step - loss: 0.4585 - accuracy: 0.8406 - val_loss: 0.5380 - val_accuracy: 0.8396\n",
      "Epoch 8/200\n",
      "247/247 [==============================] - ETA: 0s - loss: 0.4673 - accuracy: 0.8377 \n",
      "Epoch 8: val_loss did not improve from 0.48859\n",
      "247/247 [==============================] - 4723s 19s/step - loss: 0.4673 - accuracy: 0.8377 - val_loss: 0.6013 - val_accuracy: 0.8243\n",
      "Epoch 9/200\n",
      "247/247 [==============================] - ETA: 0s - loss: 0.4605 - accuracy: 0.8428 \n",
      "Epoch 9: val_loss improved from 0.48859 to 0.47921, saving model to checkpoints/inceptionresnetv2.ckpt\n",
      "INFO:tensorflow:Assets written to: checkpoints/inceptionresnetv2.ckpt/assets\n"
     ]
    },
    {
     "name": "stderr",
     "output_type": "stream",
     "text": [
      "INFO:tensorflow:Assets written to: checkpoints/inceptionresnetv2.ckpt/assets\n"
     ]
    },
    {
     "name": "stdout",
     "output_type": "stream",
     "text": [
      "247/247 [==============================] - 4858s 20s/step - loss: 0.4605 - accuracy: 0.8428 - val_loss: 0.4792 - val_accuracy: 0.8386\n",
      "Epoch 10/200\n",
      "247/247 [==============================] - ETA: 0s - loss: 0.4556 - accuracy: 0.8432 \n",
      "Epoch 10: val_loss did not improve from 0.47921\n",
      "247/247 [==============================] - 4707s 19s/step - loss: 0.4556 - accuracy: 0.8432 - val_loss: 0.5077 - val_accuracy: 0.8411\n",
      "Epoch 11/200\n",
      "247/247 [==============================] - ETA: 0s - loss: 0.4517 - accuracy: 0.8433 \n",
      "Epoch 11: val_loss did not improve from 0.47921\n",
      "247/247 [==============================] - 4617s 19s/step - loss: 0.4517 - accuracy: 0.8433 - val_loss: 0.5484 - val_accuracy: 0.8406\n",
      "Epoch 12/200\n",
      "247/247 [==============================] - ETA: 0s - loss: 0.4500 - accuracy: 0.8463 \n",
      "Epoch 12: val_loss did not improve from 0.47921\n",
      "247/247 [==============================] - 4625s 19s/step - loss: 0.4500 - accuracy: 0.8463 - val_loss: 0.5818 - val_accuracy: 0.8411\n"
     ]
    },
    {
     "data": {
      "text/plain": [
       "<keras.callbacks.History at 0x2aff41406dc0>"
      ]
     },
     "execution_count": 1,
     "metadata": {},
     "output_type": "execute_result"
    }
   ],
   "source": [
    "model.fit(\n",
    "    training_set, \n",
    "    validation_data=validation_set, \n",
    "    epochs=200, \n",
    "    callbacks=[\n",
    "                tensorboard_callback,\n",
    "                checkpoint_callback,\n",
    "                early_stop_callback\n",
    "            ]\n",
    ")"
   ]
  },
  {
   "cell_type": "markdown",
   "metadata": {},
   "source": [
    "# Model validation"
   ]
  },
  {
   "cell_type": "markdown",
   "metadata": {},
   "source": [
    "### Loading the model"
   ]
  },
  {
   "cell_type": "markdown",
   "metadata": {},
   "source": [
    "We load the model with the best metrics (e.g. validation loss) from the checkpoint."
   ]
  },
  {
   "cell_type": "code",
   "execution_count": 12,
   "metadata": {
    "execution": {
     "iopub.execute_input": "2022-03-28T06:27:34.204461Z",
     "iopub.status.busy": "2022-03-28T06:27:34.203916Z",
     "iopub.status.idle": "2022-03-28T06:27:43.475057Z",
     "shell.execute_reply": "2022-03-28T06:27:43.475516Z"
    }
   },
   "outputs": [],
   "source": [
    "model = tf.keras.models.Sequential([\n",
    "    hub.KerasLayer(\"https://tfhub.dev/google/imagenet/inception_resnet_v2/feature_vector/4\", output_shape=[1280],\n",
    "                   trainable=False),\n",
    "    tf.keras.layers.Dense(CLASS_NUMBER, activation='softmax')\n",
    "])\n",
    "model.build([None, 224, 224, 3])"
   ]
  },
  {
   "cell_type": "code",
   "execution_count": 13,
   "metadata": {
    "execution": {
     "iopub.execute_input": "2022-03-28T06:27:43.478208Z",
     "iopub.status.busy": "2022-03-28T06:27:43.477700Z",
     "iopub.status.idle": "2022-03-28T06:27:44.553916Z",
     "shell.execute_reply": "2022-03-28T06:27:44.554369Z"
    }
   },
   "outputs": [
    {
     "data": {
      "text/plain": [
       "<tensorflow.python.training.tracking.util.CheckpointLoadStatus at 0x2affc5505d90>"
      ]
     },
     "execution_count": 1,
     "metadata": {},
     "output_type": "execute_result"
    }
   ],
   "source": [
    "model.load_weights('./checkpoints/inceptionresnetv2.ckpt')"
   ]
  },
  {
   "cell_type": "markdown",
   "metadata": {},
   "source": [
    "### Loading the test data"
   ]
  },
  {
   "cell_type": "code",
   "execution_count": 14,
   "metadata": {
    "execution": {
     "iopub.execute_input": "2022-03-28T06:27:44.557033Z",
     "iopub.status.busy": "2022-03-28T06:27:44.556503Z",
     "iopub.status.idle": "2022-03-28T06:27:44.763719Z",
     "shell.execute_reply": "2022-03-28T06:27:44.764143Z"
    }
   },
   "outputs": [
    {
     "name": "stdout",
     "output_type": "stream",
     "text": [
      "Found 9843 images belonging to 9 classes.\n"
     ]
    }
   ],
   "source": [
    "testing_set = generator.flow_from_directory(\n",
    "    f\"{os.environ['SCRATCH']}/data10000-test\",\n",
    "    target_size=(224, 224),\n",
    "    batch_size=32,\n",
    "    class_mode='categorical'\n",
    ")"
   ]
  },
  {
   "cell_type": "markdown",
   "metadata": {},
   "source": [
    "### Making diagnoses"
   ]
  },
  {
   "cell_type": "code",
   "execution_count": 15,
   "metadata": {
    "execution": {
     "iopub.execute_input": "2022-03-28T06:27:44.766671Z",
     "iopub.status.busy": "2022-03-28T06:27:44.766102Z",
     "iopub.status.idle": "2022-03-28T07:47:15.046244Z",
     "shell.execute_reply": "2022-03-28T07:47:15.046734Z"
    }
   },
   "outputs": [],
   "source": [
    "true_labels = np.concatenate([testing_set[i][1] for i in range(len(testing_set))], axis=0)"
   ]
  },
  {
   "cell_type": "code",
   "execution_count": 16,
   "metadata": {
    "execution": {
     "iopub.execute_input": "2022-03-28T07:47:15.049922Z",
     "iopub.status.busy": "2022-03-28T07:47:15.049401Z",
     "iopub.status.idle": "2022-03-28T09:08:53.179966Z",
     "shell.execute_reply": "2022-03-28T09:08:53.179484Z"
    }
   },
   "outputs": [],
   "source": [
    "predicted_labels = model.predict(testing_set)"
   ]
  },
  {
   "cell_type": "markdown",
   "metadata": {},
   "source": [
    "### Plot the ROC Curve"
   ]
  },
  {
   "cell_type": "code",
   "execution_count": 17,
   "metadata": {
    "execution": {
     "iopub.execute_input": "2022-03-28T09:08:53.187734Z",
     "iopub.status.busy": "2022-03-28T09:08:53.187181Z",
     "iopub.status.idle": "2022-03-28T09:08:53.211227Z",
     "shell.execute_reply": "2022-03-28T09:08:53.211674Z"
    }
   },
   "outputs": [],
   "source": [
    "fpr = dict()\n",
    "tpr = dict()\n",
    "auc_metric = dict()\n",
    "\n",
    "diagnosis_index_dict = {v: k for k, v in testing_set.class_indices.items()}\n",
    "\n",
    "for i in range(CLASS_NUMBER):\n",
    "    diagnosis = diagnosis_index_dict[i]\n",
    "    fpr[diagnosis], tpr[diagnosis], _ = roc_curve(true_labels[:, i], predicted_labels[:, i])\n",
    "    auc_metric[diagnosis] = auc(fpr[diagnosis], tpr[diagnosis])"
   ]
  },
  {
   "cell_type": "code",
   "execution_count": 18,
   "metadata": {
    "execution": {
     "iopub.execute_input": "2022-03-28T09:08:53.220780Z",
     "iopub.status.busy": "2022-03-28T09:08:53.220221Z",
     "iopub.status.idle": "2022-03-28T09:08:53.508167Z",
     "shell.execute_reply": "2022-03-28T09:08:53.508602Z"
    }
   },
   "outputs": [
    {
     "data": {
      "image/png": "[encoded data removed]",
      "text/plain": [
       "<Figure size 432x288 with 1 Axes>"
      ]
     },
     "metadata": {
      "needs_background": "light"
     },
     "output_type": "display_data"
    }
   ],
   "source": [
    "%matplotlib inline\n",
    "for diagnosis in testing_set.class_indices:\n",
    "    plt.plot(fpr[diagnosis], tpr[diagnosis], label=diagnosis)\n",
    "    \n",
    "plt.plot([0, 1], [0, 1], 'k--')\n",
    "plt.xlabel('False Positive Rate')\n",
    "plt.ylabel('True Positive Rate')\n",
    "plt.title('Receiver operating characteristic')\n",
    "plt.legend(loc=\"lower right\")\n",
    "plt.show()"
   ]
  },
  {
   "cell_type": "markdown",
   "metadata": {},
   "source": [
    "### Show AUC"
   ]
  },
  {
   "cell_type": "code",
   "execution_count": 19,
   "metadata": {
    "execution": {
     "iopub.execute_input": "2022-03-28T09:08:53.512267Z",
     "iopub.status.busy": "2022-03-28T09:08:53.511747Z",
     "iopub.status.idle": "2022-03-28T09:08:53.514611Z",
     "shell.execute_reply": "2022-03-28T09:08:53.514173Z"
    }
   },
   "outputs": [
    {
     "name": "stdout",
     "output_type": "stream",
     "text": [
      "{'AK': 0.9673451590947763, 'BCC': 0.9375780358809499, 'BKL': 0.9013474073715598, 'DF': 0.9143857859845943, 'MEL': 0.8909587282766606, 'NV': 0.9311741518106877, 'SCC': 0.9246775869892992, 'UNK': 0.8491961673689579, 'VASC': 0.9568988063480107}\n"
     ]
    }
   ],
   "source": [
    "print(auc_metric)"
   ]
  },
  {
   "cell_type": "code",
   "execution_count": null,
   "metadata": {},
   "outputs": [],
   "source": []
  }
 ],
 "metadata": {
  "kernelspec": {
   "display_name": "Python 3",
   "language": "python",
   "name": "python3"
  },
  "language_info": {
   "codemirror_mode": {
    "name": "ipython",
    "version": 3
   },
   "file_extension": ".py",
   "mimetype": "text/x-python",
   "name": "python",
   "nbconvert_exporter": "python",
   "pygments_lexer": "ipython3",
   "version": "3.9.1"
  }
 },
 "nbformat": 4,
 "nbformat_minor": 2
}
